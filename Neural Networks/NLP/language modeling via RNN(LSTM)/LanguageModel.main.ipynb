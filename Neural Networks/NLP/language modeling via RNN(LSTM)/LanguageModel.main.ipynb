{
  "cells": [
    {
      "cell_type": "markdown",
      "id": "bc96e072",
      "metadata": {
        "id": "bc96e072",
        "papermill": {
          "duration": 0.25736,
          "end_time": "2024-10-29T12:07:19.912253",
          "exception": false,
          "start_time": "2024-10-29T12:07:19.654893",
          "status": "completed"
        },
        "tags": []
      },
      "source": [
        "# Обучение языковой модели с помощью LSTM"
      ]
    },
    {
      "cell_type": "markdown",
      "id": "2d2d11bb",
      "metadata": {
        "id": "2d2d11bb",
        "papermill": {
          "duration": 0.253585,
          "end_time": "2024-10-29T12:07:20.420746",
          "exception": false,
          "start_time": "2024-10-29T12:07:20.167161",
          "status": "completed"
        },
        "tags": []
      },
      "source": [
        "В задании обучены языковые модели с помощью рекуррентной нейронной сети. Работа велась с отдельными словами, а не буквами.\n",
        "\n",
        "\n",
        "Установим модуль ```datasets```, чтобы проще было работать с данными."
      ]
    },
    {
      "cell_type": "code",
      "execution_count": null,
      "id": "6b9779dc",
      "metadata": {
        "execution": {
          "iopub.execute_input": "2024-10-29T12:07:20.969539Z",
          "iopub.status.busy": "2024-10-29T12:07:20.969127Z",
          "iopub.status.idle": "2024-10-29T12:07:34.766208Z",
          "shell.execute_reply": "2024-10-29T12:07:34.764954Z"
        },
        "id": "6b9779dc",
        "outputId": "f7148322-a5e0-4813-957e-a11a8a8943d2",
        "papermill": {
          "duration": 14.056402,
          "end_time": "2024-10-29T12:07:34.768718",
          "exception": false,
          "start_time": "2024-10-29T12:07:20.712316",
          "status": "completed"
        },
        "tags": []
      },
      "outputs": [
        {
          "name": "stdout",
          "output_type": "stream",
          "text": [
            "Requirement already satisfied: datasets in /opt/conda/lib/python3.10/site-packages (3.0.1)\r\n",
            "Requirement already satisfied: filelock in /opt/conda/lib/python3.10/site-packages (from datasets) (3.15.1)\r\n",
            "Requirement already satisfied: numpy>=1.17 in /opt/conda/lib/python3.10/site-packages (from datasets) (1.26.4)\r\n",
            "Requirement already satisfied: pyarrow>=15.0.0 in /opt/conda/lib/python3.10/site-packages (from datasets) (16.1.0)\r\n",
            "Requirement already satisfied: dill<0.3.9,>=0.3.0 in /opt/conda/lib/python3.10/site-packages (from datasets) (0.3.8)\r\n",
            "Requirement already satisfied: pandas in /opt/conda/lib/python3.10/site-packages (from datasets) (2.2.2)\r\n",
            "Requirement already satisfied: requests>=2.32.2 in /opt/conda/lib/python3.10/site-packages (from datasets) (2.32.3)\r\n",
            "Requirement already satisfied: tqdm>=4.66.3 in /opt/conda/lib/python3.10/site-packages (from datasets) (4.66.4)\r\n",
            "Requirement already satisfied: xxhash in /opt/conda/lib/python3.10/site-packages (from datasets) (3.4.1)\r\n",
            "Requirement already satisfied: multiprocess in /opt/conda/lib/python3.10/site-packages (from datasets) (0.70.16)\r\n",
            "Requirement already satisfied: fsspec<=2024.6.1,>=2023.1.0 in /opt/conda/lib/python3.10/site-packages (from fsspec[http]<=2024.6.1,>=2023.1.0->datasets) (2024.6.1)\r\n",
            "Requirement already satisfied: aiohttp in /opt/conda/lib/python3.10/site-packages (from datasets) (3.9.5)\r\n",
            "Requirement already satisfied: huggingface-hub>=0.22.0 in /opt/conda/lib/python3.10/site-packages (from datasets) (0.25.1)\r\n",
            "Requirement already satisfied: packaging in /opt/conda/lib/python3.10/site-packages (from datasets) (21.3)\r\n",
            "Requirement already satisfied: pyyaml>=5.1 in /opt/conda/lib/python3.10/site-packages (from datasets) (6.0.2)\r\n",
            "Requirement already satisfied: aiosignal>=1.1.2 in /opt/conda/lib/python3.10/site-packages (from aiohttp->datasets) (1.3.1)\r\n",
            "Requirement already satisfied: attrs>=17.3.0 in /opt/conda/lib/python3.10/site-packages (from aiohttp->datasets) (23.2.0)\r\n",
            "Requirement already satisfied: frozenlist>=1.1.1 in /opt/conda/lib/python3.10/site-packages (from aiohttp->datasets) (1.4.1)\r\n",
            "Requirement already satisfied: multidict<7.0,>=4.5 in /opt/conda/lib/python3.10/site-packages (from aiohttp->datasets) (6.0.5)\r\n",
            "Requirement already satisfied: yarl<2.0,>=1.0 in /opt/conda/lib/python3.10/site-packages (from aiohttp->datasets) (1.9.4)\r\n",
            "Requirement already satisfied: async-timeout<5.0,>=4.0 in /opt/conda/lib/python3.10/site-packages (from aiohttp->datasets) (4.0.3)\r\n",
            "Requirement already satisfied: typing-extensions>=3.7.4.3 in /opt/conda/lib/python3.10/site-packages (from huggingface-hub>=0.22.0->datasets) (4.12.2)\r\n",
            "Requirement already satisfied: pyparsing!=3.0.5,>=2.0.2 in /opt/conda/lib/python3.10/site-packages (from packaging->datasets) (3.1.2)\r\n",
            "Requirement already satisfied: charset-normalizer<4,>=2 in /opt/conda/lib/python3.10/site-packages (from requests>=2.32.2->datasets) (3.3.2)\r\n",
            "Requirement already satisfied: idna<4,>=2.5 in /opt/conda/lib/python3.10/site-packages (from requests>=2.32.2->datasets) (3.7)\r\n",
            "Requirement already satisfied: urllib3<3,>=1.21.1 in /opt/conda/lib/python3.10/site-packages (from requests>=2.32.2->datasets) (1.26.18)\r\n",
            "Requirement already satisfied: certifi>=2017.4.17 in /opt/conda/lib/python3.10/site-packages (from requests>=2.32.2->datasets) (2024.8.30)\r\n",
            "Requirement already satisfied: python-dateutil>=2.8.2 in /opt/conda/lib/python3.10/site-packages (from pandas->datasets) (2.9.0.post0)\r\n",
            "Requirement already satisfied: pytz>=2020.1 in /opt/conda/lib/python3.10/site-packages (from pandas->datasets) (2024.1)\r\n",
            "Requirement already satisfied: tzdata>=2022.7 in /opt/conda/lib/python3.10/site-packages (from pandas->datasets) (2024.1)\r\n",
            "Requirement already satisfied: six>=1.5 in /opt/conda/lib/python3.10/site-packages (from python-dateutil>=2.8.2->pandas->datasets) (1.16.0)\r\n"
          ]
        }
      ],
      "source": [
        "!pip install datasets"
      ]
    },
    {
      "cell_type": "markdown",
      "id": "027f6f7d",
      "metadata": {
        "id": "027f6f7d",
        "papermill": {
          "duration": 0.265514,
          "end_time": "2024-10-29T12:07:35.321527",
          "exception": false,
          "start_time": "2024-10-29T12:07:35.056013",
          "status": "completed"
        },
        "tags": []
      },
      "source": [
        "Импорт необходимых библиотек"
      ]
    },
    {
      "cell_type": "code",
      "execution_count": null,
      "id": "25d28e9f",
      "metadata": {
        "execution": {
          "iopub.execute_input": "2024-10-29T12:07:35.846086Z",
          "iopub.status.busy": "2024-10-29T12:07:35.845697Z",
          "iopub.status.idle": "2024-10-29T12:07:46.246969Z",
          "shell.execute_reply": "2024-10-29T12:07:46.245943Z"
        },
        "id": "25d28e9f",
        "papermill": {
          "duration": 10.65871,
          "end_time": "2024-10-29T12:07:46.249354",
          "exception": false,
          "start_time": "2024-10-29T12:07:35.590644",
          "status": "completed"
        },
        "tags": []
      },
      "outputs": [],
      "source": [
        "import torch\n",
        "import torch.nn as nn\n",
        "from torch.utils.data import Dataset, DataLoader\n",
        "from torch.optim.lr_scheduler import StepLR\n",
        "\n",
        "import numpy as np\n",
        "import pandas as pd\n",
        "import matplotlib.pyplot as plt\n",
        "\n",
        "from tqdm.auto import tqdm\n",
        "from datasets import load_dataset\n",
        "from nltk.tokenize import sent_tokenize, word_tokenize\n",
        "from sklearn.model_selection import train_test_split\n",
        "import nltk\n",
        "import string\n",
        "from collections import Counter\n",
        "from typing import List\n",
        "\n",
        "import seaborn\n",
        "seaborn.set(palette='summer')"
      ]
    },
    {
      "cell_type": "code",
      "execution_count": null,
      "id": "4416892f",
      "metadata": {
        "execution": {
          "iopub.execute_input": "2024-10-29T12:07:46.761977Z",
          "iopub.status.busy": "2024-10-29T12:07:46.760934Z",
          "iopub.status.idle": "2024-10-29T12:07:46.920270Z",
          "shell.execute_reply": "2024-10-29T12:07:46.919317Z"
        },
        "id": "4416892f",
        "outputId": "a71034fb-f490-4697-fa11-5698189c2ae3",
        "papermill": {
          "duration": 0.416624,
          "end_time": "2024-10-29T12:07:46.922254",
          "exception": false,
          "start_time": "2024-10-29T12:07:46.505630",
          "status": "completed"
        },
        "tags": []
      },
      "outputs": [
        {
          "name": "stdout",
          "output_type": "stream",
          "text": [
            "[nltk_data] Downloading package punkt to /usr/share/nltk_data...\n",
            "[nltk_data]   Package punkt is already up-to-date!\n"
          ]
        },
        {
          "data": {
            "text/plain": [
              "True"
            ]
          },
          "execution_count": 3,
          "metadata": {},
          "output_type": "execute_result"
        }
      ],
      "source": [
        "nltk.download('punkt')"
      ]
    },
    {
      "cell_type": "code",
      "execution_count": null,
      "id": "997960b2",
      "metadata": {
        "execution": {
          "iopub.execute_input": "2024-10-29T12:07:47.435752Z",
          "iopub.status.busy": "2024-10-29T12:07:47.435356Z",
          "iopub.status.idle": "2024-10-29T12:07:47.495887Z",
          "shell.execute_reply": "2024-10-29T12:07:47.495022Z"
        },
        "id": "997960b2",
        "outputId": "7fba6f50-3605-4f2c-d643-2815a3ed58db",
        "papermill": {
          "duration": 0.318402,
          "end_time": "2024-10-29T12:07:47.497808",
          "exception": false,
          "start_time": "2024-10-29T12:07:47.179406",
          "status": "completed"
        },
        "tags": []
      },
      "outputs": [
        {
          "data": {
            "text/plain": [
              "'cuda'"
            ]
          },
          "execution_count": 4,
          "metadata": {},
          "output_type": "execute_result"
        }
      ],
      "source": [
        "device = 'cuda' if torch.cuda.is_available() else 'cpu'\n",
        "device"
      ]
    },
    {
      "cell_type": "markdown",
      "id": "fc289645",
      "metadata": {
        "id": "fc289645",
        "papermill": {
          "duration": 0.25219,
          "end_time": "2024-10-29T12:07:48.006782",
          "exception": false,
          "start_time": "2024-10-29T12:07:47.754592",
          "status": "completed"
        },
        "tags": []
      },
      "source": [
        "## Подготовка данных\n",
        "\n",
        "Воспользуемся датасетом imdb. В нем хранятся отзывы о фильмах с сайта imdb. Загрузим данные с помощью функции ```load_dataset```"
      ]
    },
    {
      "cell_type": "code",
      "execution_count": null,
      "id": "6b1bf1cb",
      "metadata": {
        "execution": {
          "iopub.execute_input": "2024-10-29T12:07:48.519925Z",
          "iopub.status.busy": "2024-10-29T12:07:48.519548Z",
          "iopub.status.idle": "2024-10-29T12:08:01.219365Z",
          "shell.execute_reply": "2024-10-29T12:08:01.218656Z"
        },
        "id": "6b1bf1cb",
        "outputId": "a16cf2cd-ef9b-463a-9b5d-b3d80f044ef8",
        "papermill": {
          "duration": 12.959093,
          "end_time": "2024-10-29T12:08:01.221419",
          "exception": false,
          "start_time": "2024-10-29T12:07:48.262326",
          "status": "completed"
        },
        "tags": [],
        "colab": {
          "referenced_widgets": [
            "acbb6f58b1f24dc19d8d6416c239289d",
            "3c53f93c9f8f4f13b8568f7b15459d24",
            "456dd0ab3bfb46f1a46edffab2370c33",
            "559a4e34de3e4a32a4d374b46b79d176",
            "e2f780e7b9a1499c95d7e3218d56736b",
            "a8117c14735a4141876161e3f59061f8",
            "3ad90c419d8b4beca27ebf45698a37c2"
          ]
        }
      },
      "outputs": [
        {
          "data": {
            "application/vnd.jupyter.widget-view+json": {
              "model_id": "acbb6f58b1f24dc19d8d6416c239289d",
              "version_major": 2,
              "version_minor": 0
            },
            "text/plain": [
              "README.md:   0%|          | 0.00/7.81k [00:00<?, ?B/s]"
            ]
          },
          "metadata": {},
          "output_type": "display_data"
        },
        {
          "data": {
            "application/vnd.jupyter.widget-view+json": {
              "model_id": "3c53f93c9f8f4f13b8568f7b15459d24",
              "version_major": 2,
              "version_minor": 0
            },
            "text/plain": [
              "train-00000-of-00001.parquet:   0%|          | 0.00/21.0M [00:00<?, ?B/s]"
            ]
          },
          "metadata": {},
          "output_type": "display_data"
        },
        {
          "data": {
            "application/vnd.jupyter.widget-view+json": {
              "model_id": "456dd0ab3bfb46f1a46edffab2370c33",
              "version_major": 2,
              "version_minor": 0
            },
            "text/plain": [
              "test-00000-of-00001.parquet:   0%|          | 0.00/20.5M [00:00<?, ?B/s]"
            ]
          },
          "metadata": {},
          "output_type": "display_data"
        },
        {
          "data": {
            "application/vnd.jupyter.widget-view+json": {
              "model_id": "559a4e34de3e4a32a4d374b46b79d176",
              "version_major": 2,
              "version_minor": 0
            },
            "text/plain": [
              "unsupervised-00000-of-00001.parquet:   0%|          | 0.00/42.0M [00:00<?, ?B/s]"
            ]
          },
          "metadata": {},
          "output_type": "display_data"
        },
        {
          "data": {
            "application/vnd.jupyter.widget-view+json": {
              "model_id": "e2f780e7b9a1499c95d7e3218d56736b",
              "version_major": 2,
              "version_minor": 0
            },
            "text/plain": [
              "Generating train split:   0%|          | 0/25000 [00:00<?, ? examples/s]"
            ]
          },
          "metadata": {},
          "output_type": "display_data"
        },
        {
          "data": {
            "application/vnd.jupyter.widget-view+json": {
              "model_id": "a8117c14735a4141876161e3f59061f8",
              "version_major": 2,
              "version_minor": 0
            },
            "text/plain": [
              "Generating test split:   0%|          | 0/25000 [00:00<?, ? examples/s]"
            ]
          },
          "metadata": {},
          "output_type": "display_data"
        },
        {
          "data": {
            "application/vnd.jupyter.widget-view+json": {
              "model_id": "3ad90c419d8b4beca27ebf45698a37c2",
              "version_major": 2,
              "version_minor": 0
            },
            "text/plain": [
              "Generating unsupervised split:   0%|          | 0/50000 [00:00<?, ? examples/s]"
            ]
          },
          "metadata": {},
          "output_type": "display_data"
        }
      ],
      "source": [
        "# Загрузим датасет\n",
        "dataset = load_dataset('imdb')"
      ]
    },
    {
      "cell_type": "code",
      "execution_count": null,
      "id": "0400c9a5",
      "metadata": {
        "execution": {
          "iopub.execute_input": "2024-10-29T12:08:01.794136Z",
          "iopub.status.busy": "2024-10-29T12:08:01.793765Z",
          "iopub.status.idle": "2024-10-29T12:08:01.799728Z",
          "shell.execute_reply": "2024-10-29T12:08:01.798863Z"
        },
        "id": "0400c9a5",
        "outputId": "677ed218-d4da-48d9-9fc8-d178b1a9f2a6",
        "papermill": {
          "duration": 0.266557,
          "end_time": "2024-10-29T12:08:01.801905",
          "exception": false,
          "start_time": "2024-10-29T12:08:01.535348",
          "status": "completed"
        },
        "tags": []
      },
      "outputs": [
        {
          "data": {
            "text/plain": [
              "DatasetDict({\n",
              "    train: Dataset({\n",
              "        features: ['text', 'label'],\n",
              "        num_rows: 25000\n",
              "    })\n",
              "    test: Dataset({\n",
              "        features: ['text', 'label'],\n",
              "        num_rows: 25000\n",
              "    })\n",
              "    unsupervised: Dataset({\n",
              "        features: ['text', 'label'],\n",
              "        num_rows: 50000\n",
              "    })\n",
              "})"
            ]
          },
          "execution_count": 6,
          "metadata": {},
          "output_type": "execute_result"
        }
      ],
      "source": [
        "dataset"
      ]
    },
    {
      "cell_type": "markdown",
      "id": "0a46da5a",
      "metadata": {
        "id": "0a46da5a",
        "papermill": {
          "duration": 0.258134,
          "end_time": "2024-10-29T12:08:02.316182",
          "exception": false,
          "start_time": "2024-10-29T12:08:02.058048",
          "status": "completed"
        },
        "tags": []
      },
      "source": [
        "### Препроцессинг данных и создание словаря\n",
        "\n",
        "1. Разделим отдельные тренировочные примеры на отдельные предложения с помощью функции ```sent_tokenize``` из бибилиотеки ```nltk```. Каждое отдельное предложение будет одним тренировочным примером.\n",
        "2. Оставим только те предложения, в которых меньше ```word_threshold``` слов.\n",
        "3. Посчитаем частоту вхождения каждого слова в оставшихся предложениях. Для деления предложения на отдельные слова удобно использовать функцию ```word_tokenize```.\n",
        "4. Создадим объект ```vocab``` класса ```set```, положиим в него служебные токены '\\<unk\\>', '\\<bos\\>', '\\<eos\\>', '\\<pad\\>' и vocab_size самых частовстречающихся слов.   "
      ]
    },
    {
      "cell_type": "code",
      "execution_count": null,
      "id": "2b657cfd",
      "metadata": {
        "execution": {
          "iopub.execute_input": "2024-10-29T12:08:02.831954Z",
          "iopub.status.busy": "2024-10-29T12:08:02.831583Z",
          "iopub.status.idle": "2024-10-29T12:09:28.644417Z",
          "shell.execute_reply": "2024-10-29T12:09:28.643480Z"
        },
        "id": "2b657cfd",
        "outputId": "6e24200c-a94f-4695-d3c1-4f6325231dbb",
        "papermill": {
          "duration": 86.072311,
          "end_time": "2024-10-29T12:09:28.646536",
          "exception": false,
          "start_time": "2024-10-29T12:08:02.574225",
          "status": "completed"
        },
        "tags": [],
        "colab": {
          "referenced_widgets": [
            "d450a70371ea4503b549065f3fe64733"
          ]
        }
      },
      "outputs": [
        {
          "data": {
            "application/vnd.jupyter.widget-view+json": {
              "model_id": "d450a70371ea4503b549065f3fe64733",
              "version_major": 2,
              "version_minor": 0
            },
            "text/plain": [
              "  0%|          | 0/25000 [00:00<?, ?it/s]"
            ]
          },
          "metadata": {},
          "output_type": "display_data"
        }
      ],
      "source": [
        "sentences = []\n",
        "word_threshold = 32 #120\n",
        "\n",
        "# токенизируем и отбрасываем те предложения, длина которых больше 32\n",
        "# sent_tokenize разделяет текст на отдельные предложения\n",
        "\n",
        "for sentence in tqdm(dataset['train']['text']):\n",
        "    sentences.extend(\n",
        "        [x.lower() for x in sent_tokenize(sentence) if len(word_tokenize(x)) < word_threshold])"
      ]
    },
    {
      "cell_type": "code",
      "execution_count": null,
      "id": "4c211435",
      "metadata": {
        "execution": {
          "iopub.execute_input": "2024-10-29T12:09:29.163889Z",
          "iopub.status.busy": "2024-10-29T12:09:29.162824Z",
          "iopub.status.idle": "2024-10-29T12:09:29.168370Z",
          "shell.execute_reply": "2024-10-29T12:09:29.167516Z"
        },
        "id": "4c211435",
        "outputId": "633b969e-9cf7-48ee-f6d4-cf2d0541435a",
        "papermill": {
          "duration": 0.266501,
          "end_time": "2024-10-29T12:09:29.170342",
          "exception": false,
          "start_time": "2024-10-29T12:09:28.903841",
          "status": "completed"
        },
        "tags": []
      },
      "outputs": [
        {
          "name": "stdout",
          "output_type": "stream",
          "text": [
            "Всего предложений: 198756\n"
          ]
        }
      ],
      "source": [
        "print(\"Всего предложений:\", len(sentences))"
      ]
    },
    {
      "cell_type": "code",
      "execution_count": null,
      "id": "c688597c",
      "metadata": {
        "execution": {
          "iopub.execute_input": "2024-10-29T12:09:29.681585Z",
          "iopub.status.busy": "2024-10-29T12:09:29.680914Z",
          "iopub.status.idle": "2024-10-29T12:10:10.803358Z",
          "shell.execute_reply": "2024-10-29T12:10:10.802457Z"
        },
        "id": "c688597c",
        "outputId": "b5f498e9-38ee-45a9-fc5a-22a3fe0c4818",
        "papermill": {
          "duration": 41.380514,
          "end_time": "2024-10-29T12:10:10.806590",
          "exception": false,
          "start_time": "2024-10-29T12:09:29.426076",
          "status": "completed"
        },
        "tags": [],
        "colab": {
          "referenced_widgets": [
            "438511f70fca4a2a97c91024d05b97d3"
          ]
        }
      },
      "outputs": [
        {
          "data": {
            "application/vnd.jupyter.widget-view+json": {
              "model_id": "438511f70fca4a2a97c91024d05b97d3",
              "version_major": 2,
              "version_minor": 0
            },
            "text/plain": [
              "  0%|          | 0/198756 [00:00<?, ?it/s]"
            ]
          },
          "metadata": {},
          "output_type": "display_data"
        },
        {
          "data": {
            "text/plain": [
              "69757"
            ]
          },
          "execution_count": 9,
          "metadata": {},
          "output_type": "execute_result"
        }
      ],
      "source": [
        "# частота встречаемости каждого слова в словаре\n",
        "words = Counter()\n",
        "\n",
        "# word_tokenize - токенизация текста на слова\n",
        "for sentence in tqdm(sentences):\n",
        "    for word in word_tokenize(sentence):\n",
        "        words[word] += 1\n",
        "len(words)"
      ]
    },
    {
      "cell_type": "markdown",
      "id": "86f49313",
      "metadata": {
        "id": "86f49313",
        "papermill": {
          "duration": 0.33166,
          "end_time": "2024-10-29T12:10:11.412640",
          "exception": false,
          "start_time": "2024-10-29T12:10:11.080980",
          "status": "completed"
        },
        "tags": []
      },
      "source": [
        "Добавим в словарь ```vocab_size=40000``` самых встречающихся слов."
      ]
    },
    {
      "cell_type": "code",
      "execution_count": null,
      "id": "d0c28e8b",
      "metadata": {
        "execution": {
          "iopub.execute_input": "2024-10-29T12:10:11.935324Z",
          "iopub.status.busy": "2024-10-29T12:10:11.934673Z",
          "iopub.status.idle": "2024-10-29T12:10:12.019088Z",
          "shell.execute_reply": "2024-10-29T12:10:12.018325Z"
        },
        "id": "d0c28e8b",
        "papermill": {
          "duration": 0.345815,
          "end_time": "2024-10-29T12:10:12.020977",
          "exception": false,
          "start_time": "2024-10-29T12:10:11.675162",
          "status": "completed"
        },
        "tags": []
      },
      "outputs": [],
      "source": [
        "# создание словаря (начинаем со служебных токенов)\n",
        "\n",
        "vocab = set(['<unk>', '<bos>', '<eos>', '<pad>'])\n",
        "vocab_size = 40000\n",
        "# Наполнение словаря\n",
        "vocab.update(set([word[0] for word in words.most_common(vocab_size)]))"
      ]
    },
    {
      "cell_type": "code",
      "execution_count": null,
      "id": "fb39c95f",
      "metadata": {
        "execution": {
          "iopub.execute_input": "2024-10-29T12:10:12.538249Z",
          "iopub.status.busy": "2024-10-29T12:10:12.537887Z",
          "iopub.status.idle": "2024-10-29T12:10:12.543670Z",
          "shell.execute_reply": "2024-10-29T12:10:12.542728Z"
        },
        "id": "fb39c95f",
        "outputId": "6635008f-a8d6-4a18-bbca-d26cdb00324d",
        "papermill": {
          "duration": 0.265916,
          "end_time": "2024-10-29T12:10:12.545511",
          "exception": false,
          "start_time": "2024-10-29T12:10:12.279595",
          "status": "completed"
        },
        "tags": []
      },
      "outputs": [
        {
          "name": "stdout",
          "output_type": "stream",
          "text": [
            "Всего слов в словаре: 40004\n"
          ]
        }
      ],
      "source": [
        "assert '<unk>' in vocab\n",
        "assert '<bos>' in vocab\n",
        "assert '<eos>' in vocab\n",
        "assert '<pad>' in vocab\n",
        "assert len(vocab) == vocab_size + 4\n",
        "\n",
        "print(\"Всего слов в словаре:\", len(vocab))"
      ]
    },
    {
      "cell_type": "markdown",
      "id": "377ec665",
      "metadata": {
        "id": "377ec665",
        "papermill": {
          "duration": 0.25724,
          "end_time": "2024-10-29T12:10:13.059616",
          "exception": false,
          "start_time": "2024-10-29T12:10:12.802376",
          "status": "completed"
        },
        "tags": []
      },
      "source": [
        "### Подготовка датасета\n",
        "Подготовка датасета и даталоадеров.\n",
        "\n",
        "В классе ```WordDataset``` реализован метод ```__getitem__```, который будет возвращать сэмпл данных по входному idx, то есть список целых чисел (индексов слов).\n",
        "\n",
        "Внутри этого метода добавлены служебные токены начала и конца последовательности, а также токенизированы соответствующее предложения с помощью ```word_tokenize``` и сопоставлены ему индексы из ```word2ind```."
      ]
    },
    {
      "cell_type": "code",
      "execution_count": null,
      "id": "fc12d3c7",
      "metadata": {
        "execution": {
          "iopub.execute_input": "2024-10-29T12:10:13.572251Z",
          "iopub.status.busy": "2024-10-29T12:10:13.571868Z",
          "iopub.status.idle": "2024-10-29T12:10:13.593354Z",
          "shell.execute_reply": "2024-10-29T12:10:13.592686Z"
        },
        "id": "fc12d3c7",
        "papermill": {
          "duration": 0.280385,
          "end_time": "2024-10-29T12:10:13.595277",
          "exception": false,
          "start_time": "2024-10-29T12:10:13.314892",
          "status": "completed"
        },
        "tags": []
      },
      "outputs": [],
      "source": [
        "# словари для конвертации индексов в буквы и обратно\n",
        "\n",
        "# сопоставляет каждое слово из словаря vocab с его индексом\n",
        "word2ind = {char: i for i, char in enumerate(vocab)}\n",
        "# возвращает пары (индекс, слово) для каждого слова в vocab\n",
        "ind2word = {i: char for char, i in word2ind.items()}"
      ]
    },
    {
      "cell_type": "code",
      "execution_count": null,
      "id": "c8cafcec",
      "metadata": {
        "execution": {
          "iopub.execute_input": "2024-10-29T12:10:14.143275Z",
          "iopub.status.busy": "2024-10-29T12:10:14.142892Z",
          "iopub.status.idle": "2024-10-29T12:10:14.152567Z",
          "shell.execute_reply": "2024-10-29T12:10:14.151620Z"
        },
        "id": "c8cafcec",
        "papermill": {
          "duration": 0.302816,
          "end_time": "2024-10-29T12:10:14.154841",
          "exception": false,
          "start_time": "2024-10-29T12:10:13.852025",
          "status": "completed"
        },
        "tags": []
      },
      "outputs": [],
      "source": [
        "\"\"\"\n",
        "  # возвращает текенизированную версию предложения с индексом idx из набора данных:\n",
        "  # 1. cтавит индексы символов bos_id, eos_id в начало и конец посл-ти\n",
        "  # 2. токенизация - преобразование слова в индекс (.get), если буква неизвестная-ставим айди неизвестного токена\n",
        "\"\"\"\n",
        "class WordDataset:\n",
        "    def __init__(self, sentences):\n",
        "        self.data = sentences\n",
        "        self.unk_id = word2ind['<unk>'] # символ неизвестного токена\n",
        "        self.bos_id = word2ind['<bos>']\n",
        "        self.eos_id = word2ind['<eos>']\n",
        "        self.pad_id = word2ind['<pad>']\n",
        "    def __getitem__(self, idx: int) -> List[int]:\n",
        "        tokenized_sentence = []\n",
        "\n",
        "        # удаляет знаки препинания с помощью translate() и string.punctuation\n",
        "        processed_sentence = (self.data[idx].lower().translate(str.maketrans('','', string.punctuation)))\n",
        "        tokenized_sentence.extend([self.bos_id])\n",
        "\n",
        "        # Преобразует слово в индекс, используя словарь word2ind,\n",
        "        # если слово отсутствует в словаре, вместо него добавляется ID  неизвестного символа (self.unk_id)\n",
        "\n",
        "        tokenized_sentence.extend([word2ind.get(word, self.unk_id) for word in word_tokenize(processed_sentence)])\n",
        "        tokenized_sentence.extend([self.eos_id])\n",
        "\n",
        "        return tokenized_sentence\n",
        "\n",
        "    # возврат длины датасета\n",
        "    def __len__(self) -> int:\n",
        "        return len(self.data)"
      ]
    },
    {
      "cell_type": "code",
      "execution_count": null,
      "id": "308f1564",
      "metadata": {
        "execution": {
          "iopub.execute_input": "2024-10-29T12:10:14.695042Z",
          "iopub.status.busy": "2024-10-29T12:10:14.694655Z",
          "iopub.status.idle": "2024-10-29T12:10:14.702944Z",
          "shell.execute_reply": "2024-10-29T12:10:14.702012Z"
        },
        "id": "308f1564",
        "papermill": {
          "duration": 0.274632,
          "end_time": "2024-10-29T12:10:14.704896",
          "exception": false,
          "start_time": "2024-10-29T12:10:14.430264",
          "status": "completed"
        },
        "tags": []
      },
      "outputs": [],
      "source": [
        "# 1я функция collate_fn_with_padding - делает паддинг до самой длинной послед-ти в батче,\n",
        "# 2я функция - делает из последовательности torch.LongTensor\n",
        "\n",
        "def collate_fn_with_padding(\n",
        "    input_batch: List[List[int]], pad_id=word2ind['<pad>']) -> torch.Tensor:\n",
        "    seq_lens = [len(x) for x in input_batch]\n",
        "    max_seq_len = max(seq_lens)\n",
        "\n",
        "    new_batch = []\n",
        "    for sequence in input_batch:\n",
        "        for _ in range(max_seq_len - len(sequence)):\n",
        "            sequence.append(pad_id)\n",
        "        new_batch.append(sequence)\n",
        "\n",
        "    #  sequences имеет 2 измерения: тензор [batch_size, max_seq_len]\n",
        "    sequences = torch.LongTensor(new_batch).to(device)\n",
        "\n",
        "    new_batch = {\n",
        "        # срез тензора sequences, который выбирает все элементы всех последовательностей, кроме последнего слова\n",
        "        # берём все строки, но обрезаем последний элемент каждой строки\n",
        "\n",
        "        # это последовательность, подаваемая на вход модели. Модель видит начальные слова предложения, кроме последнего\n",
        "        # берем все строки, но обрезаем первый элемент каждой строки\n",
        "        'input_ids': sequences[:,:-1],\n",
        "\n",
        "        # срез тензора sequences, который выбирает все элементы всех последовательностей, начиная со второго слова\n",
        "        # это последовательность целевых слов, которые модель должна предсказать.\n",
        "\n",
        "        'target_ids': sequences[:,1:]\n",
        "    }\n",
        "    return new_batch\n",
        "\n",
        "# Исходная последовательность:[\"я\", \"иду\", \"в\", \"магазин\"]\n",
        "# input_ids: [\"я\", \"иду\", \"в\"] — то, что видит модель\n",
        "# target_ids: [\"иду\", \"в\", \"магазин\"] — то, что модель должна предсказать на каждом шаге"
      ]
    },
    {
      "cell_type": "code",
      "execution_count": null,
      "id": "ff6480c6",
      "metadata": {
        "execution": {
          "iopub.execute_input": "2024-10-29T12:10:15.231960Z",
          "iopub.status.busy": "2024-10-29T12:10:15.231208Z",
          "iopub.status.idle": "2024-10-29T12:10:15.315170Z",
          "shell.execute_reply": "2024-10-29T12:10:15.314394Z"
        },
        "id": "ff6480c6",
        "papermill": {
          "duration": 0.348895,
          "end_time": "2024-10-29T12:10:15.317320",
          "exception": false,
          "start_time": "2024-10-29T12:10:14.968425",
          "status": "completed"
        },
        "tags": []
      },
      "outputs": [],
      "source": [
        "train_sentences, remaining_sentences = train_test_split(sentences, test_size=0.2)\n",
        "eval_sentences, test_sentences = train_test_split(remaining_sentences, test_size=0.5)\n",
        "\n",
        "train_dataset = WordDataset(train_sentences)\n",
        "eval_dataset = WordDataset(eval_sentences)\n",
        "test_dataset = WordDataset(test_sentences)\n",
        "\n",
        "# создаем 3 датасета, batch_size=256\n",
        "\n",
        "batch_size = 128\n",
        "# collate_fn — это функция, которая определяет, как объединять отдельные элементы данных в один батч\n",
        "train_dataloader = DataLoader(train_dataset, collate_fn=collate_fn_with_padding, batch_size=batch_size)\n",
        "eval_dataloader = DataLoader(eval_dataset, collate_fn=collate_fn_with_padding, batch_size=batch_size)\n",
        "test_dataloader = DataLoader(test_dataset, collate_fn=collate_fn_with_padding, batch_size=batch_size)"
      ]
    },
    {
      "cell_type": "code",
      "execution_count": null,
      "id": "148edf2a",
      "metadata": {
        "execution": {
          "iopub.execute_input": "2024-10-29T12:10:15.838421Z",
          "iopub.status.busy": "2024-10-29T12:10:15.838037Z",
          "iopub.status.idle": "2024-10-29T12:10:15.842174Z",
          "shell.execute_reply": "2024-10-29T12:10:15.841299Z"
        },
        "id": "148edf2a",
        "papermill": {
          "duration": 0.267279,
          "end_time": "2024-10-29T12:10:15.844018",
          "exception": false,
          "start_time": "2024-10-29T12:10:15.576739",
          "status": "completed"
        },
        "tags": []
      },
      "outputs": [],
      "source": [
        "# for i, batch in enumerate(train_dataloader):\n",
        "#     print(f\"Batch {i + 1}:\")\n",
        "#     print(\"Input IDs:\", batch['input_ids'])\n",
        "#     print(\"Target IDs:\", batch['target_ids'])\n",
        "#     if i == 2:\n",
        "#         break"
      ]
    },
    {
      "cell_type": "markdown",
      "id": "e6a8be8f",
      "metadata": {
        "id": "e6a8be8f",
        "papermill": {
          "duration": 0.257888,
          "end_time": "2024-10-29T12:10:16.914542",
          "exception": false,
          "start_time": "2024-10-29T12:10:16.656654",
          "status": "completed"
        },
        "tags": []
      },
      "source": [
        "## Train loop"
      ]
    },
    {
      "cell_type": "code",
      "execution_count": null,
      "id": "a9de7f03",
      "metadata": {
        "execution": {
          "iopub.execute_input": "2024-10-29T12:10:17.432272Z",
          "iopub.status.busy": "2024-10-29T12:10:17.431899Z",
          "iopub.status.idle": "2024-10-29T12:10:17.440517Z",
          "shell.execute_reply": "2024-10-29T12:10:17.439731Z"
        },
        "id": "a9de7f03",
        "papermill": {
          "duration": 0.267529,
          "end_time": "2024-10-29T12:10:17.442545",
          "exception": false,
          "start_time": "2024-10-29T12:10:17.175016",
          "status": "completed"
        },
        "tags": []
      },
      "outputs": [],
      "source": [
        "class LanguageModel(nn.Module):\n",
        "    def __init__(self, hidden_dim: int, vocab_size: int):\n",
        "        super().__init__()\n",
        "        # линейный слой, который по индексу сопоставляет вектор\n",
        "        self.embedding = nn.Embedding(vocab_size, hidden_dim)\n",
        "        self.lstm  = nn.LSTM(hidden_dim, hidden_dim,num_layers=1,batch_first=True)\n",
        "        # линейный слой для доп линейного преобразования\n",
        "        self.linear = nn.Linear(hidden_dim, hidden_dim)\n",
        "        # слой отображает скрытое состояние в размер словаря\n",
        "        self.projection = nn.Linear(hidden_dim, vocab_size)\n",
        "\n",
        "        self.non_lin = nn.Tanh()\n",
        "        self.dropout = nn.Dropout(p=0.2)\n",
        "\n",
        "    def forward(self, input_batch: torch.Tensor) -> torch.Tensor:\n",
        "      # получаем входной батч индексов, которые меняют размер batch_size на seq_len\n",
        "        embeddings = self.embedding(input_batch)  # [batch_size, seq_len, hidden_dim]\n",
        "\n",
        "        output, _ = self.lstm(embeddings)  # [batch_size, seq_len, hidden_dim]\n",
        "        output = self.dropout(self.linear(self.non_lin(output)))  # [batch_size, seq_len, hidden_dim]\n",
        "        projection = self.projection(self.non_lin(output))  # [batch_size, seq_len, vocab_size]\n",
        "\n",
        "        return projection"
      ]
    },
    {
      "cell_type": "markdown",
      "id": "098496d5",
      "metadata": {
        "id": "098496d5",
        "papermill": {
          "duration": 0.255843,
          "end_time": "2024-10-29T12:10:17.957704",
          "exception": false,
          "start_time": "2024-10-29T12:10:17.701861",
          "status": "completed"
        },
        "tags": []
      },
      "source": [
        "### Функция evaluate"
      ]
    },
    {
      "cell_type": "code",
      "execution_count": null,
      "id": "a63363b5",
      "metadata": {
        "execution": {
          "iopub.execute_input": "2024-10-29T12:10:18.472358Z",
          "iopub.status.busy": "2024-10-29T12:10:18.471490Z",
          "iopub.status.idle": "2024-10-29T12:10:18.478074Z",
          "shell.execute_reply": "2024-10-29T12:10:18.477184Z"
        },
        "id": "a63363b5",
        "papermill": {
          "duration": 0.267162,
          "end_time": "2024-10-29T12:10:18.480029",
          "exception": false,
          "start_time": "2024-10-29T12:10:18.212867",
          "status": "completed"
        },
        "tags": []
      },
      "outputs": [],
      "source": [
        "def evaluate(model, criterion, dataloader) -> float:\n",
        "    \"\"\"\n",
        "    Вычисляет перплексию на dataloader(eval_dataloader)\n",
        "    \"\"\"\n",
        "\n",
        "    model.eval()\n",
        "    perplexity = []\n",
        "    with torch.no_grad():\n",
        "        for batch in tqdm(dataloader, desc=\"validation\"):\n",
        "            logits = model(batch['input_ids']).flatten(start_dim=0, end_dim=1)\n",
        "            loss = criterion(logits, batch['target_ids'].flatten())\n",
        "            perplexity.append(torch.exp(loss).item())\n",
        "\n",
        "    perplexity = sum(perplexity) / len(perplexity)\n",
        "\n",
        "    return perplexity"
      ]
    },
    {
      "cell_type": "code",
      "execution_count": null,
      "id": "6e55d348",
      "metadata": {
        "execution": {
          "iopub.execute_input": "2024-10-29T12:10:18.996819Z",
          "iopub.status.busy": "2024-10-29T12:10:18.996414Z",
          "iopub.status.idle": "2024-10-29T12:10:19.004623Z",
          "shell.execute_reply": "2024-10-29T12:10:19.003700Z"
        },
        "id": "6e55d348",
        "papermill": {
          "duration": 0.269348,
          "end_time": "2024-10-29T12:10:19.006526",
          "exception": false,
          "start_time": "2024-10-29T12:10:18.737178",
          "status": "completed"
        },
        "tags": []
      },
      "outputs": [],
      "source": [
        "# new_batch{'input_ids','target_ids'}\n",
        "\n",
        "def train_model(model, criterion, optimizer, scheduler, train_dataloader, eval_dataloader, epochs=5):\n",
        "    perplexities = []\n",
        "    losses = []\n",
        "    for epoch in tqdm(range(epochs), desc=\"epoch\"):\n",
        "        model.train()\n",
        "        epoch_losses = []\n",
        "        for train_batch in tqdm(train_dataloader, desc=\"train\"):\n",
        "\n",
        "            # модель генерирует логиты — необработанные предсказанные вероятности для каждого токена (слова) из словаря\n",
        "            # Используются для предсказания следующего слова на каждом шаге.\n",
        "            # изменяет форму тензора, чтобы он имел два измерения, где каждое измерение представляет один элемент из батча\n",
        "\n",
        "            output = model(train_batch[\"input_ids\"]).flatten(start_dim=0, end_dim=1)\n",
        "\n",
        "            # Вычисление потерь\n",
        "            loss = criterion(output, train_batch[\"target_ids\"].flatten())\n",
        "            loss.backward()\n",
        "            optimizer.step()\n",
        "            optimizer.zero_grad()\n",
        "\n",
        "            epoch_losses.append(loss.item())\n",
        "\n",
        "        scheduler.step()\n",
        "        losses.append(sum(epoch_losses) / len(epoch_losses))\n",
        "        perplexities.append(evaluate(model, criterion, eval_dataloader))\n",
        "\n",
        "    return perplexities, losses"
      ]
    },
    {
      "cell_type": "markdown",
      "id": "38f8dfab",
      "metadata": {
        "id": "38f8dfab",
        "papermill": {
          "duration": 0.2554,
          "end_time": "2024-10-29T12:10:19.516420",
          "exception": false,
          "start_time": "2024-10-29T12:10:19.261020",
          "status": "completed"
        },
        "tags": []
      },
      "source": [
        "## 1 группа экспериментов"
      ]
    },
    {
      "cell_type": "markdown",
      "id": "a97059e5",
      "metadata": {
        "id": "a97059e5",
        "papermill": {
          "duration": 0.267724,
          "end_time": "2024-10-29T12:10:20.039125",
          "exception": false,
          "start_time": "2024-10-29T12:10:19.771401",
          "status": "completed"
        },
        "tags": []
      },
      "source": [
        "### Эксперимент 1. Baseline модель model. Архитектура LSTM(hidden_dim=256, epochs=21)"
      ]
    },
    {
      "cell_type": "code",
      "execution_count": null,
      "id": "90557213",
      "metadata": {
        "execution": {
          "iopub.execute_input": "2024-10-29T12:10:20.590373Z",
          "iopub.status.busy": "2024-10-29T12:10:20.589988Z",
          "iopub.status.idle": "2024-10-29T12:10:23.244035Z",
          "shell.execute_reply": "2024-10-29T12:10:23.243235Z"
        },
        "id": "90557213",
        "papermill": {
          "duration": 2.913735,
          "end_time": "2024-10-29T12:10:23.246278",
          "exception": false,
          "start_time": "2024-10-29T12:10:20.332543",
          "status": "completed"
        },
        "tags": []
      },
      "outputs": [],
      "source": [
        "model = LanguageModel(256, len(vocab)).to(device)\n",
        "criterion = nn.CrossEntropyLoss(ignore_index=word2ind['<pad>'])\n",
        "optimizer = torch.optim.Adam(model.parameters(), lr=0.0001)\n",
        "scheduler = StepLR(optimizer, step_size=1, gamma=0.8)"
      ]
    },
    {
      "cell_type": "code",
      "execution_count": null,
      "id": "b5d4c51f",
      "metadata": {
        "execution": {
          "iopub.execute_input": "2024-10-29T12:10:23.764833Z",
          "iopub.status.busy": "2024-10-29T12:10:23.763875Z",
          "iopub.status.idle": "2024-10-29T12:46:48.805170Z",
          "shell.execute_reply": "2024-10-29T12:46:48.803944Z"
        },
        "id": "b5d4c51f",
        "outputId": "da30f2fd-2d40-4a8b-a5ab-b639c92e2677",
        "papermill": {
          "duration": 2185.301501,
          "end_time": "2024-10-29T12:46:48.807415",
          "exception": false,
          "start_time": "2024-10-29T12:10:23.505914",
          "status": "completed"
        },
        "tags": [],
        "colab": {
          "referenced_widgets": [
            "dc8f893dd8c24830aa43c70eb43d6b78",
            "1d577ec569b74fb78fe56b40de7dfd8b",
            "f48802ef2688411aa3fce7101b748af4",
            "9908a2a7afce426699ab5c50ba5dca1c",
            "6641aacb596e4808bc369b309d199bd3",
            "35fd77a32da84d83a84a8e8b270db3d0",
            "dddabdf03c8149bd98387c4fe332d8e6",
            "2d09b7be0b6540a7b4e7c363c401993c",
            "5d61b7577881475d90cd21da2c28a270",
            "9a42f73b8ccb4876813315283cc575b6",
            "c1509c4cabf04794b9ad6c359fad23cc",
            "e562f0398fdc458cad2e7b6f87e3703a",
            "e250f671905841ac929a4979901f148e",
            "4e1c7bb183c041cc8e070fb54959b3f4",
            "6bc86caec8d24609aac420ec5cd08620",
            "89049a91a61c4538acd20cfad4bf3fde",
            "fb04d583531445eab4e15c3b58d0792d",
            "ec2eaecc75154ba194d5588466f07d29",
            "eacfbf98bd1948928ba921d3caadc427",
            "f37f4570ad00433aa2725ba163e10f09",
            "42e1bc2ddefe4eaea32f78394aec5814",
            "b2d7b126b8f44eb9bace2261c2629d2b",
            "10f2f731bf1240f09110a25fb761524d",
            "53584346807a4b6ab39d9ac5f36bb5c8",
            "3711e61d20134c149ffa0694beb1de45",
            "c655252ca5404fb4b6b68f892e7b18e0",
            "ea94f330ed4f4257ae7dea0629d55256",
            "73b48379f3cd4bb89a0dfd28e4d7e329",
            "4e84a0c49cc74501b99b88bd86338cad",
            "e8c2abbcb7f54a9ca24f702a777740a8",
            "c0287ebce9a846fa894325b1cb10a188",
            "ce49846e34dd462b94419bf859d946d2",
            "392c09ff829a45e68932d38a534f60d7",
            "238aa15ea7164bccb9490d2fa8a75a17",
            "94c60e2d48f4441dbcd03685e2cccdbf",
            "bfac29e6b2b042f6b4aaca17a389fe10",
            "2982d88d0e6d49a7be569036cbd94c2c",
            "9a7cfd23d128482b9bfad1c858b823cb",
            "8c758a36ff7348ee9541f39b3b62235f",
            "426c09f4c49440b3b0371599d1a4129c",
            "4f8b691512f7444288fb62b797d31b9c",
            "b415838333774fc5bebf207f01c421df",
            "84b547af72f74cc6aca21c53626e1178"
          ]
        }
      },
      "outputs": [
        {
          "data": {
            "application/vnd.jupyter.widget-view+json": {
              "model_id": "dc8f893dd8c24830aa43c70eb43d6b78",
              "version_major": 2,
              "version_minor": 0
            },
            "text/plain": [
              "epoch:   0%|          | 0/21 [00:00<?, ?it/s]"
            ]
          },
          "metadata": {},
          "output_type": "display_data"
        },
        {
          "data": {
            "application/vnd.jupyter.widget-view+json": {
              "model_id": "1d577ec569b74fb78fe56b40de7dfd8b",
              "version_major": 2,
              "version_minor": 0
            },
            "text/plain": [
              "train:   0%|          | 0/1243 [00:00<?, ?it/s]"
            ]
          },
          "metadata": {},
          "output_type": "display_data"
        },
        {
          "data": {
            "application/vnd.jupyter.widget-view+json": {
              "model_id": "f48802ef2688411aa3fce7101b748af4",
              "version_major": 2,
              "version_minor": 0
            },
            "text/plain": [
              "validation:   0%|          | 0/156 [00:00<?, ?it/s]"
            ]
          },
          "metadata": {},
          "output_type": "display_data"
        },
        {
          "data": {
            "application/vnd.jupyter.widget-view+json": {
              "model_id": "9908a2a7afce426699ab5c50ba5dca1c",
              "version_major": 2,
              "version_minor": 0
            },
            "text/plain": [
              "train:   0%|          | 0/1243 [00:00<?, ?it/s]"
            ]
          },
          "metadata": {},
          "output_type": "display_data"
        },
        {
          "data": {
            "application/vnd.jupyter.widget-view+json": {
              "model_id": "6641aacb596e4808bc369b309d199bd3",
              "version_major": 2,
              "version_minor": 0
            },
            "text/plain": [
              "validation:   0%|          | 0/156 [00:00<?, ?it/s]"
            ]
          },
          "metadata": {},
          "output_type": "display_data"
        },
        {
          "data": {
            "application/vnd.jupyter.widget-view+json": {
              "model_id": "35fd77a32da84d83a84a8e8b270db3d0",
              "version_major": 2,
              "version_minor": 0
            },
            "text/plain": [
              "train:   0%|          | 0/1243 [00:00<?, ?it/s]"
            ]
          },
          "metadata": {},
          "output_type": "display_data"
        },
        {
          "data": {
            "application/vnd.jupyter.widget-view+json": {
              "model_id": "dddabdf03c8149bd98387c4fe332d8e6",
              "version_major": 2,
              "version_minor": 0
            },
            "text/plain": [
              "validation:   0%|          | 0/156 [00:00<?, ?it/s]"
            ]
          },
          "metadata": {},
          "output_type": "display_data"
        },
        {
          "data": {
            "application/vnd.jupyter.widget-view+json": {
              "model_id": "2d09b7be0b6540a7b4e7c363c401993c",
              "version_major": 2,
              "version_minor": 0
            },
            "text/plain": [
              "train:   0%|          | 0/1243 [00:00<?, ?it/s]"
            ]
          },
          "metadata": {},
          "output_type": "display_data"
        },
        {
          "data": {
            "application/vnd.jupyter.widget-view+json": {
              "model_id": "5d61b7577881475d90cd21da2c28a270",
              "version_major": 2,
              "version_minor": 0
            },
            "text/plain": [
              "validation:   0%|          | 0/156 [00:00<?, ?it/s]"
            ]
          },
          "metadata": {},
          "output_type": "display_data"
        },
        {
          "data": {
            "application/vnd.jupyter.widget-view+json": {
              "model_id": "9a42f73b8ccb4876813315283cc575b6",
              "version_major": 2,
              "version_minor": 0
            },
            "text/plain": [
              "train:   0%|          | 0/1243 [00:00<?, ?it/s]"
            ]
          },
          "metadata": {},
          "output_type": "display_data"
        },
        {
          "data": {
            "application/vnd.jupyter.widget-view+json": {
              "model_id": "c1509c4cabf04794b9ad6c359fad23cc",
              "version_major": 2,
              "version_minor": 0
            },
            "text/plain": [
              "validation:   0%|          | 0/156 [00:00<?, ?it/s]"
            ]
          },
          "metadata": {},
          "output_type": "display_data"
        },
        {
          "data": {
            "application/vnd.jupyter.widget-view+json": {
              "model_id": "e562f0398fdc458cad2e7b6f87e3703a",
              "version_major": 2,
              "version_minor": 0
            },
            "text/plain": [
              "train:   0%|          | 0/1243 [00:00<?, ?it/s]"
            ]
          },
          "metadata": {},
          "output_type": "display_data"
        },
        {
          "data": {
            "application/vnd.jupyter.widget-view+json": {
              "model_id": "e250f671905841ac929a4979901f148e",
              "version_major": 2,
              "version_minor": 0
            },
            "text/plain": [
              "validation:   0%|          | 0/156 [00:00<?, ?it/s]"
            ]
          },
          "metadata": {},
          "output_type": "display_data"
        },
        {
          "data": {
            "application/vnd.jupyter.widget-view+json": {
              "model_id": "4e1c7bb183c041cc8e070fb54959b3f4",
              "version_major": 2,
              "version_minor": 0
            },
            "text/plain": [
              "train:   0%|          | 0/1243 [00:00<?, ?it/s]"
            ]
          },
          "metadata": {},
          "output_type": "display_data"
        },
        {
          "data": {
            "application/vnd.jupyter.widget-view+json": {
              "model_id": "6bc86caec8d24609aac420ec5cd08620",
              "version_major": 2,
              "version_minor": 0
            },
            "text/plain": [
              "validation:   0%|          | 0/156 [00:00<?, ?it/s]"
            ]
          },
          "metadata": {},
          "output_type": "display_data"
        },
        {
          "data": {
            "application/vnd.jupyter.widget-view+json": {
              "model_id": "89049a91a61c4538acd20cfad4bf3fde",
              "version_major": 2,
              "version_minor": 0
            },
            "text/plain": [
              "train:   0%|          | 0/1243 [00:00<?, ?it/s]"
            ]
          },
          "metadata": {},
          "output_type": "display_data"
        },
        {
          "data": {
            "application/vnd.jupyter.widget-view+json": {
              "model_id": "fb04d583531445eab4e15c3b58d0792d",
              "version_major": 2,
              "version_minor": 0
            },
            "text/plain": [
              "validation:   0%|          | 0/156 [00:00<?, ?it/s]"
            ]
          },
          "metadata": {},
          "output_type": "display_data"
        },
        {
          "data": {
            "application/vnd.jupyter.widget-view+json": {
              "model_id": "ec2eaecc75154ba194d5588466f07d29",
              "version_major": 2,
              "version_minor": 0
            },
            "text/plain": [
              "train:   0%|          | 0/1243 [00:00<?, ?it/s]"
            ]
          },
          "metadata": {},
          "output_type": "display_data"
        },
        {
          "data": {
            "application/vnd.jupyter.widget-view+json": {
              "model_id": "eacfbf98bd1948928ba921d3caadc427",
              "version_major": 2,
              "version_minor": 0
            },
            "text/plain": [
              "validation:   0%|          | 0/156 [00:00<?, ?it/s]"
            ]
          },
          "metadata": {},
          "output_type": "display_data"
        },
        {
          "data": {
            "application/vnd.jupyter.widget-view+json": {
              "model_id": "f37f4570ad00433aa2725ba163e10f09",
              "version_major": 2,
              "version_minor": 0
            },
            "text/plain": [
              "train:   0%|          | 0/1243 [00:00<?, ?it/s]"
            ]
          },
          "metadata": {},
          "output_type": "display_data"
        },
        {
          "data": {
            "application/vnd.jupyter.widget-view+json": {
              "model_id": "42e1bc2ddefe4eaea32f78394aec5814",
              "version_major": 2,
              "version_minor": 0
            },
            "text/plain": [
              "validation:   0%|          | 0/156 [00:00<?, ?it/s]"
            ]
          },
          "metadata": {},
          "output_type": "display_data"
        },
        {
          "data": {
            "application/vnd.jupyter.widget-view+json": {
              "model_id": "b2d7b126b8f44eb9bace2261c2629d2b",
              "version_major": 2,
              "version_minor": 0
            },
            "text/plain": [
              "train:   0%|          | 0/1243 [00:00<?, ?it/s]"
            ]
          },
          "metadata": {},
          "output_type": "display_data"
        },
        {
          "data": {
            "application/vnd.jupyter.widget-view+json": {
              "model_id": "10f2f731bf1240f09110a25fb761524d",
              "version_major": 2,
              "version_minor": 0
            },
            "text/plain": [
              "validation:   0%|          | 0/156 [00:00<?, ?it/s]"
            ]
          },
          "metadata": {},
          "output_type": "display_data"
        },
        {
          "data": {
            "application/vnd.jupyter.widget-view+json": {
              "model_id": "53584346807a4b6ab39d9ac5f36bb5c8",
              "version_major": 2,
              "version_minor": 0
            },
            "text/plain": [
              "train:   0%|          | 0/1243 [00:00<?, ?it/s]"
            ]
          },
          "metadata": {},
          "output_type": "display_data"
        },
        {
          "data": {
            "application/vnd.jupyter.widget-view+json": {
              "model_id": "3711e61d20134c149ffa0694beb1de45",
              "version_major": 2,
              "version_minor": 0
            },
            "text/plain": [
              "validation:   0%|          | 0/156 [00:00<?, ?it/s]"
            ]
          },
          "metadata": {},
          "output_type": "display_data"
        },
        {
          "data": {
            "application/vnd.jupyter.widget-view+json": {
              "model_id": "c655252ca5404fb4b6b68f892e7b18e0",
              "version_major": 2,
              "version_minor": 0
            },
            "text/plain": [
              "train:   0%|          | 0/1243 [00:00<?, ?it/s]"
            ]
          },
          "metadata": {},
          "output_type": "display_data"
        },
        {
          "data": {
            "application/vnd.jupyter.widget-view+json": {
              "model_id": "ea94f330ed4f4257ae7dea0629d55256",
              "version_major": 2,
              "version_minor": 0
            },
            "text/plain": [
              "validation:   0%|          | 0/156 [00:00<?, ?it/s]"
            ]
          },
          "metadata": {},
          "output_type": "display_data"
        },
        {
          "data": {
            "application/vnd.jupyter.widget-view+json": {
              "model_id": "73b48379f3cd4bb89a0dfd28e4d7e329",
              "version_major": 2,
              "version_minor": 0
            },
            "text/plain": [
              "train:   0%|          | 0/1243 [00:00<?, ?it/s]"
            ]
          },
          "metadata": {},
          "output_type": "display_data"
        },
        {
          "data": {
            "application/vnd.jupyter.widget-view+json": {
              "model_id": "4e84a0c49cc74501b99b88bd86338cad",
              "version_major": 2,
              "version_minor": 0
            },
            "text/plain": [
              "validation:   0%|          | 0/156 [00:00<?, ?it/s]"
            ]
          },
          "metadata": {},
          "output_type": "display_data"
        },
        {
          "data": {
            "application/vnd.jupyter.widget-view+json": {
              "model_id": "e8c2abbcb7f54a9ca24f702a777740a8",
              "version_major": 2,
              "version_minor": 0
            },
            "text/plain": [
              "train:   0%|          | 0/1243 [00:00<?, ?it/s]"
            ]
          },
          "metadata": {},
          "output_type": "display_data"
        },
        {
          "data": {
            "application/vnd.jupyter.widget-view+json": {
              "model_id": "c0287ebce9a846fa894325b1cb10a188",
              "version_major": 2,
              "version_minor": 0
            },
            "text/plain": [
              "validation:   0%|          | 0/156 [00:00<?, ?it/s]"
            ]
          },
          "metadata": {},
          "output_type": "display_data"
        },
        {
          "data": {
            "application/vnd.jupyter.widget-view+json": {
              "model_id": "ce49846e34dd462b94419bf859d946d2",
              "version_major": 2,
              "version_minor": 0
            },
            "text/plain": [
              "train:   0%|          | 0/1243 [00:00<?, ?it/s]"
            ]
          },
          "metadata": {},
          "output_type": "display_data"
        },
        {
          "data": {
            "application/vnd.jupyter.widget-view+json": {
              "model_id": "392c09ff829a45e68932d38a534f60d7",
              "version_major": 2,
              "version_minor": 0
            },
            "text/plain": [
              "validation:   0%|          | 0/156 [00:00<?, ?it/s]"
            ]
          },
          "metadata": {},
          "output_type": "display_data"
        },
        {
          "data": {
            "application/vnd.jupyter.widget-view+json": {
              "model_id": "238aa15ea7164bccb9490d2fa8a75a17",
              "version_major": 2,
              "version_minor": 0
            },
            "text/plain": [
              "train:   0%|          | 0/1243 [00:00<?, ?it/s]"
            ]
          },
          "metadata": {},
          "output_type": "display_data"
        },
        {
          "data": {
            "application/vnd.jupyter.widget-view+json": {
              "model_id": "94c60e2d48f4441dbcd03685e2cccdbf",
              "version_major": 2,
              "version_minor": 0
            },
            "text/plain": [
              "validation:   0%|          | 0/156 [00:00<?, ?it/s]"
            ]
          },
          "metadata": {},
          "output_type": "display_data"
        },
        {
          "data": {
            "application/vnd.jupyter.widget-view+json": {
              "model_id": "bfac29e6b2b042f6b4aaca17a389fe10",
              "version_major": 2,
              "version_minor": 0
            },
            "text/plain": [
              "train:   0%|          | 0/1243 [00:00<?, ?it/s]"
            ]
          },
          "metadata": {},
          "output_type": "display_data"
        },
        {
          "data": {
            "application/vnd.jupyter.widget-view+json": {
              "model_id": "2982d88d0e6d49a7be569036cbd94c2c",
              "version_major": 2,
              "version_minor": 0
            },
            "text/plain": [
              "validation:   0%|          | 0/156 [00:00<?, ?it/s]"
            ]
          },
          "metadata": {},
          "output_type": "display_data"
        },
        {
          "data": {
            "application/vnd.jupyter.widget-view+json": {
              "model_id": "9a7cfd23d128482b9bfad1c858b823cb",
              "version_major": 2,
              "version_minor": 0
            },
            "text/plain": [
              "train:   0%|          | 0/1243 [00:00<?, ?it/s]"
            ]
          },
          "metadata": {},
          "output_type": "display_data"
        },
        {
          "data": {
            "application/vnd.jupyter.widget-view+json": {
              "model_id": "8c758a36ff7348ee9541f39b3b62235f",
              "version_major": 2,
              "version_minor": 0
            },
            "text/plain": [
              "validation:   0%|          | 0/156 [00:00<?, ?it/s]"
            ]
          },
          "metadata": {},
          "output_type": "display_data"
        },
        {
          "data": {
            "application/vnd.jupyter.widget-view+json": {
              "model_id": "426c09f4c49440b3b0371599d1a4129c",
              "version_major": 2,
              "version_minor": 0
            },
            "text/plain": [
              "train:   0%|          | 0/1243 [00:00<?, ?it/s]"
            ]
          },
          "metadata": {},
          "output_type": "display_data"
        },
        {
          "data": {
            "application/vnd.jupyter.widget-view+json": {
              "model_id": "4f8b691512f7444288fb62b797d31b9c",
              "version_major": 2,
              "version_minor": 0
            },
            "text/plain": [
              "validation:   0%|          | 0/156 [00:00<?, ?it/s]"
            ]
          },
          "metadata": {},
          "output_type": "display_data"
        },
        {
          "data": {
            "application/vnd.jupyter.widget-view+json": {
              "model_id": "b415838333774fc5bebf207f01c421df",
              "version_major": 2,
              "version_minor": 0
            },
            "text/plain": [
              "train:   0%|          | 0/1243 [00:00<?, ?it/s]"
            ]
          },
          "metadata": {},
          "output_type": "display_data"
        },
        {
          "data": {
            "application/vnd.jupyter.widget-view+json": {
              "model_id": "84b547af72f74cc6aca21c53626e1178",
              "version_major": 2,
              "version_minor": 0
            },
            "text/plain": [
              "validation:   0%|          | 0/156 [00:00<?, ?it/s]"
            ]
          },
          "metadata": {},
          "output_type": "display_data"
        }
      ],
      "source": [
        "perplexities, losses = train_model(model,criterion,optimizer,\n",
        "                                   scheduler,train_dataloader, eval_dataloader, epochs=21)"
      ]
    },
    {
      "cell_type": "code",
      "execution_count": null,
      "id": "4bf5bb37",
      "metadata": {
        "execution": {
          "iopub.execute_input": "2024-10-29T12:46:49.381075Z",
          "iopub.status.busy": "2024-10-29T12:46:49.380699Z",
          "iopub.status.idle": "2024-10-29T12:46:49.844040Z",
          "shell.execute_reply": "2024-10-29T12:46:49.842993Z"
        },
        "id": "4bf5bb37",
        "outputId": "82379ab9-e0ce-4431-972b-4a7391739cc7",
        "papermill": {
          "duration": 0.749207,
          "end_time": "2024-10-29T12:46:49.846277",
          "exception": false,
          "start_time": "2024-10-29T12:46:49.097070",
          "status": "completed"
        },
        "tags": []
      },
      "outputs": [
        {
          "data": {
            "image/png": "[encoded data removed]",
            "text/plain": [
              "<Figure size 640x480 with 1 Axes>"
            ]
          },
          "metadata": {},
          "output_type": "display_data"
        }
      ],
      "source": [
        "plt.plot(np.arange(len(losses)), losses)\n",
        "plt.title('Losses')\n",
        "plt.xlabel(\"epoch\")\n",
        "plt.show()"
      ]
    },
    {
      "cell_type": "code",
      "execution_count": null,
      "id": "872cbbaa",
      "metadata": {
        "execution": {
          "iopub.execute_input": "2024-10-29T12:46:50.382899Z",
          "iopub.status.busy": "2024-10-29T12:46:50.382541Z",
          "iopub.status.idle": "2024-10-29T12:46:50.694917Z",
          "shell.execute_reply": "2024-10-29T12:46:50.694011Z"
        },
        "id": "872cbbaa",
        "outputId": "cd224559-2879-454e-db6e-6640d55690ad",
        "papermill": {
          "duration": 0.582913,
          "end_time": "2024-10-29T12:46:50.696891",
          "exception": false,
          "start_time": "2024-10-29T12:46:50.113978",
          "status": "completed"
        },
        "tags": []
      },
      "outputs": [
        {
          "data": {
            "image/png": "[encoded data removed]",
            "text/plain": [
              "<Figure size 640x480 with 1 Axes>"
            ]
          },
          "metadata": {},
          "output_type": "display_data"
        }
      ],
      "source": [
        "plt.plot(np.arange(len(perplexities)), perplexities)\n",
        "plt.title('Perplexity')\n",
        "plt.xlabel(\"epoch\")\n",
        "plt.show()"
      ]
    },
    {
      "cell_type": "markdown",
      "id": "63786979",
      "metadata": {
        "id": "63786979",
        "papermill": {
          "duration": 0.266466,
          "end_time": "2024-10-29T12:46:51.235143",
          "exception": false,
          "start_time": "2024-10-29T12:46:50.968677",
          "status": "completed"
        },
        "tags": []
      },
      "source": [
        "### Эксперимент 2. Модель model_2. LSTM(hidden_dim)"
      ]
    },
    {
      "cell_type": "markdown",
      "id": "818d6f29",
      "metadata": {
        "id": "818d6f29",
        "papermill": {
          "duration": 0.266316,
          "end_time": "2024-10-29T12:46:51.793414",
          "exception": false,
          "start_time": "2024-10-29T12:46:51.527098",
          "status": "completed"
        },
        "tags": []
      },
      "source": [
        "Увеличим размер скрытого состояния hidden_dim=1024"
      ]
    },
    {
      "cell_type": "code",
      "execution_count": null,
      "id": "7d9352ce",
      "metadata": {
        "execution": {
          "iopub.execute_input": "2024-10-29T12:46:52.331029Z",
          "iopub.status.busy": "2024-10-29T12:46:52.330658Z",
          "iopub.status.idle": "2024-10-29T12:46:53.239443Z",
          "shell.execute_reply": "2024-10-29T12:46:53.238623Z"
        },
        "id": "7d9352ce",
        "papermill": {
          "duration": 1.180137,
          "end_time": "2024-10-29T12:46:53.241730",
          "exception": false,
          "start_time": "2024-10-29T12:46:52.061593",
          "status": "completed"
        },
        "tags": []
      },
      "outputs": [],
      "source": [
        "model_2 = LanguageModel(1024, len(vocab)).to(device)\n",
        "criterion = nn.CrossEntropyLoss(ignore_index=word2ind['<pad>'])\n",
        "optimizer = torch.optim.Adam(model_2.parameters(), lr=0.0001)\n",
        "scheduler = StepLR(optimizer, step_size=1, gamma=0.8)"
      ]
    },
    {
      "cell_type": "code",
      "execution_count": null,
      "id": "b20a84b5",
      "metadata": {
        "execution": {
          "iopub.execute_input": "2024-10-29T12:46:53.783533Z",
          "iopub.status.busy": "2024-10-29T12:46:53.782766Z",
          "iopub.status.idle": "2024-10-29T14:23:06.004364Z",
          "shell.execute_reply": "2024-10-29T14:23:06.003514Z"
        },
        "id": "b20a84b5",
        "outputId": "68ea2b69-74b0-47e4-815c-a9b77b60fdcf",
        "papermill": {
          "duration": 5772.496366,
          "end_time": "2024-10-29T14:23:06.007651",
          "exception": false,
          "start_time": "2024-10-29T12:46:53.511285",
          "status": "completed"
        },
        "tags": [],
        "colab": {
          "referenced_widgets": [
            "ed9ef6d1a7ff4d4fb0bf5972ea2ee572",
            "95d6a9e699aa450198023b3b787ded9d",
            "996b04a1f4964ea79be1056bfe189978",
            "e35ec8cc0eca4b7eb5378fd3f5466bcd",
            "8d605d9a8512479c8b053540c5840281",
            "40c53f01edbf40738ac9aa29b2b7e180",
            "303670578bd94ad3bbddba8fb24a6e74",
            "d4c6ba9a386b43959c946d3d8c02055f",
            "ab5022b5e5c14b018a018d0f1ef43396",
            "b43dc0768728491683254a933546e079",
            "745ee4cb242a4ccf934e99b35df2705e",
            "84a96b25d33a4f6681d839d6a3b35e2d",
            "84ff80b8c0684defbefb62306840c507",
            "55742f03174340dab0c116cfa90ed884",
            "ff361a5ffcbc498594fd9d6a16e1c8c6",
            "7658c52578224b6c95ec6c122f00605c",
            "aa7a1a1694d24e12bfe8da014a9eefb6",
            "e243dd6862aa4088a017488d2a37c708",
            "05320e852a594c99beb2b23de06db696",
            "cb878652dad24986b567574e854aa436",
            "408b8daebbef476b9dcc22425fb736fe",
            "d0bb786a00fd4cc8ada73d82de544beb",
            "093f21d5aee740eb97dd7985a060b76e",
            "f7c3524b29de4ffa9a4315e489e0428f",
            "7a5fa5d44a19479aa8700b302146c997",
            "5bd1724ac6664c66a94db54485a692e6",
            "a666dd93b2b34a929f80aa75871bffc5",
            "bf9ab8f21f94496d8ffa4e293500ce35",
            "1ddb37c365314c9592b51ffd8a1f5f4d",
            "13bc987a4e0e46ae8ed6f2082ba55dc6",
            "db4810d0e336490995466d9b62dfc12d",
            "88c30fe5cf37439392b9e8c755a918c6",
            "c793954a71fc463fb38c2a1ebfc3ca15",
            "ee6bb0409a4d49a6aceb318b5668e84c",
            "028d649021784b37b731fb47a16fa1f4",
            "8fd64a1bc7ea45baa2df14153b442b17",
            "d26296df9ca04498b048073314d3a94e",
            "bb0482091b50430eb8ec207ff5d46cb0",
            "a68b409e5d614c8999c2d95996acdc68",
            "7e90c90ab06d498fa81bfa922650726a",
            "7f5dad67a61a4bf4b4ec1b7beb673cf2",
            "eb0d4c49d513435e8bcc25bfa66ccadf",
            "fc6eb9c881af40cebea3b596a9fc1a6a"
          ]
        }
      },
      "outputs": [
        {
          "data": {
            "application/vnd.jupyter.widget-view+json": {
              "model_id": "ed9ef6d1a7ff4d4fb0bf5972ea2ee572",
              "version_major": 2,
              "version_minor": 0
            },
            "text/plain": [
              "epoch:   0%|          | 0/21 [00:00<?, ?it/s]"
            ]
          },
          "metadata": {},
          "output_type": "display_data"
        },
        {
          "data": {
            "application/vnd.jupyter.widget-view+json": {
              "model_id": "95d6a9e699aa450198023b3b787ded9d",
              "version_major": 2,
              "version_minor": 0
            },
            "text/plain": [
              "train:   0%|          | 0/1243 [00:00<?, ?it/s]"
            ]
          },
          "metadata": {},
          "output_type": "display_data"
        },
        {
          "data": {
            "application/vnd.jupyter.widget-view+json": {
              "model_id": "996b04a1f4964ea79be1056bfe189978",
              "version_major": 2,
              "version_minor": 0
            },
            "text/plain": [
              "validation:   0%|          | 0/156 [00:00<?, ?it/s]"
            ]
          },
          "metadata": {},
          "output_type": "display_data"
        },
        {
          "data": {
            "application/vnd.jupyter.widget-view+json": {
              "model_id": "e35ec8cc0eca4b7eb5378fd3f5466bcd",
              "version_major": 2,
              "version_minor": 0
            },
            "text/plain": [
              "train:   0%|          | 0/1243 [00:00<?, ?it/s]"
            ]
          },
          "metadata": {},
          "output_type": "display_data"
        },
        {
          "data": {
            "application/vnd.jupyter.widget-view+json": {
              "model_id": "8d605d9a8512479c8b053540c5840281",
              "version_major": 2,
              "version_minor": 0
            },
            "text/plain": [
              "validation:   0%|          | 0/156 [00:00<?, ?it/s]"
            ]
          },
          "metadata": {},
          "output_type": "display_data"
        },
        {
          "data": {
            "application/vnd.jupyter.widget-view+json": {
              "model_id": "40c53f01edbf40738ac9aa29b2b7e180",
              "version_major": 2,
              "version_minor": 0
            },
            "text/plain": [
              "train:   0%|          | 0/1243 [00:00<?, ?it/s]"
            ]
          },
          "metadata": {},
          "output_type": "display_data"
        },
        {
          "data": {
            "application/vnd.jupyter.widget-view+json": {
              "model_id": "303670578bd94ad3bbddba8fb24a6e74",
              "version_major": 2,
              "version_minor": 0
            },
            "text/plain": [
              "validation:   0%|          | 0/156 [00:00<?, ?it/s]"
            ]
          },
          "metadata": {},
          "output_type": "display_data"
        },
        {
          "data": {
            "application/vnd.jupyter.widget-view+json": {
              "model_id": "d4c6ba9a386b43959c946d3d8c02055f",
              "version_major": 2,
              "version_minor": 0
            },
            "text/plain": [
              "train:   0%|          | 0/1243 [00:00<?, ?it/s]"
            ]
          },
          "metadata": {},
          "output_type": "display_data"
        },
        {
          "data": {
            "application/vnd.jupyter.widget-view+json": {
              "model_id": "ab5022b5e5c14b018a018d0f1ef43396",
              "version_major": 2,
              "version_minor": 0
            },
            "text/plain": [
              "validation:   0%|          | 0/156 [00:00<?, ?it/s]"
            ]
          },
          "metadata": {},
          "output_type": "display_data"
        },
        {
          "data": {
            "application/vnd.jupyter.widget-view+json": {
              "model_id": "b43dc0768728491683254a933546e079",
              "version_major": 2,
              "version_minor": 0
            },
            "text/plain": [
              "train:   0%|          | 0/1243 [00:00<?, ?it/s]"
            ]
          },
          "metadata": {},
          "output_type": "display_data"
        },
        {
          "data": {
            "application/vnd.jupyter.widget-view+json": {
              "model_id": "745ee4cb242a4ccf934e99b35df2705e",
              "version_major": 2,
              "version_minor": 0
            },
            "text/plain": [
              "validation:   0%|          | 0/156 [00:00<?, ?it/s]"
            ]
          },
          "metadata": {},
          "output_type": "display_data"
        },
        {
          "data": {
            "application/vnd.jupyter.widget-view+json": {
              "model_id": "84a96b25d33a4f6681d839d6a3b35e2d",
              "version_major": 2,
              "version_minor": 0
            },
            "text/plain": [
              "train:   0%|          | 0/1243 [00:00<?, ?it/s]"
            ]
          },
          "metadata": {},
          "output_type": "display_data"
        },
        {
          "data": {
            "application/vnd.jupyter.widget-view+json": {
              "model_id": "84ff80b8c0684defbefb62306840c507",
              "version_major": 2,
              "version_minor": 0
            },
            "text/plain": [
              "validation:   0%|          | 0/156 [00:00<?, ?it/s]"
            ]
          },
          "metadata": {},
          "output_type": "display_data"
        },
        {
          "data": {
            "application/vnd.jupyter.widget-view+json": {
              "model_id": "55742f03174340dab0c116cfa90ed884",
              "version_major": 2,
              "version_minor": 0
            },
            "text/plain": [
              "train:   0%|          | 0/1243 [00:00<?, ?it/s]"
            ]
          },
          "metadata": {},
          "output_type": "display_data"
        },
        {
          "data": {
            "application/vnd.jupyter.widget-view+json": {
              "model_id": "ff361a5ffcbc498594fd9d6a16e1c8c6",
              "version_major": 2,
              "version_minor": 0
            },
            "text/plain": [
              "validation:   0%|          | 0/156 [00:00<?, ?it/s]"
            ]
          },
          "metadata": {},
          "output_type": "display_data"
        },
        {
          "data": {
            "application/vnd.jupyter.widget-view+json": {
              "model_id": "7658c52578224b6c95ec6c122f00605c",
              "version_major": 2,
              "version_minor": 0
            },
            "text/plain": [
              "train:   0%|          | 0/1243 [00:00<?, ?it/s]"
            ]
          },
          "metadata": {},
          "output_type": "display_data"
        },
        {
          "data": {
            "application/vnd.jupyter.widget-view+json": {
              "model_id": "aa7a1a1694d24e12bfe8da014a9eefb6",
              "version_major": 2,
              "version_minor": 0
            },
            "text/plain": [
              "validation:   0%|          | 0/156 [00:00<?, ?it/s]"
            ]
          },
          "metadata": {},
          "output_type": "display_data"
        },
        {
          "data": {
            "application/vnd.jupyter.widget-view+json": {
              "model_id": "e243dd6862aa4088a017488d2a37c708",
              "version_major": 2,
              "version_minor": 0
            },
            "text/plain": [
              "train:   0%|          | 0/1243 [00:00<?, ?it/s]"
            ]
          },
          "metadata": {},
          "output_type": "display_data"
        },
        {
          "data": {
            "application/vnd.jupyter.widget-view+json": {
              "model_id": "05320e852a594c99beb2b23de06db696",
              "version_major": 2,
              "version_minor": 0
            },
            "text/plain": [
              "validation:   0%|          | 0/156 [00:00<?, ?it/s]"
            ]
          },
          "metadata": {},
          "output_type": "display_data"
        },
        {
          "data": {
            "application/vnd.jupyter.widget-view+json": {
              "model_id": "cb878652dad24986b567574e854aa436",
              "version_major": 2,
              "version_minor": 0
            },
            "text/plain": [
              "train:   0%|          | 0/1243 [00:00<?, ?it/s]"
            ]
          },
          "metadata": {},
          "output_type": "display_data"
        },
        {
          "data": {
            "application/vnd.jupyter.widget-view+json": {
              "model_id": "408b8daebbef476b9dcc22425fb736fe",
              "version_major": 2,
              "version_minor": 0
            },
            "text/plain": [
              "validation:   0%|          | 0/156 [00:00<?, ?it/s]"
            ]
          },
          "metadata": {},
          "output_type": "display_data"
        },
        {
          "data": {
            "application/vnd.jupyter.widget-view+json": {
              "model_id": "d0bb786a00fd4cc8ada73d82de544beb",
              "version_major": 2,
              "version_minor": 0
            },
            "text/plain": [
              "train:   0%|          | 0/1243 [00:00<?, ?it/s]"
            ]
          },
          "metadata": {},
          "output_type": "display_data"
        },
        {
          "data": {
            "application/vnd.jupyter.widget-view+json": {
              "model_id": "093f21d5aee740eb97dd7985a060b76e",
              "version_major": 2,
              "version_minor": 0
            },
            "text/plain": [
              "validation:   0%|          | 0/156 [00:00<?, ?it/s]"
            ]
          },
          "metadata": {},
          "output_type": "display_data"
        },
        {
          "data": {
            "application/vnd.jupyter.widget-view+json": {
              "model_id": "f7c3524b29de4ffa9a4315e489e0428f",
              "version_major": 2,
              "version_minor": 0
            },
            "text/plain": [
              "train:   0%|          | 0/1243 [00:00<?, ?it/s]"
            ]
          },
          "metadata": {},
          "output_type": "display_data"
        },
        {
          "data": {
            "application/vnd.jupyter.widget-view+json": {
              "model_id": "7a5fa5d44a19479aa8700b302146c997",
              "version_major": 2,
              "version_minor": 0
            },
            "text/plain": [
              "validation:   0%|          | 0/156 [00:00<?, ?it/s]"
            ]
          },
          "metadata": {},
          "output_type": "display_data"
        },
        {
          "data": {
            "application/vnd.jupyter.widget-view+json": {
              "model_id": "5bd1724ac6664c66a94db54485a692e6",
              "version_major": 2,
              "version_minor": 0
            },
            "text/plain": [
              "train:   0%|          | 0/1243 [00:00<?, ?it/s]"
            ]
          },
          "metadata": {},
          "output_type": "display_data"
        },
        {
          "data": {
            "application/vnd.jupyter.widget-view+json": {
              "model_id": "a666dd93b2b34a929f80aa75871bffc5",
              "version_major": 2,
              "version_minor": 0
            },
            "text/plain": [
              "validation:   0%|          | 0/156 [00:00<?, ?it/s]"
            ]
          },
          "metadata": {},
          "output_type": "display_data"
        },
        {
          "data": {
            "application/vnd.jupyter.widget-view+json": {
              "model_id": "bf9ab8f21f94496d8ffa4e293500ce35",
              "version_major": 2,
              "version_minor": 0
            },
            "text/plain": [
              "train:   0%|          | 0/1243 [00:00<?, ?it/s]"
            ]
          },
          "metadata": {},
          "output_type": "display_data"
        },
        {
          "data": {
            "application/vnd.jupyter.widget-view+json": {
              "model_id": "1ddb37c365314c9592b51ffd8a1f5f4d",
              "version_major": 2,
              "version_minor": 0
            },
            "text/plain": [
              "validation:   0%|          | 0/156 [00:00<?, ?it/s]"
            ]
          },
          "metadata": {},
          "output_type": "display_data"
        },
        {
          "data": {
            "application/vnd.jupyter.widget-view+json": {
              "model_id": "13bc987a4e0e46ae8ed6f2082ba55dc6",
              "version_major": 2,
              "version_minor": 0
            },
            "text/plain": [
              "train:   0%|          | 0/1243 [00:00<?, ?it/s]"
            ]
          },
          "metadata": {},
          "output_type": "display_data"
        },
        {
          "data": {
            "application/vnd.jupyter.widget-view+json": {
              "model_id": "db4810d0e336490995466d9b62dfc12d",
              "version_major": 2,
              "version_minor": 0
            },
            "text/plain": [
              "validation:   0%|          | 0/156 [00:00<?, ?it/s]"
            ]
          },
          "metadata": {},
          "output_type": "display_data"
        },
        {
          "data": {
            "application/vnd.jupyter.widget-view+json": {
              "model_id": "88c30fe5cf37439392b9e8c755a918c6",
              "version_major": 2,
              "version_minor": 0
            },
            "text/plain": [
              "train:   0%|          | 0/1243 [00:00<?, ?it/s]"
            ]
          },
          "metadata": {},
          "output_type": "display_data"
        },
        {
          "data": {
            "application/vnd.jupyter.widget-view+json": {
              "model_id": "c793954a71fc463fb38c2a1ebfc3ca15",
              "version_major": 2,
              "version_minor": 0
            },
            "text/plain": [
              "validation:   0%|          | 0/156 [00:00<?, ?it/s]"
            ]
          },
          "metadata": {},
          "output_type": "display_data"
        },
        {
          "data": {
            "application/vnd.jupyter.widget-view+json": {
              "model_id": "ee6bb0409a4d49a6aceb318b5668e84c",
              "version_major": 2,
              "version_minor": 0
            },
            "text/plain": [
              "train:   0%|          | 0/1243 [00:00<?, ?it/s]"
            ]
          },
          "metadata": {},
          "output_type": "display_data"
        },
        {
          "data": {
            "application/vnd.jupyter.widget-view+json": {
              "model_id": "028d649021784b37b731fb47a16fa1f4",
              "version_major": 2,
              "version_minor": 0
            },
            "text/plain": [
              "validation:   0%|          | 0/156 [00:00<?, ?it/s]"
            ]
          },
          "metadata": {},
          "output_type": "display_data"
        },
        {
          "data": {
            "application/vnd.jupyter.widget-view+json": {
              "model_id": "8fd64a1bc7ea45baa2df14153b442b17",
              "version_major": 2,
              "version_minor": 0
            },
            "text/plain": [
              "train:   0%|          | 0/1243 [00:00<?, ?it/s]"
            ]
          },
          "metadata": {},
          "output_type": "display_data"
        },
        {
          "data": {
            "application/vnd.jupyter.widget-view+json": {
              "model_id": "d26296df9ca04498b048073314d3a94e",
              "version_major": 2,
              "version_minor": 0
            },
            "text/plain": [
              "validation:   0%|          | 0/156 [00:00<?, ?it/s]"
            ]
          },
          "metadata": {},
          "output_type": "display_data"
        },
        {
          "data": {
            "application/vnd.jupyter.widget-view+json": {
              "model_id": "bb0482091b50430eb8ec207ff5d46cb0",
              "version_major": 2,
              "version_minor": 0
            },
            "text/plain": [
              "train:   0%|          | 0/1243 [00:00<?, ?it/s]"
            ]
          },
          "metadata": {},
          "output_type": "display_data"
        },
        {
          "data": {
            "application/vnd.jupyter.widget-view+json": {
              "model_id": "a68b409e5d614c8999c2d95996acdc68",
              "version_major": 2,
              "version_minor": 0
            },
            "text/plain": [
              "validation:   0%|          | 0/156 [00:00<?, ?it/s]"
            ]
          },
          "metadata": {},
          "output_type": "display_data"
        },
        {
          "data": {
            "application/vnd.jupyter.widget-view+json": {
              "model_id": "7e90c90ab06d498fa81bfa922650726a",
              "version_major": 2,
              "version_minor": 0
            },
            "text/plain": [
              "train:   0%|          | 0/1243 [00:00<?, ?it/s]"
            ]
          },
          "metadata": {},
          "output_type": "display_data"
        },
        {
          "data": {
            "application/vnd.jupyter.widget-view+json": {
              "model_id": "7f5dad67a61a4bf4b4ec1b7beb673cf2",
              "version_major": 2,
              "version_minor": 0
            },
            "text/plain": [
              "validation:   0%|          | 0/156 [00:00<?, ?it/s]"
            ]
          },
          "metadata": {},
          "output_type": "display_data"
        },
        {
          "data": {
            "application/vnd.jupyter.widget-view+json": {
              "model_id": "eb0d4c49d513435e8bcc25bfa66ccadf",
              "version_major": 2,
              "version_minor": 0
            },
            "text/plain": [
              "train:   0%|          | 0/1243 [00:00<?, ?it/s]"
            ]
          },
          "metadata": {},
          "output_type": "display_data"
        },
        {
          "data": {
            "application/vnd.jupyter.widget-view+json": {
              "model_id": "fc6eb9c881af40cebea3b596a9fc1a6a",
              "version_major": 2,
              "version_minor": 0
            },
            "text/plain": [
              "validation:   0%|          | 0/156 [00:00<?, ?it/s]"
            ]
          },
          "metadata": {},
          "output_type": "display_data"
        }
      ],
      "source": [
        "perplexities2, losses2 = train_model(\n",
        "    model_2, criterion, optimizer, scheduler,\n",
        "    train_dataloader, eval_dataloader, epochs=21\n",
        ")"
      ]
    },
    {
      "cell_type": "code",
      "execution_count": null,
      "id": "8cef2736",
      "metadata": {
        "execution": {
          "iopub.execute_input": "2024-10-29T14:23:06.558276Z",
          "iopub.status.busy": "2024-10-29T14:23:06.557632Z",
          "iopub.status.idle": "2024-10-29T14:23:06.913135Z",
          "shell.execute_reply": "2024-10-29T14:23:06.912297Z"
        },
        "id": "8cef2736",
        "outputId": "8b650f7a-b62a-4314-9182-5915f4b2398d",
        "papermill": {
          "duration": 0.633172,
          "end_time": "2024-10-29T14:23:06.915242",
          "exception": false,
          "start_time": "2024-10-29T14:23:06.282070",
          "status": "completed"
        },
        "tags": []
      },
      "outputs": [
        {
          "data": {
            "image/png": "[encoded data removed]",
            "text/plain": [
              "<Figure size 640x480 with 1 Axes>"
            ]
          },
          "metadata": {},
          "output_type": "display_data"
        }
      ],
      "source": [
        "plt.plot(np.arange(len(losses2)), losses2)\n",
        "plt.title('Losses')\n",
        "plt.xlabel(\"epoch\")\n",
        "plt.show()"
      ]
    },
    {
      "cell_type": "code",
      "execution_count": null,
      "id": "11162260",
      "metadata": {
        "execution": {
          "iopub.execute_input": "2024-10-29T14:23:07.460329Z",
          "iopub.status.busy": "2024-10-29T14:23:07.459650Z",
          "iopub.status.idle": "2024-10-29T14:23:07.808037Z",
          "shell.execute_reply": "2024-10-29T14:23:07.807061Z"
        },
        "id": "11162260",
        "outputId": "2c64dc5e-13bd-4ab9-eac5-a6bd8e5f0566",
        "papermill": {
          "duration": 0.62123,
          "end_time": "2024-10-29T14:23:07.809944",
          "exception": false,
          "start_time": "2024-10-29T14:23:07.188714",
          "status": "completed"
        },
        "tags": []
      },
      "outputs": [
        {
          "data": {
            "image/png": "[encoded data removed]",
            "text/plain": [
              "<Figure size 640x480 with 1 Axes>"
            ]
          },
          "metadata": {},
          "output_type": "display_data"
        }
      ],
      "source": [
        "plt.plot(np.arange(len(perplexities2)), perplexities2)\n",
        "plt.title('Perplexity')\n",
        "plt.xlabel(\"epoch\")\n",
        "plt.show()"
      ]
    },
    {
      "cell_type": "markdown",
      "source": [
        "### Эксперимент 3. Baseline модель model_3."
      ],
      "metadata": {
        "id": "kxgLr_GmJyjt"
      },
      "id": "kxgLr_GmJyjt"
    },
    {
      "cell_type": "markdown",
      "id": "d6bccdd3",
      "metadata": {
        "id": "d6bccdd3",
        "papermill": {
          "duration": 0.270191,
          "end_time": "2024-10-29T14:23:08.353893",
          "exception": false,
          "start_time": "2024-10-29T14:23:08.083702",
          "status": "completed"
        },
        "tags": []
      },
      "source": [
        "Уменьшим размер скрытого состояния hidden_dim=128"
      ]
    },
    {
      "cell_type": "code",
      "execution_count": null,
      "id": "2cf7c6b2",
      "metadata": {
        "execution": {
          "iopub.execute_input": "2024-10-29T14:23:08.946793Z",
          "iopub.status.busy": "2024-10-29T14:23:08.945913Z",
          "iopub.status.idle": "2024-10-29T14:23:09.056682Z",
          "shell.execute_reply": "2024-10-29T14:23:09.055715Z"
        },
        "id": "2cf7c6b2",
        "papermill": {
          "duration": 0.43277,
          "end_time": "2024-10-29T14:23:09.058829",
          "exception": false,
          "start_time": "2024-10-29T14:23:08.626059",
          "status": "completed"
        },
        "tags": []
      },
      "outputs": [],
      "source": [
        "model_3 = LanguageModel(128, len(vocab)).to(device)\n",
        "criterion = nn.CrossEntropyLoss(ignore_index=word2ind['<pad>'])\n",
        "optimizer = torch.optim.Adam(model_3.parameters(), lr=0.0001)\n",
        "scheduler = StepLR(optimizer, step_size=1, gamma=0.8)"
      ]
    },
    {
      "cell_type": "code",
      "execution_count": null,
      "id": "0ec04c3e",
      "metadata": {
        "execution": {
          "iopub.execute_input": "2024-10-29T14:23:09.642293Z",
          "iopub.status.busy": "2024-10-29T14:23:09.641930Z",
          "iopub.status.idle": "2024-10-29T14:50:42.652783Z",
          "shell.execute_reply": "2024-10-29T14:50:42.651847Z"
        },
        "id": "0ec04c3e",
        "outputId": "3da7e64d-ee0b-4965-ea91-906cb057f983",
        "papermill": {
          "duration": 1653.313072,
          "end_time": "2024-10-29T14:50:42.655988",
          "exception": false,
          "start_time": "2024-10-29T14:23:09.342916",
          "status": "completed"
        },
        "tags": [],
        "colab": {
          "referenced_widgets": [
            "344dcb9746ff4051b016a5ca8fc33cad",
            "14d4487cc73f42b89bc93591c86dd66e",
            "3095378cb78a432398c1b368abcc8ec1",
            "4980b546fa4a42ab99e252c54083d597",
            "f7af91b488f5484daa81cae7d87489ec",
            "cf777c3561d2464da7b0d0c92d14c7da",
            "39584723f3e0464482a34c65537f301d",
            "b7b52028c4f64cebaf73ec43f963a025",
            "3a54989e185e42d893b0f9122ee54345",
            "a7c8bd140cbd4243b011a858ac011ea3",
            "831063b60f1a4c3b889e135a04104155",
            "1ed2d4ad44a040daa4ef4baf107704e9",
            "6ca05790fb0b4d598676d2135cccd296",
            "2b39b89805fe451daa354993343b582a",
            "c6e541bf140241449f13db2a98c53928",
            "edeacb9f157f4850b820dd54b1b3d03b",
            "8161ec59abd445be8c70565d85d2a9d8",
            "3cdfdb2374374c1d9d881cfe112d24d1",
            "425f1aaac7124d01a41f6b892dd4d242",
            "0d6cd177a8e64095aad95d305effa290",
            "1deaa56052e049a7b1d3de7c666e1ea8",
            "78202419a8304840933d716214afdfc0",
            "2e5e4fb4f199442a88281340d7e50c7b",
            "6d16632f15294b928b5c8824ba4dde99",
            "1a96ba16f4884af4a2658b0329c087fa",
            "4537e7d0567345c8a4285d06c38f8d7d",
            "1d52d7c0043c4ae09f002d1a6c743045",
            "4f5fecd2148a466b96868237f6c5dc12",
            "e5dff3bce5b641a8911f4c51f6967768",
            "480d76a342f945f39ceffb14e66cca9f",
            "4730285bacbe4657a24515b6482d68ee",
            "91d688e086c549c58d9ec9454accc12c",
            "ca3a525b5da042ac9f42cf87a1f1c0b2",
            "811a044fefc54ad2a311a4101842adfd",
            "7abfcb3f2ca44b8eb48b3025b515799c",
            "431f8a969f9449c2a5e9f8590d83264d",
            "ea548185b8fd47cb89e7b11ce1dacc7c",
            "ee57193b0cdb46e4bd8f2f4bf0623ab9",
            "fb6b9b9727d74c79beee17c60c205395",
            "279d6b34165047f6b3446d88357663f2",
            "8af63a68940549f581d61d3ccee79844",
            "3023187857304182b725cf7bb5845fb1",
            "0ad55c1155a14811b397aed25f9a059c"
          ]
        }
      },
      "outputs": [
        {
          "data": {
            "application/vnd.jupyter.widget-view+json": {
              "model_id": "344dcb9746ff4051b016a5ca8fc33cad",
              "version_major": 2,
              "version_minor": 0
            },
            "text/plain": [
              "epoch:   0%|          | 0/21 [00:00<?, ?it/s]"
            ]
          },
          "metadata": {},
          "output_type": "display_data"
        },
        {
          "data": {
            "application/vnd.jupyter.widget-view+json": {
              "model_id": "14d4487cc73f42b89bc93591c86dd66e",
              "version_major": 2,
              "version_minor": 0
            },
            "text/plain": [
              "train:   0%|          | 0/1243 [00:00<?, ?it/s]"
            ]
          },
          "metadata": {},
          "output_type": "display_data"
        },
        {
          "data": {
            "application/vnd.jupyter.widget-view+json": {
              "model_id": "3095378cb78a432398c1b368abcc8ec1",
              "version_major": 2,
              "version_minor": 0
            },
            "text/plain": [
              "validation:   0%|          | 0/156 [00:00<?, ?it/s]"
            ]
          },
          "metadata": {},
          "output_type": "display_data"
        },
        {
          "data": {
            "application/vnd.jupyter.widget-view+json": {
              "model_id": "4980b546fa4a42ab99e252c54083d597",
              "version_major": 2,
              "version_minor": 0
            },
            "text/plain": [
              "train:   0%|          | 0/1243 [00:00<?, ?it/s]"
            ]
          },
          "metadata": {},
          "output_type": "display_data"
        },
        {
          "data": {
            "application/vnd.jupyter.widget-view+json": {
              "model_id": "f7af91b488f5484daa81cae7d87489ec",
              "version_major": 2,
              "version_minor": 0
            },
            "text/plain": [
              "validation:   0%|          | 0/156 [00:00<?, ?it/s]"
            ]
          },
          "metadata": {},
          "output_type": "display_data"
        },
        {
          "data": {
            "application/vnd.jupyter.widget-view+json": {
              "model_id": "cf777c3561d2464da7b0d0c92d14c7da",
              "version_major": 2,
              "version_minor": 0
            },
            "text/plain": [
              "train:   0%|          | 0/1243 [00:00<?, ?it/s]"
            ]
          },
          "metadata": {},
          "output_type": "display_data"
        },
        {
          "data": {
            "application/vnd.jupyter.widget-view+json": {
              "model_id": "39584723f3e0464482a34c65537f301d",
              "version_major": 2,
              "version_minor": 0
            },
            "text/plain": [
              "validation:   0%|          | 0/156 [00:00<?, ?it/s]"
            ]
          },
          "metadata": {},
          "output_type": "display_data"
        },
        {
          "data": {
            "application/vnd.jupyter.widget-view+json": {
              "model_id": "b7b52028c4f64cebaf73ec43f963a025",
              "version_major": 2,
              "version_minor": 0
            },
            "text/plain": [
              "train:   0%|          | 0/1243 [00:00<?, ?it/s]"
            ]
          },
          "metadata": {},
          "output_type": "display_data"
        },
        {
          "data": {
            "application/vnd.jupyter.widget-view+json": {
              "model_id": "3a54989e185e42d893b0f9122ee54345",
              "version_major": 2,
              "version_minor": 0
            },
            "text/plain": [
              "validation:   0%|          | 0/156 [00:00<?, ?it/s]"
            ]
          },
          "metadata": {},
          "output_type": "display_data"
        },
        {
          "data": {
            "application/vnd.jupyter.widget-view+json": {
              "model_id": "a7c8bd140cbd4243b011a858ac011ea3",
              "version_major": 2,
              "version_minor": 0
            },
            "text/plain": [
              "train:   0%|          | 0/1243 [00:00<?, ?it/s]"
            ]
          },
          "metadata": {},
          "output_type": "display_data"
        },
        {
          "data": {
            "application/vnd.jupyter.widget-view+json": {
              "model_id": "831063b60f1a4c3b889e135a04104155",
              "version_major": 2,
              "version_minor": 0
            },
            "text/plain": [
              "validation:   0%|          | 0/156 [00:00<?, ?it/s]"
            ]
          },
          "metadata": {},
          "output_type": "display_data"
        },
        {
          "data": {
            "application/vnd.jupyter.widget-view+json": {
              "model_id": "1ed2d4ad44a040daa4ef4baf107704e9",
              "version_major": 2,
              "version_minor": 0
            },
            "text/plain": [
              "train:   0%|          | 0/1243 [00:00<?, ?it/s]"
            ]
          },
          "metadata": {},
          "output_type": "display_data"
        },
        {
          "data": {
            "application/vnd.jupyter.widget-view+json": {
              "model_id": "6ca05790fb0b4d598676d2135cccd296",
              "version_major": 2,
              "version_minor": 0
            },
            "text/plain": [
              "validation:   0%|          | 0/156 [00:00<?, ?it/s]"
            ]
          },
          "metadata": {},
          "output_type": "display_data"
        },
        {
          "data": {
            "application/vnd.jupyter.widget-view+json": {
              "model_id": "2b39b89805fe451daa354993343b582a",
              "version_major": 2,
              "version_minor": 0
            },
            "text/plain": [
              "train:   0%|          | 0/1243 [00:00<?, ?it/s]"
            ]
          },
          "metadata": {},
          "output_type": "display_data"
        },
        {
          "data": {
            "application/vnd.jupyter.widget-view+json": {
              "model_id": "c6e541bf140241449f13db2a98c53928",
              "version_major": 2,
              "version_minor": 0
            },
            "text/plain": [
              "validation:   0%|          | 0/156 [00:00<?, ?it/s]"
            ]
          },
          "metadata": {},
          "output_type": "display_data"
        },
        {
          "data": {
            "application/vnd.jupyter.widget-view+json": {
              "model_id": "edeacb9f157f4850b820dd54b1b3d03b",
              "version_major": 2,
              "version_minor": 0
            },
            "text/plain": [
              "train:   0%|          | 0/1243 [00:00<?, ?it/s]"
            ]
          },
          "metadata": {},
          "output_type": "display_data"
        },
        {
          "data": {
            "application/vnd.jupyter.widget-view+json": {
              "model_id": "8161ec59abd445be8c70565d85d2a9d8",
              "version_major": 2,
              "version_minor": 0
            },
            "text/plain": [
              "validation:   0%|          | 0/156 [00:00<?, ?it/s]"
            ]
          },
          "metadata": {},
          "output_type": "display_data"
        },
        {
          "data": {
            "application/vnd.jupyter.widget-view+json": {
              "model_id": "3cdfdb2374374c1d9d881cfe112d24d1",
              "version_major": 2,
              "version_minor": 0
            },
            "text/plain": [
              "train:   0%|          | 0/1243 [00:00<?, ?it/s]"
            ]
          },
          "metadata": {},
          "output_type": "display_data"
        },
        {
          "data": {
            "application/vnd.jupyter.widget-view+json": {
              "model_id": "425f1aaac7124d01a41f6b892dd4d242",
              "version_major": 2,
              "version_minor": 0
            },
            "text/plain": [
              "validation:   0%|          | 0/156 [00:00<?, ?it/s]"
            ]
          },
          "metadata": {},
          "output_type": "display_data"
        },
        {
          "data": {
            "application/vnd.jupyter.widget-view+json": {
              "model_id": "0d6cd177a8e64095aad95d305effa290",
              "version_major": 2,
              "version_minor": 0
            },
            "text/plain": [
              "train:   0%|          | 0/1243 [00:00<?, ?it/s]"
            ]
          },
          "metadata": {},
          "output_type": "display_data"
        },
        {
          "data": {
            "application/vnd.jupyter.widget-view+json": {
              "model_id": "1deaa56052e049a7b1d3de7c666e1ea8",
              "version_major": 2,
              "version_minor": 0
            },
            "text/plain": [
              "validation:   0%|          | 0/156 [00:00<?, ?it/s]"
            ]
          },
          "metadata": {},
          "output_type": "display_data"
        },
        {
          "data": {
            "application/vnd.jupyter.widget-view+json": {
              "model_id": "78202419a8304840933d716214afdfc0",
              "version_major": 2,
              "version_minor": 0
            },
            "text/plain": [
              "train:   0%|          | 0/1243 [00:00<?, ?it/s]"
            ]
          },
          "metadata": {},
          "output_type": "display_data"
        },
        {
          "data": {
            "application/vnd.jupyter.widget-view+json": {
              "model_id": "2e5e4fb4f199442a88281340d7e50c7b",
              "version_major": 2,
              "version_minor": 0
            },
            "text/plain": [
              "validation:   0%|          | 0/156 [00:00<?, ?it/s]"
            ]
          },
          "metadata": {},
          "output_type": "display_data"
        },
        {
          "data": {
            "application/vnd.jupyter.widget-view+json": {
              "model_id": "6d16632f15294b928b5c8824ba4dde99",
              "version_major": 2,
              "version_minor": 0
            },
            "text/plain": [
              "train:   0%|          | 0/1243 [00:00<?, ?it/s]"
            ]
          },
          "metadata": {},
          "output_type": "display_data"
        },
        {
          "data": {
            "application/vnd.jupyter.widget-view+json": {
              "model_id": "1a96ba16f4884af4a2658b0329c087fa",
              "version_major": 2,
              "version_minor": 0
            },
            "text/plain": [
              "validation:   0%|          | 0/156 [00:00<?, ?it/s]"
            ]
          },
          "metadata": {},
          "output_type": "display_data"
        },
        {
          "data": {
            "application/vnd.jupyter.widget-view+json": {
              "model_id": "4537e7d0567345c8a4285d06c38f8d7d",
              "version_major": 2,
              "version_minor": 0
            },
            "text/plain": [
              "train:   0%|          | 0/1243 [00:00<?, ?it/s]"
            ]
          },
          "metadata": {},
          "output_type": "display_data"
        },
        {
          "data": {
            "application/vnd.jupyter.widget-view+json": {
              "model_id": "1d52d7c0043c4ae09f002d1a6c743045",
              "version_major": 2,
              "version_minor": 0
            },
            "text/plain": [
              "validation:   0%|          | 0/156 [00:00<?, ?it/s]"
            ]
          },
          "metadata": {},
          "output_type": "display_data"
        },
        {
          "data": {
            "application/vnd.jupyter.widget-view+json": {
              "model_id": "4f5fecd2148a466b96868237f6c5dc12",
              "version_major": 2,
              "version_minor": 0
            },
            "text/plain": [
              "train:   0%|          | 0/1243 [00:00<?, ?it/s]"
            ]
          },
          "metadata": {},
          "output_type": "display_data"
        },
        {
          "data": {
            "application/vnd.jupyter.widget-view+json": {
              "model_id": "e5dff3bce5b641a8911f4c51f6967768",
              "version_major": 2,
              "version_minor": 0
            },
            "text/plain": [
              "validation:   0%|          | 0/156 [00:00<?, ?it/s]"
            ]
          },
          "metadata": {},
          "output_type": "display_data"
        },
        {
          "data": {
            "application/vnd.jupyter.widget-view+json": {
              "model_id": "480d76a342f945f39ceffb14e66cca9f",
              "version_major": 2,
              "version_minor": 0
            },
            "text/plain": [
              "train:   0%|          | 0/1243 [00:00<?, ?it/s]"
            ]
          },
          "metadata": {},
          "output_type": "display_data"
        },
        {
          "data": {
            "application/vnd.jupyter.widget-view+json": {
              "model_id": "4730285bacbe4657a24515b6482d68ee",
              "version_major": 2,
              "version_minor": 0
            },
            "text/plain": [
              "validation:   0%|          | 0/156 [00:00<?, ?it/s]"
            ]
          },
          "metadata": {},
          "output_type": "display_data"
        },
        {
          "data": {
            "application/vnd.jupyter.widget-view+json": {
              "model_id": "91d688e086c549c58d9ec9454accc12c",
              "version_major": 2,
              "version_minor": 0
            },
            "text/plain": [
              "train:   0%|          | 0/1243 [00:00<?, ?it/s]"
            ]
          },
          "metadata": {},
          "output_type": "display_data"
        },
        {
          "data": {
            "application/vnd.jupyter.widget-view+json": {
              "model_id": "ca3a525b5da042ac9f42cf87a1f1c0b2",
              "version_major": 2,
              "version_minor": 0
            },
            "text/plain": [
              "validation:   0%|          | 0/156 [00:00<?, ?it/s]"
            ]
          },
          "metadata": {},
          "output_type": "display_data"
        },
        {
          "data": {
            "application/vnd.jupyter.widget-view+json": {
              "model_id": "811a044fefc54ad2a311a4101842adfd",
              "version_major": 2,
              "version_minor": 0
            },
            "text/plain": [
              "train:   0%|          | 0/1243 [00:00<?, ?it/s]"
            ]
          },
          "metadata": {},
          "output_type": "display_data"
        },
        {
          "data": {
            "application/vnd.jupyter.widget-view+json": {
              "model_id": "7abfcb3f2ca44b8eb48b3025b515799c",
              "version_major": 2,
              "version_minor": 0
            },
            "text/plain": [
              "validation:   0%|          | 0/156 [00:00<?, ?it/s]"
            ]
          },
          "metadata": {},
          "output_type": "display_data"
        },
        {
          "data": {
            "application/vnd.jupyter.widget-view+json": {
              "model_id": "431f8a969f9449c2a5e9f8590d83264d",
              "version_major": 2,
              "version_minor": 0
            },
            "text/plain": [
              "train:   0%|          | 0/1243 [00:00<?, ?it/s]"
            ]
          },
          "metadata": {},
          "output_type": "display_data"
        },
        {
          "data": {
            "application/vnd.jupyter.widget-view+json": {
              "model_id": "ea548185b8fd47cb89e7b11ce1dacc7c",
              "version_major": 2,
              "version_minor": 0
            },
            "text/plain": [
              "validation:   0%|          | 0/156 [00:00<?, ?it/s]"
            ]
          },
          "metadata": {},
          "output_type": "display_data"
        },
        {
          "data": {
            "application/vnd.jupyter.widget-view+json": {
              "model_id": "ee57193b0cdb46e4bd8f2f4bf0623ab9",
              "version_major": 2,
              "version_minor": 0
            },
            "text/plain": [
              "train:   0%|          | 0/1243 [00:00<?, ?it/s]"
            ]
          },
          "metadata": {},
          "output_type": "display_data"
        },
        {
          "data": {
            "application/vnd.jupyter.widget-view+json": {
              "model_id": "fb6b9b9727d74c79beee17c60c205395",
              "version_major": 2,
              "version_minor": 0
            },
            "text/plain": [
              "validation:   0%|          | 0/156 [00:00<?, ?it/s]"
            ]
          },
          "metadata": {},
          "output_type": "display_data"
        },
        {
          "data": {
            "application/vnd.jupyter.widget-view+json": {
              "model_id": "279d6b34165047f6b3446d88357663f2",
              "version_major": 2,
              "version_minor": 0
            },
            "text/plain": [
              "train:   0%|          | 0/1243 [00:00<?, ?it/s]"
            ]
          },
          "metadata": {},
          "output_type": "display_data"
        },
        {
          "data": {
            "application/vnd.jupyter.widget-view+json": {
              "model_id": "8af63a68940549f581d61d3ccee79844",
              "version_major": 2,
              "version_minor": 0
            },
            "text/plain": [
              "validation:   0%|          | 0/156 [00:00<?, ?it/s]"
            ]
          },
          "metadata": {},
          "output_type": "display_data"
        },
        {
          "data": {
            "application/vnd.jupyter.widget-view+json": {
              "model_id": "3023187857304182b725cf7bb5845fb1",
              "version_major": 2,
              "version_minor": 0
            },
            "text/plain": [
              "train:   0%|          | 0/1243 [00:00<?, ?it/s]"
            ]
          },
          "metadata": {},
          "output_type": "display_data"
        },
        {
          "data": {
            "application/vnd.jupyter.widget-view+json": {
              "model_id": "0ad55c1155a14811b397aed25f9a059c",
              "version_major": 2,
              "version_minor": 0
            },
            "text/plain": [
              "validation:   0%|          | 0/156 [00:00<?, ?it/s]"
            ]
          },
          "metadata": {},
          "output_type": "display_data"
        }
      ],
      "source": [
        "perplexities3, losses3 = train_model(\n",
        "    model_3, criterion, optimizer, scheduler,\n",
        "    train_dataloader, eval_dataloader, epochs=21\n",
        ")"
      ]
    },
    {
      "cell_type": "code",
      "execution_count": null,
      "id": "7e5eb327",
      "metadata": {
        "execution": {
          "iopub.execute_input": "2024-10-29T14:50:43.283006Z",
          "iopub.status.busy": "2024-10-29T14:50:43.282138Z",
          "iopub.status.idle": "2024-10-29T14:50:43.642073Z",
          "shell.execute_reply": "2024-10-29T14:50:43.641123Z"
        },
        "id": "7e5eb327",
        "papermill": {
          "duration": 0.703155,
          "end_time": "2024-10-29T14:50:43.644061",
          "exception": false,
          "start_time": "2024-10-29T14:50:42.940906",
          "status": "completed"
        },
        "tags": [],
        "outputId": "203eda80-dcec-4d38-ce20-ca78f93fcb46"
      },
      "outputs": [
        {
          "data": {
            "image/png": "[encoded data removed]",
            "text/plain": [
              "<Figure size 640x480 with 1 Axes>"
            ]
          },
          "metadata": {},
          "output_type": "display_data"
        }
      ],
      "source": [
        "plt.plot(np.arange(len(losses3)), losses3)\n",
        "plt.title('Losses')\n",
        "plt.xlabel(\"epoch\")\n",
        "plt.show()"
      ]
    },
    {
      "cell_type": "code",
      "execution_count": null,
      "id": "7231748b",
      "metadata": {
        "execution": {
          "iopub.execute_input": "2024-10-29T14:50:44.220223Z",
          "iopub.status.busy": "2024-10-29T14:50:44.219863Z",
          "iopub.status.idle": "2024-10-29T14:50:44.559886Z",
          "shell.execute_reply": "2024-10-29T14:50:44.558995Z"
        },
        "id": "7231748b",
        "papermill": {
          "duration": 0.62911,
          "end_time": "2024-10-29T14:50:44.562134",
          "exception": false,
          "start_time": "2024-10-29T14:50:43.933024",
          "status": "completed"
        },
        "tags": [],
        "outputId": "214feae3-cf55-4d2c-d492-03ece84af42b"
      },
      "outputs": [
        {
          "data": {
            "image/png": "[encoded data removed]",
            "text/plain": [
              "<Figure size 640x480 with 1 Axes>"
            ]
          },
          "metadata": {},
          "output_type": "display_data"
        }
      ],
      "source": [
        "plt.plot(np.arange(len(perplexities3)), perplexities3)\n",
        "plt.title('Perplexity')\n",
        "plt.xlabel(\"epoch\")\n",
        "plt.show()"
      ]
    },
    {
      "cell_type": "markdown",
      "id": "35fe851b",
      "metadata": {
        "id": "35fe851b",
        "papermill": {
          "duration": 0.285728,
          "end_time": "2024-10-29T14:50:45.136113",
          "exception": false,
          "start_time": "2024-10-29T14:50:44.850385",
          "status": "completed"
        },
        "tags": []
      },
      "source": [
        "### Эксперимент 4. Baseline модель model_4. LSTM (Linear Layer number change)"
      ]
    },
    {
      "cell_type": "markdown",
      "id": "e87ce957",
      "metadata": {
        "id": "e87ce957",
        "papermill": {
          "duration": 0.284733,
          "end_time": "2024-10-29T14:50:45.714115",
          "exception": false,
          "start_time": "2024-10-29T14:50:45.429382",
          "status": "completed"
        },
        "tags": []
      },
      "source": [
        "Увеличим количество линейных слоев после LSTM"
      ]
    },
    {
      "cell_type": "code",
      "execution_count": null,
      "id": "7d0ae540",
      "metadata": {
        "execution": {
          "iopub.execute_input": "2024-10-29T14:50:46.285740Z",
          "iopub.status.busy": "2024-10-29T14:50:46.284985Z",
          "iopub.status.idle": "2024-10-29T14:50:46.293396Z",
          "shell.execute_reply": "2024-10-29T14:50:46.292507Z"
        },
        "id": "7d0ae540",
        "papermill": {
          "duration": 0.295524,
          "end_time": "2024-10-29T14:50:46.295277",
          "exception": false,
          "start_time": "2024-10-29T14:50:45.999753",
          "status": "completed"
        },
        "tags": []
      },
      "outputs": [],
      "source": [
        "class LanguageModel_4(nn.Module):\n",
        "    def __init__(self, hidden_dim, vocab_size):\n",
        "        super().__init__()\n",
        "        self.embedding = nn.Embedding(vocab_size, hidden_dim)\n",
        "        self.lstm = nn.LSTM(hidden_dim, hidden_dim, batch_first=True)\n",
        "        self.linear_up = nn.Linear(hidden_dim, 2 * hidden_dim)\n",
        "        self.linear_down = nn.Linear(2 * hidden_dim, hidden_dim)\n",
        "        self.projection = nn.Linear(hidden_dim, vocab_size)\n",
        "\n",
        "        self.non_linear = nn.Tanh()\n",
        "        self.dropout = nn.Dropout(0.2)\n",
        "\n",
        "    def forward(self, input_batch: torch.Tensor) -> torch.Tensor:\n",
        "        embeddings = self.embedding(input_batch)\n",
        "        output, _ = self.lstm(embeddings)\n",
        "        output = self.dropout(self.non_linear(self.linear_up(output)))\n",
        "        output = self.dropout(self.non_linear(self.linear_down(output)))\n",
        "        prediction = self.projection(output)\n",
        "\n",
        "        return prediction"
      ]
    },
    {
      "cell_type": "code",
      "execution_count": null,
      "id": "2db44b69",
      "metadata": {
        "execution": {
          "iopub.execute_input": "2024-10-29T14:50:46.873564Z",
          "iopub.status.busy": "2024-10-29T14:50:46.872902Z",
          "iopub.status.idle": "2024-10-29T14:50:47.090691Z",
          "shell.execute_reply": "2024-10-29T14:50:47.089885Z"
        },
        "id": "2db44b69",
        "papermill": {
          "duration": 0.508748,
          "end_time": "2024-10-29T14:50:47.093011",
          "exception": false,
          "start_time": "2024-10-29T14:50:46.584263",
          "status": "completed"
        },
        "tags": []
      },
      "outputs": [],
      "source": [
        "model_4 = LanguageModel_4(256, len(vocab)).to(device)\n",
        "criterion = nn.CrossEntropyLoss(ignore_index=word2ind['<pad>'])\n",
        "optimizer = torch.optim.Adam(model_4.parameters(), lr=0.0001)\n",
        "scheduler = StepLR(optimizer, step_size=1, gamma=0.8)"
      ]
    },
    {
      "cell_type": "code",
      "execution_count": null,
      "id": "4a613363",
      "metadata": {
        "execution": {
          "iopub.execute_input": "2024-10-29T14:50:47.715898Z",
          "iopub.status.busy": "2024-10-29T14:50:47.715130Z",
          "iopub.status.idle": "2024-10-29T15:27:52.557745Z",
          "shell.execute_reply": "2024-10-29T15:27:52.556791Z"
        },
        "id": "4a613363",
        "papermill": {
          "duration": 2225.181404,
          "end_time": "2024-10-29T15:27:52.559907",
          "exception": false,
          "start_time": "2024-10-29T14:50:47.378503",
          "status": "completed"
        },
        "tags": [],
        "colab": {
          "referenced_widgets": [
            "9b38eb529210476a8b8a207d7166b88f",
            "1415496ba0e04e9e9765e85036639596",
            "7937d511e5d240b9bc4a3e8d846b0519",
            "98bafcb20ec1448fbf46db419a1ce79f",
            "e0e8a198dd024aee8a1b5002ed804498",
            "f2b8f37962bb47a98775671d4855bd69",
            "212bbde93e624ab380886bc7a22a029b",
            "72b74ae7bc7745479208cd579b4936ff",
            "865c51d060474418b31f5e286534ad45",
            "c361e6dace2a4283be8e8fa70c753752",
            "512ffca3bdf949ce88facdf62e4db4d0",
            "c2675467350b4bcf999fb670ce7d38e4",
            "eee2f2ee12d1454bbce2c71d336ac71e",
            "1909c97285ca45008e6dede210d9cb50",
            "719043d2dcb849009f738790d0dd093b",
            "a66e62f50cc9473097778a9f9b413f15",
            "131e2b3586e84ba5a8b1201f2ca14003",
            "1098fd26a3384fbb83d1ea2469e9c2de",
            "54f2788b6ec64d1da5aa0585da967f91",
            "0507d993ead84ffab99f6337cb5e5123",
            "24494823156e44d8955d142ab523f466",
            "fa867fbdbe914b849b2af1cf7cd6de41",
            "0934e2ab34bc4f38b385b312742f7301",
            "7656f530a87d4a91b691c4b754f19c97",
            "3413a3a0d2c740dfb4f277868c6d0c41",
            "99fdae68dc0b4fa4ad17763cda0b026d",
            "33d653df460c45a9ad282b06849b7903",
            "89764096a3b04cb888030e27c1e65f4e",
            "261361890b7646de995cb009186811f8",
            "fd8ee836ee6f4e8a8e0117faf82bf1e0",
            "7ff18a997977496193d46339df7a156c",
            "42f7d2236fef4afaaac90a87398967cf",
            "1fc997f2edae4d8895deb506e46320fd",
            "a7d1a55c1b7f4140807bba759f850caf",
            "69a608f562354e128ada00f6cef2638b",
            "87268dc6d852445bb54e4d471bbc482f",
            "bf55cac3708549ba9b42e496541f5bd7",
            "959fe8a8179b422fa6392246b62bff09",
            "efea469a35094ba6a2b96d885f2545b2",
            "2240d6b6a6cd421f852a4be002f0093a",
            "a52debd8423a4bd9b4a9c902c2820319",
            "031892a6e2354aac9c4029e28541927c",
            "7a1f40d2969047a681631240d61df7d2"
          ]
        },
        "outputId": "d9edcb79-40be-47d2-a7d8-9ddf76553429"
      },
      "outputs": [
        {
          "data": {
            "application/vnd.jupyter.widget-view+json": {
              "model_id": "9b38eb529210476a8b8a207d7166b88f",
              "version_major": 2,
              "version_minor": 0
            },
            "text/plain": [
              "epoch:   0%|          | 0/21 [00:00<?, ?it/s]"
            ]
          },
          "metadata": {},
          "output_type": "display_data"
        },
        {
          "data": {
            "application/vnd.jupyter.widget-view+json": {
              "model_id": "1415496ba0e04e9e9765e85036639596",
              "version_major": 2,
              "version_minor": 0
            },
            "text/plain": [
              "train:   0%|          | 0/1243 [00:00<?, ?it/s]"
            ]
          },
          "metadata": {},
          "output_type": "display_data"
        },
        {
          "data": {
            "application/vnd.jupyter.widget-view+json": {
              "model_id": "7937d511e5d240b9bc4a3e8d846b0519",
              "version_major": 2,
              "version_minor": 0
            },
            "text/plain": [
              "validation:   0%|          | 0/156 [00:00<?, ?it/s]"
            ]
          },
          "metadata": {},
          "output_type": "display_data"
        },
        {
          "data": {
            "application/vnd.jupyter.widget-view+json": {
              "model_id": "98bafcb20ec1448fbf46db419a1ce79f",
              "version_major": 2,
              "version_minor": 0
            },
            "text/plain": [
              "train:   0%|          | 0/1243 [00:00<?, ?it/s]"
            ]
          },
          "metadata": {},
          "output_type": "display_data"
        },
        {
          "data": {
            "application/vnd.jupyter.widget-view+json": {
              "model_id": "e0e8a198dd024aee8a1b5002ed804498",
              "version_major": 2,
              "version_minor": 0
            },
            "text/plain": [
              "validation:   0%|          | 0/156 [00:00<?, ?it/s]"
            ]
          },
          "metadata": {},
          "output_type": "display_data"
        },
        {
          "data": {
            "application/vnd.jupyter.widget-view+json": {
              "model_id": "f2b8f37962bb47a98775671d4855bd69",
              "version_major": 2,
              "version_minor": 0
            },
            "text/plain": [
              "train:   0%|          | 0/1243 [00:00<?, ?it/s]"
            ]
          },
          "metadata": {},
          "output_type": "display_data"
        },
        {
          "data": {
            "application/vnd.jupyter.widget-view+json": {
              "model_id": "212bbde93e624ab380886bc7a22a029b",
              "version_major": 2,
              "version_minor": 0
            },
            "text/plain": [
              "validation:   0%|          | 0/156 [00:00<?, ?it/s]"
            ]
          },
          "metadata": {},
          "output_type": "display_data"
        },
        {
          "data": {
            "application/vnd.jupyter.widget-view+json": {
              "model_id": "72b74ae7bc7745479208cd579b4936ff",
              "version_major": 2,
              "version_minor": 0
            },
            "text/plain": [
              "train:   0%|          | 0/1243 [00:00<?, ?it/s]"
            ]
          },
          "metadata": {},
          "output_type": "display_data"
        },
        {
          "data": {
            "application/vnd.jupyter.widget-view+json": {
              "model_id": "865c51d060474418b31f5e286534ad45",
              "version_major": 2,
              "version_minor": 0
            },
            "text/plain": [
              "validation:   0%|          | 0/156 [00:00<?, ?it/s]"
            ]
          },
          "metadata": {},
          "output_type": "display_data"
        },
        {
          "data": {
            "application/vnd.jupyter.widget-view+json": {
              "model_id": "c361e6dace2a4283be8e8fa70c753752",
              "version_major": 2,
              "version_minor": 0
            },
            "text/plain": [
              "train:   0%|          | 0/1243 [00:00<?, ?it/s]"
            ]
          },
          "metadata": {},
          "output_type": "display_data"
        },
        {
          "data": {
            "application/vnd.jupyter.widget-view+json": {
              "model_id": "512ffca3bdf949ce88facdf62e4db4d0",
              "version_major": 2,
              "version_minor": 0
            },
            "text/plain": [
              "validation:   0%|          | 0/156 [00:00<?, ?it/s]"
            ]
          },
          "metadata": {},
          "output_type": "display_data"
        },
        {
          "data": {
            "application/vnd.jupyter.widget-view+json": {
              "model_id": "c2675467350b4bcf999fb670ce7d38e4",
              "version_major": 2,
              "version_minor": 0
            },
            "text/plain": [
              "train:   0%|          | 0/1243 [00:00<?, ?it/s]"
            ]
          },
          "metadata": {},
          "output_type": "display_data"
        },
        {
          "data": {
            "application/vnd.jupyter.widget-view+json": {
              "model_id": "eee2f2ee12d1454bbce2c71d336ac71e",
              "version_major": 2,
              "version_minor": 0
            },
            "text/plain": [
              "validation:   0%|          | 0/156 [00:00<?, ?it/s]"
            ]
          },
          "metadata": {},
          "output_type": "display_data"
        },
        {
          "data": {
            "application/vnd.jupyter.widget-view+json": {
              "model_id": "1909c97285ca45008e6dede210d9cb50",
              "version_major": 2,
              "version_minor": 0
            },
            "text/plain": [
              "train:   0%|          | 0/1243 [00:00<?, ?it/s]"
            ]
          },
          "metadata": {},
          "output_type": "display_data"
        },
        {
          "data": {
            "application/vnd.jupyter.widget-view+json": {
              "model_id": "719043d2dcb849009f738790d0dd093b",
              "version_major": 2,
              "version_minor": 0
            },
            "text/plain": [
              "validation:   0%|          | 0/156 [00:00<?, ?it/s]"
            ]
          },
          "metadata": {},
          "output_type": "display_data"
        },
        {
          "data": {
            "application/vnd.jupyter.widget-view+json": {
              "model_id": "a66e62f50cc9473097778a9f9b413f15",
              "version_major": 2,
              "version_minor": 0
            },
            "text/plain": [
              "train:   0%|          | 0/1243 [00:00<?, ?it/s]"
            ]
          },
          "metadata": {},
          "output_type": "display_data"
        },
        {
          "data": {
            "application/vnd.jupyter.widget-view+json": {
              "model_id": "131e2b3586e84ba5a8b1201f2ca14003",
              "version_major": 2,
              "version_minor": 0
            },
            "text/plain": [
              "validation:   0%|          | 0/156 [00:00<?, ?it/s]"
            ]
          },
          "metadata": {},
          "output_type": "display_data"
        },
        {
          "data": {
            "application/vnd.jupyter.widget-view+json": {
              "model_id": "1098fd26a3384fbb83d1ea2469e9c2de",
              "version_major": 2,
              "version_minor": 0
            },
            "text/plain": [
              "train:   0%|          | 0/1243 [00:00<?, ?it/s]"
            ]
          },
          "metadata": {},
          "output_type": "display_data"
        },
        {
          "data": {
            "application/vnd.jupyter.widget-view+json": {
              "model_id": "54f2788b6ec64d1da5aa0585da967f91",
              "version_major": 2,
              "version_minor": 0
            },
            "text/plain": [
              "validation:   0%|          | 0/156 [00:00<?, ?it/s]"
            ]
          },
          "metadata": {},
          "output_type": "display_data"
        },
        {
          "data": {
            "application/vnd.jupyter.widget-view+json": {
              "model_id": "0507d993ead84ffab99f6337cb5e5123",
              "version_major": 2,
              "version_minor": 0
            },
            "text/plain": [
              "train:   0%|          | 0/1243 [00:00<?, ?it/s]"
            ]
          },
          "metadata": {},
          "output_type": "display_data"
        },
        {
          "data": {
            "application/vnd.jupyter.widget-view+json": {
              "model_id": "24494823156e44d8955d142ab523f466",
              "version_major": 2,
              "version_minor": 0
            },
            "text/plain": [
              "validation:   0%|          | 0/156 [00:00<?, ?it/s]"
            ]
          },
          "metadata": {},
          "output_type": "display_data"
        },
        {
          "data": {
            "application/vnd.jupyter.widget-view+json": {
              "model_id": "fa867fbdbe914b849b2af1cf7cd6de41",
              "version_major": 2,
              "version_minor": 0
            },
            "text/plain": [
              "train:   0%|          | 0/1243 [00:00<?, ?it/s]"
            ]
          },
          "metadata": {},
          "output_type": "display_data"
        },
        {
          "data": {
            "application/vnd.jupyter.widget-view+json": {
              "model_id": "0934e2ab34bc4f38b385b312742f7301",
              "version_major": 2,
              "version_minor": 0
            },
            "text/plain": [
              "validation:   0%|          | 0/156 [00:00<?, ?it/s]"
            ]
          },
          "metadata": {},
          "output_type": "display_data"
        },
        {
          "data": {
            "application/vnd.jupyter.widget-view+json": {
              "model_id": "7656f530a87d4a91b691c4b754f19c97",
              "version_major": 2,
              "version_minor": 0
            },
            "text/plain": [
              "train:   0%|          | 0/1243 [00:00<?, ?it/s]"
            ]
          },
          "metadata": {},
          "output_type": "display_data"
        },
        {
          "data": {
            "application/vnd.jupyter.widget-view+json": {
              "model_id": "3413a3a0d2c740dfb4f277868c6d0c41",
              "version_major": 2,
              "version_minor": 0
            },
            "text/plain": [
              "validation:   0%|          | 0/156 [00:00<?, ?it/s]"
            ]
          },
          "metadata": {},
          "output_type": "display_data"
        },
        {
          "data": {
            "application/vnd.jupyter.widget-view+json": {
              "model_id": "99fdae68dc0b4fa4ad17763cda0b026d",
              "version_major": 2,
              "version_minor": 0
            },
            "text/plain": [
              "train:   0%|          | 0/1243 [00:00<?, ?it/s]"
            ]
          },
          "metadata": {},
          "output_type": "display_data"
        },
        {
          "data": {
            "application/vnd.jupyter.widget-view+json": {
              "model_id": "33d653df460c45a9ad282b06849b7903",
              "version_major": 2,
              "version_minor": 0
            },
            "text/plain": [
              "validation:   0%|          | 0/156 [00:00<?, ?it/s]"
            ]
          },
          "metadata": {},
          "output_type": "display_data"
        },
        {
          "data": {
            "application/vnd.jupyter.widget-view+json": {
              "model_id": "89764096a3b04cb888030e27c1e65f4e",
              "version_major": 2,
              "version_minor": 0
            },
            "text/plain": [
              "train:   0%|          | 0/1243 [00:00<?, ?it/s]"
            ]
          },
          "metadata": {},
          "output_type": "display_data"
        },
        {
          "data": {
            "application/vnd.jupyter.widget-view+json": {
              "model_id": "261361890b7646de995cb009186811f8",
              "version_major": 2,
              "version_minor": 0
            },
            "text/plain": [
              "validation:   0%|          | 0/156 [00:00<?, ?it/s]"
            ]
          },
          "metadata": {},
          "output_type": "display_data"
        },
        {
          "data": {
            "application/vnd.jupyter.widget-view+json": {
              "model_id": "fd8ee836ee6f4e8a8e0117faf82bf1e0",
              "version_major": 2,
              "version_minor": 0
            },
            "text/plain": [
              "train:   0%|          | 0/1243 [00:00<?, ?it/s]"
            ]
          },
          "metadata": {},
          "output_type": "display_data"
        },
        {
          "data": {
            "application/vnd.jupyter.widget-view+json": {
              "model_id": "7ff18a997977496193d46339df7a156c",
              "version_major": 2,
              "version_minor": 0
            },
            "text/plain": [
              "validation:   0%|          | 0/156 [00:00<?, ?it/s]"
            ]
          },
          "metadata": {},
          "output_type": "display_data"
        },
        {
          "data": {
            "application/vnd.jupyter.widget-view+json": {
              "model_id": "42f7d2236fef4afaaac90a87398967cf",
              "version_major": 2,
              "version_minor": 0
            },
            "text/plain": [
              "train:   0%|          | 0/1243 [00:00<?, ?it/s]"
            ]
          },
          "metadata": {},
          "output_type": "display_data"
        },
        {
          "data": {
            "application/vnd.jupyter.widget-view+json": {
              "model_id": "1fc997f2edae4d8895deb506e46320fd",
              "version_major": 2,
              "version_minor": 0
            },
            "text/plain": [
              "validation:   0%|          | 0/156 [00:00<?, ?it/s]"
            ]
          },
          "metadata": {},
          "output_type": "display_data"
        },
        {
          "data": {
            "application/vnd.jupyter.widget-view+json": {
              "model_id": "a7d1a55c1b7f4140807bba759f850caf",
              "version_major": 2,
              "version_minor": 0
            },
            "text/plain": [
              "train:   0%|          | 0/1243 [00:00<?, ?it/s]"
            ]
          },
          "metadata": {},
          "output_type": "display_data"
        },
        {
          "data": {
            "application/vnd.jupyter.widget-view+json": {
              "model_id": "69a608f562354e128ada00f6cef2638b",
              "version_major": 2,
              "version_minor": 0
            },
            "text/plain": [
              "validation:   0%|          | 0/156 [00:00<?, ?it/s]"
            ]
          },
          "metadata": {},
          "output_type": "display_data"
        },
        {
          "data": {
            "application/vnd.jupyter.widget-view+json": {
              "model_id": "87268dc6d852445bb54e4d471bbc482f",
              "version_major": 2,
              "version_minor": 0
            },
            "text/plain": [
              "train:   0%|          | 0/1243 [00:00<?, ?it/s]"
            ]
          },
          "metadata": {},
          "output_type": "display_data"
        },
        {
          "data": {
            "application/vnd.jupyter.widget-view+json": {
              "model_id": "bf55cac3708549ba9b42e496541f5bd7",
              "version_major": 2,
              "version_minor": 0
            },
            "text/plain": [
              "validation:   0%|          | 0/156 [00:00<?, ?it/s]"
            ]
          },
          "metadata": {},
          "output_type": "display_data"
        },
        {
          "data": {
            "application/vnd.jupyter.widget-view+json": {
              "model_id": "959fe8a8179b422fa6392246b62bff09",
              "version_major": 2,
              "version_minor": 0
            },
            "text/plain": [
              "train:   0%|          | 0/1243 [00:00<?, ?it/s]"
            ]
          },
          "metadata": {},
          "output_type": "display_data"
        },
        {
          "data": {
            "application/vnd.jupyter.widget-view+json": {
              "model_id": "efea469a35094ba6a2b96d885f2545b2",
              "version_major": 2,
              "version_minor": 0
            },
            "text/plain": [
              "validation:   0%|          | 0/156 [00:00<?, ?it/s]"
            ]
          },
          "metadata": {},
          "output_type": "display_data"
        },
        {
          "data": {
            "application/vnd.jupyter.widget-view+json": {
              "model_id": "2240d6b6a6cd421f852a4be002f0093a",
              "version_major": 2,
              "version_minor": 0
            },
            "text/plain": [
              "train:   0%|          | 0/1243 [00:00<?, ?it/s]"
            ]
          },
          "metadata": {},
          "output_type": "display_data"
        },
        {
          "data": {
            "application/vnd.jupyter.widget-view+json": {
              "model_id": "a52debd8423a4bd9b4a9c902c2820319",
              "version_major": 2,
              "version_minor": 0
            },
            "text/plain": [
              "validation:   0%|          | 0/156 [00:00<?, ?it/s]"
            ]
          },
          "metadata": {},
          "output_type": "display_data"
        },
        {
          "data": {
            "application/vnd.jupyter.widget-view+json": {
              "model_id": "031892a6e2354aac9c4029e28541927c",
              "version_major": 2,
              "version_minor": 0
            },
            "text/plain": [
              "train:   0%|          | 0/1243 [00:00<?, ?it/s]"
            ]
          },
          "metadata": {},
          "output_type": "display_data"
        },
        {
          "data": {
            "application/vnd.jupyter.widget-view+json": {
              "model_id": "7a1f40d2969047a681631240d61df7d2",
              "version_major": 2,
              "version_minor": 0
            },
            "text/plain": [
              "validation:   0%|          | 0/156 [00:00<?, ?it/s]"
            ]
          },
          "metadata": {},
          "output_type": "display_data"
        }
      ],
      "source": [
        "perplexities4, losses4 = train_model(\n",
        "    model_4, criterion, optimizer,\n",
        "    scheduler, train_dataloader, eval_dataloader, epochs=21\n",
        ")"
      ]
    },
    {
      "cell_type": "code",
      "execution_count": null,
      "id": "33abd178",
      "metadata": {
        "execution": {
          "iopub.execute_input": "2024-10-29T15:27:53.165485Z",
          "iopub.status.busy": "2024-10-29T15:27:53.165051Z",
          "iopub.status.idle": "2024-10-29T15:27:53.465792Z",
          "shell.execute_reply": "2024-10-29T15:27:53.464904Z"
        },
        "id": "33abd178",
        "papermill": {
          "duration": 0.617464,
          "end_time": "2024-10-29T15:27:53.468029",
          "exception": false,
          "start_time": "2024-10-29T15:27:52.850565",
          "status": "completed"
        },
        "tags": [],
        "outputId": "2239a494-ec01-446b-b70f-5664804968ca"
      },
      "outputs": [
        {
          "data": {
            "image/png": "[encoded data removed]",
            "text/plain": [
              "<Figure size 640x480 with 1 Axes>"
            ]
          },
          "metadata": {},
          "output_type": "display_data"
        }
      ],
      "source": [
        "plt.plot(np.arange(len(losses4)), losses4)\n",
        "plt.title('Losses')\n",
        "plt.xlabel(\"epoch\")\n",
        "plt.show()"
      ]
    },
    {
      "cell_type": "code",
      "execution_count": null,
      "id": "c6dad70c",
      "metadata": {
        "execution": {
          "iopub.execute_input": "2024-10-29T15:27:54.096007Z",
          "iopub.status.busy": "2024-10-29T15:27:54.095636Z",
          "iopub.status.idle": "2024-10-29T15:27:54.384245Z",
          "shell.execute_reply": "2024-10-29T15:27:54.383326Z"
        },
        "id": "c6dad70c",
        "papermill": {
          "duration": 0.604,
          "end_time": "2024-10-29T15:27:54.386516",
          "exception": false,
          "start_time": "2024-10-29T15:27:53.782516",
          "status": "completed"
        },
        "tags": [],
        "outputId": "e81c7f63-3997-46bb-c67a-71aa8069ed58"
      },
      "outputs": [
        {
          "data": {
            "image/png": "[encoded data removed]",
            "text/plain": [
              "<Figure size 640x480 with 1 Axes>"
            ]
          },
          "metadata": {},
          "output_type": "display_data"
        }
      ],
      "source": [
        "plt.plot(np.arange(len(perplexities4)), perplexities4)\n",
        "plt.title('Perplexity')\n",
        "plt.xlabel(\"epoch\")\n",
        "plt.show()"
      ]
    },
    {
      "cell_type": "code",
      "execution_count": null,
      "id": "bee79cc0",
      "metadata": {
        "execution": {
          "iopub.execute_input": "2024-10-29T15:27:55.022447Z",
          "iopub.status.busy": "2024-10-29T15:27:55.022071Z",
          "iopub.status.idle": "2024-10-29T15:27:55.035433Z",
          "shell.execute_reply": "2024-10-29T15:27:55.034544Z"
        },
        "id": "bee79cc0",
        "papermill": {
          "duration": 0.356495,
          "end_time": "2024-10-29T15:27:55.037280",
          "exception": false,
          "start_time": "2024-10-29T15:27:54.680785",
          "status": "completed"
        },
        "tags": []
      },
      "outputs": [],
      "source": [
        "result_df = pd.DataFrame({\"model\": range(4), \"min perplexity\": [min(perp) for perp in [perplexities, perplexities2,\n",
        "                                                                                       perplexities3, perplexities4]]}\n",
        "                        )"
      ]
    },
    {
      "cell_type": "code",
      "execution_count": null,
      "id": "1cf1e8b3",
      "metadata": {
        "execution": {
          "iopub.execute_input": "2024-10-29T15:27:55.640785Z",
          "iopub.status.busy": "2024-10-29T15:27:55.640389Z",
          "iopub.status.idle": "2024-10-29T15:27:55.672037Z",
          "shell.execute_reply": "2024-10-29T15:27:55.671149Z"
        },
        "id": "1cf1e8b3",
        "papermill": {
          "duration": 0.333605,
          "end_time": "2024-10-29T15:27:55.673929",
          "exception": false,
          "start_time": "2024-10-29T15:27:55.340324",
          "status": "completed"
        },
        "tags": [],
        "outputId": "b78f9e25-cdce-4158-885e-a618f34ea2b8"
      },
      "outputs": [
        {
          "data": {
            "text/html": [
              "<div>\n",
              "<style scoped>\n",
              "    .dataframe tbody tr th:only-of-type {\n",
              "        vertical-align: middle;\n",
              "    }\n",
              "\n",
              "    .dataframe tbody tr th {\n",
              "        vertical-align: top;\n",
              "    }\n",
              "\n",
              "    .dataframe thead th {\n",
              "        text-align: right;\n",
              "    }\n",
              "</style>\n",
              "<table border=\"1\" class=\"dataframe\">\n",
              "  <thead>\n",
              "    <tr style=\"text-align: right;\">\n",
              "      <th></th>\n",
              "      <th>model</th>\n",
              "      <th>min perplexity</th>\n",
              "    </tr>\n",
              "  </thead>\n",
              "  <tbody>\n",
              "    <tr>\n",
              "      <th>0</th>\n",
              "      <td>0</td>\n",
              "      <td>304.676831</td>\n",
              "    </tr>\n",
              "    <tr>\n",
              "      <th>1</th>\n",
              "      <td>1</td>\n",
              "      <td>178.148457</td>\n",
              "    </tr>\n",
              "    <tr>\n",
              "      <th>2</th>\n",
              "      <td>2</td>\n",
              "      <td>445.277199</td>\n",
              "    </tr>\n",
              "    <tr>\n",
              "      <th>3</th>\n",
              "      <td>3</td>\n",
              "      <td>260.642307</td>\n",
              "    </tr>\n",
              "  </tbody>\n",
              "</table>\n",
              "</div>"
            ],
            "text/plain": [
              "   model  min perplexity\n",
              "0      0      304.676831\n",
              "1      1      178.148457\n",
              "2      2      445.277199\n",
              "3      3      260.642307"
            ]
          },
          "execution_count": 38,
          "metadata": {},
          "output_type": "execute_result"
        }
      ],
      "source": [
        "result_df"
      ]
    },
    {
      "cell_type": "code",
      "execution_count": null,
      "id": "059d02e6",
      "metadata": {
        "execution": {
          "iopub.execute_input": "2024-10-29T15:27:56.266108Z",
          "iopub.status.busy": "2024-10-29T15:27:56.265743Z",
          "iopub.status.idle": "2024-10-29T15:27:56.274226Z",
          "shell.execute_reply": "2024-10-29T15:27:56.273339Z"
        },
        "id": "059d02e6",
        "papermill": {
          "duration": 0.308487,
          "end_time": "2024-10-29T15:27:56.276024",
          "exception": false,
          "start_time": "2024-10-29T15:27:55.967537",
          "status": "completed"
        },
        "tags": []
      },
      "outputs": [],
      "source": [
        "def generate_sequence(model, starting_seq: str, max_seq_len: int = 128) -> str:\n",
        "    \"\"\"\n",
        "    Реализует метод жадного выбора следующего токена\n",
        "    \"\"\"\n",
        "\n",
        "    # обработка строки starting_seq - приведение к нижнему регистру, удаление знаков препинания\n",
        "    processed_starting_seq = starting_seq.lower().translate(str.maketrans('', '', string.punctuation))\n",
        "    device = \"cpu\"\n",
        "    model.eval()\n",
        "    model = model.to(device)\n",
        "    input_ids = [word2ind[\"<bos>\"]] + [word2ind.get(word, word2ind[\"<unk>\"]) for word in word_tokenize(processed_starting_seq)]\n",
        "    input_ids = torch.LongTensor(input_ids).to(device)\n",
        "\n",
        "    with torch.no_grad():\n",
        "        for i in range(max_seq_len):\n",
        "        # Получает распределение вероятностей для следующего слова от модели:\n",
        "            next_word_dist = model(input_ids)[-1]\n",
        "            next_word = next_word_dist.argmax()\n",
        "            input_ids = torch.cat([input_ids, next_word.unsqueeze(0)])\n",
        "\n",
        "            if next_word.item() == word2ind[\"<eos>\"]:\n",
        "                break\n",
        "\n",
        "    return ' '.join([ind2word.get(idx) for idx in input_ids.numpy()])"
      ]
    },
    {
      "cell_type": "code",
      "execution_count": null,
      "id": "6a96cd3d",
      "metadata": {
        "execution": {
          "iopub.execute_input": "2024-10-29T15:27:56.864942Z",
          "iopub.status.busy": "2024-10-29T15:27:56.864112Z",
          "iopub.status.idle": "2024-10-29T15:27:56.869352Z",
          "shell.execute_reply": "2024-10-29T15:27:56.868519Z"
        },
        "id": "6a96cd3d",
        "papermill": {
          "duration": 0.302491,
          "end_time": "2024-10-29T15:27:56.871220",
          "exception": false,
          "start_time": "2024-10-29T15:27:56.568729",
          "status": "completed"
        },
        "tags": []
      },
      "outputs": [],
      "source": [
        "def generate_sequence_for_each_model(starting_seq):\n",
        "    print(f\"Первые слова: {starting_seq}\")\n",
        "    for i, language_model in enumerate([model, model_2, model_3, model_4], 1):\n",
        "        print(f\"Результат генерации моделью {i}: {generate_sequence(language_model, starting_seq)}\")"
      ]
    },
    {
      "cell_type": "code",
      "execution_count": null,
      "id": "59b42fc6",
      "metadata": {
        "execution": {
          "iopub.execute_input": "2024-10-29T15:27:57.465793Z",
          "iopub.status.busy": "2024-10-29T15:27:57.465143Z",
          "iopub.status.idle": "2024-10-29T15:27:58.706226Z",
          "shell.execute_reply": "2024-10-29T15:27:58.705272Z"
        },
        "id": "59b42fc6",
        "papermill": {
          "duration": 1.539773,
          "end_time": "2024-10-29T15:27:58.708663",
          "exception": false,
          "start_time": "2024-10-29T15:27:57.168890",
          "status": "completed"
        },
        "tags": [],
        "outputId": "d7d1dc15-f154-4888-d38c-01c58b8cb318"
      },
      "outputs": [
        {
          "name": "stdout",
          "output_type": "stream",
          "text": [
            "Первые слова: The movie was \n",
            "Результат генерации моделью 1: <bos> the movie was a good movie <eos>\n",
            "Результат генерации моделью 2: <bos> the movie was a bit more interesting and the acting was very good <eos>\n",
            "Результат генерации моделью 3: <bos> the movie was a <unk> br the movie is a <unk> <eos>\n",
            "Результат генерации моделью 4: <bos> the movie was a good movie <eos>\n"
          ]
        }
      ],
      "source": [
        "\n",
        "generate_sequence_for_each_model(\"The movie was \")"
      ]
    },
    {
      "cell_type": "code",
      "execution_count": null,
      "id": "ef0dd00f",
      "metadata": {
        "execution": {
          "iopub.execute_input": "2024-10-29T15:27:59.941865Z",
          "iopub.status.busy": "2024-10-29T15:27:59.941178Z",
          "iopub.status.idle": "2024-10-29T15:28:00.292707Z",
          "shell.execute_reply": "2024-10-29T15:28:00.291712Z"
        },
        "id": "ef0dd00f",
        "papermill": {
          "duration": 0.649666,
          "end_time": "2024-10-29T15:28:00.295007",
          "exception": false,
          "start_time": "2024-10-29T15:27:59.645341",
          "status": "completed"
        },
        "tags": [],
        "outputId": "fde99a73-4598-4cbf-9a46-36c7e5218c87"
      },
      "outputs": [
        {
          "name": "stdout",
          "output_type": "stream",
          "text": [
            "Первые слова: We want\n",
            "Результат генерации моделью 1: <bos> we want to be a good movie <eos>\n",
            "Результат генерации моделью 2: <bos> we want to see a movie that is a <unk> <eos>\n",
            "Результат генерации моделью 3: <bos> we want to be a <unk> <eos>\n",
            "Результат генерации моделью 4: <bos> we want to see the movie <eos>\n"
          ]
        }
      ],
      "source": [
        "generate_sequence_for_each_model(\"We want\")"
      ]
    },
    {
      "cell_type": "code",
      "execution_count": null,
      "id": "93e54d55",
      "metadata": {
        "execution": {
          "iopub.execute_input": "2024-10-29T15:28:01.507724Z",
          "iopub.status.busy": "2024-10-29T15:28:01.507232Z",
          "iopub.status.idle": "2024-10-29T15:28:01.952670Z",
          "shell.execute_reply": "2024-10-29T15:28:01.951713Z"
        },
        "id": "93e54d55",
        "papermill": {
          "duration": 0.768371,
          "end_time": "2024-10-29T15:28:01.954878",
          "exception": false,
          "start_time": "2024-10-29T15:28:01.186507",
          "status": "completed"
        },
        "tags": [],
        "outputId": "64e3b8c8-c54c-400e-dbba-8a00684ef9d6"
      },
      "outputs": [
        {
          "name": "stdout",
          "output_type": "stream",
          "text": [
            "Первые слова: The best actress\n",
            "Результат генерации моделью 1: <bos> the best actress is a good movie <eos>\n",
            "Результат генерации моделью 2: <bos> the best actress in the film is the best of the film <eos>\n",
            "Результат генерации моделью 3: <bos> the best actress of the movie is a <unk> <eos>\n",
            "Результат генерации моделью 4: <bos> the best actress is a lot of the movie <eos>\n"
          ]
        }
      ],
      "source": [
        "generate_sequence_for_each_model(\"The best actress\")"
      ]
    },
    {
      "cell_type": "code",
      "execution_count": null,
      "id": "574a6db1",
      "metadata": {
        "execution": {
          "iopub.execute_input": "2024-10-29T15:28:03.158506Z",
          "iopub.status.busy": "2024-10-29T15:28:03.157888Z",
          "iopub.status.idle": "2024-10-29T15:28:03.534883Z",
          "shell.execute_reply": "2024-10-29T15:28:03.533727Z"
        },
        "id": "574a6db1",
        "papermill": {
          "duration": 0.679662,
          "end_time": "2024-10-29T15:28:03.536992",
          "exception": false,
          "start_time": "2024-10-29T15:28:02.857330",
          "status": "completed"
        },
        "tags": [],
        "outputId": "a2d0f248-6024-4cbd-ab74-6730d593af3a"
      },
      "outputs": [
        {
          "name": "stdout",
          "output_type": "stream",
          "text": [
            "Первые слова: I have watched\n",
            "Результат генерации моделью 1: <bos> i have watched this movie <eos>\n",
            "Результат генерации моделью 2: <bos> i have watched this movie on dvd and i was very disappointed <eos>\n",
            "Результат генерации моделью 3: <bos> i have watched the movie <eos>\n",
            "Результат генерации моделью 4: <bos> i have watched this movie <eos>\n"
          ]
        }
      ],
      "source": [
        "generate_sequence_for_each_model(\"I have watched\")"
      ]
    },
    {
      "cell_type": "code",
      "execution_count": null,
      "id": "50e3d23f",
      "metadata": {
        "execution": {
          "iopub.execute_input": "2024-10-29T15:28:04.773435Z",
          "iopub.status.busy": "2024-10-29T15:28:04.772837Z",
          "iopub.status.idle": "2024-10-29T15:28:05.045331Z",
          "shell.execute_reply": "2024-10-29T15:28:05.044373Z"
        },
        "id": "50e3d23f",
        "papermill": {
          "duration": 0.570692,
          "end_time": "2024-10-29T15:28:05.047417",
          "exception": false,
          "start_time": "2024-10-29T15:28:04.476725",
          "status": "completed"
        },
        "tags": [],
        "outputId": "c40d9dbb-991c-4ef2-c86d-6d5f6e4e0101"
      },
      "outputs": [
        {
          "name": "stdout",
          "output_type": "stream",
          "text": [
            "Первые слова: I like\n",
            "Результат генерации моделью 1: <bos> i like this movie <eos>\n",
            "Результат генерации моделью 2: <bos> i like the movie and i was very disappointed <eos>\n",
            "Результат генерации моделью 3: <bos> i like the movie is a <unk> <eos>\n",
            "Результат генерации моделью 4: <bos> i like this movie <eos>\n"
          ]
        }
      ],
      "source": [
        "generate_sequence_for_each_model(\"I like\")"
      ]
    },
    {
      "cell_type": "code",
      "execution_count": null,
      "id": "52475fef",
      "metadata": {
        "execution": {
          "iopub.execute_input": "2024-10-29T15:28:06.239653Z",
          "iopub.status.busy": "2024-10-29T15:28:06.238921Z",
          "iopub.status.idle": "2024-10-29T15:28:06.373758Z",
          "shell.execute_reply": "2024-10-29T15:28:06.372763Z"
        },
        "id": "52475fef",
        "papermill": {
          "duration": 0.438476,
          "end_time": "2024-10-29T15:28:06.375859",
          "exception": false,
          "start_time": "2024-10-29T15:28:05.937383",
          "status": "completed"
        },
        "tags": [],
        "outputId": "f2674a3e-e86b-4722-87d1-723bdb262e5c"
      },
      "outputs": [
        {
          "name": "stdout",
          "output_type": "stream",
          "text": [
            "Первые слова: hero of that film\n",
            "Результат генерации моделью 1: <bos> hero of that film is a good movie <eos>\n",
            "Результат генерации моделью 2: <bos> hero of that film <eos>\n",
            "Результат генерации моделью 3: <bos> hero of that film is a <unk> <eos>\n",
            "Результат генерации моделью 4: <bos> hero of that film is a lot of the movie <eos>\n"
          ]
        }
      ],
      "source": [
        "generate_sequence_for_each_model(\"hero of that film\")"
      ]
    },
    {
      "cell_type": "markdown",
      "id": "229ef6bf",
      "metadata": {
        "id": "229ef6bf",
        "papermill": {
          "duration": 0.348846,
          "end_time": "2024-10-29T15:28:07.623428",
          "exception": false,
          "start_time": "2024-10-29T15:28:07.274582",
          "status": "completed"
        },
        "tags": []
      },
      "source": [
        "Выводы-\n",
        "\n",
        "1. Графики изменения перплекции по всем моделям приведены в таблице result_df.  Значения находятся в интервале от 170 до 440.\n",
        "\n",
        "2.\n",
        "    1) модель model (baseline модель, hidden_dim=256, Dropout(p=0.2), gamma=0.8, lr=0.0001) генерирует очень простые слова на все рассматриваемые формулировки, вроде 'good movie', но предложения осмысленные.\n",
        "\n",
        "    2) модель model_2 (baseline модель с повышенным размером скрытого слоя hidden_dim=1024) генерирует самые длинные предложения, имеющие смысл и имеет наиболее низкое значение min перплексии 178.\n",
        "\n",
        "    3) модель model_3 (baseline модель с пониженным размером скрытого слоя hidden_dim=128) генерирует не очень осмысленные короткие предложения,много <unk>, min перплексия наиболее высокая=440\n",
        "\n",
        "    4) модель model_4 (baseline модель с увеличенным количеством линейных слоев после LSTM) генерирует предложения либо тикие же простые, как в модели model, либо длинные, но не очень осмысленные\n",
        "\n",
        "\n",
        "  Есть смысл улучшать параметры вокруг моделей model_2, model_4, что и будет проведено ниже.\n",
        "\n",
        "3. По всем моделям не достигнуто плато метрики, то есть можно увеличить количество эпох для лучшего результата."
      ]
    },
    {
      "cell_type": "markdown",
      "source": [
        "## Вторая группа экспериментов"
      ],
      "metadata": {
        "id": "E-C7ckVTKe8f"
      },
      "id": "E-C7ckVTKe8f"
    },
    {
      "cell_type": "markdown",
      "id": "4063f1be",
      "metadata": {
        "id": "4063f1be",
        "papermill": {
          "duration": 0.299326,
          "end_time": "2024-10-29T15:28:08.219269",
          "exception": false,
          "start_time": "2024-10-29T15:28:07.919943",
          "status": "completed"
        },
        "tags": []
      },
      "source": [
        "### Эксперимент 2.1. Модель model_2"
      ]
    },
    {
      "cell_type": "markdown",
      "id": "e7bc97d9",
      "metadata": {
        "id": "e7bc97d9",
        "papermill": {
          "duration": 0.294057,
          "end_time": "2024-10-29T15:28:08.810344",
          "exception": false,
          "start_time": "2024-10-29T15:28:08.516287",
          "status": "completed"
        },
        "tags": []
      },
      "source": [
        "Увеличим скорость обучения в model_2 до классической 3e-4, повысим размер скрытого слоя hidden layer до 1536."
      ]
    },
    {
      "cell_type": "code",
      "execution_count": null,
      "id": "e95fb041",
      "metadata": {
        "execution": {
          "iopub.execute_input": "2024-10-29T15:28:09.403560Z",
          "iopub.status.busy": "2024-10-29T15:28:09.403158Z",
          "iopub.status.idle": "2024-10-29T15:28:10.846249Z",
          "shell.execute_reply": "2024-10-29T15:28:10.845457Z"
        },
        "id": "e95fb041",
        "papermill": {
          "duration": 1.74308,
          "end_time": "2024-10-29T15:28:10.848492",
          "exception": false,
          "start_time": "2024-10-29T15:28:09.105412",
          "status": "completed"
        },
        "tags": []
      },
      "outputs": [],
      "source": [
        "model_2 = LanguageModel(1536, len(vocab)).to(device)\n",
        "criterion = nn.CrossEntropyLoss(ignore_index=word2ind['<pad>'])\n",
        "optimizer = torch.optim.Adam(model_2.parameters(), lr=0.0003)\n",
        "scheduler = StepLR(optimizer, step_size=1, gamma=0.8)"
      ]
    },
    {
      "cell_type": "code",
      "execution_count": null,
      "id": "c8e07247",
      "metadata": {
        "execution": {
          "iopub.execute_input": "2024-10-29T15:28:11.472659Z",
          "iopub.status.busy": "2024-10-29T15:28:11.472283Z",
          "iopub.status.idle": "2024-10-29T17:53:10.205276Z",
          "shell.execute_reply": "2024-10-29T17:53:10.204383Z"
        },
        "id": "c8e07247",
        "papermill": {
          "duration": 8699.061432,
          "end_time": "2024-10-29T17:53:10.207939",
          "exception": false,
          "start_time": "2024-10-29T15:28:11.146507",
          "status": "completed"
        },
        "tags": [],
        "colab": {
          "referenced_widgets": [
            "27d215d08ebc4667858270612a3846b7",
            "c6e21e1965654dbdb6800ce7e98de6f7",
            "2f2fc5cd0f314eb9a83a128ce3470c55",
            "d7bf22e4975b468eab030a3c12823266",
            "c4d4a2a73391449381d8333abbebd3e7",
            "603a7ead6bde472cb1ac717e8ad4e998",
            "3c175e44820d4310aa1567f6b2070363",
            "32defaa6f4874c99b879c6435cb9e7a6",
            "31a5454e27534ab9973f907850067a76",
            "83273cc0029a4ad0add7d0b730ebb63b",
            "b160977bb42b496d9c0ac510ced7c42a",
            "3d8537a88ab6483c89e08f6985139516",
            "687bc2ad53c24b11aa20585e7e92e2f8",
            "da85c24cb406485ca9664b8a3b60dbb1",
            "24334577b40746028d7cfdc09ce0a271",
            "d79d119763b34184a9ff043da8867e19",
            "ecd931fda0f24506828b7dfee34abe6b",
            "ed53a47fb9e3481089fb327e844b00b2",
            "ad9c96c672724399ab8c5796ba0078d9",
            "0c3bfc4737bf42faa9234cb2ece40642",
            "f2c3984264dc4f0d81678cea1468d27a",
            "c93fcd6a25ac45579bc19e278388d34c",
            "8d2a7442d3e2491498b5b57d0b34b011",
            "876cc1098a944a8fa91afb87ee6e6175",
            "c753fc31fa5a44d9bad5eaf4d6bc4432",
            "0afeaadc7c9f4ee9a55518a4d72af5b5",
            "721b5fae68004623831ed0c17b71ab24",
            "bb0f0b95a05d408e84cf2c6eb8fba188",
            "b7d26ee8ddab450c9cce2c4a65771d20",
            "744f1d52a2a1483a9779627f5eb9421a",
            "792c0b77dd004acf86a4ec716c61ccea",
            "a8267361d63846c894bcbb48ed93a319",
            "52d3ed989cb64963ae6b742a2e0bd888",
            "99e9603c4b1b4aa9a8f39c516680c8c8",
            "36dc89b9bdf04a1e82d43845272d8ecf",
            "e3b6b67eaf554f2ba0aaf3d0b173154c",
            "854fe3a3a54d40218d769dfd09607a42",
            "4cce96b6c80b479093e5d0e6daac01cf",
            "9870d3370149489fa83ec2da0e8aa978",
            "3e2c3ef6a08043478cebfe19ee9e8b85",
            "410dbfc2e7204d06b2c961f81de15e20",
            "b58b314c4df243f5bfc664a0dcc70325",
            "57eb552e66ef43eba77289f75818f008"
          ]
        },
        "outputId": "696ce754-4f8a-474d-b2f6-2044f026437e"
      },
      "outputs": [
        {
          "data": {
            "application/vnd.jupyter.widget-view+json": {
              "model_id": "27d215d08ebc4667858270612a3846b7",
              "version_major": 2,
              "version_minor": 0
            },
            "text/plain": [
              "epoch:   0%|          | 0/21 [00:00<?, ?it/s]"
            ]
          },
          "metadata": {},
          "output_type": "display_data"
        },
        {
          "data": {
            "application/vnd.jupyter.widget-view+json": {
              "model_id": "c6e21e1965654dbdb6800ce7e98de6f7",
              "version_major": 2,
              "version_minor": 0
            },
            "text/plain": [
              "train:   0%|          | 0/1243 [00:00<?, ?it/s]"
            ]
          },
          "metadata": {},
          "output_type": "display_data"
        },
        {
          "data": {
            "application/vnd.jupyter.widget-view+json": {
              "model_id": "2f2fc5cd0f314eb9a83a128ce3470c55",
              "version_major": 2,
              "version_minor": 0
            },
            "text/plain": [
              "validation:   0%|          | 0/156 [00:00<?, ?it/s]"
            ]
          },
          "metadata": {},
          "output_type": "display_data"
        },
        {
          "data": {
            "application/vnd.jupyter.widget-view+json": {
              "model_id": "d7bf22e4975b468eab030a3c12823266",
              "version_major": 2,
              "version_minor": 0
            },
            "text/plain": [
              "train:   0%|          | 0/1243 [00:00<?, ?it/s]"
            ]
          },
          "metadata": {},
          "output_type": "display_data"
        },
        {
          "data": {
            "application/vnd.jupyter.widget-view+json": {
              "model_id": "c4d4a2a73391449381d8333abbebd3e7",
              "version_major": 2,
              "version_minor": 0
            },
            "text/plain": [
              "validation:   0%|          | 0/156 [00:00<?, ?it/s]"
            ]
          },
          "metadata": {},
          "output_type": "display_data"
        },
        {
          "data": {
            "application/vnd.jupyter.widget-view+json": {
              "model_id": "603a7ead6bde472cb1ac717e8ad4e998",
              "version_major": 2,
              "version_minor": 0
            },
            "text/plain": [
              "train:   0%|          | 0/1243 [00:00<?, ?it/s]"
            ]
          },
          "metadata": {},
          "output_type": "display_data"
        },
        {
          "data": {
            "application/vnd.jupyter.widget-view+json": {
              "model_id": "3c175e44820d4310aa1567f6b2070363",
              "version_major": 2,
              "version_minor": 0
            },
            "text/plain": [
              "validation:   0%|          | 0/156 [00:00<?, ?it/s]"
            ]
          },
          "metadata": {},
          "output_type": "display_data"
        },
        {
          "data": {
            "application/vnd.jupyter.widget-view+json": {
              "model_id": "32defaa6f4874c99b879c6435cb9e7a6",
              "version_major": 2,
              "version_minor": 0
            },
            "text/plain": [
              "train:   0%|          | 0/1243 [00:00<?, ?it/s]"
            ]
          },
          "metadata": {},
          "output_type": "display_data"
        },
        {
          "data": {
            "application/vnd.jupyter.widget-view+json": {
              "model_id": "31a5454e27534ab9973f907850067a76",
              "version_major": 2,
              "version_minor": 0
            },
            "text/plain": [
              "validation:   0%|          | 0/156 [00:00<?, ?it/s]"
            ]
          },
          "metadata": {},
          "output_type": "display_data"
        },
        {
          "data": {
            "application/vnd.jupyter.widget-view+json": {
              "model_id": "83273cc0029a4ad0add7d0b730ebb63b",
              "version_major": 2,
              "version_minor": 0
            },
            "text/plain": [
              "train:   0%|          | 0/1243 [00:00<?, ?it/s]"
            ]
          },
          "metadata": {},
          "output_type": "display_data"
        },
        {
          "data": {
            "application/vnd.jupyter.widget-view+json": {
              "model_id": "b160977bb42b496d9c0ac510ced7c42a",
              "version_major": 2,
              "version_minor": 0
            },
            "text/plain": [
              "validation:   0%|          | 0/156 [00:00<?, ?it/s]"
            ]
          },
          "metadata": {},
          "output_type": "display_data"
        },
        {
          "data": {
            "application/vnd.jupyter.widget-view+json": {
              "model_id": "3d8537a88ab6483c89e08f6985139516",
              "version_major": 2,
              "version_minor": 0
            },
            "text/plain": [
              "train:   0%|          | 0/1243 [00:00<?, ?it/s]"
            ]
          },
          "metadata": {},
          "output_type": "display_data"
        },
        {
          "data": {
            "application/vnd.jupyter.widget-view+json": {
              "model_id": "687bc2ad53c24b11aa20585e7e92e2f8",
              "version_major": 2,
              "version_minor": 0
            },
            "text/plain": [
              "validation:   0%|          | 0/156 [00:00<?, ?it/s]"
            ]
          },
          "metadata": {},
          "output_type": "display_data"
        },
        {
          "data": {
            "application/vnd.jupyter.widget-view+json": {
              "model_id": "da85c24cb406485ca9664b8a3b60dbb1",
              "version_major": 2,
              "version_minor": 0
            },
            "text/plain": [
              "train:   0%|          | 0/1243 [00:00<?, ?it/s]"
            ]
          },
          "metadata": {},
          "output_type": "display_data"
        },
        {
          "data": {
            "application/vnd.jupyter.widget-view+json": {
              "model_id": "24334577b40746028d7cfdc09ce0a271",
              "version_major": 2,
              "version_minor": 0
            },
            "text/plain": [
              "validation:   0%|          | 0/156 [00:00<?, ?it/s]"
            ]
          },
          "metadata": {},
          "output_type": "display_data"
        },
        {
          "data": {
            "application/vnd.jupyter.widget-view+json": {
              "model_id": "d79d119763b34184a9ff043da8867e19",
              "version_major": 2,
              "version_minor": 0
            },
            "text/plain": [
              "train:   0%|          | 0/1243 [00:00<?, ?it/s]"
            ]
          },
          "metadata": {},
          "output_type": "display_data"
        },
        {
          "data": {
            "application/vnd.jupyter.widget-view+json": {
              "model_id": "ecd931fda0f24506828b7dfee34abe6b",
              "version_major": 2,
              "version_minor": 0
            },
            "text/plain": [
              "validation:   0%|          | 0/156 [00:00<?, ?it/s]"
            ]
          },
          "metadata": {},
          "output_type": "display_data"
        },
        {
          "data": {
            "application/vnd.jupyter.widget-view+json": {
              "model_id": "ed53a47fb9e3481089fb327e844b00b2",
              "version_major": 2,
              "version_minor": 0
            },
            "text/plain": [
              "train:   0%|          | 0/1243 [00:00<?, ?it/s]"
            ]
          },
          "metadata": {},
          "output_type": "display_data"
        },
        {
          "data": {
            "application/vnd.jupyter.widget-view+json": {
              "model_id": "ad9c96c672724399ab8c5796ba0078d9",
              "version_major": 2,
              "version_minor": 0
            },
            "text/plain": [
              "validation:   0%|          | 0/156 [00:00<?, ?it/s]"
            ]
          },
          "metadata": {},
          "output_type": "display_data"
        },
        {
          "data": {
            "application/vnd.jupyter.widget-view+json": {
              "model_id": "0c3bfc4737bf42faa9234cb2ece40642",
              "version_major": 2,
              "version_minor": 0
            },
            "text/plain": [
              "train:   0%|          | 0/1243 [00:00<?, ?it/s]"
            ]
          },
          "metadata": {},
          "output_type": "display_data"
        },
        {
          "data": {
            "application/vnd.jupyter.widget-view+json": {
              "model_id": "f2c3984264dc4f0d81678cea1468d27a",
              "version_major": 2,
              "version_minor": 0
            },
            "text/plain": [
              "validation:   0%|          | 0/156 [00:00<?, ?it/s]"
            ]
          },
          "metadata": {},
          "output_type": "display_data"
        },
        {
          "data": {
            "application/vnd.jupyter.widget-view+json": {
              "model_id": "c93fcd6a25ac45579bc19e278388d34c",
              "version_major": 2,
              "version_minor": 0
            },
            "text/plain": [
              "train:   0%|          | 0/1243 [00:00<?, ?it/s]"
            ]
          },
          "metadata": {},
          "output_type": "display_data"
        },
        {
          "data": {
            "application/vnd.jupyter.widget-view+json": {
              "model_id": "8d2a7442d3e2491498b5b57d0b34b011",
              "version_major": 2,
              "version_minor": 0
            },
            "text/plain": [
              "validation:   0%|          | 0/156 [00:00<?, ?it/s]"
            ]
          },
          "metadata": {},
          "output_type": "display_data"
        },
        {
          "data": {
            "application/vnd.jupyter.widget-view+json": {
              "model_id": "876cc1098a944a8fa91afb87ee6e6175",
              "version_major": 2,
              "version_minor": 0
            },
            "text/plain": [
              "train:   0%|          | 0/1243 [00:00<?, ?it/s]"
            ]
          },
          "metadata": {},
          "output_type": "display_data"
        },
        {
          "data": {
            "application/vnd.jupyter.widget-view+json": {
              "model_id": "c753fc31fa5a44d9bad5eaf4d6bc4432",
              "version_major": 2,
              "version_minor": 0
            },
            "text/plain": [
              "validation:   0%|          | 0/156 [00:00<?, ?it/s]"
            ]
          },
          "metadata": {},
          "output_type": "display_data"
        },
        {
          "data": {
            "application/vnd.jupyter.widget-view+json": {
              "model_id": "0afeaadc7c9f4ee9a55518a4d72af5b5",
              "version_major": 2,
              "version_minor": 0
            },
            "text/plain": [
              "train:   0%|          | 0/1243 [00:00<?, ?it/s]"
            ]
          },
          "metadata": {},
          "output_type": "display_data"
        },
        {
          "data": {
            "application/vnd.jupyter.widget-view+json": {
              "model_id": "721b5fae68004623831ed0c17b71ab24",
              "version_major": 2,
              "version_minor": 0
            },
            "text/plain": [
              "validation:   0%|          | 0/156 [00:00<?, ?it/s]"
            ]
          },
          "metadata": {},
          "output_type": "display_data"
        },
        {
          "data": {
            "application/vnd.jupyter.widget-view+json": {
              "model_id": "bb0f0b95a05d408e84cf2c6eb8fba188",
              "version_major": 2,
              "version_minor": 0
            },
            "text/plain": [
              "train:   0%|          | 0/1243 [00:00<?, ?it/s]"
            ]
          },
          "metadata": {},
          "output_type": "display_data"
        },
        {
          "data": {
            "application/vnd.jupyter.widget-view+json": {
              "model_id": "b7d26ee8ddab450c9cce2c4a65771d20",
              "version_major": 2,
              "version_minor": 0
            },
            "text/plain": [
              "validation:   0%|          | 0/156 [00:00<?, ?it/s]"
            ]
          },
          "metadata": {},
          "output_type": "display_data"
        },
        {
          "data": {
            "application/vnd.jupyter.widget-view+json": {
              "model_id": "744f1d52a2a1483a9779627f5eb9421a",
              "version_major": 2,
              "version_minor": 0
            },
            "text/plain": [
              "train:   0%|          | 0/1243 [00:00<?, ?it/s]"
            ]
          },
          "metadata": {},
          "output_type": "display_data"
        },
        {
          "data": {
            "application/vnd.jupyter.widget-view+json": {
              "model_id": "792c0b77dd004acf86a4ec716c61ccea",
              "version_major": 2,
              "version_minor": 0
            },
            "text/plain": [
              "validation:   0%|          | 0/156 [00:00<?, ?it/s]"
            ]
          },
          "metadata": {},
          "output_type": "display_data"
        },
        {
          "data": {
            "application/vnd.jupyter.widget-view+json": {
              "model_id": "a8267361d63846c894bcbb48ed93a319",
              "version_major": 2,
              "version_minor": 0
            },
            "text/plain": [
              "train:   0%|          | 0/1243 [00:00<?, ?it/s]"
            ]
          },
          "metadata": {},
          "output_type": "display_data"
        },
        {
          "data": {
            "application/vnd.jupyter.widget-view+json": {
              "model_id": "52d3ed989cb64963ae6b742a2e0bd888",
              "version_major": 2,
              "version_minor": 0
            },
            "text/plain": [
              "validation:   0%|          | 0/156 [00:00<?, ?it/s]"
            ]
          },
          "metadata": {},
          "output_type": "display_data"
        },
        {
          "data": {
            "application/vnd.jupyter.widget-view+json": {
              "model_id": "99e9603c4b1b4aa9a8f39c516680c8c8",
              "version_major": 2,
              "version_minor": 0
            },
            "text/plain": [
              "train:   0%|          | 0/1243 [00:00<?, ?it/s]"
            ]
          },
          "metadata": {},
          "output_type": "display_data"
        },
        {
          "data": {
            "application/vnd.jupyter.widget-view+json": {
              "model_id": "36dc89b9bdf04a1e82d43845272d8ecf",
              "version_major": 2,
              "version_minor": 0
            },
            "text/plain": [
              "validation:   0%|          | 0/156 [00:00<?, ?it/s]"
            ]
          },
          "metadata": {},
          "output_type": "display_data"
        },
        {
          "data": {
            "application/vnd.jupyter.widget-view+json": {
              "model_id": "e3b6b67eaf554f2ba0aaf3d0b173154c",
              "version_major": 2,
              "version_minor": 0
            },
            "text/plain": [
              "train:   0%|          | 0/1243 [00:00<?, ?it/s]"
            ]
          },
          "metadata": {},
          "output_type": "display_data"
        },
        {
          "data": {
            "application/vnd.jupyter.widget-view+json": {
              "model_id": "854fe3a3a54d40218d769dfd09607a42",
              "version_major": 2,
              "version_minor": 0
            },
            "text/plain": [
              "validation:   0%|          | 0/156 [00:00<?, ?it/s]"
            ]
          },
          "metadata": {},
          "output_type": "display_data"
        },
        {
          "data": {
            "application/vnd.jupyter.widget-view+json": {
              "model_id": "4cce96b6c80b479093e5d0e6daac01cf",
              "version_major": 2,
              "version_minor": 0
            },
            "text/plain": [
              "train:   0%|          | 0/1243 [00:00<?, ?it/s]"
            ]
          },
          "metadata": {},
          "output_type": "display_data"
        },
        {
          "data": {
            "application/vnd.jupyter.widget-view+json": {
              "model_id": "9870d3370149489fa83ec2da0e8aa978",
              "version_major": 2,
              "version_minor": 0
            },
            "text/plain": [
              "validation:   0%|          | 0/156 [00:00<?, ?it/s]"
            ]
          },
          "metadata": {},
          "output_type": "display_data"
        },
        {
          "data": {
            "application/vnd.jupyter.widget-view+json": {
              "model_id": "3e2c3ef6a08043478cebfe19ee9e8b85",
              "version_major": 2,
              "version_minor": 0
            },
            "text/plain": [
              "train:   0%|          | 0/1243 [00:00<?, ?it/s]"
            ]
          },
          "metadata": {},
          "output_type": "display_data"
        },
        {
          "data": {
            "application/vnd.jupyter.widget-view+json": {
              "model_id": "410dbfc2e7204d06b2c961f81de15e20",
              "version_major": 2,
              "version_minor": 0
            },
            "text/plain": [
              "validation:   0%|          | 0/156 [00:00<?, ?it/s]"
            ]
          },
          "metadata": {},
          "output_type": "display_data"
        },
        {
          "data": {
            "application/vnd.jupyter.widget-view+json": {
              "model_id": "b58b314c4df243f5bfc664a0dcc70325",
              "version_major": 2,
              "version_minor": 0
            },
            "text/plain": [
              "train:   0%|          | 0/1243 [00:00<?, ?it/s]"
            ]
          },
          "metadata": {},
          "output_type": "display_data"
        },
        {
          "data": {
            "application/vnd.jupyter.widget-view+json": {
              "model_id": "57eb552e66ef43eba77289f75818f008",
              "version_major": 2,
              "version_minor": 0
            },
            "text/plain": [
              "validation:   0%|          | 0/156 [00:00<?, ?it/s]"
            ]
          },
          "metadata": {},
          "output_type": "display_data"
        }
      ],
      "source": [
        "perplexities2, losses2 = train_model(\n",
        "    model_2, criterion, optimizer, scheduler,\n",
        "    train_dataloader, eval_dataloader, epochs=21\n",
        ")"
      ]
    },
    {
      "cell_type": "code",
      "execution_count": null,
      "id": "281451e1",
      "metadata": {
        "execution": {
          "iopub.execute_input": "2024-10-29T17:53:10.815616Z",
          "iopub.status.busy": "2024-10-29T17:53:10.815235Z",
          "iopub.status.idle": "2024-10-29T17:53:11.151055Z",
          "shell.execute_reply": "2024-10-29T17:53:11.150188Z"
        },
        "id": "281451e1",
        "papermill": {
          "duration": 0.643707,
          "end_time": "2024-10-29T17:53:11.153101",
          "exception": false,
          "start_time": "2024-10-29T17:53:10.509394",
          "status": "completed"
        },
        "tags": [],
        "outputId": "938ecdbf-c5c5-485a-a0ac-86e5cf2ddacf"
      },
      "outputs": [
        {
          "data": {
            "image/png": "[encoded data removed]",
            "text/plain": [
              "<Figure size 640x480 with 1 Axes>"
            ]
          },
          "metadata": {},
          "output_type": "display_data"
        }
      ],
      "source": [
        "plt.plot(np.arange(len(perplexities2)), perplexities2)\n",
        "plt.title('Perplexity')\n",
        "plt.xlabel(\"epoch\")\n",
        "plt.show()"
      ]
    },
    {
      "cell_type": "markdown",
      "id": "78f0cce6",
      "metadata": {
        "id": "78f0cce6",
        "papermill": {
          "duration": 0.301459,
          "end_time": "2024-10-29T17:53:11.831150",
          "exception": false,
          "start_time": "2024-10-29T17:53:11.529691",
          "status": "completed"
        },
        "tags": []
      },
      "source": [
        "### Эксперимент 2.2 Модель model_3"
      ]
    },
    {
      "cell_type": "markdown",
      "id": "acbcf8b3",
      "metadata": {
        "id": "acbcf8b3",
        "papermill": {
          "duration": 0.300872,
          "end_time": "2024-10-29T17:53:12.432711",
          "exception": false,
          "start_time": "2024-10-29T17:53:12.131839",
          "status": "completed"
        },
        "tags": []
      },
      "source": [
        "Дополнительные линейные bottleneck слои (model_4) с увеличенной скоростью обучения 3e-4."
      ]
    },
    {
      "cell_type": "code",
      "execution_count": null,
      "id": "f50cc29a",
      "metadata": {
        "execution": {
          "iopub.execute_input": "2024-10-29T17:53:13.036287Z",
          "iopub.status.busy": "2024-10-29T17:53:13.035914Z",
          "iopub.status.idle": "2024-10-29T17:53:13.044028Z",
          "shell.execute_reply": "2024-10-29T17:53:13.043113Z"
        },
        "id": "f50cc29a",
        "papermill": {
          "duration": 0.31384,
          "end_time": "2024-10-29T17:53:13.045888",
          "exception": false,
          "start_time": "2024-10-29T17:53:12.732048",
          "status": "completed"
        },
        "tags": []
      },
      "outputs": [],
      "source": [
        "class LanguageModel_2(nn.Module):\n",
        "    def __init__(self, hidden_dim, vocab_size):\n",
        "        super().__init__()\n",
        "        self.embedding = nn.Embedding(vocab_size, hidden_dim)\n",
        "        self.lstm = nn.LSTM(hidden_dim, hidden_dim, batch_first=True)\n",
        "        self.linear_up = nn.Linear(hidden_dim, 2 * hidden_dim)\n",
        "        self.linear_down = nn.Linear(2 * hidden_dim, hidden_dim)\n",
        "        self.projection = nn.Linear(hidden_dim, vocab_size)\n",
        "\n",
        "        self.non_linear = nn.Tanh()\n",
        "        self.dropout = nn.Dropout(0.2)\n",
        "\n",
        "    def forward(self, input_batch: torch.Tensor) -> torch.Tensor:\n",
        "        embeddings = self.embedding(input_batch)\n",
        "        output, _ = self.lstm(embeddings)\n",
        "        output = self.dropout(self.non_linear(self.linear_up(output)))\n",
        "        output = self.dropout(self.non_linear(self.linear_down(output)))\n",
        "        prediction = self.projection(output)\n",
        "\n",
        "        return prediction"
      ]
    },
    {
      "cell_type": "code",
      "execution_count": null,
      "id": "7ef626f0",
      "metadata": {
        "execution": {
          "iopub.execute_input": "2024-10-29T17:53:13.651871Z",
          "iopub.status.busy": "2024-10-29T17:53:13.651464Z",
          "iopub.status.idle": "2024-10-29T17:53:14.558186Z",
          "shell.execute_reply": "2024-10-29T17:53:14.557192Z"
        },
        "id": "7ef626f0",
        "papermill": {
          "duration": 1.210999,
          "end_time": "2024-10-29T17:53:14.560543",
          "exception": false,
          "start_time": "2024-10-29T17:53:13.349544",
          "status": "completed"
        },
        "tags": []
      },
      "outputs": [],
      "source": [
        "model_3 = LanguageModel_2(1024, len(vocab)).to(device)\n",
        "criterion = nn.CrossEntropyLoss(ignore_index=word2ind['<pad>'])\n",
        "optimizer = torch.optim.Adam(model_3.parameters(), lr=0.0003)\n",
        "scheduler = StepLR(optimizer, step_size=1, gamma=0.8)"
      ]
    },
    {
      "cell_type": "code",
      "execution_count": null,
      "id": "0bfe8453",
      "metadata": {
        "execution": {
          "iopub.execute_input": "2024-10-29T17:53:15.172149Z",
          "iopub.status.busy": "2024-10-29T17:53:15.171779Z",
          "iopub.status.idle": "2024-10-29T19:34:19.486608Z",
          "shell.execute_reply": "2024-10-29T19:34:19.485666Z"
        },
        "id": "0bfe8453",
        "papermill": {
          "duration": 6064.625138,
          "end_time": "2024-10-29T19:34:19.489215",
          "exception": false,
          "start_time": "2024-10-29T17:53:14.864077",
          "status": "completed"
        },
        "tags": [],
        "colab": {
          "referenced_widgets": [
            "a07081b756094a56966b5bf9663711fc",
            "2e1f3c18d9cd450ba2f9ce8d6d34fb0f",
            "3093f10654b14cd2ac4bde1a0f4758e7",
            "ddef2e03d6934476aed2a42302b616c4",
            "ef29a2880ca144d88a471b63720f0b21",
            "0ed266e9f07d4648b3385423acaf2f34",
            "f0fe8df0f957471ea10c3bdc8b3aec2a",
            "a34c6b2076dc40c9aa7e3118030f2ce1",
            "472731b2a0e5436b8fbd923a97b03df6",
            "2bb1183fd4e54b85a7486ba58dd166f3",
            "5edd99e0b99046a89c68c4dbf4b1c13d",
            "14f63425b6a74fb5878ebe3c6ef565f8",
            "3517d91836f64720a4d1f0c06af94de4",
            "d0c72abd01034cb1952e2caab0ac0c66",
            "f1622ebaadc14f3ab8f7e63a195f0ae7",
            "578f3140810046df9811c79d6bf03500",
            "2d0419b6db4f465dab0a74586e5dbb78",
            "8011a2c02d12434082d797fe6a311000",
            "34c296d7b0be44358085b2325780b192",
            "cd111384894044f3b3f38fe46fb644cd",
            "bebfbd88057941daa45b322998017014",
            "570674eea8ef47399c6734108be1141c",
            "495b5b9a966947c082000afe2c35cb88",
            "b3feff3b5b0647f4a3b534da56a94d6f",
            "364c861cb24b49d4a6a9e6a8f586906e",
            "08826cce970145e1aa2194047fabffd7",
            "3ad7795fa7314b0c83ac0a1510640df9",
            "2b661af33b314af789a10800abe2c28e",
            "ce01bf68289e4d799418ef37b7f37be9",
            "8557ba76009444caa7b8b30f7a1c9bb5",
            "801af417b97e48688c79677fad18b97d",
            "4dff711531cb4a7392bc3c9f69b54ed7",
            "764a800f1cce40e78d8d4379264174df",
            "73b7e8c906b5431cb5320e31c5681fcf",
            "2d07b5d8461d4d93a65e925839413bb8",
            "990fe8decaae4d569a7690161138db34",
            "53b5f0b3501f41e8947115eb64773295",
            "ec706284746942d69053524439002029",
            "f0c159a3581d4eba8fa322d82fa5fb1e",
            "b5271a0637c046e6886a90d474f4c45c",
            "80fa4c0fae774e57be8bff95c2468c94",
            "e5b57b5f610544e6bf58901ff3134ad4",
            "7c839c0af0c446c3bcee3cf7c6df93d8"
          ]
        },
        "outputId": "4f2a0906-8923-4669-ac89-5fad9cfec483"
      },
      "outputs": [
        {
          "data": {
            "application/vnd.jupyter.widget-view+json": {
              "model_id": "a07081b756094a56966b5bf9663711fc",
              "version_major": 2,
              "version_minor": 0
            },
            "text/plain": [
              "epoch:   0%|          | 0/21 [00:00<?, ?it/s]"
            ]
          },
          "metadata": {},
          "output_type": "display_data"
        },
        {
          "data": {
            "application/vnd.jupyter.widget-view+json": {
              "model_id": "2e1f3c18d9cd450ba2f9ce8d6d34fb0f",
              "version_major": 2,
              "version_minor": 0
            },
            "text/plain": [
              "train:   0%|          | 0/1243 [00:00<?, ?it/s]"
            ]
          },
          "metadata": {},
          "output_type": "display_data"
        },
        {
          "data": {
            "application/vnd.jupyter.widget-view+json": {
              "model_id": "3093f10654b14cd2ac4bde1a0f4758e7",
              "version_major": 2,
              "version_minor": 0
            },
            "text/plain": [
              "validation:   0%|          | 0/156 [00:00<?, ?it/s]"
            ]
          },
          "metadata": {},
          "output_type": "display_data"
        },
        {
          "data": {
            "application/vnd.jupyter.widget-view+json": {
              "model_id": "ddef2e03d6934476aed2a42302b616c4",
              "version_major": 2,
              "version_minor": 0
            },
            "text/plain": [
              "train:   0%|          | 0/1243 [00:00<?, ?it/s]"
            ]
          },
          "metadata": {},
          "output_type": "display_data"
        },
        {
          "data": {
            "application/vnd.jupyter.widget-view+json": {
              "model_id": "ef29a2880ca144d88a471b63720f0b21",
              "version_major": 2,
              "version_minor": 0
            },
            "text/plain": [
              "validation:   0%|          | 0/156 [00:00<?, ?it/s]"
            ]
          },
          "metadata": {},
          "output_type": "display_data"
        },
        {
          "data": {
            "application/vnd.jupyter.widget-view+json": {
              "model_id": "0ed266e9f07d4648b3385423acaf2f34",
              "version_major": 2,
              "version_minor": 0
            },
            "text/plain": [
              "train:   0%|          | 0/1243 [00:00<?, ?it/s]"
            ]
          },
          "metadata": {},
          "output_type": "display_data"
        },
        {
          "data": {
            "application/vnd.jupyter.widget-view+json": {
              "model_id": "f0fe8df0f957471ea10c3bdc8b3aec2a",
              "version_major": 2,
              "version_minor": 0
            },
            "text/plain": [
              "validation:   0%|          | 0/156 [00:00<?, ?it/s]"
            ]
          },
          "metadata": {},
          "output_type": "display_data"
        },
        {
          "data": {
            "application/vnd.jupyter.widget-view+json": {
              "model_id": "a34c6b2076dc40c9aa7e3118030f2ce1",
              "version_major": 2,
              "version_minor": 0
            },
            "text/plain": [
              "train:   0%|          | 0/1243 [00:00<?, ?it/s]"
            ]
          },
          "metadata": {},
          "output_type": "display_data"
        },
        {
          "data": {
            "application/vnd.jupyter.widget-view+json": {
              "model_id": "472731b2a0e5436b8fbd923a97b03df6",
              "version_major": 2,
              "version_minor": 0
            },
            "text/plain": [
              "validation:   0%|          | 0/156 [00:00<?, ?it/s]"
            ]
          },
          "metadata": {},
          "output_type": "display_data"
        },
        {
          "data": {
            "application/vnd.jupyter.widget-view+json": {
              "model_id": "2bb1183fd4e54b85a7486ba58dd166f3",
              "version_major": 2,
              "version_minor": 0
            },
            "text/plain": [
              "train:   0%|          | 0/1243 [00:00<?, ?it/s]"
            ]
          },
          "metadata": {},
          "output_type": "display_data"
        },
        {
          "data": {
            "application/vnd.jupyter.widget-view+json": {
              "model_id": "5edd99e0b99046a89c68c4dbf4b1c13d",
              "version_major": 2,
              "version_minor": 0
            },
            "text/plain": [
              "validation:   0%|          | 0/156 [00:00<?, ?it/s]"
            ]
          },
          "metadata": {},
          "output_type": "display_data"
        },
        {
          "data": {
            "application/vnd.jupyter.widget-view+json": {
              "model_id": "14f63425b6a74fb5878ebe3c6ef565f8",
              "version_major": 2,
              "version_minor": 0
            },
            "text/plain": [
              "train:   0%|          | 0/1243 [00:00<?, ?it/s]"
            ]
          },
          "metadata": {},
          "output_type": "display_data"
        },
        {
          "data": {
            "application/vnd.jupyter.widget-view+json": {
              "model_id": "3517d91836f64720a4d1f0c06af94de4",
              "version_major": 2,
              "version_minor": 0
            },
            "text/plain": [
              "validation:   0%|          | 0/156 [00:00<?, ?it/s]"
            ]
          },
          "metadata": {},
          "output_type": "display_data"
        },
        {
          "data": {
            "application/vnd.jupyter.widget-view+json": {
              "model_id": "d0c72abd01034cb1952e2caab0ac0c66",
              "version_major": 2,
              "version_minor": 0
            },
            "text/plain": [
              "train:   0%|          | 0/1243 [00:00<?, ?it/s]"
            ]
          },
          "metadata": {},
          "output_type": "display_data"
        },
        {
          "data": {
            "application/vnd.jupyter.widget-view+json": {
              "model_id": "f1622ebaadc14f3ab8f7e63a195f0ae7",
              "version_major": 2,
              "version_minor": 0
            },
            "text/plain": [
              "validation:   0%|          | 0/156 [00:00<?, ?it/s]"
            ]
          },
          "metadata": {},
          "output_type": "display_data"
        },
        {
          "data": {
            "application/vnd.jupyter.widget-view+json": {
              "model_id": "578f3140810046df9811c79d6bf03500",
              "version_major": 2,
              "version_minor": 0
            },
            "text/plain": [
              "train:   0%|          | 0/1243 [00:00<?, ?it/s]"
            ]
          },
          "metadata": {},
          "output_type": "display_data"
        },
        {
          "data": {
            "application/vnd.jupyter.widget-view+json": {
              "model_id": "2d0419b6db4f465dab0a74586e5dbb78",
              "version_major": 2,
              "version_minor": 0
            },
            "text/plain": [
              "validation:   0%|          | 0/156 [00:00<?, ?it/s]"
            ]
          },
          "metadata": {},
          "output_type": "display_data"
        },
        {
          "data": {
            "application/vnd.jupyter.widget-view+json": {
              "model_id": "8011a2c02d12434082d797fe6a311000",
              "version_major": 2,
              "version_minor": 0
            },
            "text/plain": [
              "train:   0%|          | 0/1243 [00:00<?, ?it/s]"
            ]
          },
          "metadata": {},
          "output_type": "display_data"
        },
        {
          "data": {
            "application/vnd.jupyter.widget-view+json": {
              "model_id": "34c296d7b0be44358085b2325780b192",
              "version_major": 2,
              "version_minor": 0
            },
            "text/plain": [
              "validation:   0%|          | 0/156 [00:00<?, ?it/s]"
            ]
          },
          "metadata": {},
          "output_type": "display_data"
        },
        {
          "data": {
            "application/vnd.jupyter.widget-view+json": {
              "model_id": "cd111384894044f3b3f38fe46fb644cd",
              "version_major": 2,
              "version_minor": 0
            },
            "text/plain": [
              "train:   0%|          | 0/1243 [00:00<?, ?it/s]"
            ]
          },
          "metadata": {},
          "output_type": "display_data"
        },
        {
          "data": {
            "application/vnd.jupyter.widget-view+json": {
              "model_id": "bebfbd88057941daa45b322998017014",
              "version_major": 2,
              "version_minor": 0
            },
            "text/plain": [
              "validation:   0%|          | 0/156 [00:00<?, ?it/s]"
            ]
          },
          "metadata": {},
          "output_type": "display_data"
        },
        {
          "data": {
            "application/vnd.jupyter.widget-view+json": {
              "model_id": "570674eea8ef47399c6734108be1141c",
              "version_major": 2,
              "version_minor": 0
            },
            "text/plain": [
              "train:   0%|          | 0/1243 [00:00<?, ?it/s]"
            ]
          },
          "metadata": {},
          "output_type": "display_data"
        },
        {
          "data": {
            "application/vnd.jupyter.widget-view+json": {
              "model_id": "495b5b9a966947c082000afe2c35cb88",
              "version_major": 2,
              "version_minor": 0
            },
            "text/plain": [
              "validation:   0%|          | 0/156 [00:00<?, ?it/s]"
            ]
          },
          "metadata": {},
          "output_type": "display_data"
        },
        {
          "data": {
            "application/vnd.jupyter.widget-view+json": {
              "model_id": "b3feff3b5b0647f4a3b534da56a94d6f",
              "version_major": 2,
              "version_minor": 0
            },
            "text/plain": [
              "train:   0%|          | 0/1243 [00:00<?, ?it/s]"
            ]
          },
          "metadata": {},
          "output_type": "display_data"
        },
        {
          "data": {
            "application/vnd.jupyter.widget-view+json": {
              "model_id": "364c861cb24b49d4a6a9e6a8f586906e",
              "version_major": 2,
              "version_minor": 0
            },
            "text/plain": [
              "validation:   0%|          | 0/156 [00:00<?, ?it/s]"
            ]
          },
          "metadata": {},
          "output_type": "display_data"
        },
        {
          "data": {
            "application/vnd.jupyter.widget-view+json": {
              "model_id": "08826cce970145e1aa2194047fabffd7",
              "version_major": 2,
              "version_minor": 0
            },
            "text/plain": [
              "train:   0%|          | 0/1243 [00:00<?, ?it/s]"
            ]
          },
          "metadata": {},
          "output_type": "display_data"
        },
        {
          "data": {
            "application/vnd.jupyter.widget-view+json": {
              "model_id": "3ad7795fa7314b0c83ac0a1510640df9",
              "version_major": 2,
              "version_minor": 0
            },
            "text/plain": [
              "validation:   0%|          | 0/156 [00:00<?, ?it/s]"
            ]
          },
          "metadata": {},
          "output_type": "display_data"
        },
        {
          "data": {
            "application/vnd.jupyter.widget-view+json": {
              "model_id": "2b661af33b314af789a10800abe2c28e",
              "version_major": 2,
              "version_minor": 0
            },
            "text/plain": [
              "train:   0%|          | 0/1243 [00:00<?, ?it/s]"
            ]
          },
          "metadata": {},
          "output_type": "display_data"
        },
        {
          "data": {
            "application/vnd.jupyter.widget-view+json": {
              "model_id": "ce01bf68289e4d799418ef37b7f37be9",
              "version_major": 2,
              "version_minor": 0
            },
            "text/plain": [
              "validation:   0%|          | 0/156 [00:00<?, ?it/s]"
            ]
          },
          "metadata": {},
          "output_type": "display_data"
        },
        {
          "data": {
            "application/vnd.jupyter.widget-view+json": {
              "model_id": "8557ba76009444caa7b8b30f7a1c9bb5",
              "version_major": 2,
              "version_minor": 0
            },
            "text/plain": [
              "train:   0%|          | 0/1243 [00:00<?, ?it/s]"
            ]
          },
          "metadata": {},
          "output_type": "display_data"
        },
        {
          "data": {
            "application/vnd.jupyter.widget-view+json": {
              "model_id": "801af417b97e48688c79677fad18b97d",
              "version_major": 2,
              "version_minor": 0
            },
            "text/plain": [
              "validation:   0%|          | 0/156 [00:00<?, ?it/s]"
            ]
          },
          "metadata": {},
          "output_type": "display_data"
        },
        {
          "data": {
            "application/vnd.jupyter.widget-view+json": {
              "model_id": "4dff711531cb4a7392bc3c9f69b54ed7",
              "version_major": 2,
              "version_minor": 0
            },
            "text/plain": [
              "train:   0%|          | 0/1243 [00:00<?, ?it/s]"
            ]
          },
          "metadata": {},
          "output_type": "display_data"
        },
        {
          "data": {
            "application/vnd.jupyter.widget-view+json": {
              "model_id": "764a800f1cce40e78d8d4379264174df",
              "version_major": 2,
              "version_minor": 0
            },
            "text/plain": [
              "validation:   0%|          | 0/156 [00:00<?, ?it/s]"
            ]
          },
          "metadata": {},
          "output_type": "display_data"
        },
        {
          "data": {
            "application/vnd.jupyter.widget-view+json": {
              "model_id": "73b7e8c906b5431cb5320e31c5681fcf",
              "version_major": 2,
              "version_minor": 0
            },
            "text/plain": [
              "train:   0%|          | 0/1243 [00:00<?, ?it/s]"
            ]
          },
          "metadata": {},
          "output_type": "display_data"
        },
        {
          "data": {
            "application/vnd.jupyter.widget-view+json": {
              "model_id": "2d07b5d8461d4d93a65e925839413bb8",
              "version_major": 2,
              "version_minor": 0
            },
            "text/plain": [
              "validation:   0%|          | 0/156 [00:00<?, ?it/s]"
            ]
          },
          "metadata": {},
          "output_type": "display_data"
        },
        {
          "data": {
            "application/vnd.jupyter.widget-view+json": {
              "model_id": "990fe8decaae4d569a7690161138db34",
              "version_major": 2,
              "version_minor": 0
            },
            "text/plain": [
              "train:   0%|          | 0/1243 [00:00<?, ?it/s]"
            ]
          },
          "metadata": {},
          "output_type": "display_data"
        },
        {
          "data": {
            "application/vnd.jupyter.widget-view+json": {
              "model_id": "53b5f0b3501f41e8947115eb64773295",
              "version_major": 2,
              "version_minor": 0
            },
            "text/plain": [
              "validation:   0%|          | 0/156 [00:00<?, ?it/s]"
            ]
          },
          "metadata": {},
          "output_type": "display_data"
        },
        {
          "data": {
            "application/vnd.jupyter.widget-view+json": {
              "model_id": "ec706284746942d69053524439002029",
              "version_major": 2,
              "version_minor": 0
            },
            "text/plain": [
              "train:   0%|          | 0/1243 [00:00<?, ?it/s]"
            ]
          },
          "metadata": {},
          "output_type": "display_data"
        },
        {
          "data": {
            "application/vnd.jupyter.widget-view+json": {
              "model_id": "f0c159a3581d4eba8fa322d82fa5fb1e",
              "version_major": 2,
              "version_minor": 0
            },
            "text/plain": [
              "validation:   0%|          | 0/156 [00:00<?, ?it/s]"
            ]
          },
          "metadata": {},
          "output_type": "display_data"
        },
        {
          "data": {
            "application/vnd.jupyter.widget-view+json": {
              "model_id": "b5271a0637c046e6886a90d474f4c45c",
              "version_major": 2,
              "version_minor": 0
            },
            "text/plain": [
              "train:   0%|          | 0/1243 [00:00<?, ?it/s]"
            ]
          },
          "metadata": {},
          "output_type": "display_data"
        },
        {
          "data": {
            "application/vnd.jupyter.widget-view+json": {
              "model_id": "80fa4c0fae774e57be8bff95c2468c94",
              "version_major": 2,
              "version_minor": 0
            },
            "text/plain": [
              "validation:   0%|          | 0/156 [00:00<?, ?it/s]"
            ]
          },
          "metadata": {},
          "output_type": "display_data"
        },
        {
          "data": {
            "application/vnd.jupyter.widget-view+json": {
              "model_id": "e5b57b5f610544e6bf58901ff3134ad4",
              "version_major": 2,
              "version_minor": 0
            },
            "text/plain": [
              "train:   0%|          | 0/1243 [00:00<?, ?it/s]"
            ]
          },
          "metadata": {},
          "output_type": "display_data"
        },
        {
          "data": {
            "application/vnd.jupyter.widget-view+json": {
              "model_id": "7c839c0af0c446c3bcee3cf7c6df93d8",
              "version_major": 2,
              "version_minor": 0
            },
            "text/plain": [
              "validation:   0%|          | 0/156 [00:00<?, ?it/s]"
            ]
          },
          "metadata": {},
          "output_type": "display_data"
        }
      ],
      "source": [
        "perplexities3, losses3 = train_model(\n",
        "    model_3, criterion, optimizer, scheduler,\n",
        "    train_dataloader, eval_dataloader, epochs=21\n",
        ")"
      ]
    },
    {
      "cell_type": "code",
      "execution_count": null,
      "id": "0bd0f8c1",
      "metadata": {
        "execution": {
          "iopub.execute_input": "2024-10-29T19:34:20.107337Z",
          "iopub.status.busy": "2024-10-29T19:34:20.106968Z",
          "iopub.status.idle": "2024-10-29T19:34:20.447320Z",
          "shell.execute_reply": "2024-10-29T19:34:20.446436Z"
        },
        "id": "0bd0f8c1",
        "papermill": {
          "duration": 0.648744,
          "end_time": "2024-10-29T19:34:20.449397",
          "exception": false,
          "start_time": "2024-10-29T19:34:19.800653",
          "status": "completed"
        },
        "tags": [],
        "outputId": "d0f2aa41-718a-447c-9563-4891bbc62dcc"
      },
      "outputs": [
        {
          "data": {
            "image/png": "[encoded data removed]",
            "text/plain": [
              "<Figure size 640x480 with 1 Axes>"
            ]
          },
          "metadata": {},
          "output_type": "display_data"
        }
      ],
      "source": [
        "plt.plot(np.arange(len(losses3)), losses3)\n",
        "plt.title('Losses')\n",
        "plt.xlabel(\"epoch\")\n",
        "plt.show()"
      ]
    },
    {
      "cell_type": "code",
      "execution_count": null,
      "id": "dd3cbfbd",
      "metadata": {
        "execution": {
          "iopub.execute_input": "2024-10-29T19:34:21.114127Z",
          "iopub.status.busy": "2024-10-29T19:34:21.113782Z",
          "iopub.status.idle": "2024-10-29T19:34:21.474641Z",
          "shell.execute_reply": "2024-10-29T19:34:21.473719Z"
        },
        "id": "dd3cbfbd",
        "papermill": {
          "duration": 0.717878,
          "end_time": "2024-10-29T19:34:21.476785",
          "exception": false,
          "start_time": "2024-10-29T19:34:20.758907",
          "status": "completed"
        },
        "tags": [],
        "outputId": "639bf18b-dd4d-41f3-9dd1-aece170b3acd"
      },
      "outputs": [
        {
          "data": {
            "image/png": "[encoded data removed]",
            "text/plain": [
              "<Figure size 640x480 with 1 Axes>"
            ]
          },
          "metadata": {},
          "output_type": "display_data"
        }
      ],
      "source": [
        "plt.plot(np.arange(len(perplexities3)), perplexities3)\n",
        "plt.title('Perplexity')\n",
        "plt.xlabel(\"epoch\")\n",
        "plt.show()"
      ]
    },
    {
      "cell_type": "markdown",
      "id": "8b09d171",
      "metadata": {
        "id": "8b09d171",
        "papermill": {
          "duration": 0.304295,
          "end_time": "2024-10-29T19:34:22.091377",
          "exception": false,
          "start_time": "2024-10-29T19:34:21.787082",
          "status": "completed"
        },
        "tags": []
      },
      "source": [
        "### Эксперимент 2.3. Модель model_4"
      ]
    },
    {
      "cell_type": "markdown",
      "id": "624bc177",
      "metadata": {
        "id": "624bc177",
        "papermill": {
          "duration": 0.308304,
          "end_time": "2024-10-29T19:34:22.707372",
          "exception": false,
          "start_time": "2024-10-29T19:34:22.399068",
          "status": "completed"
        },
        "tags": []
      },
      "source": [
        "Дополнительные линейные bottleneck слои (model_4) + увеличение hidden_dim до 1100"
      ]
    },
    {
      "cell_type": "code",
      "execution_count": null,
      "id": "1e6c865c",
      "metadata": {
        "execution": {
          "iopub.execute_input": "2024-10-29T19:34:23.320816Z",
          "iopub.status.busy": "2024-10-29T19:34:23.320150Z",
          "iopub.status.idle": "2024-10-29T19:34:24.304635Z",
          "shell.execute_reply": "2024-10-29T19:34:24.303618Z"
        },
        "id": "1e6c865c",
        "papermill": {
          "duration": 1.294486,
          "end_time": "2024-10-29T19:34:24.307038",
          "exception": false,
          "start_time": "2024-10-29T19:34:23.012552",
          "status": "completed"
        },
        "tags": []
      },
      "outputs": [],
      "source": [
        "model_4 = LanguageModel_2(1100, len(vocab)).to(device)\n",
        "criterion = nn.CrossEntropyLoss(ignore_index=word2ind['<pad>'])\n",
        "optimizer = torch.optim.Adam(model_4.parameters(), lr=0.0001)\n",
        "scheduler = StepLR(optimizer, step_size=1, gamma=0.8)"
      ]
    },
    {
      "cell_type": "code",
      "execution_count": null,
      "id": "b324a4a5",
      "metadata": {
        "execution": {
          "iopub.execute_input": "2024-10-29T19:34:24.969426Z",
          "iopub.status.busy": "2024-10-29T19:34:24.969071Z",
          "iopub.status.idle": "2024-10-29T21:28:17.002328Z",
          "shell.execute_reply": "2024-10-29T21:28:17.001385Z"
        },
        "id": "b324a4a5",
        "papermill": {
          "duration": 6832.390121,
          "end_time": "2024-10-29T21:28:17.006111",
          "exception": false,
          "start_time": "2024-10-29T19:34:24.615990",
          "status": "completed"
        },
        "tags": [],
        "colab": {
          "referenced_widgets": [
            "42ecc4c4d0214038bf7d3defd1592827",
            "0a52df430c714f5ba61b288789c7eca3",
            "345cdccddb124732896598f76892731e",
            "aa7af0bb57ed480db7917b33855a5fc0",
            "0e150b91005d48ee9e18d884156648d5",
            "932fbabaebbe47b1a97ab326d4c77fab",
            "566b4f404d58440b8312ed5337a54efd",
            "5a81e8bcf3754385a915af13d386e2ea",
            "ac9d882733444607851ff33478634fc6",
            "bc1bbdeb79b54e0cb5badcba95b866f0",
            "b3eaabf3961544d584ec5121340c8329",
            "f4e74b06583b447590dfde47b27a6940",
            "b3f0887a03634e51ad57a005990fcb50",
            "4b2cbd5491a24f53b44ea44b86199fa9",
            "4ce599d4dae94c91bb531bfb0b8037d2",
            "4a788e84b67545afb8c21eaf3f86c52c",
            "f4faa3cfdfb54876aae3fad61f3a58f7",
            "b1e5f177dd5b47f7915234bf08c2965b",
            "e48064d50683492386e90087eaa7e795",
            "8d5d895a8de34dd9bb80f34deef3d002",
            "78b5fb3d892c429192bac31f6f0b7bbc",
            "ea16169935654ca7a7077c5fe599c792",
            "6e802efdbea44720a56535ca0c11e149",
            "f553624725f44ae2be9f56d0d73bdb9c",
            "76ea88badd29484cab1a5e1b14ff9138",
            "bef5e820dadf40d185ba065d34d7ccb6",
            "d335931af5c3459ea421b9fe7e593ce0",
            "16274bc749f04495912bb092cceba3f7",
            "fea26172a6ae4e5a9e790cab643e8f0b",
            "f55ed3feb2234607b5567714e7e5607b",
            "6f25aa683c6146b8916bc3552c20fe88",
            "6f96781b39d446ccaaf0e5d31f57b84e",
            "7b87487ca1144dc7bb2eff3df2f637a8",
            "b9d18d8861de4067937a5a934234c911",
            "5b7d24cd060348b98d94bbc9d4592d98",
            "a65a9bedc01c4e29b60c89cbc6c1e272",
            "5c769601efe34a958cd8c196cdc28677",
            "a7609256266846fd8280f7b3e7871e25",
            "cf309d6157614e7181b7abd65bb87e5f",
            "24c76e55672b436c8d027e0e5607ddeb",
            "d91f583b37f94b949148533bb579ff2b",
            "491fae7f852a4beca42289d622c52927",
            "4ae5ec0e5b2940c0aa1cbcb006151fe9"
          ]
        },
        "outputId": "dc687610-b1bf-4da8-ff1d-12106295940a"
      },
      "outputs": [
        {
          "data": {
            "application/vnd.jupyter.widget-view+json": {
              "model_id": "42ecc4c4d0214038bf7d3defd1592827",
              "version_major": 2,
              "version_minor": 0
            },
            "text/plain": [
              "epoch:   0%|          | 0/21 [00:00<?, ?it/s]"
            ]
          },
          "metadata": {},
          "output_type": "display_data"
        },
        {
          "data": {
            "application/vnd.jupyter.widget-view+json": {
              "model_id": "0a52df430c714f5ba61b288789c7eca3",
              "version_major": 2,
              "version_minor": 0
            },
            "text/plain": [
              "train:   0%|          | 0/1243 [00:00<?, ?it/s]"
            ]
          },
          "metadata": {},
          "output_type": "display_data"
        },
        {
          "data": {
            "application/vnd.jupyter.widget-view+json": {
              "model_id": "345cdccddb124732896598f76892731e",
              "version_major": 2,
              "version_minor": 0
            },
            "text/plain": [
              "validation:   0%|          | 0/156 [00:00<?, ?it/s]"
            ]
          },
          "metadata": {},
          "output_type": "display_data"
        },
        {
          "data": {
            "application/vnd.jupyter.widget-view+json": {
              "model_id": "aa7af0bb57ed480db7917b33855a5fc0",
              "version_major": 2,
              "version_minor": 0
            },
            "text/plain": [
              "train:   0%|          | 0/1243 [00:00<?, ?it/s]"
            ]
          },
          "metadata": {},
          "output_type": "display_data"
        },
        {
          "data": {
            "application/vnd.jupyter.widget-view+json": {
              "model_id": "0e150b91005d48ee9e18d884156648d5",
              "version_major": 2,
              "version_minor": 0
            },
            "text/plain": [
              "validation:   0%|          | 0/156 [00:00<?, ?it/s]"
            ]
          },
          "metadata": {},
          "output_type": "display_data"
        },
        {
          "data": {
            "application/vnd.jupyter.widget-view+json": {
              "model_id": "932fbabaebbe47b1a97ab326d4c77fab",
              "version_major": 2,
              "version_minor": 0
            },
            "text/plain": [
              "train:   0%|          | 0/1243 [00:00<?, ?it/s]"
            ]
          },
          "metadata": {},
          "output_type": "display_data"
        },
        {
          "data": {
            "application/vnd.jupyter.widget-view+json": {
              "model_id": "566b4f404d58440b8312ed5337a54efd",
              "version_major": 2,
              "version_minor": 0
            },
            "text/plain": [
              "validation:   0%|          | 0/156 [00:00<?, ?it/s]"
            ]
          },
          "metadata": {},
          "output_type": "display_data"
        },
        {
          "data": {
            "application/vnd.jupyter.widget-view+json": {
              "model_id": "5a81e8bcf3754385a915af13d386e2ea",
              "version_major": 2,
              "version_minor": 0
            },
            "text/plain": [
              "train:   0%|          | 0/1243 [00:00<?, ?it/s]"
            ]
          },
          "metadata": {},
          "output_type": "display_data"
        },
        {
          "data": {
            "application/vnd.jupyter.widget-view+json": {
              "model_id": "ac9d882733444607851ff33478634fc6",
              "version_major": 2,
              "version_minor": 0
            },
            "text/plain": [
              "validation:   0%|          | 0/156 [00:00<?, ?it/s]"
            ]
          },
          "metadata": {},
          "output_type": "display_data"
        },
        {
          "data": {
            "application/vnd.jupyter.widget-view+json": {
              "model_id": "bc1bbdeb79b54e0cb5badcba95b866f0",
              "version_major": 2,
              "version_minor": 0
            },
            "text/plain": [
              "train:   0%|          | 0/1243 [00:00<?, ?it/s]"
            ]
          },
          "metadata": {},
          "output_type": "display_data"
        },
        {
          "data": {
            "application/vnd.jupyter.widget-view+json": {
              "model_id": "b3eaabf3961544d584ec5121340c8329",
              "version_major": 2,
              "version_minor": 0
            },
            "text/plain": [
              "validation:   0%|          | 0/156 [00:00<?, ?it/s]"
            ]
          },
          "metadata": {},
          "output_type": "display_data"
        },
        {
          "data": {
            "application/vnd.jupyter.widget-view+json": {
              "model_id": "f4e74b06583b447590dfde47b27a6940",
              "version_major": 2,
              "version_minor": 0
            },
            "text/plain": [
              "train:   0%|          | 0/1243 [00:00<?, ?it/s]"
            ]
          },
          "metadata": {},
          "output_type": "display_data"
        },
        {
          "data": {
            "application/vnd.jupyter.widget-view+json": {
              "model_id": "b3f0887a03634e51ad57a005990fcb50",
              "version_major": 2,
              "version_minor": 0
            },
            "text/plain": [
              "validation:   0%|          | 0/156 [00:00<?, ?it/s]"
            ]
          },
          "metadata": {},
          "output_type": "display_data"
        },
        {
          "data": {
            "application/vnd.jupyter.widget-view+json": {
              "model_id": "4b2cbd5491a24f53b44ea44b86199fa9",
              "version_major": 2,
              "version_minor": 0
            },
            "text/plain": [
              "train:   0%|          | 0/1243 [00:00<?, ?it/s]"
            ]
          },
          "metadata": {},
          "output_type": "display_data"
        },
        {
          "data": {
            "application/vnd.jupyter.widget-view+json": {
              "model_id": "4ce599d4dae94c91bb531bfb0b8037d2",
              "version_major": 2,
              "version_minor": 0
            },
            "text/plain": [
              "validation:   0%|          | 0/156 [00:00<?, ?it/s]"
            ]
          },
          "metadata": {},
          "output_type": "display_data"
        },
        {
          "data": {
            "application/vnd.jupyter.widget-view+json": {
              "model_id": "4a788e84b67545afb8c21eaf3f86c52c",
              "version_major": 2,
              "version_minor": 0
            },
            "text/plain": [
              "train:   0%|          | 0/1243 [00:00<?, ?it/s]"
            ]
          },
          "metadata": {},
          "output_type": "display_data"
        },
        {
          "data": {
            "application/vnd.jupyter.widget-view+json": {
              "model_id": "f4faa3cfdfb54876aae3fad61f3a58f7",
              "version_major": 2,
              "version_minor": 0
            },
            "text/plain": [
              "validation:   0%|          | 0/156 [00:00<?, ?it/s]"
            ]
          },
          "metadata": {},
          "output_type": "display_data"
        },
        {
          "data": {
            "application/vnd.jupyter.widget-view+json": {
              "model_id": "b1e5f177dd5b47f7915234bf08c2965b",
              "version_major": 2,
              "version_minor": 0
            },
            "text/plain": [
              "train:   0%|          | 0/1243 [00:00<?, ?it/s]"
            ]
          },
          "metadata": {},
          "output_type": "display_data"
        },
        {
          "data": {
            "application/vnd.jupyter.widget-view+json": {
              "model_id": "e48064d50683492386e90087eaa7e795",
              "version_major": 2,
              "version_minor": 0
            },
            "text/plain": [
              "validation:   0%|          | 0/156 [00:00<?, ?it/s]"
            ]
          },
          "metadata": {},
          "output_type": "display_data"
        },
        {
          "data": {
            "application/vnd.jupyter.widget-view+json": {
              "model_id": "8d5d895a8de34dd9bb80f34deef3d002",
              "version_major": 2,
              "version_minor": 0
            },
            "text/plain": [
              "train:   0%|          | 0/1243 [00:00<?, ?it/s]"
            ]
          },
          "metadata": {},
          "output_type": "display_data"
        },
        {
          "data": {
            "application/vnd.jupyter.widget-view+json": {
              "model_id": "78b5fb3d892c429192bac31f6f0b7bbc",
              "version_major": 2,
              "version_minor": 0
            },
            "text/plain": [
              "validation:   0%|          | 0/156 [00:00<?, ?it/s]"
            ]
          },
          "metadata": {},
          "output_type": "display_data"
        },
        {
          "data": {
            "application/vnd.jupyter.widget-view+json": {
              "model_id": "ea16169935654ca7a7077c5fe599c792",
              "version_major": 2,
              "version_minor": 0
            },
            "text/plain": [
              "train:   0%|          | 0/1243 [00:00<?, ?it/s]"
            ]
          },
          "metadata": {},
          "output_type": "display_data"
        },
        {
          "data": {
            "application/vnd.jupyter.widget-view+json": {
              "model_id": "6e802efdbea44720a56535ca0c11e149",
              "version_major": 2,
              "version_minor": 0
            },
            "text/plain": [
              "validation:   0%|          | 0/156 [00:00<?, ?it/s]"
            ]
          },
          "metadata": {},
          "output_type": "display_data"
        },
        {
          "data": {
            "application/vnd.jupyter.widget-view+json": {
              "model_id": "f553624725f44ae2be9f56d0d73bdb9c",
              "version_major": 2,
              "version_minor": 0
            },
            "text/plain": [
              "train:   0%|          | 0/1243 [00:00<?, ?it/s]"
            ]
          },
          "metadata": {},
          "output_type": "display_data"
        },
        {
          "data": {
            "application/vnd.jupyter.widget-view+json": {
              "model_id": "76ea88badd29484cab1a5e1b14ff9138",
              "version_major": 2,
              "version_minor": 0
            },
            "text/plain": [
              "validation:   0%|          | 0/156 [00:00<?, ?it/s]"
            ]
          },
          "metadata": {},
          "output_type": "display_data"
        },
        {
          "data": {
            "application/vnd.jupyter.widget-view+json": {
              "model_id": "bef5e820dadf40d185ba065d34d7ccb6",
              "version_major": 2,
              "version_minor": 0
            },
            "text/plain": [
              "train:   0%|          | 0/1243 [00:00<?, ?it/s]"
            ]
          },
          "metadata": {},
          "output_type": "display_data"
        },
        {
          "data": {
            "application/vnd.jupyter.widget-view+json": {
              "model_id": "d335931af5c3459ea421b9fe7e593ce0",
              "version_major": 2,
              "version_minor": 0
            },
            "text/plain": [
              "validation:   0%|          | 0/156 [00:00<?, ?it/s]"
            ]
          },
          "metadata": {},
          "output_type": "display_data"
        },
        {
          "data": {
            "application/vnd.jupyter.widget-view+json": {
              "model_id": "16274bc749f04495912bb092cceba3f7",
              "version_major": 2,
              "version_minor": 0
            },
            "text/plain": [
              "train:   0%|          | 0/1243 [00:00<?, ?it/s]"
            ]
          },
          "metadata": {},
          "output_type": "display_data"
        },
        {
          "data": {
            "application/vnd.jupyter.widget-view+json": {
              "model_id": "fea26172a6ae4e5a9e790cab643e8f0b",
              "version_major": 2,
              "version_minor": 0
            },
            "text/plain": [
              "validation:   0%|          | 0/156 [00:00<?, ?it/s]"
            ]
          },
          "metadata": {},
          "output_type": "display_data"
        },
        {
          "data": {
            "application/vnd.jupyter.widget-view+json": {
              "model_id": "f55ed3feb2234607b5567714e7e5607b",
              "version_major": 2,
              "version_minor": 0
            },
            "text/plain": [
              "train:   0%|          | 0/1243 [00:00<?, ?it/s]"
            ]
          },
          "metadata": {},
          "output_type": "display_data"
        },
        {
          "data": {
            "application/vnd.jupyter.widget-view+json": {
              "model_id": "6f25aa683c6146b8916bc3552c20fe88",
              "version_major": 2,
              "version_minor": 0
            },
            "text/plain": [
              "validation:   0%|          | 0/156 [00:00<?, ?it/s]"
            ]
          },
          "metadata": {},
          "output_type": "display_data"
        },
        {
          "data": {
            "application/vnd.jupyter.widget-view+json": {
              "model_id": "6f96781b39d446ccaaf0e5d31f57b84e",
              "version_major": 2,
              "version_minor": 0
            },
            "text/plain": [
              "train:   0%|          | 0/1243 [00:00<?, ?it/s]"
            ]
          },
          "metadata": {},
          "output_type": "display_data"
        },
        {
          "data": {
            "application/vnd.jupyter.widget-view+json": {
              "model_id": "7b87487ca1144dc7bb2eff3df2f637a8",
              "version_major": 2,
              "version_minor": 0
            },
            "text/plain": [
              "validation:   0%|          | 0/156 [00:00<?, ?it/s]"
            ]
          },
          "metadata": {},
          "output_type": "display_data"
        },
        {
          "data": {
            "application/vnd.jupyter.widget-view+json": {
              "model_id": "b9d18d8861de4067937a5a934234c911",
              "version_major": 2,
              "version_minor": 0
            },
            "text/plain": [
              "train:   0%|          | 0/1243 [00:00<?, ?it/s]"
            ]
          },
          "metadata": {},
          "output_type": "display_data"
        },
        {
          "data": {
            "application/vnd.jupyter.widget-view+json": {
              "model_id": "5b7d24cd060348b98d94bbc9d4592d98",
              "version_major": 2,
              "version_minor": 0
            },
            "text/plain": [
              "validation:   0%|          | 0/156 [00:00<?, ?it/s]"
            ]
          },
          "metadata": {},
          "output_type": "display_data"
        },
        {
          "data": {
            "application/vnd.jupyter.widget-view+json": {
              "model_id": "a65a9bedc01c4e29b60c89cbc6c1e272",
              "version_major": 2,
              "version_minor": 0
            },
            "text/plain": [
              "train:   0%|          | 0/1243 [00:00<?, ?it/s]"
            ]
          },
          "metadata": {},
          "output_type": "display_data"
        },
        {
          "data": {
            "application/vnd.jupyter.widget-view+json": {
              "model_id": "5c769601efe34a958cd8c196cdc28677",
              "version_major": 2,
              "version_minor": 0
            },
            "text/plain": [
              "validation:   0%|          | 0/156 [00:00<?, ?it/s]"
            ]
          },
          "metadata": {},
          "output_type": "display_data"
        },
        {
          "data": {
            "application/vnd.jupyter.widget-view+json": {
              "model_id": "a7609256266846fd8280f7b3e7871e25",
              "version_major": 2,
              "version_minor": 0
            },
            "text/plain": [
              "train:   0%|          | 0/1243 [00:00<?, ?it/s]"
            ]
          },
          "metadata": {},
          "output_type": "display_data"
        },
        {
          "data": {
            "application/vnd.jupyter.widget-view+json": {
              "model_id": "cf309d6157614e7181b7abd65bb87e5f",
              "version_major": 2,
              "version_minor": 0
            },
            "text/plain": [
              "validation:   0%|          | 0/156 [00:00<?, ?it/s]"
            ]
          },
          "metadata": {},
          "output_type": "display_data"
        },
        {
          "data": {
            "application/vnd.jupyter.widget-view+json": {
              "model_id": "24c76e55672b436c8d027e0e5607ddeb",
              "version_major": 2,
              "version_minor": 0
            },
            "text/plain": [
              "train:   0%|          | 0/1243 [00:00<?, ?it/s]"
            ]
          },
          "metadata": {},
          "output_type": "display_data"
        },
        {
          "data": {
            "application/vnd.jupyter.widget-view+json": {
              "model_id": "d91f583b37f94b949148533bb579ff2b",
              "version_major": 2,
              "version_minor": 0
            },
            "text/plain": [
              "validation:   0%|          | 0/156 [00:00<?, ?it/s]"
            ]
          },
          "metadata": {},
          "output_type": "display_data"
        },
        {
          "data": {
            "application/vnd.jupyter.widget-view+json": {
              "model_id": "491fae7f852a4beca42289d622c52927",
              "version_major": 2,
              "version_minor": 0
            },
            "text/plain": [
              "train:   0%|          | 0/1243 [00:00<?, ?it/s]"
            ]
          },
          "metadata": {},
          "output_type": "display_data"
        },
        {
          "data": {
            "application/vnd.jupyter.widget-view+json": {
              "model_id": "4ae5ec0e5b2940c0aa1cbcb006151fe9",
              "version_major": 2,
              "version_minor": 0
            },
            "text/plain": [
              "validation:   0%|          | 0/156 [00:00<?, ?it/s]"
            ]
          },
          "metadata": {},
          "output_type": "display_data"
        }
      ],
      "source": [
        "perplexities4, losses4 = train_model(\n",
        "    model_4, criterion, optimizer,\n",
        "    scheduler, train_dataloader, eval_dataloader, epochs=21\n",
        ")"
      ]
    },
    {
      "cell_type": "code",
      "execution_count": null,
      "id": "994aea8d",
      "metadata": {
        "execution": {
          "iopub.execute_input": "2024-10-29T21:28:17.691279Z",
          "iopub.status.busy": "2024-10-29T21:28:17.690626Z",
          "iopub.status.idle": "2024-10-29T21:28:18.075434Z",
          "shell.execute_reply": "2024-10-29T21:28:18.074332Z"
        },
        "id": "994aea8d",
        "papermill": {
          "duration": 0.748382,
          "end_time": "2024-10-29T21:28:18.078026",
          "exception": false,
          "start_time": "2024-10-29T21:28:17.329644",
          "status": "completed"
        },
        "tags": [],
        "outputId": "59f1b62d-7796-451a-c74f-8d4f906ed3d5"
      },
      "outputs": [
        {
          "data": {
            "image/png": "[encoded data removed]",
            "text/plain": [
              "<Figure size 640x480 with 1 Axes>"
            ]
          },
          "metadata": {},
          "output_type": "display_data"
        }
      ],
      "source": [
        "plt.plot(np.arange(len(losses4)), losses4)\n",
        "plt.title('Losses')\n",
        "plt.xlabel(\"epoch\")\n",
        "plt.show()"
      ]
    },
    {
      "cell_type": "code",
      "execution_count": null,
      "id": "8ab74aff",
      "metadata": {
        "execution": {
          "iopub.execute_input": "2024-10-29T21:28:18.754362Z",
          "iopub.status.busy": "2024-10-29T21:28:18.753418Z",
          "iopub.status.idle": "2024-10-29T21:28:19.090546Z",
          "shell.execute_reply": "2024-10-29T21:28:19.089514Z"
        },
        "id": "8ab74aff",
        "papermill": {
          "duration": 0.656675,
          "end_time": "2024-10-29T21:28:19.092836",
          "exception": false,
          "start_time": "2024-10-29T21:28:18.436161",
          "status": "completed"
        },
        "tags": [],
        "outputId": "9ef6cce0-6b6a-4034-857e-e9aa3f287d2d"
      },
      "outputs": [
        {
          "data": {
            "image/png": "[encoded data removed]",
            "text/plain": [
              "<Figure size 640x480 with 1 Axes>"
            ]
          },
          "metadata": {},
          "output_type": "display_data"
        }
      ],
      "source": [
        "plt.plot(np.arange(len(perplexities4)), perplexities4)\n",
        "plt.title('Perplexity')\n",
        "plt.xlabel(\"epoch\")\n",
        "plt.show()"
      ]
    },
    {
      "cell_type": "markdown",
      "id": "473c5ca6",
      "metadata": {
        "papermill": {
          "duration": 0.313826,
          "end_time": "2024-10-29T21:28:19.738889",
          "exception": false,
          "start_time": "2024-10-29T21:28:19.425063",
          "status": "completed"
        },
        "tags": [],
        "id": "473c5ca6"
      },
      "source": [
        "## Эксперимент 4. Модель model_5"
      ]
    },
    {
      "cell_type": "markdown",
      "id": "0d7906fe",
      "metadata": {
        "papermill": {
          "duration": 0.313815,
          "end_time": "2024-10-29T21:28:20.367574",
          "exception": false,
          "start_time": "2024-10-29T21:28:20.053759",
          "status": "completed"
        },
        "tags": [],
        "id": "0d7906fe"
      },
      "source": [
        "Делаем LSTM двунаправленной"
      ]
    },
    {
      "cell_type": "code",
      "execution_count": null,
      "id": "1382c763",
      "metadata": {
        "execution": {
          "iopub.execute_input": "2024-10-29T21:28:20.993496Z",
          "iopub.status.busy": "2024-10-29T21:28:20.993096Z",
          "iopub.status.idle": "2024-10-29T21:28:21.002003Z",
          "shell.execute_reply": "2024-10-29T21:28:21.001136Z"
        },
        "papermill": {
          "duration": 0.324212,
          "end_time": "2024-10-29T21:28:21.003977",
          "exception": false,
          "start_time": "2024-10-29T21:28:20.679765",
          "status": "completed"
        },
        "tags": [],
        "id": "1382c763"
      },
      "outputs": [],
      "source": [
        "class LanguageModel_3(nn.Module):\n",
        "    def __init__(self, hidden_dim, vocab_size):\n",
        "        super().__init__()\n",
        "        self.embedding = nn.Embedding(vocab_size, hidden_dim)\n",
        "\n",
        "        self.lstm = nn.LSTM(\n",
        "            hidden_dim,\n",
        "            hidden_dim,\n",
        "            batch_first=True,\n",
        "            bidirectional=True  # Включаем двунаправленность\n",
        "        )\n",
        "\n",
        "        # Меняем входную размерность linear_up, так как выход LSTM теперь в 2 раза больше\n",
        "        self.linear_up = nn.Linear(hidden_dim * 2, 2 * hidden_dim)\n",
        "        self.linear_down = nn.Linear(2 * hidden_dim, hidden_dim)\n",
        "        self.projection = nn.Linear(hidden_dim, vocab_size)\n",
        "\n",
        "        self.non_linear = nn.Tanh()\n",
        "        self.dropout = nn.Dropout(0.2)\n",
        "\n",
        "    def forward(self, input_batch: torch.Tensor) -> torch.Tensor:\n",
        "        embeddings = self.embedding(input_batch)\n",
        "        output, _ = self.lstm(embeddings)\n",
        "\n",
        "        output = self.dropout(self.non_linear(self.linear_up(output)))\n",
        "        output = self.dropout(self.non_linear(self.linear_down(output)))\n",
        "        prediction = self.projection(output)\n",
        "\n",
        "        return prediction"
      ]
    },
    {
      "cell_type": "code",
      "execution_count": null,
      "id": "c02172d8",
      "metadata": {
        "execution": {
          "iopub.execute_input": "2024-10-29T21:28:21.697433Z",
          "iopub.status.busy": "2024-10-29T21:28:21.696811Z",
          "iopub.status.idle": "2024-10-29T21:28:22.688369Z",
          "shell.execute_reply": "2024-10-29T21:28:22.687383Z"
        },
        "papermill": {
          "duration": 1.321354,
          "end_time": "2024-10-29T21:28:22.690710",
          "exception": false,
          "start_time": "2024-10-29T21:28:21.369356",
          "status": "completed"
        },
        "tags": [],
        "id": "c02172d8"
      },
      "outputs": [],
      "source": [
        "model_5 = LanguageModel_3(1024, len(vocab)).to(device)\n",
        "criterion = nn.CrossEntropyLoss(ignore_index=word2ind['<pad>'])\n",
        "optimizer = torch.optim.Adam(model_5.parameters(), lr=0.0001)\n",
        "scheduler = StepLR(optimizer, step_size=1, gamma=0.8)"
      ]
    },
    {
      "cell_type": "code",
      "execution_count": null,
      "id": "cd49a6d7",
      "metadata": {
        "execution": {
          "iopub.execute_input": "2024-10-29T21:28:23.326335Z",
          "iopub.status.busy": "2024-10-29T21:28:23.325663Z",
          "iopub.status.idle": "2024-10-29T23:24:18.678570Z",
          "shell.execute_reply": "2024-10-29T23:24:18.677627Z"
        },
        "papermill": {
          "duration": 6955.673812,
          "end_time": "2024-10-29T23:24:18.681399",
          "exception": false,
          "start_time": "2024-10-29T21:28:23.007587",
          "status": "completed"
        },
        "tags": [],
        "colab": {
          "referenced_widgets": [
            "938e590f724e4e62a82d281678157e3e",
            "8d80f4af9fa54496b06184d9a4a4df64",
            "7f5a12b9a1ad4f739df5992a787f9042",
            "73142c21af1c49758069d452939952cb",
            "ae3c3820c34147b982c7884b2fad1b35",
            "96e3cc018b6f4b35af0be0cfc42083b6",
            "6004dd5aa997492a98fe8a407479dc81",
            "46fa404d40664e608d499286e7a1b21e",
            "f0a01cca8f2e45ae8a24b24036db5881",
            "8c8fc31ec7f74ae6930ce692242fbde9",
            "8ffd0f13077d41b18febef53ec4b54d8",
            "725b7b02057a4b6e82a24954d4737893",
            "1e32024e1d3f4fec9647d8d8d245e864",
            "4495946cf4444c5e98c994c61792fa0b",
            "b279e92af992427db590a04f0c95014a",
            "e0efa23adcd1479881184c3e86d293a1",
            "61e2d0dc3e9a4a73a6d15401e78b9ecc",
            "0a293f729c4347f2a31befef349187c4",
            "e4b0c1ef16e24f73bf2dd59fd4cb63cf",
            "27270d2164424e44a8b470cba5b92373",
            "6b161e4f47ff419f8bd65145198fbb1b",
            "c1bdf91fc5cc4c3e90d640ffe292e250",
            "fd52d286c03b460b9ca53288baf771f6",
            "0785696f352d460c9229cf2bae3ec83d",
            "050e21d2019043c595e94192e462ffe8",
            "ebd1762f7cb7474db62fc7fd1826be7d",
            "eeaad11e61c74c4682f318ea4c29b8d9",
            "7e8f0857e1e5476a8950881b09b06343",
            "198912ffc7a24b6bb9571359a60f3e1b",
            "712fba90429246ac9ebb176edf08a671",
            "6cd82c4e863f4acfa6d7fe9e117c1a49",
            "65f1674f6d6e4700924caf6eb53fd33d",
            "7a1000f846c246ebbb6d0c329a5a0e43",
            "f48fc28b1fc2499281943cc1f3ab8439",
            "3f7e5a1c29fd4d869b46482f1b420597",
            "df4969e7e58a45d8a64fc645dc3553ff",
            "aae6c27ef6a04e2a8b27a60c43873a2e",
            "29202df24fa14ab18fa52344a6b61c16",
            "8035d939b424470582c7efc77f194573",
            "45ae1a860b124ceca287908bc8793853",
            "7bd8c64306d84b21b1a7920728fd17f8",
            "5e8fdd8861df440e98950fada22a6e51",
            "4a0806f86fcd4ffe8d0dfdff3dae1846"
          ]
        },
        "id": "cd49a6d7",
        "outputId": "41910975-b92e-443a-8eee-a8597361ec02"
      },
      "outputs": [
        {
          "data": {
            "application/vnd.jupyter.widget-view+json": {
              "model_id": "938e590f724e4e62a82d281678157e3e",
              "version_major": 2,
              "version_minor": 0
            },
            "text/plain": [
              "epoch:   0%|          | 0/21 [00:00<?, ?it/s]"
            ]
          },
          "metadata": {},
          "output_type": "display_data"
        },
        {
          "data": {
            "application/vnd.jupyter.widget-view+json": {
              "model_id": "8d80f4af9fa54496b06184d9a4a4df64",
              "version_major": 2,
              "version_minor": 0
            },
            "text/plain": [
              "train:   0%|          | 0/1243 [00:00<?, ?it/s]"
            ]
          },
          "metadata": {},
          "output_type": "display_data"
        },
        {
          "data": {
            "application/vnd.jupyter.widget-view+json": {
              "model_id": "7f5a12b9a1ad4f739df5992a787f9042",
              "version_major": 2,
              "version_minor": 0
            },
            "text/plain": [
              "validation:   0%|          | 0/156 [00:00<?, ?it/s]"
            ]
          },
          "metadata": {},
          "output_type": "display_data"
        },
        {
          "data": {
            "application/vnd.jupyter.widget-view+json": {
              "model_id": "73142c21af1c49758069d452939952cb",
              "version_major": 2,
              "version_minor": 0
            },
            "text/plain": [
              "train:   0%|          | 0/1243 [00:00<?, ?it/s]"
            ]
          },
          "metadata": {},
          "output_type": "display_data"
        },
        {
          "data": {
            "application/vnd.jupyter.widget-view+json": {
              "model_id": "ae3c3820c34147b982c7884b2fad1b35",
              "version_major": 2,
              "version_minor": 0
            },
            "text/plain": [
              "validation:   0%|          | 0/156 [00:00<?, ?it/s]"
            ]
          },
          "metadata": {},
          "output_type": "display_data"
        },
        {
          "data": {
            "application/vnd.jupyter.widget-view+json": {
              "model_id": "96e3cc018b6f4b35af0be0cfc42083b6",
              "version_major": 2,
              "version_minor": 0
            },
            "text/plain": [
              "train:   0%|          | 0/1243 [00:00<?, ?it/s]"
            ]
          },
          "metadata": {},
          "output_type": "display_data"
        },
        {
          "data": {
            "application/vnd.jupyter.widget-view+json": {
              "model_id": "6004dd5aa997492a98fe8a407479dc81",
              "version_major": 2,
              "version_minor": 0
            },
            "text/plain": [
              "validation:   0%|          | 0/156 [00:00<?, ?it/s]"
            ]
          },
          "metadata": {},
          "output_type": "display_data"
        },
        {
          "data": {
            "application/vnd.jupyter.widget-view+json": {
              "model_id": "46fa404d40664e608d499286e7a1b21e",
              "version_major": 2,
              "version_minor": 0
            },
            "text/plain": [
              "train:   0%|          | 0/1243 [00:00<?, ?it/s]"
            ]
          },
          "metadata": {},
          "output_type": "display_data"
        },
        {
          "data": {
            "application/vnd.jupyter.widget-view+json": {
              "model_id": "f0a01cca8f2e45ae8a24b24036db5881",
              "version_major": 2,
              "version_minor": 0
            },
            "text/plain": [
              "validation:   0%|          | 0/156 [00:00<?, ?it/s]"
            ]
          },
          "metadata": {},
          "output_type": "display_data"
        },
        {
          "data": {
            "application/vnd.jupyter.widget-view+json": {
              "model_id": "8c8fc31ec7f74ae6930ce692242fbde9",
              "version_major": 2,
              "version_minor": 0
            },
            "text/plain": [
              "train:   0%|          | 0/1243 [00:00<?, ?it/s]"
            ]
          },
          "metadata": {},
          "output_type": "display_data"
        },
        {
          "data": {
            "application/vnd.jupyter.widget-view+json": {
              "model_id": "8ffd0f13077d41b18febef53ec4b54d8",
              "version_major": 2,
              "version_minor": 0
            },
            "text/plain": [
              "validation:   0%|          | 0/156 [00:00<?, ?it/s]"
            ]
          },
          "metadata": {},
          "output_type": "display_data"
        },
        {
          "data": {
            "application/vnd.jupyter.widget-view+json": {
              "model_id": "725b7b02057a4b6e82a24954d4737893",
              "version_major": 2,
              "version_minor": 0
            },
            "text/plain": [
              "train:   0%|          | 0/1243 [00:00<?, ?it/s]"
            ]
          },
          "metadata": {},
          "output_type": "display_data"
        },
        {
          "data": {
            "application/vnd.jupyter.widget-view+json": {
              "model_id": "1e32024e1d3f4fec9647d8d8d245e864",
              "version_major": 2,
              "version_minor": 0
            },
            "text/plain": [
              "validation:   0%|          | 0/156 [00:00<?, ?it/s]"
            ]
          },
          "metadata": {},
          "output_type": "display_data"
        },
        {
          "data": {
            "application/vnd.jupyter.widget-view+json": {
              "model_id": "4495946cf4444c5e98c994c61792fa0b",
              "version_major": 2,
              "version_minor": 0
            },
            "text/plain": [
              "train:   0%|          | 0/1243 [00:00<?, ?it/s]"
            ]
          },
          "metadata": {},
          "output_type": "display_data"
        },
        {
          "data": {
            "application/vnd.jupyter.widget-view+json": {
              "model_id": "b279e92af992427db590a04f0c95014a",
              "version_major": 2,
              "version_minor": 0
            },
            "text/plain": [
              "validation:   0%|          | 0/156 [00:00<?, ?it/s]"
            ]
          },
          "metadata": {},
          "output_type": "display_data"
        },
        {
          "data": {
            "application/vnd.jupyter.widget-view+json": {
              "model_id": "e0efa23adcd1479881184c3e86d293a1",
              "version_major": 2,
              "version_minor": 0
            },
            "text/plain": [
              "train:   0%|          | 0/1243 [00:00<?, ?it/s]"
            ]
          },
          "metadata": {},
          "output_type": "display_data"
        },
        {
          "data": {
            "application/vnd.jupyter.widget-view+json": {
              "model_id": "61e2d0dc3e9a4a73a6d15401e78b9ecc",
              "version_major": 2,
              "version_minor": 0
            },
            "text/plain": [
              "validation:   0%|          | 0/156 [00:00<?, ?it/s]"
            ]
          },
          "metadata": {},
          "output_type": "display_data"
        },
        {
          "data": {
            "application/vnd.jupyter.widget-view+json": {
              "model_id": "0a293f729c4347f2a31befef349187c4",
              "version_major": 2,
              "version_minor": 0
            },
            "text/plain": [
              "train:   0%|          | 0/1243 [00:00<?, ?it/s]"
            ]
          },
          "metadata": {},
          "output_type": "display_data"
        },
        {
          "data": {
            "application/vnd.jupyter.widget-view+json": {
              "model_id": "e4b0c1ef16e24f73bf2dd59fd4cb63cf",
              "version_major": 2,
              "version_minor": 0
            },
            "text/plain": [
              "validation:   0%|          | 0/156 [00:00<?, ?it/s]"
            ]
          },
          "metadata": {},
          "output_type": "display_data"
        },
        {
          "data": {
            "application/vnd.jupyter.widget-view+json": {
              "model_id": "27270d2164424e44a8b470cba5b92373",
              "version_major": 2,
              "version_minor": 0
            },
            "text/plain": [
              "train:   0%|          | 0/1243 [00:00<?, ?it/s]"
            ]
          },
          "metadata": {},
          "output_type": "display_data"
        },
        {
          "data": {
            "application/vnd.jupyter.widget-view+json": {
              "model_id": "6b161e4f47ff419f8bd65145198fbb1b",
              "version_major": 2,
              "version_minor": 0
            },
            "text/plain": [
              "validation:   0%|          | 0/156 [00:00<?, ?it/s]"
            ]
          },
          "metadata": {},
          "output_type": "display_data"
        },
        {
          "data": {
            "application/vnd.jupyter.widget-view+json": {
              "model_id": "c1bdf91fc5cc4c3e90d640ffe292e250",
              "version_major": 2,
              "version_minor": 0
            },
            "text/plain": [
              "train:   0%|          | 0/1243 [00:00<?, ?it/s]"
            ]
          },
          "metadata": {},
          "output_type": "display_data"
        },
        {
          "data": {
            "application/vnd.jupyter.widget-view+json": {
              "model_id": "fd52d286c03b460b9ca53288baf771f6",
              "version_major": 2,
              "version_minor": 0
            },
            "text/plain": [
              "validation:   0%|          | 0/156 [00:00<?, ?it/s]"
            ]
          },
          "metadata": {},
          "output_type": "display_data"
        },
        {
          "data": {
            "application/vnd.jupyter.widget-view+json": {
              "model_id": "0785696f352d460c9229cf2bae3ec83d",
              "version_major": 2,
              "version_minor": 0
            },
            "text/plain": [
              "train:   0%|          | 0/1243 [00:00<?, ?it/s]"
            ]
          },
          "metadata": {},
          "output_type": "display_data"
        },
        {
          "data": {
            "application/vnd.jupyter.widget-view+json": {
              "model_id": "050e21d2019043c595e94192e462ffe8",
              "version_major": 2,
              "version_minor": 0
            },
            "text/plain": [
              "validation:   0%|          | 0/156 [00:00<?, ?it/s]"
            ]
          },
          "metadata": {},
          "output_type": "display_data"
        },
        {
          "data": {
            "application/vnd.jupyter.widget-view+json": {
              "model_id": "ebd1762f7cb7474db62fc7fd1826be7d",
              "version_major": 2,
              "version_minor": 0
            },
            "text/plain": [
              "train:   0%|          | 0/1243 [00:00<?, ?it/s]"
            ]
          },
          "metadata": {},
          "output_type": "display_data"
        },
        {
          "data": {
            "application/vnd.jupyter.widget-view+json": {
              "model_id": "eeaad11e61c74c4682f318ea4c29b8d9",
              "version_major": 2,
              "version_minor": 0
            },
            "text/plain": [
              "validation:   0%|          | 0/156 [00:00<?, ?it/s]"
            ]
          },
          "metadata": {},
          "output_type": "display_data"
        },
        {
          "data": {
            "application/vnd.jupyter.widget-view+json": {
              "model_id": "7e8f0857e1e5476a8950881b09b06343",
              "version_major": 2,
              "version_minor": 0
            },
            "text/plain": [
              "train:   0%|          | 0/1243 [00:00<?, ?it/s]"
            ]
          },
          "metadata": {},
          "output_type": "display_data"
        },
        {
          "data": {
            "application/vnd.jupyter.widget-view+json": {
              "model_id": "198912ffc7a24b6bb9571359a60f3e1b",
              "version_major": 2,
              "version_minor": 0
            },
            "text/plain": [
              "validation:   0%|          | 0/156 [00:00<?, ?it/s]"
            ]
          },
          "metadata": {},
          "output_type": "display_data"
        },
        {
          "data": {
            "application/vnd.jupyter.widget-view+json": {
              "model_id": "712fba90429246ac9ebb176edf08a671",
              "version_major": 2,
              "version_minor": 0
            },
            "text/plain": [
              "train:   0%|          | 0/1243 [00:00<?, ?it/s]"
            ]
          },
          "metadata": {},
          "output_type": "display_data"
        },
        {
          "data": {
            "application/vnd.jupyter.widget-view+json": {
              "model_id": "6cd82c4e863f4acfa6d7fe9e117c1a49",
              "version_major": 2,
              "version_minor": 0
            },
            "text/plain": [
              "validation:   0%|          | 0/156 [00:00<?, ?it/s]"
            ]
          },
          "metadata": {},
          "output_type": "display_data"
        },
        {
          "data": {
            "application/vnd.jupyter.widget-view+json": {
              "model_id": "65f1674f6d6e4700924caf6eb53fd33d",
              "version_major": 2,
              "version_minor": 0
            },
            "text/plain": [
              "train:   0%|          | 0/1243 [00:00<?, ?it/s]"
            ]
          },
          "metadata": {},
          "output_type": "display_data"
        },
        {
          "data": {
            "application/vnd.jupyter.widget-view+json": {
              "model_id": "7a1000f846c246ebbb6d0c329a5a0e43",
              "version_major": 2,
              "version_minor": 0
            },
            "text/plain": [
              "validation:   0%|          | 0/156 [00:00<?, ?it/s]"
            ]
          },
          "metadata": {},
          "output_type": "display_data"
        },
        {
          "data": {
            "application/vnd.jupyter.widget-view+json": {
              "model_id": "f48fc28b1fc2499281943cc1f3ab8439",
              "version_major": 2,
              "version_minor": 0
            },
            "text/plain": [
              "train:   0%|          | 0/1243 [00:00<?, ?it/s]"
            ]
          },
          "metadata": {},
          "output_type": "display_data"
        },
        {
          "data": {
            "application/vnd.jupyter.widget-view+json": {
              "model_id": "3f7e5a1c29fd4d869b46482f1b420597",
              "version_major": 2,
              "version_minor": 0
            },
            "text/plain": [
              "validation:   0%|          | 0/156 [00:00<?, ?it/s]"
            ]
          },
          "metadata": {},
          "output_type": "display_data"
        },
        {
          "data": {
            "application/vnd.jupyter.widget-view+json": {
              "model_id": "df4969e7e58a45d8a64fc645dc3553ff",
              "version_major": 2,
              "version_minor": 0
            },
            "text/plain": [
              "train:   0%|          | 0/1243 [00:00<?, ?it/s]"
            ]
          },
          "metadata": {},
          "output_type": "display_data"
        },
        {
          "data": {
            "application/vnd.jupyter.widget-view+json": {
              "model_id": "aae6c27ef6a04e2a8b27a60c43873a2e",
              "version_major": 2,
              "version_minor": 0
            },
            "text/plain": [
              "validation:   0%|          | 0/156 [00:00<?, ?it/s]"
            ]
          },
          "metadata": {},
          "output_type": "display_data"
        },
        {
          "data": {
            "application/vnd.jupyter.widget-view+json": {
              "model_id": "29202df24fa14ab18fa52344a6b61c16",
              "version_major": 2,
              "version_minor": 0
            },
            "text/plain": [
              "train:   0%|          | 0/1243 [00:00<?, ?it/s]"
            ]
          },
          "metadata": {},
          "output_type": "display_data"
        },
        {
          "data": {
            "application/vnd.jupyter.widget-view+json": {
              "model_id": "8035d939b424470582c7efc77f194573",
              "version_major": 2,
              "version_minor": 0
            },
            "text/plain": [
              "validation:   0%|          | 0/156 [00:00<?, ?it/s]"
            ]
          },
          "metadata": {},
          "output_type": "display_data"
        },
        {
          "data": {
            "application/vnd.jupyter.widget-view+json": {
              "model_id": "45ae1a860b124ceca287908bc8793853",
              "version_major": 2,
              "version_minor": 0
            },
            "text/plain": [
              "train:   0%|          | 0/1243 [00:00<?, ?it/s]"
            ]
          },
          "metadata": {},
          "output_type": "display_data"
        },
        {
          "data": {
            "application/vnd.jupyter.widget-view+json": {
              "model_id": "7bd8c64306d84b21b1a7920728fd17f8",
              "version_major": 2,
              "version_minor": 0
            },
            "text/plain": [
              "validation:   0%|          | 0/156 [00:00<?, ?it/s]"
            ]
          },
          "metadata": {},
          "output_type": "display_data"
        },
        {
          "data": {
            "application/vnd.jupyter.widget-view+json": {
              "model_id": "5e8fdd8861df440e98950fada22a6e51",
              "version_major": 2,
              "version_minor": 0
            },
            "text/plain": [
              "train:   0%|          | 0/1243 [00:00<?, ?it/s]"
            ]
          },
          "metadata": {},
          "output_type": "display_data"
        },
        {
          "data": {
            "application/vnd.jupyter.widget-view+json": {
              "model_id": "4a0806f86fcd4ffe8d0dfdff3dae1846",
              "version_major": 2,
              "version_minor": 0
            },
            "text/plain": [
              "validation:   0%|          | 0/156 [00:00<?, ?it/s]"
            ]
          },
          "metadata": {},
          "output_type": "display_data"
        }
      ],
      "source": [
        "perplexities5, losses5 = train_model(\n",
        "    model_5, criterion, optimizer, scheduler,\n",
        "    train_dataloader, eval_dataloader, epochs=21\n",
        ")"
      ]
    },
    {
      "cell_type": "code",
      "execution_count": null,
      "id": "27680930",
      "metadata": {
        "execution": {
          "iopub.execute_input": "2024-10-29T23:24:19.333144Z",
          "iopub.status.busy": "2024-10-29T23:24:19.332315Z",
          "iopub.status.idle": "2024-10-29T23:24:19.671265Z",
          "shell.execute_reply": "2024-10-29T23:24:19.670416Z"
        },
        "papermill": {
          "duration": 0.661464,
          "end_time": "2024-10-29T23:24:19.673167",
          "exception": false,
          "start_time": "2024-10-29T23:24:19.011703",
          "status": "completed"
        },
        "tags": [],
        "id": "27680930",
        "outputId": "cfcd954c-9491-41d3-c95c-5f1c2b5e46be"
      },
      "outputs": [
        {
          "data": {
            "image/png": "[encoded data removed]",
            "text/plain": [
              "<Figure size 640x480 with 1 Axes>"
            ]
          },
          "metadata": {},
          "output_type": "display_data"
        }
      ],
      "source": [
        "plt.plot(np.arange(len(losses5)), losses5)\n",
        "plt.title('Losses')\n",
        "plt.xlabel(\"epoch\")\n",
        "plt.show()"
      ]
    },
    {
      "cell_type": "code",
      "execution_count": null,
      "id": "8e33ce81",
      "metadata": {
        "execution": {
          "iopub.execute_input": "2024-10-29T23:24:20.318143Z",
          "iopub.status.busy": "2024-10-29T23:24:20.317793Z",
          "iopub.status.idle": "2024-10-29T23:24:20.646161Z",
          "shell.execute_reply": "2024-10-29T23:24:20.645321Z"
        },
        "papermill": {
          "duration": 0.650861,
          "end_time": "2024-10-29T23:24:20.648032",
          "exception": false,
          "start_time": "2024-10-29T23:24:19.997171",
          "status": "completed"
        },
        "tags": [],
        "id": "8e33ce81",
        "outputId": "23e0c253-2b48-43ea-faba-87b7e7106883"
      },
      "outputs": [
        {
          "data": {
            "image/png": "[encoded data removed]",
            "text/plain": [
              "<Figure size 640x480 with 1 Axes>"
            ]
          },
          "metadata": {},
          "output_type": "display_data"
        }
      ],
      "source": [
        "plt.plot(np.arange(len(perplexities5)), perplexities5)\n",
        "plt.title('Perplexity')\n",
        "plt.xlabel(\"epoch\")\n",
        "plt.show()"
      ]
    },
    {
      "cell_type": "code",
      "execution_count": null,
      "id": "4d400f92",
      "metadata": {
        "execution": {
          "iopub.execute_input": "2024-10-29T23:24:22.008902Z",
          "iopub.status.busy": "2024-10-29T23:24:22.008547Z",
          "iopub.status.idle": "2024-10-29T23:24:22.014227Z",
          "shell.execute_reply": "2024-10-29T23:24:22.013374Z"
        },
        "id": "4d400f92",
        "papermill": {
          "duration": 0.329473,
          "end_time": "2024-10-29T23:24:22.016096",
          "exception": false,
          "start_time": "2024-10-29T23:24:21.686623",
          "status": "completed"
        },
        "tags": []
      },
      "outputs": [],
      "source": [
        "result_df = pd.DataFrame({\"model\": range(4),\n",
        "                          \"min perplexity\": [min(perp) for perp in [perplexities2,\n",
        "                                                                    perplexities3,\n",
        "                                                                    perplexities4,\n",
        "                                                                    perplexities5\n",
        "                          ]]}\n",
        "                        )"
      ]
    },
    {
      "cell_type": "code",
      "execution_count": null,
      "id": "c77c6bc0",
      "metadata": {
        "execution": {
          "iopub.execute_input": "2024-10-29T23:24:22.662935Z",
          "iopub.status.busy": "2024-10-29T23:24:22.662594Z",
          "iopub.status.idle": "2024-10-29T23:24:22.667790Z",
          "shell.execute_reply": "2024-10-29T23:24:22.666964Z"
        },
        "papermill": {
          "duration": 0.331546,
          "end_time": "2024-10-29T23:24:22.669665",
          "exception": false,
          "start_time": "2024-10-29T23:24:22.338119",
          "status": "completed"
        },
        "tags": [],
        "id": "c77c6bc0"
      },
      "outputs": [],
      "source": [
        "def generate_sequence_for_each_model(starting_seq):\n",
        "    print(f\"Первые слова: {starting_seq}\")\n",
        "    for i, language_model in enumerate([model_2, model_3, model_4, model_5], 1):\n",
        "        print(f\"Результат генерации моделью {i}: {generate_sequence(language_model, starting_seq)}\")"
      ]
    },
    {
      "cell_type": "code",
      "execution_count": null,
      "id": "6935d12f",
      "metadata": {
        "execution": {
          "iopub.execute_input": "2024-10-29T23:24:23.358014Z",
          "iopub.status.busy": "2024-10-29T23:24:23.357335Z",
          "iopub.status.idle": "2024-10-29T23:24:26.039582Z",
          "shell.execute_reply": "2024-10-29T23:24:26.038509Z"
        },
        "papermill": {
          "duration": 3.051482,
          "end_time": "2024-10-29T23:24:26.041744",
          "exception": false,
          "start_time": "2024-10-29T23:24:22.990262",
          "status": "completed"
        },
        "tags": [],
        "id": "6935d12f",
        "outputId": "2ff78fd4-19de-4aa7-f759-d694860d759f"
      },
      "outputs": [
        {
          "name": "stdout",
          "output_type": "stream",
          "text": [
            "Первые слова: The movie was \n",
            "Результат генерации моделью 1: <bos> the movie was so bad i couldnt even finish it <eos>\n",
            "Результат генерации моделью 2: <bos> the movie was so bad that i had to watch it <eos>\n",
            "Результат генерации моделью 3: <bos> the movie was a bit slow and i was very disappointed <eos>\n",
            "Результат генерации моделью 4: <bos> the movie was <eos>\n"
          ]
        }
      ],
      "source": [
        "generate_sequence_for_each_model(\"The movie was \")"
      ]
    },
    {
      "cell_type": "code",
      "execution_count": null,
      "id": "82779f4b",
      "metadata": {
        "execution": {
          "iopub.execute_input": "2024-10-29T23:24:26.726949Z",
          "iopub.status.busy": "2024-10-29T23:24:26.726598Z",
          "iopub.status.idle": "2024-10-29T23:24:28.144499Z",
          "shell.execute_reply": "2024-10-29T23:24:28.143466Z"
        },
        "papermill": {
          "duration": 1.745722,
          "end_time": "2024-10-29T23:24:28.146780",
          "exception": false,
          "start_time": "2024-10-29T23:24:26.401058",
          "status": "completed"
        },
        "tags": [],
        "id": "82779f4b",
        "outputId": "219e3f9a-fcf2-40f9-a71d-692fe24cb82c"
      },
      "outputs": [
        {
          "name": "stdout",
          "output_type": "stream",
          "text": [
            "Первые слова: We want\n",
            "Результат генерации моделью 1: <bos> we want to see the movie <eos>\n",
            "Результат генерации моделью 2: <bos> we want to see a movie that is going to happen in the end <eos>\n",
            "Результат генерации моделью 3: <bos> we want to see a good movie with a <unk> <unk> <unk> <unk> <unk> <unk> <eos>\n",
            "Результат генерации моделью 4: <bos> we want <eos>\n"
          ]
        }
      ],
      "source": [
        "generate_sequence_for_each_model(\"We want\")"
      ]
    },
    {
      "cell_type": "code",
      "execution_count": null,
      "id": "48dd33c6",
      "metadata": {
        "execution": {
          "iopub.execute_input": "2024-10-29T23:24:28.796668Z",
          "iopub.status.busy": "2024-10-29T23:24:28.796061Z",
          "iopub.status.idle": "2024-10-29T23:24:30.283167Z",
          "shell.execute_reply": "2024-10-29T23:24:30.281884Z"
        },
        "papermill": {
          "duration": 1.812107,
          "end_time": "2024-10-29T23:24:30.285185",
          "exception": false,
          "start_time": "2024-10-29T23:24:28.473078",
          "status": "completed"
        },
        "tags": [],
        "id": "48dd33c6",
        "outputId": "30f330c5-8355-4172-ecba-51872524f595"
      },
      "outputs": [
        {
          "name": "stdout",
          "output_type": "stream",
          "text": [
            "Первые слова: I have watched\n",
            "Результат генерации моделью 1: <bos> i have watched this movie many times on tv <eos>\n",
            "Результат генерации моделью 2: <bos> i have watched this movie twice and i have to say i was very disappointed <eos>\n",
            "Результат генерации моделью 3: <bos> i have watched this movie a few times and i was surprised to see how it was <eos>\n",
            "Результат генерации моделью 4: <bos> i have watched <eos>\n"
          ]
        }
      ],
      "source": [
        "generate_sequence_for_each_model(\"I have watched\")"
      ]
    },
    {
      "cell_type": "markdown",
      "id": "2b81d41c",
      "metadata": {
        "id": "2b81d41c",
        "papermill": {
          "duration": 0.321541,
          "end_time": "2024-10-29T23:24:30.935734",
          "exception": false,
          "start_time": "2024-10-29T23:24:30.614193",
          "status": "completed"
        },
        "tags": []
      },
      "source": [
        "## Выводы"
      ]
    },
    {
      "cell_type": "markdown",
      "id": "4826fb77",
      "metadata": {
        "id": "4826fb77",
        "papermill": {
          "duration": 0.345726,
          "end_time": "2024-10-29T23:24:31.653386",
          "exception": false,
          "start_time": "2024-10-29T23:24:31.307660",
          "status": "completed"
        },
        "tags": []
      },
      "source": [
        "После обучения первой группы моделей было решено улучшать параметры вокруг  model_2, model_4.\n",
        "\n",
        "По 2 группе экспериментов результаты следующие:\n",
        "\n",
        "    1) Модель model_2 представляет улучшенную model_2 из первой группы с увеличенными hidden_dim=1536 и lr=0.0003. Модель показала хорошие резульаты генерации слов по всем 3 примерам и адекватное значение перплекции. График изменения перплексии по эпохам после достижения минимума в начале идет вверх.\n",
        "    \n",
        "    2)  Модель model_3 представляет улучшенную model_4 из первой группы с увеличенной lr=0.0003. Модель также показала хорошие резульаты генерации слов по всем 3 примерам и адекватное значение перплекции. График изменения перплексии по эпохам после достижения минимума в начале идет вверх.\n",
        "\n",
        "    3)  Модель model_4 представляет улучшенную model_4 из первой группы с уменьшенным hidden_dim=1100. Модель генерирует сложные предолжения и слова, но на 1 примере сгенерировала много <unk> подряд. График изменения перплексии по эпохам после достижения минимума в начале идет вверх.\n",
        "\n",
        "    4)  Модель model_4 представляет улучшенную model_2 из первой группы, но двунаправленную. Модель дает значение перплекции, близкое к идеалу = 1, но по факту модель лишь генерирует 1 символ <eos>.\n",
        "\n",
        "Итак, лучшими двумя моделями можно считать model_2 и model_3 из 2 группы экспериментов со значениями перплексии, примерно равными 157. Результат генерации слов достаточно осмысленный для достаточно маленького словаря и моделей типа LSTM.\n",
        "\n",
        "Положительно повлияло на обучение установление размеров рекуррентных слоев в районе hidden_dim=1024 - 1536, установление скорости обучения lr=0.0003, увеличение количества линейных слоев после рекуррентного слоя в 2 раза. Включение двунаправленной LSTM дало невнятный результат."
      ]
    }
  ],
  "metadata": {
    "accelerator": "GPU",
    "colab": {
      "provenance": []
    },
    "gpuClass": "standard",
    "kaggle": {
      "accelerator": "none",
      "dataSources": [],
      "dockerImageVersionId": 30787,
      "isGpuEnabled": false,
      "isInternetEnabled": true,
      "language": "python",
      "sourceType": "notebook"
    },
    "kernelspec": {
      "display_name": "Python 3",
      "language": "python",
      "name": "python3"
    },
    "language_info": {
      "codemirror_mode": {
        "name": "ipython",
        "version": 3
      },
      "file_extension": ".py",
      "mimetype": "text/x-python",
      "name": "python",
      "nbconvert_exporter": "python",
      "pygments_lexer": "ipython3",
      "version": "3.10.14"
    },
    "papermill": {
      "default_parameters": {},
      "duration": 40639.693097,
      "end_time": "2024-10-29T23:24:35.350707",
      "environment_variables": {},
      "exception": null,
      "input_path": "__notebook__.ipynb",
      "output_path": "__notebook__.ipynb",
      "parameters": {},
      "start_time": "2024-10-29T12:07:15.657610",
      "version": "2.5.0"
    },
    "widgets": {
      "application/vnd.jupyter.widget-state+json": {}
    }
  },
  "nbformat": 4,
  "nbformat_minor": 5
}