{
  "metadata": {
    "colab": {
      "collapsed_sections": [
        "0sUSxk866j1_"
      ],
      "provenance": []
    },
    "kernelspec": {
      "display_name": "Python 3",
      "language": "python",
      "name": "python3"
    },
    "language_info": {
      "name": "python",
      "version": "3.10.13",
      "mimetype": "text/x-python",
      "codemirror_mode": {
        "name": "ipython",
        "version": 3
      },
      "pygments_lexer": "ipython3",
      "nbconvert_exporter": "python",
      "file_extension": ".py"
    },
    "kaggle": {
      "accelerator": "nvidiaTeslaT4",
      "dataSources": [
        {
          "sourceId": 7756948,
          "sourceType": "datasetVersion",
          "datasetId": 4535937
        },
        {
          "sourceId": 7761254,
          "sourceType": "datasetVersion",
          "datasetId": 4539127
        }
      ],
      "dockerImageVersionId": 30665,
      "isInternetEnabled": true,
      "language": "python",
      "sourceType": "notebook",
      "isGpuEnabled": true
    }
  },
  "nbformat_minor": 0,
  "nbformat": 4,
  "cells": [
    {
      "cell_type": "markdown",
      "source": [
        "---"
      ],
      "metadata": {
        "id": "P2JdzEXmwRU5"
      }
    },
    {
      "cell_type": "markdown",
      "source": [
        "## Задача поиска схожих по смыслу предложений"
      ],
      "metadata": {
        "id": "BIWqBuEa6j0b"
      }
    },
    {
      "cell_type": "markdown",
      "source": [
        "Задача кода в даном ноутбуке -\n",
        "построить ранжирующую функцию $a$ : $X \\rightarrow R$ вопросов [StackOverflow](https://stackoverflow.com) на основе семантического векторного представления"
      ],
      "metadata": {
        "id": "NUkwMPLA6j0g"
      }
    },
    {
      "cell_type": "markdown",
      "source": [
        "## Математическая формулировка задачи ранжировния (Learning to Rank)"
      ],
      "metadata": {
        "id": "uS9FwWNd5a3S"
      }
    },
    {
      "cell_type": "markdown",
      "source": [
        "* $X$ - множество объектов\n",
        "* $X^l = \\{x_1, x_2, ..., x_l\\}$ - обучающая выборка\n",
        "<br>На обучающей выборке задан порядок между некоторыми элементами, то есть нам известно, что некий объект выборки более релевантный для нас, чем другой:\n",
        "* $i \\prec j$ - порядок пары индексов объектов на выборке $X^l$ c индексами $i$ и $j$\n",
        "### Задача:\n",
        "построить ранжирующую функцию $a$ : $X \\rightarrow R$ такую, что\n",
        "$$i \\prec j \\Rightarrow a(x_i) < a(x_j)$$"
      ],
      "metadata": {
        "id": "wdwY9-f75a3T"
      }
    },
    {
      "cell_type": "markdown",
      "source": [
        "### Embeddings"
      ],
      "metadata": {
        "id": "MQk_rolFwT_h"
      }
    },
    {
      "cell_type": "markdown",
      "source": [
        "Будем использовать предобученные векторные представления слов на постах Stack Overflow.<br>\n",
        "[A word2vec model trained on Stack Overflow posts](https://github.com/vefstathiou/SO_word2vec)"
      ],
      "metadata": {
        "id": "xUe1PGXn6j0l"
      }
    },
    {
      "cell_type": "code",
      "source": [
        "!wget https://zenodo.org/record/1199620/files/SO_vectors_200.bin?download=1"
      ],
      "metadata": {
        "id": "mYkI54Y-rk7a",
        "outputId": "253e78f0-e840-4ec9-c177-fd6579439cd6",
        "execution": {
          "iopub.status.busy": "2024-03-04T18:08:15.244237Z",
          "iopub.execute_input": "2024-03-04T18:08:15.244595Z",
          "iopub.status.idle": "2024-03-04T18:09:05.310429Z",
          "shell.execute_reply.started": "2024-03-04T18:08:15.244566Z",
          "shell.execute_reply": "2024-03-04T18:09:05.309280Z"
        },
        "trusted": true
      },
      "execution_count": null,
      "outputs": [
        {
          "name": "stdout",
          "text": "--2024-03-04 18:08:16--  https://zenodo.org/record/1199620/files/SO_vectors_200.bin?download=1\nResolving zenodo.org (zenodo.org)... 188.185.79.172, 188.184.103.159, 188.184.98.238, ...\nConnecting to zenodo.org (zenodo.org)|188.185.79.172|:443... connected.\nHTTP request sent, awaiting response... 301 MOVED PERMANENTLY\nLocation: /records/1199620/files/SO_vectors_200.bin [following]\n--2024-03-04 18:08:16--  https://zenodo.org/records/1199620/files/SO_vectors_200.bin\nReusing existing connection to zenodo.org:443.\nHTTP request sent, awaiting response... 200 OK\nLength: 1453905423 (1.4G) [application/octet-stream]\nSaving to: 'SO_vectors_200.bin?download=1.1'\n\nSO_vectors_200.bin? 100%[===================>]   1.35G  29.6MB/s    in 48s     \n\n2024-03-04 18:09:05 (28.8 MB/s) - 'SO_vectors_200.bin?download=1.1' saved [1453905423/1453905423]\n\n",
          "output_type": "stream"
        }
      ]
    },
    {
      "cell_type": "code",
      "source": [
        "from gensim.models.keyedvectors import KeyedVectors\n",
        "\n",
        "# load_word2vec_format используется для загрузки предобученных векторов слов в формате Word2Vec.\n",
        "wv_embeddings = KeyedVectors.load_word2vec_format(\"SO_vectors_200.bin?download=1\", binary=True)"
      ],
      "metadata": {
        "id": "O8YJTOYv6j0s",
        "execution": {
          "iopub.status.busy": "2024-03-04T18:09:05.313572Z",
          "iopub.execute_input": "2024-03-04T18:09:05.314066Z",
          "iopub.status.idle": "2024-03-04T18:09:29.687622Z",
          "shell.execute_reply.started": "2024-03-04T18:09:05.314027Z",
          "shell.execute_reply": "2024-03-04T18:09:29.686785Z"
        },
        "trusted": true
      },
      "execution_count": null,
      "outputs": []
    },
    {
      "cell_type": "markdown",
      "source": [
        "Посмотрим на примере одного слова, что из себя представляет embedding"
      ],
      "metadata": {
        "id": "DWO5SPDY6j1G"
      }
    },
    {
      "cell_type": "code",
      "source": [
        "word = 'dog'\n",
        "if word in wv_embeddings:\n",
        "    print(wv_embeddings[word].dtype, wv_embeddings[word].shape)\n",
        "    print (wv_embeddings[word])"
      ],
      "metadata": {
        "id": "KeSBlQfk6j1J",
        "outputId": "8122571b-b653-42a2-ae8c-0863a3dbe7c6",
        "scrolled": true,
        "execution": {
          "iopub.status.busy": "2024-03-04T18:09:29.688671Z",
          "iopub.execute_input": "2024-03-04T18:09:29.688964Z",
          "iopub.status.idle": "2024-03-04T18:09:29.699119Z",
          "shell.execute_reply.started": "2024-03-04T18:09:29.688937Z",
          "shell.execute_reply": "2024-03-04T18:09:29.698030Z"
        },
        "trusted": true
      },
      "execution_count": null,
      "outputs": [
        {
          "name": "stdout",
          "text": "float32 (200,)\n[ 0.6851772  -1.2778991  -0.41913974  1.3623164  -3.1675398   0.09950767\n  0.6402681  -1.1245339  -0.6699619  -0.6998852   0.4936771  -0.40500194\n -3.0706816  -2.2809966   0.85798043  2.7093108   0.3492745  -0.03494101\n -0.22330493  1.2290467   1.7755157  -3.158358   -0.6515983   0.7224096\n  2.3193083  -1.7969862   0.40903398 -2.744604   -1.7179952  -0.914309\n -0.75887376 -0.35140672 -0.5182776  -1.9097351  -0.8300773   0.02147918\n  1.1783471   0.03169126 -0.3069023   1.6666299   0.6711357  -2.1706133\n -0.11800487  0.22336982 -1.2075394  -0.86297905 -0.63865614  1.1733794\n  0.10022762  0.7017279   2.7290728  -0.4640484  -2.1719306  -0.3562852\n -1.8449957   0.10270727  1.1125596  -0.8364318   1.9513408  -0.97937447\n  1.2650859   0.06809282  0.6477318  -0.52431005 -0.6103959  -2.979829\n -0.7889965  -0.11004248  1.7603841  -1.0547444  -0.98998    -1.1834062\n -2.5359967  -0.35286787  0.7733574   0.16300043  0.76991326  1.9223119\n -1.2843752  -1.5023688   0.15765315 -2.4150877   2.4326491  -0.36940518\n  2.2511673  -1.602164    1.0818797   0.59202737 -2.8141215  -0.9547914\n -1.8816328  -2.251527    0.208779    0.24186568  0.36262512 -1.1487632\n -0.33167967  1.4389734   0.9608894   0.35947856 -0.45259392 -0.45514247\n -2.1248987   1.828458   -1.8585896   0.4114255   1.1428199  -0.50754434\n -0.12364098 -3.7919624  -1.3027766  -1.0333146   0.97529024 -0.9289765\n -0.9175716   0.04012083 -1.7776312  -0.16942771  2.318477    0.16809507\n  1.5688989  -1.9980967  -1.0449845   1.3963503  -0.13359734 -1.4952992\n -0.60059625 -0.04604611 -1.8134118  -0.50812286 -1.7697111  -2.6240456\n  0.50520307 -2.0226426  -0.8193453  -3.036361    0.32545397 -0.5707175\n  0.93880373  1.5678531  -0.4485128   1.4617805   2.6263788   1.0872725\n  0.21335754  0.93010294  3.489708    0.17392842  0.911422   -0.61643803\n -2.1106405   0.36008754 -0.32839164 -0.2838782  -0.23150575  0.73796517\n -1.3399363  -2.356109   -2.0610485  -1.2165475   0.7498155  -0.19086224\n -2.8202996  -0.37605208  0.1785639   0.72514814 -0.8697008   0.41977307\n  0.04011298 -2.8652422  -0.18194903 -0.5910473  -2.7400806  -0.6971266\n  1.2614748  -1.2979602  -3.0204656  -0.743788    1.6838108   0.11611916\n  0.84407914 -3.4510055   0.61605287 -1.2632201  -0.00716789 -1.2434675\n -0.47464737 -0.7219753  -0.51104206 -3.793404   -1.0512625  -1.2473925\n -0.67683965 -0.17455211  2.6480556  -2.1741571  -2.2171447   0.71225303\n  4.1232347  -1.4569836 ]\n",
          "output_type": "stream"
        }
      ]
    },
    {
      "cell_type": "code",
      "source": [
        "print(f\"Num of words: {len(wv_embeddings.index_to_key)}\")"
      ],
      "metadata": {
        "id": "T4Eq-D1qxpMJ",
        "outputId": "5900b0e1-5011-4523-a4e9-3149a85a5894",
        "execution": {
          "iopub.status.busy": "2024-03-04T18:09:29.702101Z",
          "iopub.execute_input": "2024-03-04T18:09:29.702442Z",
          "iopub.status.idle": "2024-03-04T18:09:29.712733Z",
          "shell.execute_reply.started": "2024-03-04T18:09:29.702411Z",
          "shell.execute_reply": "2024-03-04T18:09:29.711789Z"
        },
        "trusted": true
      },
      "execution_count": null,
      "outputs": [
        {
          "name": "stdout",
          "text": "Num of words: 1787145\n",
          "output_type": "stream"
        }
      ]
    },
    {
      "cell_type": "markdown",
      "source": [
        "Чтобы ответить на первый вопрос (входит ли слов `cat` топ-5 близких слов к слову `dog`), Найдем наиболее близкие слова к слову `dog`:"
      ],
      "metadata": {
        "id": "ZT6NTCys6j1Q"
      }
    },
    {
      "cell_type": "code",
      "source": [
        "# method most_simmilar\n",
        "\n",
        "if word in wv_embeddings:\n",
        "    similar_words = wv_embeddings.most_similar(positive=word, topn=5)\n",
        "    print(\"топ-5 близких слов к слову dog:\")\n",
        "    for i, (word, similarity) in enumerate(similar_words):\n",
        "        print(f\"{i+1}. {word}: {similarity}\")"
      ],
      "metadata": {
        "id": "nYwVz0xG6j1U",
        "outputId": "d34cf2a5-b272-42ec-ce47-d0cd2a8bc00f",
        "scrolled": true,
        "execution": {
          "iopub.status.busy": "2024-03-04T18:09:29.713756Z",
          "iopub.execute_input": "2024-03-04T18:09:29.714032Z",
          "iopub.status.idle": "2024-03-04T18:09:30.439940Z",
          "shell.execute_reply.started": "2024-03-04T18:09:29.714001Z",
          "shell.execute_reply": "2024-03-04T18:09:30.438416Z"
        },
        "trusted": true
      },
      "execution_count": null,
      "outputs": [
        {
          "name": "stdout",
          "text": "топ-5 близких слов к слову dog:\n1. animal: 0.8564180135726929\n2. dogs: 0.7880866527557373\n3. mammal: 0.7623804211616516\n4. cats: 0.7621253728866577\n5. animals: 0.760793924331665\n",
          "output_type": "stream"
        }
      ]
    },
    {
      "cell_type": "markdown",
      "source": [
        "**Таким образом, слово cat не входит, но входит cats. Место 4**"
      ],
      "metadata": {
        "id": "3GWzWS8cRNrr"
      }
    },
    {
      "cell_type": "markdown",
      "source": [
        "### Векторные представления текста\n",
        "\n",
        "Перейдем от векторных представлений отдельных слов к векторным представлениям вопросов, как к **среднему** векторов всех слов в вопросе. Если для какого-то слова нет предобученного вектора, то его нужно пропустить. Если вопрос не содержит ни одного известного слова, то нужно вернуть нулевой вектор."
      ],
      "metadata": {
        "id": "ai48-5vv6j1d"
      }
    },
    {
      "cell_type": "code",
      "source": [
        "pip install spacy"
      ],
      "metadata": {
        "id": "G8sx83ZBIyor",
        "outputId": "0c14db9d-1c6f-4bfc-dc2f-7f1ccb9f3103",
        "execution": {
          "iopub.status.busy": "2024-03-04T18:09:30.445028Z",
          "iopub.execute_input": "2024-03-04T18:09:30.448272Z",
          "iopub.status.idle": "2024-03-04T18:09:43.081106Z",
          "shell.execute_reply.started": "2024-03-04T18:09:30.448215Z",
          "shell.execute_reply": "2024-03-04T18:09:43.079776Z"
        },
        "trusted": true
      },
      "execution_count": null,
      "outputs": [
        {
          "name": "stdout",
          "text": "Requirement already satisfied: spacy in /opt/conda/lib/python3.10/site-packages (3.7.2)\nRequirement already satisfied: spacy-legacy<3.1.0,>=3.0.11 in /opt/conda/lib/python3.10/site-packages (from spacy) (3.0.12)\nRequirement already satisfied: spacy-loggers<2.0.0,>=1.0.0 in /opt/conda/lib/python3.10/site-packages (from spacy) (1.0.5)\nRequirement already satisfied: murmurhash<1.1.0,>=0.28.0 in /opt/conda/lib/python3.10/site-packages (from spacy) (1.0.10)\nRequirement already satisfied: cymem<2.1.0,>=2.0.2 in /opt/conda/lib/python3.10/site-packages (from spacy) (2.0.8)\nRequirement already satisfied: preshed<3.1.0,>=3.0.2 in /opt/conda/lib/python3.10/site-packages (from spacy) (3.0.9)\nRequirement already satisfied: thinc<8.3.0,>=8.1.8 in /opt/conda/lib/python3.10/site-packages (from spacy) (8.2.2)\nRequirement already satisfied: wasabi<1.2.0,>=0.9.1 in /opt/conda/lib/python3.10/site-packages (from spacy) (1.1.2)\nRequirement already satisfied: srsly<3.0.0,>=2.4.3 in /opt/conda/lib/python3.10/site-packages (from spacy) (2.4.8)\nRequirement already satisfied: catalogue<2.1.0,>=2.0.6 in /opt/conda/lib/python3.10/site-packages (from spacy) (2.0.10)\nRequirement already satisfied: weasel<0.4.0,>=0.1.0 in /opt/conda/lib/python3.10/site-packages (from spacy) (0.3.4)\nRequirement already satisfied: typer<0.10.0,>=0.3.0 in /opt/conda/lib/python3.10/site-packages (from spacy) (0.9.0)\nRequirement already satisfied: smart-open<7.0.0,>=5.2.1 in /opt/conda/lib/python3.10/site-packages (from spacy) (6.4.0)\nRequirement already satisfied: tqdm<5.0.0,>=4.38.0 in /opt/conda/lib/python3.10/site-packages (from spacy) (4.66.1)\nRequirement already satisfied: requests<3.0.0,>=2.13.0 in /opt/conda/lib/python3.10/site-packages (from spacy) (2.31.0)\nRequirement already satisfied: pydantic!=1.8,!=1.8.1,<3.0.0,>=1.7.4 in /opt/conda/lib/python3.10/site-packages (from spacy) (2.5.3)\nRequirement already satisfied: jinja2 in /opt/conda/lib/python3.10/site-packages (from spacy) (3.1.2)\nRequirement already satisfied: setuptools in /opt/conda/lib/python3.10/site-packages (from spacy) (69.0.3)\nRequirement already satisfied: packaging>=20.0 in /opt/conda/lib/python3.10/site-packages (from spacy) (21.3)\nRequirement already satisfied: langcodes<4.0.0,>=3.2.0 in /opt/conda/lib/python3.10/site-packages (from spacy) (3.3.0)\nRequirement already satisfied: numpy>=1.19.0 in /opt/conda/lib/python3.10/site-packages (from spacy) (1.26.4)\nRequirement already satisfied: pyparsing!=3.0.5,>=2.0.2 in /opt/conda/lib/python3.10/site-packages (from packaging>=20.0->spacy) (3.1.1)\nRequirement already satisfied: annotated-types>=0.4.0 in /opt/conda/lib/python3.10/site-packages (from pydantic!=1.8,!=1.8.1,<3.0.0,>=1.7.4->spacy) (0.6.0)\nRequirement already satisfied: pydantic-core==2.14.6 in /opt/conda/lib/python3.10/site-packages (from pydantic!=1.8,!=1.8.1,<3.0.0,>=1.7.4->spacy) (2.14.6)\nRequirement already satisfied: typing-extensions>=4.6.1 in /opt/conda/lib/python3.10/site-packages (from pydantic!=1.8,!=1.8.1,<3.0.0,>=1.7.4->spacy) (4.9.0)\nRequirement already satisfied: charset-normalizer<4,>=2 in /opt/conda/lib/python3.10/site-packages (from requests<3.0.0,>=2.13.0->spacy) (3.3.2)\nRequirement already satisfied: idna<4,>=2.5 in /opt/conda/lib/python3.10/site-packages (from requests<3.0.0,>=2.13.0->spacy) (3.6)\nRequirement already satisfied: urllib3<3,>=1.21.1 in /opt/conda/lib/python3.10/site-packages (from requests<3.0.0,>=2.13.0->spacy) (1.26.18)\nRequirement already satisfied: certifi>=2017.4.17 in /opt/conda/lib/python3.10/site-packages (from requests<3.0.0,>=2.13.0->spacy) (2024.2.2)\nRequirement already satisfied: blis<0.8.0,>=0.7.8 in /opt/conda/lib/python3.10/site-packages (from thinc<8.3.0,>=8.1.8->spacy) (0.7.10)\nRequirement already satisfied: confection<1.0.0,>=0.0.1 in /opt/conda/lib/python3.10/site-packages (from thinc<8.3.0,>=8.1.8->spacy) (0.1.4)\nRequirement already satisfied: click<9.0.0,>=7.1.1 in /opt/conda/lib/python3.10/site-packages (from typer<0.10.0,>=0.3.0->spacy) (8.1.7)\nRequirement already satisfied: cloudpathlib<0.17.0,>=0.7.0 in /opt/conda/lib/python3.10/site-packages (from weasel<0.4.0,>=0.1.0->spacy) (0.16.0)\nRequirement already satisfied: MarkupSafe>=2.0 in /opt/conda/lib/python3.10/site-packages (from jinja2->spacy) (2.1.3)\nNote: you may need to restart the kernel to use updated packages.\n",
          "output_type": "stream"
        }
      ]
    },
    {
      "cell_type": "code",
      "source": [
        "pip install pymorphy2"
      ],
      "metadata": {
        "id": "hHNVRjH3IyrL",
        "outputId": "158356be-0007-41a8-de92-c62d707b281c",
        "execution": {
          "iopub.status.busy": "2024-03-04T18:09:43.082735Z",
          "iopub.execute_input": "2024-03-04T18:09:43.083070Z",
          "iopub.status.idle": "2024-03-04T18:09:55.608973Z",
          "shell.execute_reply.started": "2024-03-04T18:09:43.083037Z",
          "shell.execute_reply": "2024-03-04T18:09:55.607211Z"
        },
        "trusted": true
      },
      "execution_count": null,
      "outputs": [
        {
          "name": "stdout",
          "text": "Requirement already satisfied: pymorphy2 in /opt/conda/lib/python3.10/site-packages (0.9.1)\nRequirement already satisfied: dawg-python>=0.7.1 in /opt/conda/lib/python3.10/site-packages (from pymorphy2) (0.7.2)\nRequirement already satisfied: pymorphy2-dicts-ru<3.0,>=2.4 in /opt/conda/lib/python3.10/site-packages (from pymorphy2) (2.4.417127.4579844)\nRequirement already satisfied: docopt>=0.6 in /opt/conda/lib/python3.10/site-packages (from pymorphy2) (0.6.2)\nNote: you may need to restart the kernel to use updated packages.\n",
          "output_type": "stream"
        }
      ]
    },
    {
      "cell_type": "code",
      "source": [
        "import numpy as np\n",
        "import re\n",
        "\n",
        "# Токенайзер, возвращающий слова без знаков пунктуации без применения нормализации\n",
        "class MyTokenizer:\n",
        "    def __init__(self):\n",
        "        pass\n",
        "    def tokenize(self, text):\n",
        "        return re.findall('\\w+', text)\n",
        "tokenizer = MyTokenizer()"
      ],
      "metadata": {
        "id": "EhNuxBJd6j1f",
        "execution": {
          "iopub.status.busy": "2024-03-04T18:09:55.610615Z",
          "iopub.execute_input": "2024-03-04T18:09:55.610919Z",
          "iopub.status.idle": "2024-03-04T18:09:55.617508Z",
          "shell.execute_reply.started": "2024-03-04T18:09:55.610890Z",
          "shell.execute_reply": "2024-03-04T18:09:55.616411Z"
        },
        "trusted": true
      },
      "execution_count": null,
      "outputs": []
    },
    {
      "cell_type": "code",
      "source": [
        "# pymorphy2 возвращает слова,пунктуацию, применяет нормализацию с помощью pymorphy2\n",
        "import pymorphy2\n",
        "morph = pymorphy2.MorphAnalyzer()\n",
        "class Pymorphy2Tokenizer:\n",
        "    def __init__(self):\n",
        "        pass\n",
        "    def tokenize(self, text):\n",
        "        pymorphy_results = list(map(lambda x: morph.parse(x), text.split(' ')))\n",
        "        return [res[0].normal_form for res in pymorphy_results]\n",
        "\n",
        "pymorphy2_tokenizer = Pymorphy2Tokenizer()"
      ],
      "metadata": {
        "id": "o2B-dFy-1YyW",
        "execution": {
          "iopub.status.busy": "2024-03-04T18:09:55.633172Z",
          "iopub.execute_input": "2024-03-04T18:09:55.633583Z",
          "iopub.status.idle": "2024-03-04T18:09:55.863579Z",
          "shell.execute_reply.started": "2024-03-04T18:09:55.633543Z",
          "shell.execute_reply": "2024-03-04T18:09:55.862594Z"
        },
        "trusted": true
      },
      "execution_count": null,
      "outputs": []
    },
    {
      "cell_type": "code",
      "source": [
        "raw = \"\"\"DENNIS: Listen, strange women lying in ponds distributing swords is no basis for a system of government.  Supreme executive power derives from a mandate from the masses, not from some farcical aquatic ceremony.\"\"\"\n",
        "\n",
        "raw_ru = \"\"\"Не существует научных доказательств в пользу эффективности НЛП, оно признано псевдонаукой. Систематические обзоры указывают, что НЛП основано на устаревших представлениях об устройстве мозга, несовместимо с современной неврологией и содержит ряд фактических ошибок.\"\"\""
      ],
      "metadata": {
        "id": "4NYU7YnC3DzS",
        "execution": {
          "iopub.status.busy": "2024-03-04T18:09:55.864657Z",
          "iopub.execute_input": "2024-03-04T18:09:55.864902Z",
          "iopub.status.idle": "2024-03-04T18:09:55.869701Z",
          "shell.execute_reply.started": "2024-03-04T18:09:55.864880Z",
          "shell.execute_reply": "2024-03-04T18:09:55.868773Z"
        },
        "trusted": true
      },
      "execution_count": null,
      "outputs": []
    },
    {
      "cell_type": "code",
      "source": [
        "print(tokenizer.tokenize(raw),tokenizer.tokenize(raw_ru)  )"
      ],
      "metadata": {
        "id": "SKmd1NDh3D2U",
        "outputId": "02ace850-fdd3-4ebf-9ef0-059e69cdf99a",
        "execution": {
          "iopub.status.busy": "2024-03-04T18:09:55.870757Z",
          "iopub.execute_input": "2024-03-04T18:09:55.871015Z",
          "iopub.status.idle": "2024-03-04T18:09:55.882105Z",
          "shell.execute_reply.started": "2024-03-04T18:09:55.870986Z",
          "shell.execute_reply": "2024-03-04T18:09:55.881028Z"
        },
        "trusted": true
      },
      "execution_count": null,
      "outputs": [
        {
          "name": "stdout",
          "text": "['DENNIS', 'Listen', 'strange', 'women', 'lying', 'in', 'ponds', 'distributing', 'swords', 'is', 'no', 'basis', 'for', 'a', 'system', 'of', 'government', 'Supreme', 'executive', 'power', 'derives', 'from', 'a', 'mandate', 'from', 'the', 'masses', 'not', 'from', 'some', 'farcical', 'aquatic', 'ceremony'] ['Не', 'существует', 'научных', 'доказательств', 'в', 'пользу', 'эффективности', 'НЛП', 'оно', 'признано', 'псевдонаукой', 'Систематические', 'обзоры', 'указывают', 'что', 'НЛП', 'основано', 'на', 'устаревших', 'представлениях', 'об', 'устройстве', 'мозга', 'несовместимо', 'с', 'современной', 'неврологией', 'и', 'содержит', 'ряд', 'фактических', 'ошибок']\n",
          "output_type": "stream"
        }
      ]
    },
    {
      "cell_type": "code",
      "source": [
        "# print(spacy_tokenizer.tokenize(raw),spacy_tokenizer.tokenize(raw_ru)  )"
      ],
      "metadata": {
        "id": "ZmKzdBeS1Y1X",
        "execution": {
          "iopub.status.busy": "2024-03-04T18:09:55.883448Z",
          "iopub.execute_input": "2024-03-04T18:09:55.883856Z",
          "iopub.status.idle": "2024-03-04T18:09:55.891275Z",
          "shell.execute_reply.started": "2024-03-04T18:09:55.883823Z",
          "shell.execute_reply": "2024-03-04T18:09:55.890359Z"
        },
        "trusted": true
      },
      "execution_count": null,
      "outputs": []
    },
    {
      "cell_type": "code",
      "source": [
        "print(pymorphy2_tokenizer.tokenize(raw),pymorphy2_tokenizer.tokenize(raw_ru)  )"
      ],
      "metadata": {
        "id": "398us5A04N9E",
        "outputId": "dc45e3f5-9400-407d-c553-b01a6336b8d2",
        "execution": {
          "iopub.status.busy": "2024-03-04T18:09:55.892359Z",
          "iopub.execute_input": "2024-03-04T18:09:55.892605Z",
          "iopub.status.idle": "2024-03-04T18:09:55.922399Z",
          "shell.execute_reply.started": "2024-03-04T18:09:55.892585Z",
          "shell.execute_reply": "2024-03-04T18:09:55.921481Z"
        },
        "trusted": true
      },
      "execution_count": null,
      "outputs": [
        {
          "name": "stdout",
          "text": "['dennis:', 'listen,', 'strange', 'women', 'lying', 'in', 'ponds', 'distributing', 'swords', 'is', 'no', 'basis', 'for', 'a', 'system', 'of', 'government.', '', 'supreme', 'executive', 'power', 'derives', 'from', 'a', 'mandate', 'from', 'the', 'masses,', 'not', 'from', 'some', 'farcical', 'aquatic', 'ceremony.'] ['не', 'существовать', 'научный', 'доказательство', 'в', 'польза', 'эффективность', 'нлп,', 'оно', 'признать', 'псевдонаукой.', 'систематический', 'обзор', 'указывают,', 'что', 'нлп', 'основать', 'на', 'устаревший', 'представление', 'о', 'устройство', 'мозга,', 'несовместимый', 'с', 'современный', 'неврология', 'и', 'содержать', 'ряд', 'фактический', 'ошибок.']\n",
          "output_type": "stream"
        }
      ]
    },
    {
      "cell_type": "code",
      "source": [
        "def question_to_vec(question, embeddings, tokenizer, dim=200):\n",
        "    \"\"\"\n",
        "        question: строка\n",
        "        embeddings: наше векторное представление\n",
        "        dim: размер любого вектора в нашем представлении\n",
        "\n",
        "        return: векторное представление для вопроса\n",
        "    \"\"\"\n",
        "\n",
        "    # sum_token=[]\n",
        "    sum_token = np.zeros(dim)\n",
        "    tokenized_question = tokenizer.tokenize(question)  # Токенизируем вопрос\n",
        "\n",
        "    for word in tokenized_question:\n",
        "        if word in embeddings:\n",
        "            sum_token += embeddings[word]  # Добавляем вектор слова к сумме\n",
        "        else:\n",
        "            continue  # Пропускаем слова, которых нет в embeddings\n",
        "\n",
        "    return sum_token/len(tokenized_question)"
      ],
      "metadata": {
        "id": "YHcvu6186j1m",
        "execution": {
          "iopub.status.busy": "2024-03-04T18:09:55.923553Z",
          "iopub.execute_input": "2024-03-04T18:09:55.923795Z",
          "iopub.status.idle": "2024-03-04T18:09:55.932021Z",
          "shell.execute_reply.started": "2024-03-04T18:09:55.923774Z",
          "shell.execute_reply": "2024-03-04T18:09:55.931049Z"
        },
        "trusted": true
      },
      "execution_count": null,
      "outputs": []
    },
    {
      "cell_type": "markdown",
      "source": [
        "Теперь у нас есть метод для создания векторного представления любого предложения."
      ],
      "metadata": {
        "id": "u5Q_4j7r6j1u"
      }
    },
    {
      "cell_type": "markdown",
      "source": [
        "#### ответ на вопрос 2 (Какая третья(с индексом 2) компонента вектора предложения `I love neural networks` (округлите до 2 знаков после запятой)):"
      ],
      "metadata": {
        "id": "EsJSNkhm6j1y"
      }
    },
    {
      "cell_type": "code",
      "source": [
        "round (question_to_vec('I love neural networks', wv_embeddings, tokenizer )[2], 2)"
      ],
      "metadata": {
        "id": "a62r11cT6j10",
        "outputId": "1fda9352-2529-424a-ae07-36affa00f9fd",
        "scrolled": true,
        "execution": {
          "iopub.status.busy": "2024-03-04T18:09:55.933051Z",
          "iopub.execute_input": "2024-03-04T18:09:55.933398Z",
          "iopub.status.idle": "2024-03-04T18:09:55.948617Z",
          "shell.execute_reply.started": "2024-03-04T18:09:55.933375Z",
          "shell.execute_reply": "2024-03-04T18:09:55.947609Z"
        },
        "trusted": true
      },
      "execution_count": null,
      "outputs": [
        {
          "execution_count": 58,
          "output_type": "execute_result",
          "data": {
            "text/plain": "-0.96"
          },
          "metadata": {}
        }
      ]
    },
    {
      "cell_type": "markdown",
      "source": [
        "### Оценка близости текстов\n",
        "\n",
        "Представим, что мы используем идеальные векторные представления слов. Тогда косинусное расстояние между дублирующими предложениями должно быть меньше, чем между случайно взятыми предложениями.\n",
        "\n",
        "Сгенерируем для каждого из $N$ вопросов $R$ случайных отрицательных примеров и примешаем к ним также настоящие дубликаты. Для каждого вопроса будем ранжировать с помощью нашей модели $R + 1$ примеров и смотреть на позицию дубликата. Мы хотим, чтобы дубликат был первым в ранжированном списке.\n",
        "\n",
        "#### Hits@K\n",
        "Первой простой метрикой будет количество корректных попаданий для какого-то $K$:\n",
        "$$ \\text{Hits@K} = \\frac{1}{N}\\sum_{i=1}^N \\, [rank\\_q_i^{'} \\le K],$$\n",
        "* $\\begin{equation*}\n",
        "[x < 0 ] \\equiv\n",
        " \\begin{cases}\n",
        "   1, &x < 0\\\\\n",
        "   0, &x \\geq 0\n",
        " \\end{cases}\n",
        "\\end{equation*}$ - индикаторная функция\n",
        "* $q_i$ - $i$-ый вопрос\n",
        "* $q_i^{'}$ - его дубликат\n",
        "* $rank\\_q_i^{'}$ - позиция дубликата в ранжированном списке ближайших предложений для вопроса $q_i$.\n",
        "\n",
        "#### DCG@K\n",
        "Второй метрикой будет упрощенная DCG метрика, учитывающая порядок элементов в списке путем домножения релевантности элемента на вес равный обратному логарифму номера позиции::\n",
        "$$ \\text{DCG@K} = \\frac{1}{N} \\sum_{i=1}^N\\frac{1}{\\log_2(1+rank\\_q_i^{'})}\\cdot[rank\\_q_i^{'} \\le K],$$\n",
        "С такой метрикой модель штрафуется за большой ранк корректного ответа"
      ],
      "metadata": {
        "id": "Y60z4t6W6j16"
      }
    },
    {
      "cell_type": "markdown",
      "source": [
        "#### Ответ на вопрос 3 (максимум `Hits@47 - DCG@1`):"
      ],
      "metadata": {
        "id": "eHCnH-jw6j18"
      }
    },
    {
      "cell_type": "markdown",
      "source": [
        "$$ \\text{Hits@47}- \\text{DCG@1}  = \\frac{1}{N}\\sum_{i=1}^N \\, ([rank\\_q_i^{'} \\le 47]- \\frac{1}{\\log_2(1+rank\\_q_i^{'})}\\cdot[rank\\_q_i^{'} \\le 1]) ,$$\n",
        "\n",
        "Максимум будет достигаться, когда $$ [rank\\_q_i^{'} \\le 47]- \\frac{1}{\\log_2(1+rank\\_q_i^{'})}\\cdot[rank\\_q_i^{'} \\le 1] = max ,$$\n",
        "\n",
        "\n",
        "при любых значениях $$ rank\\_q_i  $$ больших единицы $$ [rank\\_q_i^{'} \\le 1] $$ принимает значение 0 (а не 1), то есть второе слагаемое равно 0.\n",
        "\n",
        "Наибольшее значение выражения равно 1\n",
        "\n",
        "\n"
      ],
      "metadata": {
        "id": "3wcMySsoMHQC"
      }
    },
    {
      "cell_type": "markdown",
      "source": [
        "#### Пример оценок\n",
        "\n",
        "Вычислим описанные выше метрики для игрушечного примера.\n",
        "Пусть\n",
        "* $N = 1$, $R = 3$\n",
        "* <font color='green'>\"Что такое python?\"</font> - вопрос $q_1$\n",
        "* <font color='red'>\"Что такое язык python?\"</font> - его дубликат $q_i^{'}$\n",
        "\n",
        "Пусть модель выдала следующий ранжированный список кандидатов:\n",
        "\n",
        "1. \"Как изучить с++?\"\n",
        "2. <font color='red'>\"Что такое язык python?\"</font>\n",
        "3. \"Хочу учить Java\"\n",
        "4. \"Не понимаю Tensorflow\"\n",
        "\n",
        "$\\Rightarrow rank\\_q_i^{'} = 2$\n",
        "\n",
        "Вычислим метрику *Hits@K* для *K = 1, 4*:\n",
        "\n",
        "- [K = 1] $\\text{Hits@1} =  [rank\\_q_i^{'} \\le 1)] = 0$\n",
        "- [K = 4] $\\text{Hits@4} =  [rank\\_q_i^{'} \\le 4] = 1$\n",
        "\n",
        "Вычислим метрику *DCG@K* для *K = 1, 4*:\n",
        "- [K = 1] $\\text{DCG@1} = \\frac{1}{\\log_2(1+2)}\\cdot[2 \\le 1] = 0$\n",
        "- [K = 4] $\\text{DCG@4} = \\frac{1}{\\log_2(1+2)}\\cdot[2 \\le 4] = \\frac{1}{\\log_2{3}}$"
      ],
      "metadata": {
        "id": "0sUSxk866j1_"
      }
    },
    {
      "cell_type": "markdown",
      "source": [
        "#### Ответ на вопрос 4 (вычислите `DCG@10`, если $rank\\_q_i^{'} = 9$ (округлите до одного знака после запятой) ):\n",
        "\n",
        "**DCG@10 = 0.3**"
      ],
      "metadata": {
        "id": "B4L6HJJC6j2B"
      }
    },
    {
      "cell_type": "markdown",
      "source": [
        "### HITS\\_COUNT и DCG\\_SCORE"
      ],
      "metadata": {
        "id": "J5xWOORI6j2F"
      }
    },
    {
      "cell_type": "markdown",
      "source": [
        "Каждая функция имеет два аргумента: $dup\\_ranks$ и $k$. $dup\\_ranks$ является списком, который содержит рейтинги дубликатов(их позиции в ранжированном списке). Например, $dup\\_ranks = [2]$ для примера, описанного выше."
      ],
      "metadata": {
        "id": "I1q9WQOx6j2H"
      }
    },
    {
      "cell_type": "code",
      "source": [
        "# def hits_count(dup_ranks, k):\n",
        "#   if dup_ranks <= k :\n",
        "#     hits_value = 1\n",
        "#   else:\n",
        "#     hits_value = 0\n",
        "#   return hits_value\n",
        "\n",
        "def hits_count(dup_ranks, k):\n",
        "    \"\"\"\n",
        "        dup_ranks: list индексов дубликатов\n",
        "        result: вернуть  Hits@k\n",
        "    \"\"\"\n",
        "    hits = sum([np.zeros(1)[0] if rank > k else np.ones(1)[0] for rank in dup_ranks])\n",
        "    # hits_value = round(sum([np.zeros(1)[0] if rank > k else np.ones(1)[0] for rank in dup_ranks]) / len(dup_ranks),3)\n",
        "    return hits/len(dup_ranks)\n",
        "\n",
        "# def dcg_score(dup_ranks, k):\n",
        "#   if dup_ranks<=k:\n",
        "#     dcg_value = 1/np.log2(1+dup_ranks)\n",
        "#   else:\n",
        "#     dcg_value= 0\n",
        "#   return dcg_value\n",
        "\n",
        "def dcg_score(dup_ranks, k):\n",
        "    \"\"\"\n",
        "        dup_ranks: list индексов дубликатов\n",
        "        result: вернуть DCG@k\n",
        "    \"\"\"\n",
        "    dcg = sum([np.zeros(1)[0] if rank > k else 1/np.log2(1 + rank) for rank in dup_ranks])\n",
        "\n",
        "    return dcg/len(dup_ranks)\n"
      ],
      "metadata": {
        "id": "82hQaxCH6j2R",
        "execution": {
          "iopub.status.busy": "2024-03-04T18:09:55.949687Z",
          "iopub.execute_input": "2024-03-04T18:09:55.949984Z",
          "iopub.status.idle": "2024-03-04T18:09:55.958923Z",
          "shell.execute_reply.started": "2024-03-04T18:09:55.949961Z",
          "shell.execute_reply": "2024-03-04T18:09:55.958022Z"
        },
        "trusted": true
      },
      "execution_count": null,
      "outputs": []
    },
    {
      "cell_type": "markdown",
      "source": [
        "Протестируем функции. Пусть $N = 1$, то есть один эксперимент. Будем искать копию вопроса и оценивать метрики."
      ],
      "metadata": {
        "id": "PcwHeXN26j2Y"
      }
    },
    {
      "cell_type": "code",
      "source": [
        "import pandas as pd"
      ],
      "metadata": {
        "id": "fjISmOEW6j2h",
        "execution": {
          "iopub.status.busy": "2024-03-04T18:09:55.960238Z",
          "iopub.execute_input": "2024-03-04T18:09:55.960629Z",
          "iopub.status.idle": "2024-03-04T18:09:55.968927Z",
          "shell.execute_reply.started": "2024-03-04T18:09:55.960597Z",
          "shell.execute_reply": "2024-03-04T18:09:55.967982Z"
        },
        "trusted": true
      },
      "execution_count": null,
      "outputs": []
    },
    {
      "cell_type": "code",
      "source": [
        "copy_answers = [\"How does the catch keyword determine the type of exception that was thrown\",]\n",
        "\n",
        "# наши кандидаты\n",
        "candidates_ranking = [[\"How Can I Make These Links Rotate in PHP\",\n",
        "                       \"How does the catch keyword determine the type of exception that was thrown\",\n",
        "                       \"NSLog array description not memory address\",\n",
        "                       \"PECL_HTTP not recognised php ubuntu\"],]\n",
        "# dup_ranks — позиции наших копий, так как эксперимент один, то этот массив длины 1\n",
        "# dup_ranks = [candidates_ranking[i].index(copy_answers[i]) + 1 for i in range(len(copy_answers))][0]\n",
        "dup_ranks =[2]\n",
        "\n",
        "\n",
        "# вычисляем метрику для разных k\n",
        "print('Ваш ответ HIT:', [hits_count(dup_ranks, k) for k in range(1, 5)])\n",
        "print('Ваш ответ DCG:', [round(dcg_score(dup_ranks, k), 5) for k in range(1, 5)])"
      ],
      "metadata": {
        "id": "gLa_Wqfh6j2m",
        "outputId": "6731f48b-8ae6-4f21-9cf7-bfb73a6b9666",
        "execution": {
          "iopub.status.busy": "2024-03-04T18:09:55.970119Z",
          "iopub.execute_input": "2024-03-04T18:09:55.970457Z",
          "iopub.status.idle": "2024-03-04T18:09:55.982284Z",
          "shell.execute_reply.started": "2024-03-04T18:09:55.970428Z",
          "shell.execute_reply": "2024-03-04T18:09:55.981344Z"
        },
        "trusted": true
      },
      "execution_count": null,
      "outputs": [
        {
          "name": "stdout",
          "text": "Ваш ответ HIT: [0.0, 1.0, 1.0, 1.0]\nВаш ответ DCG: [0.0, 0.63093, 0.63093, 0.63093]\n",
          "output_type": "stream"
        }
      ]
    },
    {
      "cell_type": "markdown",
      "source": [
        "должно получиться"
      ],
      "metadata": {
        "id": "MoHC3YoQ6j2t"
      }
    },
    {
      "cell_type": "code",
      "source": [
        "# correct_answers - метрика для разных k\n",
        "correct_answers = pd.DataFrame([[0, 1, 1, 1], [0, 1 / (np.log2(3)), 1 / (np.log2(3)), 1 / (np.log2(3))]],\n",
        "                               index=['HITS', 'DCG'], columns=range(1,5))\n",
        "correct_answers"
      ],
      "metadata": {
        "id": "B0NFWq4f6j2u",
        "outputId": "c9d37029-31e9-4fcf-9ed9-1791efc1d635",
        "scrolled": true,
        "execution": {
          "iopub.status.busy": "2024-03-04T18:09:55.983461Z",
          "iopub.execute_input": "2024-03-04T18:09:55.983794Z",
          "iopub.status.idle": "2024-03-04T18:09:56.004316Z",
          "shell.execute_reply.started": "2024-03-04T18:09:55.983763Z",
          "shell.execute_reply": "2024-03-04T18:09:56.003206Z"
        },
        "trusted": true
      },
      "execution_count": null,
      "outputs": [
        {
          "execution_count": 62,
          "output_type": "execute_result",
          "data": {
            "text/plain": "      1        2        3        4\nHITS  0  1.00000  1.00000  1.00000\nDCG   0  0.63093  0.63093  0.63093",
            "text/html": "<div>\n<style scoped>\n    .dataframe tbody tr th:only-of-type {\n        vertical-align: middle;\n    }\n\n    .dataframe tbody tr th {\n        vertical-align: top;\n    }\n\n    .dataframe thead th {\n        text-align: right;\n    }\n</style>\n<table border=\"1\" class=\"dataframe\">\n  <thead>\n    <tr style=\"text-align: right;\">\n      <th></th>\n      <th>1</th>\n      <th>2</th>\n      <th>3</th>\n      <th>4</th>\n    </tr>\n  </thead>\n  <tbody>\n    <tr>\n      <th>HITS</th>\n      <td>0</td>\n      <td>1.00000</td>\n      <td>1.00000</td>\n      <td>1.00000</td>\n    </tr>\n    <tr>\n      <th>DCG</th>\n      <td>0</td>\n      <td>0.63093</td>\n      <td>0.63093</td>\n      <td>0.63093</td>\n    </tr>\n  </tbody>\n</table>\n</div>"
          },
          "metadata": {}
        }
      ]
    },
    {
      "cell_type": "markdown",
      "source": [
        "### Данные\n",
        "[arxiv link](https://drive.google.com/file/d/1QqT4D0EoqJTy7v9VrNCYD-m964XZFR7_/edit)\n",
        "\n",
        "`train.tsv` - выборка для обучения.<br> В каждой строке через табуляцию записаны: **<вопрос>, <похожий вопрос>**\n",
        "\n",
        "`validation.tsv` - тестовая выборка.<br> В каждой строке через табуляцию записаны: **<вопрос>, <похожий вопрос>, <отрицательный пример 1>, <отрицательный пример 2>, ...**"
      ],
      "metadata": {
        "id": "tHZqgDTo6j0i"
      }
    },
    {
      "cell_type": "code",
      "source": [
        "# !unzip stackoverflow_similar_questions.zip"
      ],
      "metadata": {
        "id": "jKVK2lDGvrIe",
        "execution": {
          "iopub.status.busy": "2024-03-04T18:09:56.005586Z",
          "iopub.execute_input": "2024-03-04T18:09:56.005839Z",
          "iopub.status.idle": "2024-03-04T18:09:56.013088Z",
          "shell.execute_reply.started": "2024-03-04T18:09:56.005817Z",
          "shell.execute_reply": "2024-03-04T18:09:56.012162Z"
        },
        "trusted": true
      },
      "execution_count": null,
      "outputs": []
    },
    {
      "cell_type": "code",
      "source": [
        "def read_corpus(filename):\n",
        "    data = []\n",
        "    for line in open(filename, encoding='utf-8'):\n",
        "        data.append(line.split('\\t'))\n",
        "    return data"
      ],
      "metadata": {
        "id": "B4EBho8s6j26",
        "execution": {
          "iopub.status.busy": "2024-03-04T18:09:56.014276Z",
          "iopub.execute_input": "2024-03-04T18:09:56.014545Z",
          "iopub.status.idle": "2024-03-04T18:09:56.023965Z",
          "shell.execute_reply.started": "2024-03-04T18:09:56.014513Z",
          "shell.execute_reply": "2024-03-04T18:09:56.022966Z"
        },
        "trusted": true
      },
      "execution_count": null,
      "outputs": []
    },
    {
      "cell_type": "markdown",
      "source": [
        "Понадобится только файл validation."
      ],
      "metadata": {
        "id": "kkTxY3Mk9_nG"
      }
    },
    {
      "cell_type": "code",
      "source": [
        "validation_data = read_corpus('/kaggle/input/trainvalid/validation.tsv')"
      ],
      "metadata": {
        "id": "PTVB9Tnp6j29",
        "execution": {
          "iopub.status.busy": "2024-03-04T18:09:56.025115Z",
          "iopub.execute_input": "2024-03-04T18:09:56.025429Z",
          "iopub.status.idle": "2024-03-04T18:09:57.259339Z",
          "shell.execute_reply.started": "2024-03-04T18:09:56.025371Z",
          "shell.execute_reply": "2024-03-04T18:09:57.258318Z"
        },
        "trusted": true
      },
      "execution_count": null,
      "outputs": []
    },
    {
      "cell_type": "markdown",
      "source": [
        "Кол-во строк"
      ],
      "metadata": {
        "id": "bTHfL-9y6j3F"
      }
    },
    {
      "cell_type": "code",
      "source": [
        "len(validation_data)"
      ],
      "metadata": {
        "id": "z6ubXhIe6j3H",
        "outputId": "77dcd666-128d-4f28-dd30-01a13e59af29",
        "execution": {
          "iopub.status.busy": "2024-03-04T18:09:57.260565Z",
          "iopub.execute_input": "2024-03-04T18:09:57.260905Z",
          "iopub.status.idle": "2024-03-04T18:09:57.268237Z",
          "shell.execute_reply.started": "2024-03-04T18:09:57.260868Z",
          "shell.execute_reply": "2024-03-04T18:09:57.267132Z"
        },
        "trusted": true
      },
      "execution_count": null,
      "outputs": [
        {
          "execution_count": 66,
          "output_type": "execute_result",
          "data": {
            "text/plain": "3760"
          },
          "metadata": {}
        }
      ]
    },
    {
      "cell_type": "markdown",
      "source": [
        "Размер нескольких первых строк"
      ],
      "metadata": {
        "id": "kaOQblBy6j3M"
      }
    },
    {
      "cell_type": "code",
      "source": [
        "for i in range(5):\n",
        "    print(i + 1, len(validation_data[i]))"
      ],
      "metadata": {
        "id": "yRx6e-Pe6j3M",
        "outputId": "149dd0d8-b5f9-49a7-a5fb-810267097ad6",
        "execution": {
          "iopub.status.busy": "2024-03-04T18:09:57.269233Z",
          "iopub.execute_input": "2024-03-04T18:09:57.269576Z",
          "iopub.status.idle": "2024-03-04T18:09:57.277080Z",
          "shell.execute_reply.started": "2024-03-04T18:09:57.269543Z",
          "shell.execute_reply": "2024-03-04T18:09:57.276130Z"
        },
        "trusted": true
      },
      "execution_count": null,
      "outputs": [
        {
          "name": "stdout",
          "text": "1 1001\n2 1001\n3 1001\n4 1001\n5 1001\n",
          "output_type": "stream"
        }
      ]
    },
    {
      "cell_type": "markdown",
      "source": [
        "### Ранжирование без обучения"
      ],
      "metadata": {
        "id": "ySQQp0oQt1Ep"
      }
    },
    {
      "cell_type": "markdown",
      "source": [
        "Реализуем функцию ранжирования кандидатов на основе косинусного расстояния. Функция должна по списку кандидатов вернуть отсортированный список пар (позиция в исходном списке кандидатов, кандидат). При этом позиция кандидата в полученном списке является его рейтингом (первый - лучший). Например, если исходный список кандидатов был [a, b, c], и самый похожий на исходный вопрос среди них - c, затем a, и в конце b, то функция должна вернуть список **[(2, c), (0, a), (1, b)]**."
      ],
      "metadata": {
        "id": "iElEDhj-6j3R"
      }
    },
    {
      "cell_type": "code",
      "source": [
        "from sklearn.metrics.pairwise import cosine_similarity\n",
        "from copy import deepcopy"
      ],
      "metadata": {
        "id": "K02JARKr6j3T",
        "execution": {
          "iopub.status.busy": "2024-03-04T18:09:57.278149Z",
          "iopub.execute_input": "2024-03-04T18:09:57.278446Z",
          "iopub.status.idle": "2024-03-04T18:09:57.286312Z",
          "shell.execute_reply.started": "2024-03-04T18:09:57.278424Z",
          "shell.execute_reply": "2024-03-04T18:09:57.285162Z"
        },
        "trusted": true
      },
      "execution_count": null,
      "outputs": []
    },
    {
      "cell_type": "code",
      "source": [
        "def rank_candidates(question, candidates, embeddings, tokenizer, dim=200):\n",
        "    quest_vec = question_to_vec(question, embeddings, tokenizer, dim)\n",
        "\n",
        "    # Преобразуем каждого кандидата в вектор и вычисляем сходство с вопросом\n",
        "    cosine_similarities = []\n",
        "    for candidate in candidates:\n",
        "        candidate_vec = question_to_vec(candidate, embeddings, tokenizer, dim)\n",
        "        # Используем только первую размерность векторов\n",
        "        cosine_sim = cosine_similarity([quest_vec], [candidate_vec])\n",
        "        cosine_similarities.append(cosine_sim)\n",
        "\n",
        "    # Сортируем кандидатов по убыванию сходства и формируем ранжированный список\n",
        "    sorted_candidates = sorted(zip(range(len(candidates)), candidates, cosine_similarities), key=lambda x: x[2], reverse=True)\n",
        "    ranked_results = [(pos, cand) for pos, cand, _ in sorted_candidates]\n",
        "\n",
        "    return ranked_results\n",
        "\n",
        "# Пример использования\n",
        "questions = 'Sending array via Ajax fails'\n",
        "candidates = ['Getting all list items of an unordered list in PHP',      # второй эксперимент\n",
        "               'WPF- How to update the changes in list item of a list',\n",
        "               'select2 not displaying search results','srwyvs', 'Sending array via Ajax fail']\n",
        "result = rank_candidates(questions, candidates, wv_embeddings, tokenizer)\n",
        "print(result)"
      ],
      "metadata": {
        "id": "kDUDRkmVX6Oc",
        "outputId": "52a40cad-5b64-4d0f-fd07-98d2294412e7",
        "execution": {
          "iopub.status.busy": "2024-03-04T18:09:57.287657Z",
          "iopub.execute_input": "2024-03-04T18:09:57.288340Z",
          "iopub.status.idle": "2024-03-04T18:09:57.303359Z",
          "shell.execute_reply.started": "2024-03-04T18:09:57.288308Z",
          "shell.execute_reply": "2024-03-04T18:09:57.302404Z"
        },
        "trusted": true
      },
      "execution_count": null,
      "outputs": [
        {
          "name": "stdout",
          "text": "[(4, 'Sending array via Ajax fail'), (1, 'WPF- How to update the changes in list item of a list'), (0, 'Getting all list items of an unordered list in PHP'), (2, 'select2 not displaying search results'), (3, 'srwyvs')]\n",
          "output_type": "stream"
        }
      ]
    },
    {
      "cell_type": "markdown",
      "source": [
        "Протестируем работу функции на примерах ниже. Пусть $N=2$, то есть два эксперимента"
      ],
      "metadata": {
        "id": "TnBszTb76j3c"
      }
    },
    {
      "cell_type": "markdown",
      "source": [
        "Для первого экперимента можно полностью сравнить ваши ответы и правильные ответы. Но для второго эксперимента два ответа на кандидаты будут <b>скрыты</b>(*)"
      ],
      "metadata": {
        "id": "jm4cidj56j3q"
      }
    },
    {
      "cell_type": "code",
      "source": [
        "def rank_candidates_for_multiple_questions(questions, all_candidates, embeddings, tokenizer, dim=200):\n",
        "    # Список для хранения результатов для всех вопросов\n",
        "    all_results = []\n",
        "\n",
        "    # Применяем функцию rank_candidates для каждого вопроса и его кандидатов\n",
        "    for question, candidates in zip(questions, all_candidates):\n",
        "        results_for_question = rank_candidates(question, candidates, embeddings, tokenizer, dim)\n",
        "        all_results.append(results_for_question)\n",
        "\n",
        "    return all_results\n",
        "\n",
        "questions = ['converting string to list', 'Sending array via Ajax fails']\n",
        "\n",
        "candidates = [['Convert Google results object (pure js) to Python object', # первый эксперимент\n",
        "               'C# create cookie from string and send it',\n",
        "               'How to use jQuery AJAX for an outside domain?'],\n",
        "\n",
        "              ['Getting all list items of an unordered list in PHP',      # второй эксперимент\n",
        "               'WPF- How to update the changes in list item of a list',\n",
        "               'select2 not displaying search results']]\n",
        "\n",
        "results = rank_candidates_for_multiple_questions(questions, candidates, wv_embeddings, tokenizer)\n",
        "print(results)"
      ],
      "metadata": {
        "id": "X4iykNnV8_m0",
        "outputId": "5e13a078-6cf1-4427-f94b-7820e45f9cb1",
        "execution": {
          "iopub.status.busy": "2024-03-04T18:09:57.317443Z",
          "iopub.execute_input": "2024-03-04T18:09:57.317727Z",
          "iopub.status.idle": "2024-03-04T18:09:57.332801Z",
          "shell.execute_reply.started": "2024-03-04T18:09:57.317704Z",
          "shell.execute_reply": "2024-03-04T18:09:57.331808Z"
        },
        "trusted": true
      },
      "execution_count": null,
      "outputs": [
        {
          "name": "stdout",
          "text": "[[(1, 'C# create cookie from string and send it'), (0, 'Convert Google results object (pure js) to Python object'), (2, 'How to use jQuery AJAX for an outside domain?')], [(1, 'WPF- How to update the changes in list item of a list'), (0, 'Getting all list items of an unordered list in PHP'), (2, 'select2 not displaying search results')]]\n",
          "output_type": "stream"
        }
      ]
    },
    {
      "cell_type": "markdown",
      "source": [
        "Последовательность начальных индексов вы должны получить `для эксперимента 1`  1, 0, 2."
      ],
      "metadata": {
        "id": "t1ttnIBe6j3x"
      }
    },
    {
      "cell_type": "markdown",
      "source": [
        "#### Ответ на вопрос 5 (какую последовательность начальных индексов получили для `эксперимента 2`(перечисление без запятой и пробелов, например, `102` для первого эксперимента)) :\n",
        "\n",
        "**Последовательность для эксперимента 2 - 102**"
      ],
      "metadata": {
        "id": "5WQgYDWd6j3y"
      }
    },
    {
      "cell_type": "markdown",
      "source": [
        "Теперь мы можем оценить качество нашего метода. Запустим следующие два блока кода для получения результата. Вычисление расстояния между векторами занимает некоторое время (примерно 10 минут). Поэтому возьмем для validation 1000 примеров."
      ],
      "metadata": {
        "id": "fPllOY-Y6j30"
      }
    },
    {
      "cell_type": "code",
      "source": [
        "from tqdm.notebook import tqdm"
      ],
      "metadata": {
        "id": "Z3q9sxddz-yU",
        "execution": {
          "iopub.status.busy": "2024-03-04T18:09:57.333908Z",
          "iopub.execute_input": "2024-03-04T18:09:57.334257Z",
          "iopub.status.idle": "2024-03-04T18:09:57.345605Z",
          "shell.execute_reply.started": "2024-03-04T18:09:57.334229Z",
          "shell.execute_reply": "2024-03-04T18:09:57.344552Z"
        },
        "trusted": true
      },
      "execution_count": null,
      "outputs": []
    },
    {
      "cell_type": "code",
      "source": [
        "validation_data[0][:5]"
      ],
      "metadata": {
        "id": "2dGCFsw6BK_8",
        "outputId": "8d33f93d-6cff-474b-d404-5897d81b4ac3",
        "execution": {
          "iopub.status.busy": "2024-03-04T18:09:57.346669Z",
          "iopub.execute_input": "2024-03-04T18:09:57.346993Z",
          "iopub.status.idle": "2024-03-04T18:09:57.358027Z",
          "shell.execute_reply.started": "2024-03-04T18:09:57.346967Z",
          "shell.execute_reply": "2024-03-04T18:09:57.357089Z"
        },
        "trusted": true
      },
      "execution_count": null,
      "outputs": [
        {
          "execution_count": 73,
          "output_type": "execute_result",
          "data": {
            "text/plain": "['How to print a binary heap tree without recursion?',\n 'How do you best convert a recursive function to an iterative one?',\n 'How can i use ng-model with directive in angular js',\n 'flash: drawing and erasing',\n 'toggle react component using hide show classname']"
          },
          "metadata": {}
        }
      ]
    },
    {
      "cell_type": "code",
      "source": [
        "validation_data[0][0]"
      ],
      "metadata": {
        "id": "xP9Ln_atEtOf",
        "outputId": "7f688fa0-8419-42cf-e878-66223bb99704",
        "execution": {
          "iopub.status.busy": "2024-03-04T18:09:57.359141Z",
          "iopub.execute_input": "2024-03-04T18:09:57.359480Z",
          "iopub.status.idle": "2024-03-04T18:09:57.368415Z",
          "shell.execute_reply.started": "2024-03-04T18:09:57.359457Z",
          "shell.execute_reply": "2024-03-04T18:09:57.367541Z"
        },
        "trusted": true
      },
      "execution_count": null,
      "outputs": [
        {
          "execution_count": 74,
          "output_type": "execute_result",
          "data": {
            "text/plain": "'How to print a binary heap tree without recursion?'"
          },
          "metadata": {}
        }
      ]
    },
    {
      "cell_type": "code",
      "source": [
        "print ('len(validation_data)', len(validation_data))\n",
        "print ('len(validation_data[0])', len(validation_data[0]))\n",
        "print ('len(validation_data[0][0])', len(validation_data[0][0]))"
      ],
      "metadata": {
        "id": "ntj6Ec2_ENgw",
        "outputId": "6a8c8fd3-e09c-4fce-b96e-e18bcec92e9e",
        "execution": {
          "iopub.status.busy": "2024-03-04T18:09:57.369554Z",
          "iopub.execute_input": "2024-03-04T18:09:57.369870Z",
          "iopub.status.idle": "2024-03-04T18:09:57.378435Z",
          "shell.execute_reply.started": "2024-03-04T18:09:57.369840Z",
          "shell.execute_reply": "2024-03-04T18:09:57.377358Z"
        },
        "trusted": true
      },
      "execution_count": null,
      "outputs": [
        {
          "name": "stdout",
          "text": "len(validation_data) 3760\nlen(validation_data[0]) 1001\nlen(validation_data[0][0]) 50\n",
          "output_type": "stream"
        }
      ]
    },
    {
      "cell_type": "code",
      "source": [
        "wv_ranking = []\n",
        "max_validation_examples = 1000\n",
        "for i, line in enumerate(tqdm(validation_data)):\n",
        "    if i == max_validation_examples:\n",
        "        break\n",
        "    q, *ex = line\n",
        "    # Вызывается функция rank_candidates, чтобы получить ранги кандидатов для данного вопроса q и списка кандидатов ex\n",
        "    ranks = rank_candidates(q, ex, wv_embeddings, tokenizer)\n",
        "    # print (ranks)\n",
        "\n",
        "    # Извлекает ранги кандидатов из ranks и добавляет ранг кандидата с меткой '0' в список wv_ranking.\n",
        "    wv_ranking.append([r[0] for r in ranks].index(0) + 1)\n",
        "\n",
        "for k in tqdm([1, 5, 10, 100, 500, 1000]):\n",
        "    print(\"DCG@%4d: %.3f | Hits@%4d: %.3f\" % (k, dcg_score(wv_ranking, k), k, hits_count(wv_ranking, k)))"
      ],
      "metadata": {
        "id": "vfUT_QHswVbd",
        "outputId": "1aad666b-b108-4e4e-bebb-4e8aaa8933b1",
        "execution": {
          "iopub.status.busy": "2024-03-04T18:15:26.548534Z",
          "iopub.execute_input": "2024-03-04T18:15:26.548900Z",
          "iopub.status.idle": "2024-03-04T18:21:29.131212Z",
          "shell.execute_reply.started": "2024-03-04T18:15:26.548870Z",
          "shell.execute_reply": "2024-03-04T18:21:29.130087Z"
        },
        "trusted": true,
        "colab": {
          "referenced_widgets": [
            "948d1bbc5dbe4400a0f4329cd0fe58b4",
            "0c44ad76518e4eb98b4def9705d9a818"
          ]
        }
      },
      "execution_count": null,
      "outputs": [
        {
          "output_type": "display_data",
          "data": {
            "text/plain": "  0%|          | 0/3760 [00:00<?, ?it/s]",
            "application/vnd.jupyter.widget-view+json": {
              "version_major": 2,
              "version_minor": 0,
              "model_id": "948d1bbc5dbe4400a0f4329cd0fe58b4"
            }
          },
          "metadata": {}
        },
        {
          "output_type": "display_data",
          "data": {
            "text/plain": "  0%|          | 0/6 [00:00<?, ?it/s]",
            "application/vnd.jupyter.widget-view+json": {
              "version_major": 2,
              "version_minor": 0,
              "model_id": "0c44ad76518e4eb98b4def9705d9a818"
            }
          },
          "metadata": {}
        },
        {
          "name": "stdout",
          "text": "DCG@   1: 0.285 | Hits@   1: 0.285\nDCG@   5: 0.342 | Hits@   5: 0.393\nDCG@  10: 0.360 | Hits@  10: 0.449\nDCG@ 100: 0.406 | Hits@ 100: 0.679\nDCG@ 500: 0.431 | Hits@ 500: 0.879\nDCG@1000: 0.444 | Hits@1000: 1.000\n",
          "output_type": "stream"
        }
      ]
    },
    {
      "cell_type": "code",
      "source": [
        "wv_ranking = []\n",
        "max_validation_examples = 1000\n",
        "for i, line in enumerate(tqdm(validation_data)):\n",
        "    if i == max_validation_examples:\n",
        "        break\n",
        "    q, *ex = line\n",
        "    # Вызывается функция rank_candidates, чтобы получить ранги кандидатов для данного вопроса q и списка кандидатов ex\n",
        "    ranks = rank_candidates(q, ex, wv_embeddings, pymorphy2_tokenizer)\n",
        "    # print (ranks)\n",
        "\n",
        "    # Извлекает ранги кандидатов из ranks и добавляет ранг кандидата с меткой '0' в список wv_ranking.\n",
        "    wv_ranking.append([r[0] for r in ranks].index(0) + 1)\n",
        "\n",
        "for k in tqdm([1, 5, 10, 100, 500, 1000]):\n",
        "    print(\"DCG@%4d: %.3f | Hits@%4d: %.3f\" % (k, dcg_score(wv_ranking, k), k, hits_count(wv_ranking, k)))"
      ],
      "metadata": {
        "execution": {
          "iopub.status.busy": "2024-03-04T18:32:59.188351Z",
          "iopub.execute_input": "2024-03-04T18:32:59.189086Z",
          "iopub.status.idle": "2024-03-04T18:44:58.379764Z",
          "shell.execute_reply.started": "2024-03-04T18:32:59.189055Z",
          "shell.execute_reply": "2024-03-04T18:44:58.378706Z"
        },
        "trusted": true,
        "id": "5AtZB0bWKTUp",
        "outputId": "69704af2-7580-444c-81b1-80e47291aa95",
        "colab": {
          "referenced_widgets": [
            "cd87e55578a6476291c73a489390e400",
            "c0c0ec4fa6da4c48ab8185e9cf42c295"
          ]
        }
      },
      "execution_count": null,
      "outputs": [
        {
          "output_type": "display_data",
          "data": {
            "text/plain": "  0%|          | 0/3760 [00:00<?, ?it/s]",
            "application/vnd.jupyter.widget-view+json": {
              "version_major": 2,
              "version_minor": 0,
              "model_id": "cd87e55578a6476291c73a489390e400"
            }
          },
          "metadata": {}
        },
        {
          "output_type": "display_data",
          "data": {
            "text/plain": "  0%|          | 0/6 [00:00<?, ?it/s]",
            "application/vnd.jupyter.widget-view+json": {
              "version_major": 2,
              "version_minor": 0,
              "model_id": "c0c0ec4fa6da4c48ab8185e9cf42c295"
            }
          },
          "metadata": {}
        },
        {
          "name": "stdout",
          "text": "DCG@   1: 0.346 | Hits@   1: 0.346\nDCG@   5: 0.432 | Hits@   5: 0.506\nDCG@  10: 0.454 | Hits@  10: 0.575\nDCG@ 100: 0.503 | Hits@ 100: 0.814\nDCG@ 500: 0.522 | Hits@ 500: 0.960\nDCG@1000: 0.526 | Hits@1000: 1.000\n",
          "output_type": "stream"
        }
      ]
    },
    {
      "cell_type": "markdown",
      "source": [
        "### Эмбеддинги, обученные на корпусе похожих вопросов"
      ],
      "metadata": {
        "id": "LL6_Rjg3InL8"
      }
    },
    {
      "cell_type": "code",
      "source": [
        "train_data = read_corpus('/kaggle/input/trainvalid/train.tsv')"
      ],
      "metadata": {
        "id": "iNvbpR5gJIPz",
        "execution": {
          "iopub.status.busy": "2024-03-04T18:45:26.686579Z",
          "iopub.execute_input": "2024-03-04T18:45:26.687212Z",
          "iopub.status.idle": "2024-03-04T18:45:28.846425Z",
          "shell.execute_reply.started": "2024-03-04T18:45:26.687171Z",
          "shell.execute_reply": "2024-03-04T18:45:28.845415Z"
        },
        "trusted": true
      },
      "execution_count": null,
      "outputs": []
    },
    {
      "cell_type": "code",
      "source": [
        "print ('len(train_data)', len(train_data))\n",
        "print ('len(train_data[0])', len(train_data[0]))\n",
        "print ('len(train_data[0][0])', len(train_data[0][0]))"
      ],
      "metadata": {
        "id": "H3E3AUZ-Fr8u",
        "outputId": "1f6669a5-477f-4389-93a9-2990357618d1",
        "execution": {
          "iopub.status.busy": "2024-03-04T18:45:30.160820Z",
          "iopub.execute_input": "2024-03-04T18:45:30.161834Z",
          "iopub.status.idle": "2024-03-04T18:45:30.167347Z",
          "shell.execute_reply.started": "2024-03-04T18:45:30.161798Z",
          "shell.execute_reply": "2024-03-04T18:45:30.166302Z"
        },
        "trusted": true
      },
      "execution_count": null,
      "outputs": [
        {
          "name": "stdout",
          "text": "len(train_data) 1000000\nlen(train_data[0]) 2\nlen(train_data[0][0]) 25\n",
          "output_type": "stream"
        }
      ]
    },
    {
      "cell_type": "code",
      "source": [
        "train_data[10]"
      ],
      "metadata": {
        "id": "Ey2hdqLLF3sa",
        "outputId": "1b698d75-9a58-4e1c-982c-9381ca900205",
        "execution": {
          "iopub.status.busy": "2024-03-04T18:45:33.058587Z",
          "iopub.execute_input": "2024-03-04T18:45:33.059609Z",
          "iopub.status.idle": "2024-03-04T18:45:33.066825Z",
          "shell.execute_reply.started": "2024-03-04T18:45:33.059574Z",
          "shell.execute_reply": "2024-03-04T18:45:33.065763Z"
        },
        "trusted": true
      },
      "execution_count": null,
      "outputs": [
        {
          "execution_count": 85,
          "output_type": "execute_result",
          "data": {
            "text/plain": "['min value sql query', 'row with minimum value of a column\\n']"
          },
          "metadata": {}
        }
      ]
    },
    {
      "cell_type": "markdown",
      "source": [
        "Улучшим качество модели.<br>Склеим вопросы в пары и обучим на них модель Word2Vec из gensim. Выберем размер window."
      ],
      "metadata": {
        "id": "Nr281ZyEJfjT"
      }
    },
    {
      "cell_type": "code",
      "source": [
        "import nltk\n",
        "nltk.download('stopwords')\n",
        "nltk.download('punkt')"
      ],
      "metadata": {
        "id": "dxNe5p3seyBo",
        "outputId": "eb86b26a-8b7e-4cc0-cb0d-b97e49f10f63",
        "execution": {
          "iopub.status.busy": "2024-03-04T18:45:35.743520Z",
          "iopub.execute_input": "2024-03-04T18:45:35.744306Z",
          "iopub.status.idle": "2024-03-04T18:45:35.752054Z",
          "shell.execute_reply.started": "2024-03-04T18:45:35.744275Z",
          "shell.execute_reply": "2024-03-04T18:45:35.751118Z"
        },
        "trusted": true
      },
      "execution_count": null,
      "outputs": [
        {
          "name": "stdout",
          "text": "[nltk_data] Downloading package stopwords to /usr/share/nltk_data...\n[nltk_data]   Package stopwords is already up-to-date!\n[nltk_data] Downloading package punkt to /usr/share/nltk_data...\n[nltk_data]   Package punkt is already up-to-date!\n",
          "output_type": "stream"
        },
        {
          "execution_count": 86,
          "output_type": "execute_result",
          "data": {
            "text/plain": "True"
          },
          "metadata": {}
        }
      ]
    },
    {
      "cell_type": "code",
      "source": [
        "# стоп-слова, preproc\n",
        "from nltk.corpus import stopwords\n",
        "from gensim.models import Word2Vec\n",
        "\n",
        "stopWords = set(stopwords.words('english'))\n",
        "wnl = nltk.WordNetLemmatizer()\n",
        "nltk.download('wordnet')\n",
        "\n",
        "# def preproc_nltk(text):\n",
        "#     return ' '.join([wnl.lemmatize(word) for word in word_tokenize(text.lower()) if word not in stopWords])"
      ],
      "metadata": {
        "id": "QUxs6nU53lk_",
        "outputId": "a536679a-2f05-489f-bc5d-13c73c0d25a9",
        "execution": {
          "iopub.status.busy": "2024-03-04T18:45:38.319474Z",
          "iopub.execute_input": "2024-03-04T18:45:38.320111Z",
          "iopub.status.idle": "2024-03-04T18:45:38.328920Z",
          "shell.execute_reply.started": "2024-03-04T18:45:38.320077Z",
          "shell.execute_reply": "2024-03-04T18:45:38.327853Z"
        },
        "trusted": true
      },
      "execution_count": null,
      "outputs": [
        {
          "name": "stdout",
          "text": "[nltk_data] Downloading package wordnet to /usr/share/nltk_data...\n[nltk_data]   Package wordnet is already up-to-date!\n",
          "output_type": "stream"
        },
        {
          "execution_count": 87,
          "output_type": "execute_result",
          "data": {
            "text/plain": "True"
          },
          "metadata": {}
        }
      ]
    },
    {
      "cell_type": "markdown",
      "source": [
        "#### Получение эмбеддингов без нормализации"
      ],
      "metadata": {
        "id": "2TFd29JfKTUs"
      }
    },
    {
      "cell_type": "code",
      "source": [
        "from nltk.tokenize import word_tokenize\n",
        "\n",
        "def preproc_nltk(text):\n",
        "    return ' '.join([word for word in word_tokenize(text.lower()) if word not in stopWords])\n",
        "couple_list = [couple[0] + str(' ') + couple[1] for couple in train_data]\n",
        "\n",
        "words = [preproc_nltk(question).split() for question in couple_list]"
      ],
      "metadata": {
        "id": "f6Y46SSQMTL0",
        "execution": {
          "iopub.status.busy": "2024-03-04T18:45:43.865748Z",
          "iopub.execute_input": "2024-03-04T18:45:43.866622Z",
          "iopub.status.idle": "2024-03-04T18:50:12.300484Z",
          "shell.execute_reply.started": "2024-03-04T18:45:43.866585Z",
          "shell.execute_reply": "2024-03-04T18:50:12.299590Z"
        },
        "trusted": true
      },
      "execution_count": null,
      "outputs": []
    },
    {
      "cell_type": "code",
      "source": [
        "parameter_table = pd.DataFrame(columns=['min_count', 'window',\n",
        "                                      'DCG@1','DCG@5','DCG@10','DCG@100','DCG@500','DCG@1000',\n",
        "                                     'Hits@1','Hits@5','Hits@10','Hits@100','Hits@500','Hits@1000'])\n",
        "for min_count in range(1, 13, 2):\n",
        "    for window in range(1, 13, 2):\n",
        "        embeddings_trained = Word2Vec(words,\n",
        "#                                           sg=0,\n",
        "                                          vector_size=200,\n",
        "                                          min_count=min_count,\n",
        "                                          window=window,\n",
        "                                          workers=4).wv\n",
        "        wv_ranking = []\n",
        "        max_validation_examples = 1000\n",
        "\n",
        "        for i, line in enumerate(validation_data):\n",
        "            if i == max_validation_examples:\n",
        "                break\n",
        "            q, *ex = line\n",
        "            ranks = rank_candidates(q, ex, embeddings_trained, tokenizer)\n",
        "            wv_ranking.append([r[0] for r in ranks].index(0) + 1)\n",
        "\n",
        "        dcg_history = []\n",
        "        hits_history = []\n",
        "\n",
        "        for k in [1, 5, 10, 100, 500, 1000]:\n",
        "            dcg_history.append(dcg_score(wv_ranking, k))\n",
        "            hits_history.append(hits_count(wv_ranking, k))\n",
        "\n",
        "        # Создаем DataFrame для текущей итерации\n",
        "        data = pd.DataFrame({\n",
        "                'min_count': [min_count],\n",
        "                'window': [window],\n",
        "                'DCG@1': [hits_history[0]],\n",
        "                'DCG@5': [dcg_history[1]],\n",
        "                'DCG@10': [dcg_history[2]],\n",
        "                'DCG@100': [dcg_history[3]],\n",
        "                'DCG@500': [dcg_history[4]],\n",
        "                'DCG@1000': [dcg_history[5]],\n",
        "                'Hits@1': [hits_history[0]],\n",
        "                'Hits@5': [hits_history[1]],\n",
        "                'Hits@10': [hits_history[2]],\n",
        "                'Hits@100': [hits_history[3]],\n",
        "                'Hits@500': [hits_history[4]],\n",
        "                'Hits@1000': [hits_history[5]]\n",
        "            })\n",
        "\n",
        "        # Добавляем текущий DataFrame к основному DataFrame\n",
        "        parameter_table = pd.concat([parameter_table, data], ignore_index=True)\n",
        "\n",
        "        # Записываем DataFrame в файлы Excel и CSV\n",
        "        parameter_table.to_excel('parameter_table.xlsx', index=False)\n",
        "        parameter_table.to_csv('parameter_table.csv', index=False)"
      ],
      "metadata": {
        "id": "O3AafruixuZ8",
        "execution": {
          "iopub.status.busy": "2024-03-04T18:15:21.331099Z",
          "iopub.status.idle": "2024-03-04T18:15:21.331474Z",
          "shell.execute_reply.started": "2024-03-04T18:15:21.331302Z",
          "shell.execute_reply": "2024-03-04T18:15:21.331316Z"
        },
        "trusted": true
      },
      "execution_count": null,
      "outputs": []
    },
    {
      "cell_type": "code",
      "source": [
        "# Таблица из предыдущего кода была сохранена и загружена в kaggle datasets, приведем ее:\n",
        "file_path = '/kaggle/input/parameter-table/parameter_table.csv'\n",
        "\n",
        "parameter_table = pd.read_csv(file_path)\n",
        "display(parameter_table)"
      ],
      "metadata": {
        "id": "Zo6fuOGoxcTH",
        "execution": {
          "iopub.status.busy": "2024-03-04T19:17:42.770366Z",
          "iopub.execute_input": "2024-03-04T19:17:42.770784Z",
          "iopub.status.idle": "2024-03-04T19:17:42.839875Z",
          "shell.execute_reply.started": "2024-03-04T19:17:42.770754Z",
          "shell.execute_reply": "2024-03-04T19:17:42.838386Z"
        },
        "trusted": true,
        "outputId": "033490a4-dfaa-43a9-e30e-999ea22f213a"
      },
      "execution_count": null,
      "outputs": [
        {
          "output_type": "display_data",
          "data": {
            "text/plain": "    min_count  window  DCG@1     DCG@5    DCG@10   DCG@100   DCG@500  \\\n0           1       1  0.258  0.321127  0.338958  0.380714  0.403489   \n1           1       3  0.257  0.322122  0.344153  0.389998  0.413644   \n2           1       5  0.266  0.327389  0.348823  0.395955  0.419387   \n3           1       7  0.261  0.328747  0.348571  0.395268  0.418706   \n4           1       9  0.263  0.332991  0.352657  0.397845  0.421229   \n5           1      11  0.265  0.332369  0.354416  0.399082  0.422267   \n6           3       1  0.260  0.325000  0.345315  0.388149  0.411846   \n7           3       3  0.263  0.327984  0.349669  0.395584  0.420402   \n8           3       5  0.266  0.331204  0.351686  0.399997  0.423705   \n9           3       7  0.266  0.331607  0.354298  0.400305  0.423742   \n10          3       9  0.265  0.333093  0.355140  0.400929  0.424983   \n11          3      11  0.264  0.336978  0.357398  0.404349  0.426489   \n12          5       1  0.263  0.330203  0.350095  0.392274  0.415206   \n13          5       3  0.264  0.327508  0.350598  0.396894  0.421364   \n14          5       5  0.267  0.334404  0.354045  0.400225  0.424826   \n15          5       7  0.264  0.333319  0.354526  0.401556  0.425619   \n16          5       9  0.269  0.335308  0.358790  0.404442  0.427798   \n17          5      11  0.274  0.339180  0.360391  0.406822  0.429810   \n18          7       1  0.269  0.333855  0.354121  0.395610  0.419669   \n19          7       3  0.263  0.329382  0.350248  0.396544  0.421964   \n20          7       5  0.261  0.331365  0.351609  0.397157  0.421955   \n21          7       7  0.271  0.336889  0.359498  0.405113  0.428336   \n22          7       9  0.275  0.338863  0.362348  0.407198  0.430698   \n23          7      11  0.277  0.341331  0.362819  0.408858  0.431646   \n24          9       1  0.270  0.332664  0.354755  0.396220  0.420964   \n25          9       3  0.268  0.332504  0.353223  0.399389  0.423753   \n26          9       5  0.262  0.332179  0.352542  0.398575  0.423843   \n27          9       7  0.271  0.337043  0.359872  0.404621  0.428839   \n28          9       9  0.269  0.337211  0.359090  0.405277  0.428731   \n29          9      11  0.273  0.340562  0.362419  0.408832  0.431492   \n30         11       1  0.269  0.333487  0.353042  0.395779  0.419674   \n31         11       3  0.265  0.330383  0.351412  0.398094  0.423174   \n32         11       5  0.269  0.334327  0.355618  0.401257  0.426687   \n33         11       7  0.270  0.337110  0.357005  0.403700  0.428727   \n34         11       9  0.268  0.337665  0.358858  0.405240  0.429525   \n35         11      11  0.266  0.337372  0.358194  0.404306  0.427813   \n\n    DCG@1000  Hits@1  Hits@5  Hits@10  Hits@100  Hits@500  Hits@1000  \n0   0.422200   0.258   0.379    0.435     0.641     0.821        1.0  \n1   0.428078   0.257   0.380    0.449     0.677     0.862        1.0  \n2   0.433574   0.266   0.383    0.450     0.683     0.865        1.0  \n3   0.433014   0.261   0.392    0.454     0.683     0.864        1.0  \n4   0.435527   0.263   0.398    0.460     0.683     0.864        1.0  \n5   0.436647   0.265   0.393    0.462     0.683     0.863        1.0  \n6   0.428104   0.260   0.384    0.447     0.657     0.844        1.0  \n7   0.433340   0.263   0.389    0.456     0.683     0.877        1.0  \n8   0.437175   0.266   0.389    0.453     0.689     0.873        1.0  \n9   0.437392   0.266   0.391    0.462     0.689     0.871        1.0  \n10  0.438412   0.265   0.393    0.462     0.686     0.873        1.0  \n11  0.440219   0.264   0.401    0.465     0.697     0.870        1.0  \n12  0.431377   0.263   0.393    0.455     0.664     0.845        1.0  \n13  0.434779   0.264   0.384    0.456     0.683     0.873        1.0  \n14  0.437890   0.267   0.397    0.459     0.686     0.877        1.0  \n15  0.438668   0.264   0.394    0.460     0.690     0.877        1.0  \n16  0.441145   0.269   0.395    0.468     0.692     0.874        1.0  \n17  0.443357   0.274   0.399    0.465     0.693     0.872        1.0  \n18  0.435421   0.269   0.393    0.456     0.660     0.849        1.0  \n19  0.434759   0.263   0.390    0.455     0.681     0.879        1.0  \n20  0.435135   0.261   0.396    0.460     0.684     0.876        1.0  \n21  0.441953   0.271   0.397    0.467     0.692     0.872        1.0  \n22  0.443953   0.275   0.397    0.470     0.691     0.875        1.0  \n23  0.445222   0.277   0.400    0.467     0.694     0.872        1.0  \n24  0.435931   0.270   0.389    0.457     0.661     0.856        1.0  \n25  0.436667   0.268   0.394    0.459     0.688     0.878        1.0  \n26  0.436169   0.262   0.396    0.460     0.687     0.884        1.0  \n27  0.441391   0.271   0.399    0.470     0.693     0.882        1.0  \n28  0.441808   0.269   0.398    0.466     0.693     0.877        1.0  \n29  0.444757   0.273   0.401    0.469     0.698     0.875        1.0  \n30  0.434993   0.269   0.395    0.455     0.665     0.853        1.0  \n31  0.435646   0.265   0.391    0.456     0.686     0.882        1.0  \n32  0.439126   0.269   0.394    0.461     0.685     0.883        1.0  \n33  0.441164   0.270   0.398    0.460     0.688     0.883        1.0  \n34  0.442053   0.268   0.399    0.465     0.692     0.882        1.0  \n35  0.441205   0.266   0.400    0.465     0.691     0.874        1.0  ",
            "text/html": "<div>\n<style scoped>\n    .dataframe tbody tr th:only-of-type {\n        vertical-align: middle;\n    }\n\n    .dataframe tbody tr th {\n        vertical-align: top;\n    }\n\n    .dataframe thead th {\n        text-align: right;\n    }\n</style>\n<table border=\"1\" class=\"dataframe\">\n  <thead>\n    <tr style=\"text-align: right;\">\n      <th></th>\n      <th>min_count</th>\n      <th>window</th>\n      <th>DCG@1</th>\n      <th>DCG@5</th>\n      <th>DCG@10</th>\n      <th>DCG@100</th>\n      <th>DCG@500</th>\n      <th>DCG@1000</th>\n      <th>Hits@1</th>\n      <th>Hits@5</th>\n      <th>Hits@10</th>\n      <th>Hits@100</th>\n      <th>Hits@500</th>\n      <th>Hits@1000</th>\n    </tr>\n  </thead>\n  <tbody>\n    <tr>\n      <th>0</th>\n      <td>1</td>\n      <td>1</td>\n      <td>0.258</td>\n      <td>0.321127</td>\n      <td>0.338958</td>\n      <td>0.380714</td>\n      <td>0.403489</td>\n      <td>0.422200</td>\n      <td>0.258</td>\n      <td>0.379</td>\n      <td>0.435</td>\n      <td>0.641</td>\n      <td>0.821</td>\n      <td>1.0</td>\n    </tr>\n    <tr>\n      <th>1</th>\n      <td>1</td>\n      <td>3</td>\n      <td>0.257</td>\n      <td>0.322122</td>\n      <td>0.344153</td>\n      <td>0.389998</td>\n      <td>0.413644</td>\n      <td>0.428078</td>\n      <td>0.257</td>\n      <td>0.380</td>\n      <td>0.449</td>\n      <td>0.677</td>\n      <td>0.862</td>\n      <td>1.0</td>\n    </tr>\n    <tr>\n      <th>2</th>\n      <td>1</td>\n      <td>5</td>\n      <td>0.266</td>\n      <td>0.327389</td>\n      <td>0.348823</td>\n      <td>0.395955</td>\n      <td>0.419387</td>\n      <td>0.433574</td>\n      <td>0.266</td>\n      <td>0.383</td>\n      <td>0.450</td>\n      <td>0.683</td>\n      <td>0.865</td>\n      <td>1.0</td>\n    </tr>\n    <tr>\n      <th>3</th>\n      <td>1</td>\n      <td>7</td>\n      <td>0.261</td>\n      <td>0.328747</td>\n      <td>0.348571</td>\n      <td>0.395268</td>\n      <td>0.418706</td>\n      <td>0.433014</td>\n      <td>0.261</td>\n      <td>0.392</td>\n      <td>0.454</td>\n      <td>0.683</td>\n      <td>0.864</td>\n      <td>1.0</td>\n    </tr>\n    <tr>\n      <th>4</th>\n      <td>1</td>\n      <td>9</td>\n      <td>0.263</td>\n      <td>0.332991</td>\n      <td>0.352657</td>\n      <td>0.397845</td>\n      <td>0.421229</td>\n      <td>0.435527</td>\n      <td>0.263</td>\n      <td>0.398</td>\n      <td>0.460</td>\n      <td>0.683</td>\n      <td>0.864</td>\n      <td>1.0</td>\n    </tr>\n    <tr>\n      <th>5</th>\n      <td>1</td>\n      <td>11</td>\n      <td>0.265</td>\n      <td>0.332369</td>\n      <td>0.354416</td>\n      <td>0.399082</td>\n      <td>0.422267</td>\n      <td>0.436647</td>\n      <td>0.265</td>\n      <td>0.393</td>\n      <td>0.462</td>\n      <td>0.683</td>\n      <td>0.863</td>\n      <td>1.0</td>\n    </tr>\n    <tr>\n      <th>6</th>\n      <td>3</td>\n      <td>1</td>\n      <td>0.260</td>\n      <td>0.325000</td>\n      <td>0.345315</td>\n      <td>0.388149</td>\n      <td>0.411846</td>\n      <td>0.428104</td>\n      <td>0.260</td>\n      <td>0.384</td>\n      <td>0.447</td>\n      <td>0.657</td>\n      <td>0.844</td>\n      <td>1.0</td>\n    </tr>\n    <tr>\n      <th>7</th>\n      <td>3</td>\n      <td>3</td>\n      <td>0.263</td>\n      <td>0.327984</td>\n      <td>0.349669</td>\n      <td>0.395584</td>\n      <td>0.420402</td>\n      <td>0.433340</td>\n      <td>0.263</td>\n      <td>0.389</td>\n      <td>0.456</td>\n      <td>0.683</td>\n      <td>0.877</td>\n      <td>1.0</td>\n    </tr>\n    <tr>\n      <th>8</th>\n      <td>3</td>\n      <td>5</td>\n      <td>0.266</td>\n      <td>0.331204</td>\n      <td>0.351686</td>\n      <td>0.399997</td>\n      <td>0.423705</td>\n      <td>0.437175</td>\n      <td>0.266</td>\n      <td>0.389</td>\n      <td>0.453</td>\n      <td>0.689</td>\n      <td>0.873</td>\n      <td>1.0</td>\n    </tr>\n    <tr>\n      <th>9</th>\n      <td>3</td>\n      <td>7</td>\n      <td>0.266</td>\n      <td>0.331607</td>\n      <td>0.354298</td>\n      <td>0.400305</td>\n      <td>0.423742</td>\n      <td>0.437392</td>\n      <td>0.266</td>\n      <td>0.391</td>\n      <td>0.462</td>\n      <td>0.689</td>\n      <td>0.871</td>\n      <td>1.0</td>\n    </tr>\n    <tr>\n      <th>10</th>\n      <td>3</td>\n      <td>9</td>\n      <td>0.265</td>\n      <td>0.333093</td>\n      <td>0.355140</td>\n      <td>0.400929</td>\n      <td>0.424983</td>\n      <td>0.438412</td>\n      <td>0.265</td>\n      <td>0.393</td>\n      <td>0.462</td>\n      <td>0.686</td>\n      <td>0.873</td>\n      <td>1.0</td>\n    </tr>\n    <tr>\n      <th>11</th>\n      <td>3</td>\n      <td>11</td>\n      <td>0.264</td>\n      <td>0.336978</td>\n      <td>0.357398</td>\n      <td>0.404349</td>\n      <td>0.426489</td>\n      <td>0.440219</td>\n      <td>0.264</td>\n      <td>0.401</td>\n      <td>0.465</td>\n      <td>0.697</td>\n      <td>0.870</td>\n      <td>1.0</td>\n    </tr>\n    <tr>\n      <th>12</th>\n      <td>5</td>\n      <td>1</td>\n      <td>0.263</td>\n      <td>0.330203</td>\n      <td>0.350095</td>\n      <td>0.392274</td>\n      <td>0.415206</td>\n      <td>0.431377</td>\n      <td>0.263</td>\n      <td>0.393</td>\n      <td>0.455</td>\n      <td>0.664</td>\n      <td>0.845</td>\n      <td>1.0</td>\n    </tr>\n    <tr>\n      <th>13</th>\n      <td>5</td>\n      <td>3</td>\n      <td>0.264</td>\n      <td>0.327508</td>\n      <td>0.350598</td>\n      <td>0.396894</td>\n      <td>0.421364</td>\n      <td>0.434779</td>\n      <td>0.264</td>\n      <td>0.384</td>\n      <td>0.456</td>\n      <td>0.683</td>\n      <td>0.873</td>\n      <td>1.0</td>\n    </tr>\n    <tr>\n      <th>14</th>\n      <td>5</td>\n      <td>5</td>\n      <td>0.267</td>\n      <td>0.334404</td>\n      <td>0.354045</td>\n      <td>0.400225</td>\n      <td>0.424826</td>\n      <td>0.437890</td>\n      <td>0.267</td>\n      <td>0.397</td>\n      <td>0.459</td>\n      <td>0.686</td>\n      <td>0.877</td>\n      <td>1.0</td>\n    </tr>\n    <tr>\n      <th>15</th>\n      <td>5</td>\n      <td>7</td>\n      <td>0.264</td>\n      <td>0.333319</td>\n      <td>0.354526</td>\n      <td>0.401556</td>\n      <td>0.425619</td>\n      <td>0.438668</td>\n      <td>0.264</td>\n      <td>0.394</td>\n      <td>0.460</td>\n      <td>0.690</td>\n      <td>0.877</td>\n      <td>1.0</td>\n    </tr>\n    <tr>\n      <th>16</th>\n      <td>5</td>\n      <td>9</td>\n      <td>0.269</td>\n      <td>0.335308</td>\n      <td>0.358790</td>\n      <td>0.404442</td>\n      <td>0.427798</td>\n      <td>0.441145</td>\n      <td>0.269</td>\n      <td>0.395</td>\n      <td>0.468</td>\n      <td>0.692</td>\n      <td>0.874</td>\n      <td>1.0</td>\n    </tr>\n    <tr>\n      <th>17</th>\n      <td>5</td>\n      <td>11</td>\n      <td>0.274</td>\n      <td>0.339180</td>\n      <td>0.360391</td>\n      <td>0.406822</td>\n      <td>0.429810</td>\n      <td>0.443357</td>\n      <td>0.274</td>\n      <td>0.399</td>\n      <td>0.465</td>\n      <td>0.693</td>\n      <td>0.872</td>\n      <td>1.0</td>\n    </tr>\n    <tr>\n      <th>18</th>\n      <td>7</td>\n      <td>1</td>\n      <td>0.269</td>\n      <td>0.333855</td>\n      <td>0.354121</td>\n      <td>0.395610</td>\n      <td>0.419669</td>\n      <td>0.435421</td>\n      <td>0.269</td>\n      <td>0.393</td>\n      <td>0.456</td>\n      <td>0.660</td>\n      <td>0.849</td>\n      <td>1.0</td>\n    </tr>\n    <tr>\n      <th>19</th>\n      <td>7</td>\n      <td>3</td>\n      <td>0.263</td>\n      <td>0.329382</td>\n      <td>0.350248</td>\n      <td>0.396544</td>\n      <td>0.421964</td>\n      <td>0.434759</td>\n      <td>0.263</td>\n      <td>0.390</td>\n      <td>0.455</td>\n      <td>0.681</td>\n      <td>0.879</td>\n      <td>1.0</td>\n    </tr>\n    <tr>\n      <th>20</th>\n      <td>7</td>\n      <td>5</td>\n      <td>0.261</td>\n      <td>0.331365</td>\n      <td>0.351609</td>\n      <td>0.397157</td>\n      <td>0.421955</td>\n      <td>0.435135</td>\n      <td>0.261</td>\n      <td>0.396</td>\n      <td>0.460</td>\n      <td>0.684</td>\n      <td>0.876</td>\n      <td>1.0</td>\n    </tr>\n    <tr>\n      <th>21</th>\n      <td>7</td>\n      <td>7</td>\n      <td>0.271</td>\n      <td>0.336889</td>\n      <td>0.359498</td>\n      <td>0.405113</td>\n      <td>0.428336</td>\n      <td>0.441953</td>\n      <td>0.271</td>\n      <td>0.397</td>\n      <td>0.467</td>\n      <td>0.692</td>\n      <td>0.872</td>\n      <td>1.0</td>\n    </tr>\n    <tr>\n      <th>22</th>\n      <td>7</td>\n      <td>9</td>\n      <td>0.275</td>\n      <td>0.338863</td>\n      <td>0.362348</td>\n      <td>0.407198</td>\n      <td>0.430698</td>\n      <td>0.443953</td>\n      <td>0.275</td>\n      <td>0.397</td>\n      <td>0.470</td>\n      <td>0.691</td>\n      <td>0.875</td>\n      <td>1.0</td>\n    </tr>\n    <tr>\n      <th>23</th>\n      <td>7</td>\n      <td>11</td>\n      <td>0.277</td>\n      <td>0.341331</td>\n      <td>0.362819</td>\n      <td>0.408858</td>\n      <td>0.431646</td>\n      <td>0.445222</td>\n      <td>0.277</td>\n      <td>0.400</td>\n      <td>0.467</td>\n      <td>0.694</td>\n      <td>0.872</td>\n      <td>1.0</td>\n    </tr>\n    <tr>\n      <th>24</th>\n      <td>9</td>\n      <td>1</td>\n      <td>0.270</td>\n      <td>0.332664</td>\n      <td>0.354755</td>\n      <td>0.396220</td>\n      <td>0.420964</td>\n      <td>0.435931</td>\n      <td>0.270</td>\n      <td>0.389</td>\n      <td>0.457</td>\n      <td>0.661</td>\n      <td>0.856</td>\n      <td>1.0</td>\n    </tr>\n    <tr>\n      <th>25</th>\n      <td>9</td>\n      <td>3</td>\n      <td>0.268</td>\n      <td>0.332504</td>\n      <td>0.353223</td>\n      <td>0.399389</td>\n      <td>0.423753</td>\n      <td>0.436667</td>\n      <td>0.268</td>\n      <td>0.394</td>\n      <td>0.459</td>\n      <td>0.688</td>\n      <td>0.878</td>\n      <td>1.0</td>\n    </tr>\n    <tr>\n      <th>26</th>\n      <td>9</td>\n      <td>5</td>\n      <td>0.262</td>\n      <td>0.332179</td>\n      <td>0.352542</td>\n      <td>0.398575</td>\n      <td>0.423843</td>\n      <td>0.436169</td>\n      <td>0.262</td>\n      <td>0.396</td>\n      <td>0.460</td>\n      <td>0.687</td>\n      <td>0.884</td>\n      <td>1.0</td>\n    </tr>\n    <tr>\n      <th>27</th>\n      <td>9</td>\n      <td>7</td>\n      <td>0.271</td>\n      <td>0.337043</td>\n      <td>0.359872</td>\n      <td>0.404621</td>\n      <td>0.428839</td>\n      <td>0.441391</td>\n      <td>0.271</td>\n      <td>0.399</td>\n      <td>0.470</td>\n      <td>0.693</td>\n      <td>0.882</td>\n      <td>1.0</td>\n    </tr>\n    <tr>\n      <th>28</th>\n      <td>9</td>\n      <td>9</td>\n      <td>0.269</td>\n      <td>0.337211</td>\n      <td>0.359090</td>\n      <td>0.405277</td>\n      <td>0.428731</td>\n      <td>0.441808</td>\n      <td>0.269</td>\n      <td>0.398</td>\n      <td>0.466</td>\n      <td>0.693</td>\n      <td>0.877</td>\n      <td>1.0</td>\n    </tr>\n    <tr>\n      <th>29</th>\n      <td>9</td>\n      <td>11</td>\n      <td>0.273</td>\n      <td>0.340562</td>\n      <td>0.362419</td>\n      <td>0.408832</td>\n      <td>0.431492</td>\n      <td>0.444757</td>\n      <td>0.273</td>\n      <td>0.401</td>\n      <td>0.469</td>\n      <td>0.698</td>\n      <td>0.875</td>\n      <td>1.0</td>\n    </tr>\n    <tr>\n      <th>30</th>\n      <td>11</td>\n      <td>1</td>\n      <td>0.269</td>\n      <td>0.333487</td>\n      <td>0.353042</td>\n      <td>0.395779</td>\n      <td>0.419674</td>\n      <td>0.434993</td>\n      <td>0.269</td>\n      <td>0.395</td>\n      <td>0.455</td>\n      <td>0.665</td>\n      <td>0.853</td>\n      <td>1.0</td>\n    </tr>\n    <tr>\n      <th>31</th>\n      <td>11</td>\n      <td>3</td>\n      <td>0.265</td>\n      <td>0.330383</td>\n      <td>0.351412</td>\n      <td>0.398094</td>\n      <td>0.423174</td>\n      <td>0.435646</td>\n      <td>0.265</td>\n      <td>0.391</td>\n      <td>0.456</td>\n      <td>0.686</td>\n      <td>0.882</td>\n      <td>1.0</td>\n    </tr>\n    <tr>\n      <th>32</th>\n      <td>11</td>\n      <td>5</td>\n      <td>0.269</td>\n      <td>0.334327</td>\n      <td>0.355618</td>\n      <td>0.401257</td>\n      <td>0.426687</td>\n      <td>0.439126</td>\n      <td>0.269</td>\n      <td>0.394</td>\n      <td>0.461</td>\n      <td>0.685</td>\n      <td>0.883</td>\n      <td>1.0</td>\n    </tr>\n    <tr>\n      <th>33</th>\n      <td>11</td>\n      <td>7</td>\n      <td>0.270</td>\n      <td>0.337110</td>\n      <td>0.357005</td>\n      <td>0.403700</td>\n      <td>0.428727</td>\n      <td>0.441164</td>\n      <td>0.270</td>\n      <td>0.398</td>\n      <td>0.460</td>\n      <td>0.688</td>\n      <td>0.883</td>\n      <td>1.0</td>\n    </tr>\n    <tr>\n      <th>34</th>\n      <td>11</td>\n      <td>9</td>\n      <td>0.268</td>\n      <td>0.337665</td>\n      <td>0.358858</td>\n      <td>0.405240</td>\n      <td>0.429525</td>\n      <td>0.442053</td>\n      <td>0.268</td>\n      <td>0.399</td>\n      <td>0.465</td>\n      <td>0.692</td>\n      <td>0.882</td>\n      <td>1.0</td>\n    </tr>\n    <tr>\n      <th>35</th>\n      <td>11</td>\n      <td>11</td>\n      <td>0.266</td>\n      <td>0.337372</td>\n      <td>0.358194</td>\n      <td>0.404306</td>\n      <td>0.427813</td>\n      <td>0.441205</td>\n      <td>0.266</td>\n      <td>0.400</td>\n      <td>0.465</td>\n      <td>0.691</td>\n      <td>0.874</td>\n      <td>1.0</td>\n    </tr>\n  </tbody>\n</table>\n</div>"
          },
          "metadata": {}
        }
      ]
    },
    {
      "cell_type": "code",
      "source": [
        "parameter_table.sort_values(by='DCG@5', ascending=False)"
      ],
      "metadata": {
        "execution": {
          "iopub.status.busy": "2024-03-04T19:21:40.070725Z",
          "iopub.execute_input": "2024-03-04T19:21:40.071095Z",
          "iopub.status.idle": "2024-03-04T19:21:40.115377Z",
          "shell.execute_reply.started": "2024-03-04T19:21:40.071064Z",
          "shell.execute_reply": "2024-03-04T19:21:40.114384Z"
        },
        "trusted": true,
        "id": "fEgON8-DKTUt",
        "outputId": "df084736-3328-40c6-e3f7-2960f6c2dd54"
      },
      "execution_count": null,
      "outputs": [
        {
          "execution_count": 101,
          "output_type": "execute_result",
          "data": {
            "text/plain": "    min_count  window  DCG@1     DCG@5    DCG@10   DCG@100   DCG@500  \\\n23          7      11  0.277  0.341331  0.362819  0.408858  0.431646   \n29          9      11  0.273  0.340562  0.362419  0.408832  0.431492   \n17          5      11  0.274  0.339180  0.360391  0.406822  0.429810   \n22          7       9  0.275  0.338863  0.362348  0.407198  0.430698   \n34         11       9  0.268  0.337665  0.358858  0.405240  0.429525   \n35         11      11  0.266  0.337372  0.358194  0.404306  0.427813   \n28          9       9  0.269  0.337211  0.359090  0.405277  0.428731   \n33         11       7  0.270  0.337110  0.357005  0.403700  0.428727   \n27          9       7  0.271  0.337043  0.359872  0.404621  0.428839   \n11          3      11  0.264  0.336978  0.357398  0.404349  0.426489   \n21          7       7  0.271  0.336889  0.359498  0.405113  0.428336   \n16          5       9  0.269  0.335308  0.358790  0.404442  0.427798   \n14          5       5  0.267  0.334404  0.354045  0.400225  0.424826   \n32         11       5  0.269  0.334327  0.355618  0.401257  0.426687   \n18          7       1  0.269  0.333855  0.354121  0.395610  0.419669   \n30         11       1  0.269  0.333487  0.353042  0.395779  0.419674   \n15          5       7  0.264  0.333319  0.354526  0.401556  0.425619   \n10          3       9  0.265  0.333093  0.355140  0.400929  0.424983   \n4           1       9  0.263  0.332991  0.352657  0.397845  0.421229   \n24          9       1  0.270  0.332664  0.354755  0.396220  0.420964   \n25          9       3  0.268  0.332504  0.353223  0.399389  0.423753   \n5           1      11  0.265  0.332369  0.354416  0.399082  0.422267   \n26          9       5  0.262  0.332179  0.352542  0.398575  0.423843   \n9           3       7  0.266  0.331607  0.354298  0.400305  0.423742   \n20          7       5  0.261  0.331365  0.351609  0.397157  0.421955   \n8           3       5  0.266  0.331204  0.351686  0.399997  0.423705   \n31         11       3  0.265  0.330383  0.351412  0.398094  0.423174   \n12          5       1  0.263  0.330203  0.350095  0.392274  0.415206   \n19          7       3  0.263  0.329382  0.350248  0.396544  0.421964   \n3           1       7  0.261  0.328747  0.348571  0.395268  0.418706   \n7           3       3  0.263  0.327984  0.349669  0.395584  0.420402   \n13          5       3  0.264  0.327508  0.350598  0.396894  0.421364   \n2           1       5  0.266  0.327389  0.348823  0.395955  0.419387   \n6           3       1  0.260  0.325000  0.345315  0.388149  0.411846   \n1           1       3  0.257  0.322122  0.344153  0.389998  0.413644   \n0           1       1  0.258  0.321127  0.338958  0.380714  0.403489   \n\n    DCG@1000  Hits@1  Hits@5  Hits@10  Hits@100  Hits@500  Hits@1000  \n23  0.445222   0.277   0.400    0.467     0.694     0.872        1.0  \n29  0.444757   0.273   0.401    0.469     0.698     0.875        1.0  \n17  0.443357   0.274   0.399    0.465     0.693     0.872        1.0  \n22  0.443953   0.275   0.397    0.470     0.691     0.875        1.0  \n34  0.442053   0.268   0.399    0.465     0.692     0.882        1.0  \n35  0.441205   0.266   0.400    0.465     0.691     0.874        1.0  \n28  0.441808   0.269   0.398    0.466     0.693     0.877        1.0  \n33  0.441164   0.270   0.398    0.460     0.688     0.883        1.0  \n27  0.441391   0.271   0.399    0.470     0.693     0.882        1.0  \n11  0.440219   0.264   0.401    0.465     0.697     0.870        1.0  \n21  0.441953   0.271   0.397    0.467     0.692     0.872        1.0  \n16  0.441145   0.269   0.395    0.468     0.692     0.874        1.0  \n14  0.437890   0.267   0.397    0.459     0.686     0.877        1.0  \n32  0.439126   0.269   0.394    0.461     0.685     0.883        1.0  \n18  0.435421   0.269   0.393    0.456     0.660     0.849        1.0  \n30  0.434993   0.269   0.395    0.455     0.665     0.853        1.0  \n15  0.438668   0.264   0.394    0.460     0.690     0.877        1.0  \n10  0.438412   0.265   0.393    0.462     0.686     0.873        1.0  \n4   0.435527   0.263   0.398    0.460     0.683     0.864        1.0  \n24  0.435931   0.270   0.389    0.457     0.661     0.856        1.0  \n25  0.436667   0.268   0.394    0.459     0.688     0.878        1.0  \n5   0.436647   0.265   0.393    0.462     0.683     0.863        1.0  \n26  0.436169   0.262   0.396    0.460     0.687     0.884        1.0  \n9   0.437392   0.266   0.391    0.462     0.689     0.871        1.0  \n20  0.435135   0.261   0.396    0.460     0.684     0.876        1.0  \n8   0.437175   0.266   0.389    0.453     0.689     0.873        1.0  \n31  0.435646   0.265   0.391    0.456     0.686     0.882        1.0  \n12  0.431377   0.263   0.393    0.455     0.664     0.845        1.0  \n19  0.434759   0.263   0.390    0.455     0.681     0.879        1.0  \n3   0.433014   0.261   0.392    0.454     0.683     0.864        1.0  \n7   0.433340   0.263   0.389    0.456     0.683     0.877        1.0  \n13  0.434779   0.264   0.384    0.456     0.683     0.873        1.0  \n2   0.433574   0.266   0.383    0.450     0.683     0.865        1.0  \n6   0.428104   0.260   0.384    0.447     0.657     0.844        1.0  \n1   0.428078   0.257   0.380    0.449     0.677     0.862        1.0  \n0   0.422200   0.258   0.379    0.435     0.641     0.821        1.0  ",
            "text/html": "<div>\n<style scoped>\n    .dataframe tbody tr th:only-of-type {\n        vertical-align: middle;\n    }\n\n    .dataframe tbody tr th {\n        vertical-align: top;\n    }\n\n    .dataframe thead th {\n        text-align: right;\n    }\n</style>\n<table border=\"1\" class=\"dataframe\">\n  <thead>\n    <tr style=\"text-align: right;\">\n      <th></th>\n      <th>min_count</th>\n      <th>window</th>\n      <th>DCG@1</th>\n      <th>DCG@5</th>\n      <th>DCG@10</th>\n      <th>DCG@100</th>\n      <th>DCG@500</th>\n      <th>DCG@1000</th>\n      <th>Hits@1</th>\n      <th>Hits@5</th>\n      <th>Hits@10</th>\n      <th>Hits@100</th>\n      <th>Hits@500</th>\n      <th>Hits@1000</th>\n    </tr>\n  </thead>\n  <tbody>\n    <tr>\n      <th>23</th>\n      <td>7</td>\n      <td>11</td>\n      <td>0.277</td>\n      <td>0.341331</td>\n      <td>0.362819</td>\n      <td>0.408858</td>\n      <td>0.431646</td>\n      <td>0.445222</td>\n      <td>0.277</td>\n      <td>0.400</td>\n      <td>0.467</td>\n      <td>0.694</td>\n      <td>0.872</td>\n      <td>1.0</td>\n    </tr>\n    <tr>\n      <th>29</th>\n      <td>9</td>\n      <td>11</td>\n      <td>0.273</td>\n      <td>0.340562</td>\n      <td>0.362419</td>\n      <td>0.408832</td>\n      <td>0.431492</td>\n      <td>0.444757</td>\n      <td>0.273</td>\n      <td>0.401</td>\n      <td>0.469</td>\n      <td>0.698</td>\n      <td>0.875</td>\n      <td>1.0</td>\n    </tr>\n    <tr>\n      <th>17</th>\n      <td>5</td>\n      <td>11</td>\n      <td>0.274</td>\n      <td>0.339180</td>\n      <td>0.360391</td>\n      <td>0.406822</td>\n      <td>0.429810</td>\n      <td>0.443357</td>\n      <td>0.274</td>\n      <td>0.399</td>\n      <td>0.465</td>\n      <td>0.693</td>\n      <td>0.872</td>\n      <td>1.0</td>\n    </tr>\n    <tr>\n      <th>22</th>\n      <td>7</td>\n      <td>9</td>\n      <td>0.275</td>\n      <td>0.338863</td>\n      <td>0.362348</td>\n      <td>0.407198</td>\n      <td>0.430698</td>\n      <td>0.443953</td>\n      <td>0.275</td>\n      <td>0.397</td>\n      <td>0.470</td>\n      <td>0.691</td>\n      <td>0.875</td>\n      <td>1.0</td>\n    </tr>\n    <tr>\n      <th>34</th>\n      <td>11</td>\n      <td>9</td>\n      <td>0.268</td>\n      <td>0.337665</td>\n      <td>0.358858</td>\n      <td>0.405240</td>\n      <td>0.429525</td>\n      <td>0.442053</td>\n      <td>0.268</td>\n      <td>0.399</td>\n      <td>0.465</td>\n      <td>0.692</td>\n      <td>0.882</td>\n      <td>1.0</td>\n    </tr>\n    <tr>\n      <th>35</th>\n      <td>11</td>\n      <td>11</td>\n      <td>0.266</td>\n      <td>0.337372</td>\n      <td>0.358194</td>\n      <td>0.404306</td>\n      <td>0.427813</td>\n      <td>0.441205</td>\n      <td>0.266</td>\n      <td>0.400</td>\n      <td>0.465</td>\n      <td>0.691</td>\n      <td>0.874</td>\n      <td>1.0</td>\n    </tr>\n    <tr>\n      <th>28</th>\n      <td>9</td>\n      <td>9</td>\n      <td>0.269</td>\n      <td>0.337211</td>\n      <td>0.359090</td>\n      <td>0.405277</td>\n      <td>0.428731</td>\n      <td>0.441808</td>\n      <td>0.269</td>\n      <td>0.398</td>\n      <td>0.466</td>\n      <td>0.693</td>\n      <td>0.877</td>\n      <td>1.0</td>\n    </tr>\n    <tr>\n      <th>33</th>\n      <td>11</td>\n      <td>7</td>\n      <td>0.270</td>\n      <td>0.337110</td>\n      <td>0.357005</td>\n      <td>0.403700</td>\n      <td>0.428727</td>\n      <td>0.441164</td>\n      <td>0.270</td>\n      <td>0.398</td>\n      <td>0.460</td>\n      <td>0.688</td>\n      <td>0.883</td>\n      <td>1.0</td>\n    </tr>\n    <tr>\n      <th>27</th>\n      <td>9</td>\n      <td>7</td>\n      <td>0.271</td>\n      <td>0.337043</td>\n      <td>0.359872</td>\n      <td>0.404621</td>\n      <td>0.428839</td>\n      <td>0.441391</td>\n      <td>0.271</td>\n      <td>0.399</td>\n      <td>0.470</td>\n      <td>0.693</td>\n      <td>0.882</td>\n      <td>1.0</td>\n    </tr>\n    <tr>\n      <th>11</th>\n      <td>3</td>\n      <td>11</td>\n      <td>0.264</td>\n      <td>0.336978</td>\n      <td>0.357398</td>\n      <td>0.404349</td>\n      <td>0.426489</td>\n      <td>0.440219</td>\n      <td>0.264</td>\n      <td>0.401</td>\n      <td>0.465</td>\n      <td>0.697</td>\n      <td>0.870</td>\n      <td>1.0</td>\n    </tr>\n    <tr>\n      <th>21</th>\n      <td>7</td>\n      <td>7</td>\n      <td>0.271</td>\n      <td>0.336889</td>\n      <td>0.359498</td>\n      <td>0.405113</td>\n      <td>0.428336</td>\n      <td>0.441953</td>\n      <td>0.271</td>\n      <td>0.397</td>\n      <td>0.467</td>\n      <td>0.692</td>\n      <td>0.872</td>\n      <td>1.0</td>\n    </tr>\n    <tr>\n      <th>16</th>\n      <td>5</td>\n      <td>9</td>\n      <td>0.269</td>\n      <td>0.335308</td>\n      <td>0.358790</td>\n      <td>0.404442</td>\n      <td>0.427798</td>\n      <td>0.441145</td>\n      <td>0.269</td>\n      <td>0.395</td>\n      <td>0.468</td>\n      <td>0.692</td>\n      <td>0.874</td>\n      <td>1.0</td>\n    </tr>\n    <tr>\n      <th>14</th>\n      <td>5</td>\n      <td>5</td>\n      <td>0.267</td>\n      <td>0.334404</td>\n      <td>0.354045</td>\n      <td>0.400225</td>\n      <td>0.424826</td>\n      <td>0.437890</td>\n      <td>0.267</td>\n      <td>0.397</td>\n      <td>0.459</td>\n      <td>0.686</td>\n      <td>0.877</td>\n      <td>1.0</td>\n    </tr>\n    <tr>\n      <th>32</th>\n      <td>11</td>\n      <td>5</td>\n      <td>0.269</td>\n      <td>0.334327</td>\n      <td>0.355618</td>\n      <td>0.401257</td>\n      <td>0.426687</td>\n      <td>0.439126</td>\n      <td>0.269</td>\n      <td>0.394</td>\n      <td>0.461</td>\n      <td>0.685</td>\n      <td>0.883</td>\n      <td>1.0</td>\n    </tr>\n    <tr>\n      <th>18</th>\n      <td>7</td>\n      <td>1</td>\n      <td>0.269</td>\n      <td>0.333855</td>\n      <td>0.354121</td>\n      <td>0.395610</td>\n      <td>0.419669</td>\n      <td>0.435421</td>\n      <td>0.269</td>\n      <td>0.393</td>\n      <td>0.456</td>\n      <td>0.660</td>\n      <td>0.849</td>\n      <td>1.0</td>\n    </tr>\n    <tr>\n      <th>30</th>\n      <td>11</td>\n      <td>1</td>\n      <td>0.269</td>\n      <td>0.333487</td>\n      <td>0.353042</td>\n      <td>0.395779</td>\n      <td>0.419674</td>\n      <td>0.434993</td>\n      <td>0.269</td>\n      <td>0.395</td>\n      <td>0.455</td>\n      <td>0.665</td>\n      <td>0.853</td>\n      <td>1.0</td>\n    </tr>\n    <tr>\n      <th>15</th>\n      <td>5</td>\n      <td>7</td>\n      <td>0.264</td>\n      <td>0.333319</td>\n      <td>0.354526</td>\n      <td>0.401556</td>\n      <td>0.425619</td>\n      <td>0.438668</td>\n      <td>0.264</td>\n      <td>0.394</td>\n      <td>0.460</td>\n      <td>0.690</td>\n      <td>0.877</td>\n      <td>1.0</td>\n    </tr>\n    <tr>\n      <th>10</th>\n      <td>3</td>\n      <td>9</td>\n      <td>0.265</td>\n      <td>0.333093</td>\n      <td>0.355140</td>\n      <td>0.400929</td>\n      <td>0.424983</td>\n      <td>0.438412</td>\n      <td>0.265</td>\n      <td>0.393</td>\n      <td>0.462</td>\n      <td>0.686</td>\n      <td>0.873</td>\n      <td>1.0</td>\n    </tr>\n    <tr>\n      <th>4</th>\n      <td>1</td>\n      <td>9</td>\n      <td>0.263</td>\n      <td>0.332991</td>\n      <td>0.352657</td>\n      <td>0.397845</td>\n      <td>0.421229</td>\n      <td>0.435527</td>\n      <td>0.263</td>\n      <td>0.398</td>\n      <td>0.460</td>\n      <td>0.683</td>\n      <td>0.864</td>\n      <td>1.0</td>\n    </tr>\n    <tr>\n      <th>24</th>\n      <td>9</td>\n      <td>1</td>\n      <td>0.270</td>\n      <td>0.332664</td>\n      <td>0.354755</td>\n      <td>0.396220</td>\n      <td>0.420964</td>\n      <td>0.435931</td>\n      <td>0.270</td>\n      <td>0.389</td>\n      <td>0.457</td>\n      <td>0.661</td>\n      <td>0.856</td>\n      <td>1.0</td>\n    </tr>\n    <tr>\n      <th>25</th>\n      <td>9</td>\n      <td>3</td>\n      <td>0.268</td>\n      <td>0.332504</td>\n      <td>0.353223</td>\n      <td>0.399389</td>\n      <td>0.423753</td>\n      <td>0.436667</td>\n      <td>0.268</td>\n      <td>0.394</td>\n      <td>0.459</td>\n      <td>0.688</td>\n      <td>0.878</td>\n      <td>1.0</td>\n    </tr>\n    <tr>\n      <th>5</th>\n      <td>1</td>\n      <td>11</td>\n      <td>0.265</td>\n      <td>0.332369</td>\n      <td>0.354416</td>\n      <td>0.399082</td>\n      <td>0.422267</td>\n      <td>0.436647</td>\n      <td>0.265</td>\n      <td>0.393</td>\n      <td>0.462</td>\n      <td>0.683</td>\n      <td>0.863</td>\n      <td>1.0</td>\n    </tr>\n    <tr>\n      <th>26</th>\n      <td>9</td>\n      <td>5</td>\n      <td>0.262</td>\n      <td>0.332179</td>\n      <td>0.352542</td>\n      <td>0.398575</td>\n      <td>0.423843</td>\n      <td>0.436169</td>\n      <td>0.262</td>\n      <td>0.396</td>\n      <td>0.460</td>\n      <td>0.687</td>\n      <td>0.884</td>\n      <td>1.0</td>\n    </tr>\n    <tr>\n      <th>9</th>\n      <td>3</td>\n      <td>7</td>\n      <td>0.266</td>\n      <td>0.331607</td>\n      <td>0.354298</td>\n      <td>0.400305</td>\n      <td>0.423742</td>\n      <td>0.437392</td>\n      <td>0.266</td>\n      <td>0.391</td>\n      <td>0.462</td>\n      <td>0.689</td>\n      <td>0.871</td>\n      <td>1.0</td>\n    </tr>\n    <tr>\n      <th>20</th>\n      <td>7</td>\n      <td>5</td>\n      <td>0.261</td>\n      <td>0.331365</td>\n      <td>0.351609</td>\n      <td>0.397157</td>\n      <td>0.421955</td>\n      <td>0.435135</td>\n      <td>0.261</td>\n      <td>0.396</td>\n      <td>0.460</td>\n      <td>0.684</td>\n      <td>0.876</td>\n      <td>1.0</td>\n    </tr>\n    <tr>\n      <th>8</th>\n      <td>3</td>\n      <td>5</td>\n      <td>0.266</td>\n      <td>0.331204</td>\n      <td>0.351686</td>\n      <td>0.399997</td>\n      <td>0.423705</td>\n      <td>0.437175</td>\n      <td>0.266</td>\n      <td>0.389</td>\n      <td>0.453</td>\n      <td>0.689</td>\n      <td>0.873</td>\n      <td>1.0</td>\n    </tr>\n    <tr>\n      <th>31</th>\n      <td>11</td>\n      <td>3</td>\n      <td>0.265</td>\n      <td>0.330383</td>\n      <td>0.351412</td>\n      <td>0.398094</td>\n      <td>0.423174</td>\n      <td>0.435646</td>\n      <td>0.265</td>\n      <td>0.391</td>\n      <td>0.456</td>\n      <td>0.686</td>\n      <td>0.882</td>\n      <td>1.0</td>\n    </tr>\n    <tr>\n      <th>12</th>\n      <td>5</td>\n      <td>1</td>\n      <td>0.263</td>\n      <td>0.330203</td>\n      <td>0.350095</td>\n      <td>0.392274</td>\n      <td>0.415206</td>\n      <td>0.431377</td>\n      <td>0.263</td>\n      <td>0.393</td>\n      <td>0.455</td>\n      <td>0.664</td>\n      <td>0.845</td>\n      <td>1.0</td>\n    </tr>\n    <tr>\n      <th>19</th>\n      <td>7</td>\n      <td>3</td>\n      <td>0.263</td>\n      <td>0.329382</td>\n      <td>0.350248</td>\n      <td>0.396544</td>\n      <td>0.421964</td>\n      <td>0.434759</td>\n      <td>0.263</td>\n      <td>0.390</td>\n      <td>0.455</td>\n      <td>0.681</td>\n      <td>0.879</td>\n      <td>1.0</td>\n    </tr>\n    <tr>\n      <th>3</th>\n      <td>1</td>\n      <td>7</td>\n      <td>0.261</td>\n      <td>0.328747</td>\n      <td>0.348571</td>\n      <td>0.395268</td>\n      <td>0.418706</td>\n      <td>0.433014</td>\n      <td>0.261</td>\n      <td>0.392</td>\n      <td>0.454</td>\n      <td>0.683</td>\n      <td>0.864</td>\n      <td>1.0</td>\n    </tr>\n    <tr>\n      <th>7</th>\n      <td>3</td>\n      <td>3</td>\n      <td>0.263</td>\n      <td>0.327984</td>\n      <td>0.349669</td>\n      <td>0.395584</td>\n      <td>0.420402</td>\n      <td>0.433340</td>\n      <td>0.263</td>\n      <td>0.389</td>\n      <td>0.456</td>\n      <td>0.683</td>\n      <td>0.877</td>\n      <td>1.0</td>\n    </tr>\n    <tr>\n      <th>13</th>\n      <td>5</td>\n      <td>3</td>\n      <td>0.264</td>\n      <td>0.327508</td>\n      <td>0.350598</td>\n      <td>0.396894</td>\n      <td>0.421364</td>\n      <td>0.434779</td>\n      <td>0.264</td>\n      <td>0.384</td>\n      <td>0.456</td>\n      <td>0.683</td>\n      <td>0.873</td>\n      <td>1.0</td>\n    </tr>\n    <tr>\n      <th>2</th>\n      <td>1</td>\n      <td>5</td>\n      <td>0.266</td>\n      <td>0.327389</td>\n      <td>0.348823</td>\n      <td>0.395955</td>\n      <td>0.419387</td>\n      <td>0.433574</td>\n      <td>0.266</td>\n      <td>0.383</td>\n      <td>0.450</td>\n      <td>0.683</td>\n      <td>0.865</td>\n      <td>1.0</td>\n    </tr>\n    <tr>\n      <th>6</th>\n      <td>3</td>\n      <td>1</td>\n      <td>0.260</td>\n      <td>0.325000</td>\n      <td>0.345315</td>\n      <td>0.388149</td>\n      <td>0.411846</td>\n      <td>0.428104</td>\n      <td>0.260</td>\n      <td>0.384</td>\n      <td>0.447</td>\n      <td>0.657</td>\n      <td>0.844</td>\n      <td>1.0</td>\n    </tr>\n    <tr>\n      <th>1</th>\n      <td>1</td>\n      <td>3</td>\n      <td>0.257</td>\n      <td>0.322122</td>\n      <td>0.344153</td>\n      <td>0.389998</td>\n      <td>0.413644</td>\n      <td>0.428078</td>\n      <td>0.257</td>\n      <td>0.380</td>\n      <td>0.449</td>\n      <td>0.677</td>\n      <td>0.862</td>\n      <td>1.0</td>\n    </tr>\n    <tr>\n      <th>0</th>\n      <td>1</td>\n      <td>1</td>\n      <td>0.258</td>\n      <td>0.321127</td>\n      <td>0.338958</td>\n      <td>0.380714</td>\n      <td>0.403489</td>\n      <td>0.422200</td>\n      <td>0.258</td>\n      <td>0.379</td>\n      <td>0.435</td>\n      <td>0.641</td>\n      <td>0.821</td>\n      <td>1.0</td>\n    </tr>\n  </tbody>\n</table>\n</div>"
          },
          "metadata": {}
        }
      ]
    },
    {
      "cell_type": "code",
      "source": [
        "parameter_table[parameter_table['DCG@1000']==parameter_table['DCG@1000'].max()]"
      ],
      "metadata": {
        "id": "RqIBgS-Z4j_Q",
        "execution": {
          "iopub.status.busy": "2024-03-04T19:21:14.825437Z",
          "iopub.execute_input": "2024-03-04T19:21:14.826091Z",
          "iopub.status.idle": "2024-03-04T19:21:14.842501Z",
          "shell.execute_reply.started": "2024-03-04T19:21:14.826058Z",
          "shell.execute_reply": "2024-03-04T19:21:14.841590Z"
        },
        "trusted": true,
        "outputId": "bb7e855b-9c12-4b7f-b6e9-5dc78e965ae5"
      },
      "execution_count": null,
      "outputs": [
        {
          "execution_count": 100,
          "output_type": "execute_result",
          "data": {
            "text/plain": "    min_count  window  DCG@1     DCG@5    DCG@10   DCG@100   DCG@500  \\\n23          7      11  0.277  0.341331  0.362819  0.408858  0.431646   \n\n    DCG@1000  Hits@1  Hits@5  Hits@10  Hits@100  Hits@500  Hits@1000  \n23  0.445222   0.277     0.4    0.467     0.694     0.872        1.0  ",
            "text/html": "<div>\n<style scoped>\n    .dataframe tbody tr th:only-of-type {\n        vertical-align: middle;\n    }\n\n    .dataframe tbody tr th {\n        vertical-align: top;\n    }\n\n    .dataframe thead th {\n        text-align: right;\n    }\n</style>\n<table border=\"1\" class=\"dataframe\">\n  <thead>\n    <tr style=\"text-align: right;\">\n      <th></th>\n      <th>min_count</th>\n      <th>window</th>\n      <th>DCG@1</th>\n      <th>DCG@5</th>\n      <th>DCG@10</th>\n      <th>DCG@100</th>\n      <th>DCG@500</th>\n      <th>DCG@1000</th>\n      <th>Hits@1</th>\n      <th>Hits@5</th>\n      <th>Hits@10</th>\n      <th>Hits@100</th>\n      <th>Hits@500</th>\n      <th>Hits@1000</th>\n    </tr>\n  </thead>\n  <tbody>\n    <tr>\n      <th>23</th>\n      <td>7</td>\n      <td>11</td>\n      <td>0.277</td>\n      <td>0.341331</td>\n      <td>0.362819</td>\n      <td>0.408858</td>\n      <td>0.431646</td>\n      <td>0.445222</td>\n      <td>0.277</td>\n      <td>0.4</td>\n      <td>0.467</td>\n      <td>0.694</td>\n      <td>0.872</td>\n      <td>1.0</td>\n    </tr>\n  </tbody>\n</table>\n</div>"
          },
          "metadata": {}
        }
      ]
    },
    {
      "cell_type": "code",
      "source": [
        "#   обучим эмбеддинги без нормализации на оптимальных параметрах, добавив sg=1:\n",
        "\n",
        "embeddings_trained = Word2Vec(words,\n",
        "                              vector_size=200,\n",
        "                              min_count=7,\n",
        "                              window=11,\n",
        "                              workers=4,\n",
        "                              sg=1).wv"
      ],
      "metadata": {
        "execution": {
          "iopub.status.busy": "2024-03-04T19:22:37.837855Z",
          "iopub.execute_input": "2024-03-04T19:22:37.838735Z",
          "iopub.status.idle": "2024-03-04T19:27:13.441907Z",
          "shell.execute_reply.started": "2024-03-04T19:22:37.838696Z",
          "shell.execute_reply": "2024-03-04T19:27:13.439801Z"
        },
        "trusted": true,
        "id": "64cYa3DnKTUu"
      },
      "execution_count": null,
      "outputs": []
    },
    {
      "cell_type": "code",
      "source": [
        "tokenizers = [MyTokenizer(), Pymorphy2Tokenizer()]\n",
        "count=0\n",
        "\n",
        "for tokenizer in tokenizers:\n",
        "    wv_ranking = []\n",
        "    max_validation_examples = 1000\n",
        "    for i, line in enumerate(validation_data):\n",
        "        if i == max_validation_examples:\n",
        "            break\n",
        "        q, *ex = line\n",
        "        ranks = rank_candidates(q, ex, embeddings_trained, tokenizer)\n",
        "        wv_ranking.append([r[0] for r in ranks].index(0) + 1)\n",
        "    if count < 2:\n",
        "        print(str(tokenizer).split(\".\")[1].split(\" \")[0])\n",
        "    else:\n",
        "        print(str(tokenizer).split(\"(\")[0])\n",
        "    for k in [1, 5, 10, 100, 500, 1000]:\n",
        "        print(\"DCG@%4d: %.3f | Hits@%4d: %.3f\" % (k, dcg_score(wv_ranking, k), k, hits_count(wv_ranking, k)))\n",
        "    print()\n",
        "    count+=1"
      ],
      "metadata": {
        "execution": {
          "iopub.status.busy": "2024-03-04T19:27:13.444748Z",
          "iopub.execute_input": "2024-03-04T19:27:13.445055Z",
          "iopub.status.idle": "2024-03-04T19:44:12.056072Z",
          "shell.execute_reply.started": "2024-03-04T19:27:13.445030Z",
          "shell.execute_reply": "2024-03-04T19:44:12.054876Z"
        },
        "trusted": true,
        "id": "t0K7XUUSKTUu",
        "outputId": "05db61df-c865-4592-bb34-cf1bbab9a2ef"
      },
      "execution_count": null,
      "outputs": [
        {
          "name": "stdout",
          "text": "MyTokenizer\nDCG@   1: 0.333 | Hits@   1: 0.333\nDCG@   5: 0.400 | Hits@   5: 0.458\nDCG@  10: 0.419 | Hits@  10: 0.518\nDCG@ 100: 0.457 | Hits@ 100: 0.704\nDCG@ 500: 0.477 | Hits@ 500: 0.857\nDCG@1000: 0.492 | Hits@1000: 1.000\n\nPymorphy2Tokenizer\nDCG@   1: 0.429 | Hits@   1: 0.429\nDCG@   5: 0.524 | Hits@   5: 0.610\nDCG@  10: 0.547 | Hits@  10: 0.683\nDCG@ 100: 0.583 | Hits@ 100: 0.856\nDCG@ 500: 0.595 | Hits@ 500: 0.952\nDCG@1000: 0.600 | Hits@1000: 1.000\n\n",
          "output_type": "stream"
        }
      ]
    },
    {
      "cell_type": "markdown",
      "source": [
        "#### Получение эмбеддингов с нормализацией"
      ],
      "metadata": {
        "id": "5iSypRcnKTUv"
      }
    },
    {
      "cell_type": "code",
      "source": [
        "def preproc_nltk_norm(text):\n",
        "    text = ' '.join([word for word in word_tokenize(text.lower()) if word not in stopWords])\n",
        "    return Pymorphy2Tokenizer().tokenize(text)\n",
        "words_norm = [preproc_nltk_norm(question) for question in couple_list]"
      ],
      "metadata": {
        "execution": {
          "iopub.status.busy": "2024-03-04T19:45:24.252062Z",
          "iopub.execute_input": "2024-03-04T19:45:24.252962Z",
          "iopub.status.idle": "2024-03-04T19:56:46.947743Z",
          "shell.execute_reply.started": "2024-03-04T19:45:24.252926Z",
          "shell.execute_reply": "2024-03-04T19:56:46.946664Z"
        },
        "trusted": true,
        "id": "hWxYIhJFKTUv"
      },
      "execution_count": null,
      "outputs": []
    },
    {
      "cell_type": "code",
      "source": [
        "#   обучим эмбеддинги с нормализацией на оптимальных параметрах:\n",
        "\n",
        "embeddings_trained_norm = Word2Vec(words_norm,\n",
        "                            vector_size=200,\n",
        "                            min_count=12,\n",
        "                            window=10,\n",
        "                            workers=4,\n",
        "                            sg=1).wv"
      ],
      "metadata": {
        "execution": {
          "iopub.status.busy": "2024-03-04T19:56:46.949905Z",
          "iopub.execute_input": "2024-03-04T19:56:46.950226Z",
          "iopub.status.idle": "2024-03-04T20:00:57.248610Z",
          "shell.execute_reply.started": "2024-03-04T19:56:46.950180Z",
          "shell.execute_reply": "2024-03-04T20:00:57.247579Z"
        },
        "trusted": true,
        "id": "_IKQN6vvKTUv"
      },
      "execution_count": null,
      "outputs": []
    },
    {
      "cell_type": "markdown",
      "source": [
        "#### Качество ранжирования для 2 токенайзеров"
      ],
      "metadata": {
        "id": "FtjNQuhrKTUv"
      }
    },
    {
      "cell_type": "code",
      "source": [
        "tokenizers = [MyTokenizer(),  Pymorphy2Tokenizer()]\n",
        "count=0\n",
        "\n",
        "for tokenizer in tokenizers:\n",
        "    wv_ranking = []\n",
        "    max_validation_examples = 1000\n",
        "    for i, line in enumerate(validation_data):\n",
        "        if i == max_validation_examples:\n",
        "            break\n",
        "        q, *ex = line\n",
        "        ranks = rank_candidates(q, ex, embeddings_trained_norm, tokenizer)\n",
        "        wv_ranking.append([r[0] for r in ranks].index(0) + 1)\n",
        "    if count < 2:\n",
        "        print(str(tokenizer).split(\".\")[1].split(\" \")[0])\n",
        "    else:\n",
        "        print(str(tokenizer).split(\"(\")[0])\n",
        "    for k in [1, 5, 10, 100, 500, 1000]:\n",
        "        print(\"DCG@%4d: %.3f | Hits@%4d: %.3f\" % (k, dcg_score(wv_ranking, k), k, hits_count(wv_ranking, k)))\n",
        "    print()\n",
        "    count+=1"
      ],
      "metadata": {
        "execution": {
          "iopub.status.busy": "2024-03-04T20:10:36.760336Z",
          "iopub.execute_input": "2024-03-04T20:10:36.760754Z",
          "iopub.status.idle": "2024-03-04T20:27:45.455459Z",
          "shell.execute_reply.started": "2024-03-04T20:10:36.760723Z",
          "shell.execute_reply": "2024-03-04T20:27:45.454447Z"
        },
        "trusted": true,
        "id": "TQiQbh8cKTUw",
        "outputId": "8a160be6-6b03-41b2-f661-f411198a14a5"
      },
      "execution_count": null,
      "outputs": [
        {
          "name": "stdout",
          "text": "MyTokenizer\nDCG@   1: 0.331 | Hits@   1: 0.331\nDCG@   5: 0.400 | Hits@   5: 0.463\nDCG@  10: 0.419 | Hits@  10: 0.520\nDCG@ 100: 0.456 | Hits@ 100: 0.702\nDCG@ 500: 0.476 | Hits@ 500: 0.860\nDCG@1000: 0.491 | Hits@1000: 1.000\n\nPymorphy2Tokenizer\nDCG@   1: 0.429 | Hits@   1: 0.429\nDCG@   5: 0.522 | Hits@   5: 0.605\nDCG@  10: 0.545 | Hits@  10: 0.677\nDCG@ 100: 0.581 | Hits@ 100: 0.852\nDCG@ 500: 0.594 | Hits@ 500: 0.955\nDCG@1000: 0.599 | Hits@1000: 1.000\n\n",
          "output_type": "stream"
        }
      ]
    },
    {
      "cell_type": "markdown",
      "source": [
        "## Вывод:\n",
        "\n",
        "Токенизация pymorphy2_tokenizer (токенизатор возвращает слова, пунктуацию, применяет нормализацию) дает лучшее качество по сравнению с MyTokenize без нормализации. Spacy дает сопоставимое качество, но обрабатывает текст в несколько раз дольше.  \n",
        "\n",
        "\n",
        "Нормализация слов в данном случае ухудшает метрики.\n",
        "\n",
        "\n",
        "Лучшее качество показали эмбеддинги с min_count=7, window=11,c алгоритмом обучения sg=1 (Skip-Gram). Основная фича Skip-Gram-хорошее представление даже редких слов даже на небольшом наборе данных. Повышение min_count приводит к повышению  метрик DCG и Hits. Получение эмбеддингов с нормализацией приводит к ухудшению метрик. Вероятно, это связано с тем, что текст технический. Использование предобученных эмбеддингов дало немного более худшее качество по сравнению с обученными с подходом Word2Vec.\n",
        "\n",
        "\n",
        "Качество невысокое как на предобученных эмбеддингах, так и на обученных. Вероятно, плохое качество получилось, тк использовался подход Word2Vec, который не является не является оптимальным к 2024 году. Например, для редких слов эмбеддинги получаются неоптимальными, а слова,имеющие один корень,обрабатываются по-разному.\n",
        "\n",
        "В дальнейшем можно попробовать использовать GloVe/FastText"
      ],
      "metadata": {
        "id": "dlcbcrAaKTUw"
      }
    }
  ]
}