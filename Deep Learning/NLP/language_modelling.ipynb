{
  "cells": [
    {
      "cell_type": "markdown",
      "id": "2fc3c012",
      "metadata": {
        "id": "2fc3c012",
        "papermill": {
          "duration": 0.261545,
          "end_time": "2024-10-26T18:58:32.118979",
          "exception": false,
          "start_time": "2024-10-26T18:58:31.857434",
          "status": "completed"
        },
        "tags": []
      },
      "source": [
        "В ноутбуке с помощью RNN обучаются языковые модели (модели учатся предсказывать вероятность следующего слова на основе предыдущих). В данном случае модели обучены  работать с отдельными словами."
      ]
    },
    {
      "cell_type": "code",
      "execution_count": null,
      "id": "6315b76d",
      "metadata": {
        "execution": {
          "iopub.execute_input": "2024-10-26T18:58:32.673050Z",
          "iopub.status.busy": "2024-10-26T18:58:32.672692Z",
          "iopub.status.idle": "2024-10-26T18:58:45.297507Z",
          "shell.execute_reply": "2024-10-26T18:58:45.296347Z"
        },
        "id": "6315b76d",
        "outputId": "f7148322-a5e0-4813-957e-a11a8a8943d2",
        "papermill": {
          "duration": 12.88471,
          "end_time": "2024-10-26T18:58:45.299976",
          "exception": false,
          "start_time": "2024-10-26T18:58:32.415266",
          "status": "completed"
        },
        "tags": []
      },
      "outputs": [
        {
          "name": "stdout",
          "output_type": "stream",
          "text": [
            "Requirement already satisfied: datasets in /opt/conda/lib/python3.10/site-packages (3.0.1)\r\n",
            "Requirement already satisfied: filelock in /opt/conda/lib/python3.10/site-packages (from datasets) (3.15.1)\r\n",
            "Requirement already satisfied: numpy>=1.17 in /opt/conda/lib/python3.10/site-packages (from datasets) (1.26.4)\r\n",
            "Requirement already satisfied: pyarrow>=15.0.0 in /opt/conda/lib/python3.10/site-packages (from datasets) (16.1.0)\r\n",
            "Requirement already satisfied: dill<0.3.9,>=0.3.0 in /opt/conda/lib/python3.10/site-packages (from datasets) (0.3.8)\r\n",
            "Requirement already satisfied: pandas in /opt/conda/lib/python3.10/site-packages (from datasets) (2.2.2)\r\n",
            "Requirement already satisfied: requests>=2.32.2 in /opt/conda/lib/python3.10/site-packages (from datasets) (2.32.3)\r\n",
            "Requirement already satisfied: tqdm>=4.66.3 in /opt/conda/lib/python3.10/site-packages (from datasets) (4.66.4)\r\n",
            "Requirement already satisfied: xxhash in /opt/conda/lib/python3.10/site-packages (from datasets) (3.4.1)\r\n",
            "Requirement already satisfied: multiprocess in /opt/conda/lib/python3.10/site-packages (from datasets) (0.70.16)\r\n",
            "Requirement already satisfied: fsspec<=2024.6.1,>=2023.1.0 in /opt/conda/lib/python3.10/site-packages (from fsspec[http]<=2024.6.1,>=2023.1.0->datasets) (2024.6.1)\r\n",
            "Requirement already satisfied: aiohttp in /opt/conda/lib/python3.10/site-packages (from datasets) (3.9.5)\r\n",
            "Requirement already satisfied: huggingface-hub>=0.22.0 in /opt/conda/lib/python3.10/site-packages (from datasets) (0.25.1)\r\n",
            "Requirement already satisfied: packaging in /opt/conda/lib/python3.10/site-packages (from datasets) (21.3)\r\n",
            "Requirement already satisfied: pyyaml>=5.1 in /opt/conda/lib/python3.10/site-packages (from datasets) (6.0.2)\r\n",
            "Requirement already satisfied: aiosignal>=1.1.2 in /opt/conda/lib/python3.10/site-packages (from aiohttp->datasets) (1.3.1)\r\n",
            "Requirement already satisfied: attrs>=17.3.0 in /opt/conda/lib/python3.10/site-packages (from aiohttp->datasets) (23.2.0)\r\n",
            "Requirement already satisfied: frozenlist>=1.1.1 in /opt/conda/lib/python3.10/site-packages (from aiohttp->datasets) (1.4.1)\r\n",
            "Requirement already satisfied: multidict<7.0,>=4.5 in /opt/conda/lib/python3.10/site-packages (from aiohttp->datasets) (6.0.5)\r\n",
            "Requirement already satisfied: yarl<2.0,>=1.0 in /opt/conda/lib/python3.10/site-packages (from aiohttp->datasets) (1.9.4)\r\n",
            "Requirement already satisfied: async-timeout<5.0,>=4.0 in /opt/conda/lib/python3.10/site-packages (from aiohttp->datasets) (4.0.3)\r\n",
            "Requirement already satisfied: typing-extensions>=3.7.4.3 in /opt/conda/lib/python3.10/site-packages (from huggingface-hub>=0.22.0->datasets) (4.12.2)\r\n",
            "Requirement already satisfied: pyparsing!=3.0.5,>=2.0.2 in /opt/conda/lib/python3.10/site-packages (from packaging->datasets) (3.1.2)\r\n",
            "Requirement already satisfied: charset-normalizer<4,>=2 in /opt/conda/lib/python3.10/site-packages (from requests>=2.32.2->datasets) (3.3.2)\r\n",
            "Requirement already satisfied: idna<4,>=2.5 in /opt/conda/lib/python3.10/site-packages (from requests>=2.32.2->datasets) (3.7)\r\n",
            "Requirement already satisfied: urllib3<3,>=1.21.1 in /opt/conda/lib/python3.10/site-packages (from requests>=2.32.2->datasets) (1.26.18)\r\n",
            "Requirement already satisfied: certifi>=2017.4.17 in /opt/conda/lib/python3.10/site-packages (from requests>=2.32.2->datasets) (2024.8.30)\r\n",
            "Requirement already satisfied: python-dateutil>=2.8.2 in /opt/conda/lib/python3.10/site-packages (from pandas->datasets) (2.9.0.post0)\r\n",
            "Requirement already satisfied: pytz>=2020.1 in /opt/conda/lib/python3.10/site-packages (from pandas->datasets) (2024.1)\r\n",
            "Requirement already satisfied: tzdata>=2022.7 in /opt/conda/lib/python3.10/site-packages (from pandas->datasets) (2024.1)\r\n",
            "Requirement already satisfied: six>=1.5 in /opt/conda/lib/python3.10/site-packages (from python-dateutil>=2.8.2->pandas->datasets) (1.16.0)\r\n"
          ]
        }
      ],
      "source": [
        "# Установка модуля ```datasets```, чтобы было проще работать с данными.\n",
        "\n",
        "!pip install datasets"
      ]
    },
    {
      "cell_type": "code",
      "execution_count": null,
      "id": "f87f277b",
      "metadata": {
        "execution": {
          "iopub.execute_input": "2024-10-26T18:58:46.341345Z",
          "iopub.status.busy": "2024-10-26T18:58:46.340945Z",
          "iopub.status.idle": "2024-10-26T18:58:52.874276Z",
          "shell.execute_reply": "2024-10-26T18:58:52.873318Z"
        },
        "id": "f87f277b",
        "papermill": {
          "duration": 6.791414,
          "end_time": "2024-10-26T18:58:52.876744",
          "exception": false,
          "start_time": "2024-10-26T18:58:46.085330",
          "status": "completed"
        },
        "tags": []
      },
      "outputs": [],
      "source": [
        "import torch\n",
        "import torch.nn as nn\n",
        "from torch.utils.data import Dataset, DataLoader\n",
        "from torch.optim.lr_scheduler import StepLR\n",
        "\n",
        "import numpy as np\n",
        "import pandas as pd\n",
        "import matplotlib.pyplot as plt\n",
        "\n",
        "from tqdm.auto import tqdm\n",
        "from datasets import load_dataset\n",
        "from nltk.tokenize import sent_tokenize, word_tokenize\n",
        "from sklearn.model_selection import train_test_split\n",
        "import nltk\n",
        "import string\n",
        "from collections import Counter\n",
        "from typing import List\n",
        "\n",
        "import seaborn\n",
        "seaborn.set(palette='summer')"
      ]
    },
    {
      "cell_type": "code",
      "execution_count": null,
      "id": "42f53e7e",
      "metadata": {
        "execution": {
          "iopub.execute_input": "2024-10-26T18:58:53.390136Z",
          "iopub.status.busy": "2024-10-26T18:58:53.389591Z",
          "iopub.status.idle": "2024-10-26T18:58:53.529175Z",
          "shell.execute_reply": "2024-10-26T18:58:53.528234Z"
        },
        "id": "42f53e7e",
        "outputId": "a71034fb-f490-4697-fa11-5698189c2ae3",
        "papermill": {
          "duration": 0.396828,
          "end_time": "2024-10-26T18:58:53.531406",
          "exception": false,
          "start_time": "2024-10-26T18:58:53.134578",
          "status": "completed"
        },
        "tags": []
      },
      "outputs": [
        {
          "name": "stdout",
          "output_type": "stream",
          "text": [
            "[nltk_data] Downloading package punkt to /usr/share/nltk_data...\n",
            "[nltk_data]   Package punkt is already up-to-date!\n"
          ]
        },
        {
          "data": {
            "text/plain": [
              "True"
            ]
          },
          "execution_count": 3,
          "metadata": {},
          "output_type": "execute_result"
        }
      ],
      "source": [
        "nltk.download('punkt')"
      ]
    },
    {
      "cell_type": "code",
      "execution_count": null,
      "id": "8ca174a3",
      "metadata": {
        "execution": {
          "iopub.execute_input": "2024-10-26T18:58:54.041402Z",
          "iopub.status.busy": "2024-10-26T18:58:54.041000Z",
          "iopub.status.idle": "2024-10-26T18:58:54.105720Z",
          "shell.execute_reply": "2024-10-26T18:58:54.104833Z"
        },
        "id": "8ca174a3",
        "outputId": "7fba6f50-3605-4f2c-d643-2815a3ed58db",
        "papermill": {
          "duration": 0.32178,
          "end_time": "2024-10-26T18:58:54.107901",
          "exception": false,
          "start_time": "2024-10-26T18:58:53.786121",
          "status": "completed"
        },
        "tags": []
      },
      "outputs": [
        {
          "data": {
            "text/plain": [
              "'cuda'"
            ]
          },
          "execution_count": 4,
          "metadata": {},
          "output_type": "execute_result"
        }
      ],
      "source": [
        "device = 'cuda' if torch.cuda.is_available() else 'cpu'\n",
        "device"
      ]
    },
    {
      "cell_type": "markdown",
      "id": "3d4c2ecc",
      "metadata": {
        "id": "3d4c2ecc",
        "papermill": {
          "duration": 0.253249,
          "end_time": "2024-10-26T18:58:54.618534",
          "exception": false,
          "start_time": "2024-10-26T18:58:54.365285",
          "status": "completed"
        },
        "tags": []
      },
      "source": [
        "## Подготовка данных\n",
        "\n",
        "Воспользуемся датасетом imdb. В нем хранятся отзывы о фильмах с сайта imdb. Загрузим данные с помощью функции ```load_dataset```"
      ]
    },
    {
      "cell_type": "code",
      "execution_count": null,
      "id": "7d2c1e02",
      "metadata": {
        "execution": {
          "iopub.execute_input": "2024-10-26T18:58:55.136725Z",
          "iopub.status.busy": "2024-10-26T18:58:55.136297Z",
          "iopub.status.idle": "2024-10-26T18:59:00.912199Z",
          "shell.execute_reply": "2024-10-26T18:59:00.911115Z"
        },
        "id": "7d2c1e02",
        "outputId": "a16cf2cd-ef9b-463a-9b5d-b3d80f044ef8",
        "papermill": {
          "duration": 6.040646,
          "end_time": "2024-10-26T18:59:00.915289",
          "exception": false,
          "start_time": "2024-10-26T18:58:54.874643",
          "status": "completed"
        },
        "tags": [],
        "colab": {
          "referenced_widgets": [
            "cad617a87c6a405c82704b3fb57dc915",
            "32c3437c82b54ad7a44d7115f84cc95a",
            "283e8c8e6de44102bfe930f9ade14fda",
            "fa7704a230c74e67a2701845035a1526",
            "94c567a791374e86911f8ad0497e609a",
            "9538edd5fbe14899996ea8b69e28c954",
            "523436762238437696cbf7407d26434f"
          ]
        }
      },
      "outputs": [
        {
          "data": {
            "application/vnd.jupyter.widget-view+json": {
              "model_id": "cad617a87c6a405c82704b3fb57dc915",
              "version_major": 2,
              "version_minor": 0
            },
            "text/plain": [
              "README.md:   0%|          | 0.00/7.81k [00:00<?, ?B/s]"
            ]
          },
          "metadata": {},
          "output_type": "display_data"
        },
        {
          "data": {
            "application/vnd.jupyter.widget-view+json": {
              "model_id": "32c3437c82b54ad7a44d7115f84cc95a",
              "version_major": 2,
              "version_minor": 0
            },
            "text/plain": [
              "train-00000-of-00001.parquet:   0%|          | 0.00/21.0M [00:00<?, ?B/s]"
            ]
          },
          "metadata": {},
          "output_type": "display_data"
        },
        {
          "data": {
            "application/vnd.jupyter.widget-view+json": {
              "model_id": "283e8c8e6de44102bfe930f9ade14fda",
              "version_major": 2,
              "version_minor": 0
            },
            "text/plain": [
              "test-00000-of-00001.parquet:   0%|          | 0.00/20.5M [00:00<?, ?B/s]"
            ]
          },
          "metadata": {},
          "output_type": "display_data"
        },
        {
          "data": {
            "application/vnd.jupyter.widget-view+json": {
              "model_id": "fa7704a230c74e67a2701845035a1526",
              "version_major": 2,
              "version_minor": 0
            },
            "text/plain": [
              "unsupervised-00000-of-00001.parquet:   0%|          | 0.00/42.0M [00:00<?, ?B/s]"
            ]
          },
          "metadata": {},
          "output_type": "display_data"
        },
        {
          "data": {
            "application/vnd.jupyter.widget-view+json": {
              "model_id": "94c567a791374e86911f8ad0497e609a",
              "version_major": 2,
              "version_minor": 0
            },
            "text/plain": [
              "Generating train split:   0%|          | 0/25000 [00:00<?, ? examples/s]"
            ]
          },
          "metadata": {},
          "output_type": "display_data"
        },
        {
          "data": {
            "application/vnd.jupyter.widget-view+json": {
              "model_id": "9538edd5fbe14899996ea8b69e28c954",
              "version_major": 2,
              "version_minor": 0
            },
            "text/plain": [
              "Generating test split:   0%|          | 0/25000 [00:00<?, ? examples/s]"
            ]
          },
          "metadata": {},
          "output_type": "display_data"
        },
        {
          "data": {
            "application/vnd.jupyter.widget-view+json": {
              "model_id": "523436762238437696cbf7407d26434f",
              "version_major": 2,
              "version_minor": 0
            },
            "text/plain": [
              "Generating unsupervised split:   0%|          | 0/50000 [00:00<?, ? examples/s]"
            ]
          },
          "metadata": {},
          "output_type": "display_data"
        }
      ],
      "source": [
        "# Загрузим датасет\n",
        "dataset = load_dataset('imdb')"
      ]
    },
    {
      "cell_type": "code",
      "execution_count": null,
      "id": "2d61f9d6",
      "metadata": {
        "execution": {
          "iopub.execute_input": "2024-10-26T18:59:01.498078Z",
          "iopub.status.busy": "2024-10-26T18:59:01.497696Z",
          "iopub.status.idle": "2024-10-26T18:59:01.503791Z",
          "shell.execute_reply": "2024-10-26T18:59:01.502925Z"
        },
        "id": "2d61f9d6",
        "outputId": "677ed218-d4da-48d9-9fc8-d178b1a9f2a6",
        "papermill": {
          "duration": 0.266172,
          "end_time": "2024-10-26T18:59:01.506746",
          "exception": false,
          "start_time": "2024-10-26T18:59:01.240574",
          "status": "completed"
        },
        "tags": []
      },
      "outputs": [
        {
          "data": {
            "text/plain": [
              "DatasetDict({\n",
              "    train: Dataset({\n",
              "        features: ['text', 'label'],\n",
              "        num_rows: 25000\n",
              "    })\n",
              "    test: Dataset({\n",
              "        features: ['text', 'label'],\n",
              "        num_rows: 25000\n",
              "    })\n",
              "    unsupervised: Dataset({\n",
              "        features: ['text', 'label'],\n",
              "        num_rows: 50000\n",
              "    })\n",
              "})"
            ]
          },
          "execution_count": 6,
          "metadata": {},
          "output_type": "execute_result"
        }
      ],
      "source": [
        "dataset"
      ]
    },
    {
      "cell_type": "code",
      "execution_count": null,
      "id": "001b1e4c",
      "metadata": {
        "execution": {
          "iopub.execute_input": "2024-10-26T18:59:02.536481Z",
          "iopub.status.busy": "2024-10-26T18:59:02.535770Z",
          "iopub.status.idle": "2024-10-26T19:00:28.335578Z",
          "shell.execute_reply": "2024-10-26T19:00:28.334687Z"
        },
        "id": "001b1e4c",
        "outputId": "6e24200c-a94f-4695-d3c1-4f6325231dbb",
        "papermill": {
          "duration": 86.059044,
          "end_time": "2024-10-26T19:00:28.337533",
          "exception": false,
          "start_time": "2024-10-26T18:59:02.278489",
          "status": "completed"
        },
        "tags": [],
        "colab": {
          "referenced_widgets": [
            "2fc8e040ff3546ae983352a771119c59"
          ]
        }
      },
      "outputs": [
        {
          "data": {
            "application/vnd.jupyter.widget-view+json": {
              "model_id": "2fc8e040ff3546ae983352a771119c59",
              "version_major": 2,
              "version_minor": 0
            },
            "text/plain": [
              "  0%|          | 0/25000 [00:00<?, ?it/s]"
            ]
          },
          "metadata": {},
          "output_type": "display_data"
        }
      ],
      "source": [
        "# Препроцессинг данных и создание словаря\n",
        "\n",
        "sentences = []\n",
        "word_threshold = 32 #120\n",
        "\n",
        "# токенизируем и отбрасываем те предложения, длина которых больше 32\n",
        "# sent_tokenize разделяет текст на отдельные предложения\n",
        "\n",
        "for sentence in tqdm(dataset['train']['text']):\n",
        "    sentences.extend(\n",
        "        [x.lower() for x in sent_tokenize(sentence) if len(word_tokenize(x)) < word_threshold])"
      ]
    },
    {
      "cell_type": "code",
      "execution_count": null,
      "id": "3de4fc92",
      "metadata": {
        "execution": {
          "iopub.execute_input": "2024-10-26T19:00:28.848374Z",
          "iopub.status.busy": "2024-10-26T19:00:28.847713Z",
          "iopub.status.idle": "2024-10-26T19:00:28.852766Z",
          "shell.execute_reply": "2024-10-26T19:00:28.851932Z"
        },
        "id": "3de4fc92",
        "outputId": "633b969e-9cf7-48ee-f6d4-cf2d0541435a",
        "papermill": {
          "duration": 0.262687,
          "end_time": "2024-10-26T19:00:28.855012",
          "exception": false,
          "start_time": "2024-10-26T19:00:28.592325",
          "status": "completed"
        },
        "tags": []
      },
      "outputs": [
        {
          "name": "stdout",
          "output_type": "stream",
          "text": [
            "Всего предложений: 198756\n"
          ]
        }
      ],
      "source": [
        "print(\"Всего предложений:\", len(sentences))"
      ]
    },
    {
      "cell_type": "code",
      "execution_count": null,
      "id": "1a1e0763",
      "metadata": {
        "execution": {
          "iopub.execute_input": "2024-10-26T19:00:29.370410Z",
          "iopub.status.busy": "2024-10-26T19:00:29.369064Z",
          "iopub.status.idle": "2024-10-26T19:01:10.488285Z",
          "shell.execute_reply": "2024-10-26T19:01:10.487385Z"
        },
        "id": "1a1e0763",
        "outputId": "b5f498e9-38ee-45a9-fc5a-22a3fe0c4818",
        "papermill": {
          "duration": 41.378259,
          "end_time": "2024-10-26T19:01:10.490659",
          "exception": false,
          "start_time": "2024-10-26T19:00:29.112400",
          "status": "completed"
        },
        "tags": [],
        "colab": {
          "referenced_widgets": [
            "d049c1cea78f46c18d983c4c16d629ab"
          ]
        }
      },
      "outputs": [
        {
          "data": {
            "application/vnd.jupyter.widget-view+json": {
              "model_id": "d049c1cea78f46c18d983c4c16d629ab",
              "version_major": 2,
              "version_minor": 0
            },
            "text/plain": [
              "  0%|          | 0/198756 [00:00<?, ?it/s]"
            ]
          },
          "metadata": {},
          "output_type": "display_data"
        },
        {
          "data": {
            "text/plain": [
              "69757"
            ]
          },
          "execution_count": 9,
          "metadata": {},
          "output_type": "execute_result"
        }
      ],
      "source": [
        "# частота встречаемости каждого слова в словаре\n",
        "words = Counter()\n",
        "\n",
        "# word_tokenize - токенизация текста на слова\n",
        "for sentence in tqdm(sentences):\n",
        "    for word in word_tokenize(sentence):\n",
        "        words[word] += 1\n",
        "len(words)"
      ]
    },
    {
      "cell_type": "markdown",
      "id": "fe4f9425",
      "metadata": {
        "id": "fe4f9425",
        "papermill": {
          "duration": 0.253581,
          "end_time": "2024-10-26T19:01:10.998488",
          "exception": false,
          "start_time": "2024-10-26T19:01:10.744907",
          "status": "completed"
        },
        "tags": []
      },
      "source": [
        "Добавим в словарь ```vocab_size=40000``` самых встречающихся слов."
      ]
    },
    {
      "cell_type": "code",
      "execution_count": null,
      "id": "df7f2c38",
      "metadata": {
        "execution": {
          "iopub.execute_input": "2024-10-26T19:01:11.556193Z",
          "iopub.status.busy": "2024-10-26T19:01:11.555330Z",
          "iopub.status.idle": "2024-10-26T19:01:11.640040Z",
          "shell.execute_reply": "2024-10-26T19:01:11.639242Z"
        },
        "id": "df7f2c38",
        "papermill": {
          "duration": 0.387248,
          "end_time": "2024-10-26T19:01:11.642011",
          "exception": false,
          "start_time": "2024-10-26T19:01:11.254763",
          "status": "completed"
        },
        "tags": []
      },
      "outputs": [],
      "source": [
        "# создание словаря (начинаем со служебных токенов)\n",
        "\n",
        "vocab = set(['<unk>', '<bos>', '<eos>', '<pad>'])\n",
        "vocab_size = 40000\n",
        "# Наполнение словаря\n",
        "vocab.update(set([word[0] for word in words.most_common(vocab_size)]))"
      ]
    },
    {
      "cell_type": "code",
      "execution_count": null,
      "id": "acec4be3",
      "metadata": {
        "execution": {
          "iopub.execute_input": "2024-10-26T19:01:12.154712Z",
          "iopub.status.busy": "2024-10-26T19:01:12.153926Z",
          "iopub.status.idle": "2024-10-26T19:01:12.159510Z",
          "shell.execute_reply": "2024-10-26T19:01:12.158654Z"
        },
        "id": "acec4be3",
        "outputId": "6635008f-a8d6-4a18-bbca-d26cdb00324d",
        "papermill": {
          "duration": 0.264687,
          "end_time": "2024-10-26T19:01:12.161686",
          "exception": false,
          "start_time": "2024-10-26T19:01:11.896999",
          "status": "completed"
        },
        "tags": []
      },
      "outputs": [
        {
          "name": "stdout",
          "output_type": "stream",
          "text": [
            "Всего слов в словаре: 40004\n"
          ]
        }
      ],
      "source": [
        "assert '<unk>' in vocab\n",
        "assert '<bos>' in vocab\n",
        "assert '<eos>' in vocab\n",
        "assert '<pad>' in vocab\n",
        "assert len(vocab) == vocab_size + 4\n",
        "\n",
        "print(\"Всего слов в словаре:\", len(vocab))"
      ]
    },
    {
      "cell_type": "code",
      "execution_count": null,
      "id": "4c7f0a3d",
      "metadata": {
        "execution": {
          "iopub.execute_input": "2024-10-26T19:01:13.187839Z",
          "iopub.status.busy": "2024-10-26T19:01:13.187478Z",
          "iopub.status.idle": "2024-10-26T19:01:13.209331Z",
          "shell.execute_reply": "2024-10-26T19:01:13.208548Z"
        },
        "id": "4c7f0a3d",
        "papermill": {
          "duration": 0.283525,
          "end_time": "2024-10-26T19:01:13.211258",
          "exception": false,
          "start_time": "2024-10-26T19:01:12.927733",
          "status": "completed"
        },
        "tags": []
      },
      "outputs": [],
      "source": [
        "# Подготовка датасета\n",
        "\n",
        "# словари для конвертации индексов в буквы и обратно\n",
        "\n",
        "# сопоставляет каждое слово из словаря vocab с его индексом\n",
        "word2ind = {char: i for i, char in enumerate(vocab)}\n",
        "# возвращает пары (индекс, слово) для каждого слова в vocab\n",
        "ind2word = {i: char for char, i in word2ind.items()}"
      ]
    },
    {
      "cell_type": "code",
      "execution_count": null,
      "id": "8ebba4f0",
      "metadata": {
        "execution": {
          "iopub.execute_input": "2024-10-26T19:01:13.727512Z",
          "iopub.status.busy": "2024-10-26T19:01:13.727125Z",
          "iopub.status.idle": "2024-10-26T19:01:13.736336Z",
          "shell.execute_reply": "2024-10-26T19:01:13.735417Z"
        },
        "id": "8ebba4f0",
        "papermill": {
          "duration": 0.269485,
          "end_time": "2024-10-26T19:01:13.738324",
          "exception": false,
          "start_time": "2024-10-26T19:01:13.468839",
          "status": "completed"
        },
        "tags": []
      },
      "outputs": [],
      "source": [
        "\"\"\"\n",
        "  # возвращает текенизированную версию предложения с индексом idx из набора данных:\n",
        "  # 1. cтавит индексы символов bos_id, eos_id в начало и конец посл-ти\n",
        "  # 2. токенизация - преобразование слова в индекс (.get), если буква неизвестная-ставим айди неизвестного токена\n",
        "\"\"\"\n",
        "class WordDataset:\n",
        "    def __init__(self, sentences):\n",
        "        self.data = sentences\n",
        "        self.unk_id = word2ind['<unk>'] # символ неизвестного токена\n",
        "        self.bos_id = word2ind['<bos>']\n",
        "        self.eos_id = word2ind['<eos>']\n",
        "        self.pad_id = word2ind['<pad>']\n",
        "    def __getitem__(self, idx: int) -> List[int]:\n",
        "        tokenized_sentence = []\n",
        "\n",
        "        # удаляет знаки препинания с помощью translate() и string.punctuation\n",
        "        processed_sentence = (self.data[idx].lower().translate(str.maketrans('','', string.punctuation)))\n",
        "        tokenized_sentence.extend([self.bos_id])\n",
        "\n",
        "        # Преобразует слово в индекс, используя словарь word2ind,\n",
        "        # если слово отсутствует в словаре, вместо него добавляется ID  неизвестного символа (self.unk_id)\n",
        "\n",
        "        tokenized_sentence.extend([word2ind.get(word, self.unk_id) for word in word_tokenize(processed_sentence)])\n",
        "        tokenized_sentence.extend([self.eos_id])\n",
        "\n",
        "        return tokenized_sentence\n",
        "\n",
        "    # возврат длины датасета\n",
        "    def __len__(self) -> int:\n",
        "        return len(self.data)"
      ]
    },
    {
      "cell_type": "code",
      "execution_count": null,
      "id": "48cb7ed7",
      "metadata": {
        "execution": {
          "iopub.execute_input": "2024-10-26T19:01:14.256038Z",
          "iopub.status.busy": "2024-10-26T19:01:14.255264Z",
          "iopub.status.idle": "2024-10-26T19:01:14.264979Z",
          "shell.execute_reply": "2024-10-26T19:01:14.263737Z"
        },
        "id": "48cb7ed7",
        "papermill": {
          "duration": 0.273434,
          "end_time": "2024-10-26T19:01:14.267235",
          "exception": false,
          "start_time": "2024-10-26T19:01:13.993801",
          "status": "completed"
        },
        "tags": []
      },
      "outputs": [],
      "source": [
        "# 1я функция collate_fn_with_padding - делает паддинг до самой длинной послед-ти в батче,\n",
        "# 2я функция - делает из последовательности torch.LongTensor\n",
        "\n",
        "def collate_fn_with_padding(\n",
        "    input_batch: List[List[int]], pad_id=word2ind['<pad>']) -> torch.Tensor:\n",
        "    seq_lens = [len(x) for x in input_batch]\n",
        "    max_seq_len = max(seq_lens)\n",
        "\n",
        "    new_batch = []\n",
        "    for sequence in input_batch:\n",
        "        for _ in range(max_seq_len - len(sequence)):\n",
        "            sequence.append(pad_id)\n",
        "        new_batch.append(sequence)\n",
        "\n",
        "    #  sequences имеет 2 измерения: тензор [batch_size, max_seq_len]\n",
        "    sequences = torch.LongTensor(new_batch).to(device)\n",
        "\n",
        "    new_batch = {\n",
        "        # срез тензора sequences, который выбирает все элементы всех последовательностей, кроме последнего слова\n",
        "        # берём все строки, но обрезаем последний элемент каждой строки\n",
        "\n",
        "        # это последовательность, подаваемая на вход модели. Модель видит начальные слова предложения, кроме последнего\n",
        "        # берем все строки, но обрезаем первый элемент каждой строки\n",
        "        'input_ids': sequences[:,:-1],\n",
        "\n",
        "        # срез тензора sequences, который выбирает все элементы всех последовательностей, начиная со второго слова\n",
        "        # это последовательность целевых слов, которые модель должна предсказать.\n",
        "\n",
        "        'target_ids': sequences[:,1:]\n",
        "    }\n",
        "    return new_batch\n",
        "\n",
        "# Исходная последовательность:[\"я\", \"иду\", \"в\", \"магазин\"]\n",
        "# input_ids: [\"я\", \"иду\", \"в\"] — то, что видит модель\n",
        "# target_ids: [\"иду\", \"в\", \"магазин\"] — то, что модель должна предсказать на каждом шаге"
      ]
    },
    {
      "cell_type": "code",
      "execution_count": null,
      "id": "e0fb0b99",
      "metadata": {
        "execution": {
          "iopub.execute_input": "2024-10-26T19:01:14.784009Z",
          "iopub.status.busy": "2024-10-26T19:01:14.783102Z",
          "iopub.status.idle": "2024-10-26T19:01:14.863648Z",
          "shell.execute_reply": "2024-10-26T19:01:14.862871Z"
        },
        "id": "e0fb0b99",
        "papermill": {
          "duration": 0.338351,
          "end_time": "2024-10-26T19:01:14.865823",
          "exception": false,
          "start_time": "2024-10-26T19:01:14.527472",
          "status": "completed"
        },
        "tags": []
      },
      "outputs": [],
      "source": [
        "train_sentences, remaining_sentences = train_test_split(sentences, test_size=0.2)\n",
        "eval_sentences, test_sentences = train_test_split(remaining_sentences, test_size=0.5)\n",
        "\n",
        "train_dataset = WordDataset(train_sentences)\n",
        "eval_dataset = WordDataset(eval_sentences)\n",
        "test_dataset = WordDataset(test_sentences)\n",
        "\n",
        "# создаем 3 датасета, batch_size=256\n",
        "\n",
        "batch_size = 128\n",
        "# collate_fn — это функция, которая определяет, как объединять отдельные элементы данных в один батч\n",
        "train_dataloader = DataLoader(train_dataset, collate_fn=collate_fn_with_padding, batch_size=batch_size)\n",
        "eval_dataloader = DataLoader(eval_dataset, collate_fn=collate_fn_with_padding, batch_size=batch_size)\n",
        "test_dataloader = DataLoader(test_dataset, collate_fn=collate_fn_with_padding, batch_size=batch_size)"
      ]
    },
    {
      "cell_type": "code",
      "execution_count": null,
      "id": "34a94af4",
      "metadata": {
        "execution": {
          "iopub.execute_input": "2024-10-26T19:01:15.379188Z",
          "iopub.status.busy": "2024-10-26T19:01:15.378792Z",
          "iopub.status.idle": "2024-10-26T19:01:15.382921Z",
          "shell.execute_reply": "2024-10-26T19:01:15.382021Z"
        },
        "id": "34a94af4",
        "papermill": {
          "duration": 0.263581,
          "end_time": "2024-10-26T19:01:15.384833",
          "exception": false,
          "start_time": "2024-10-26T19:01:15.121252",
          "status": "completed"
        },
        "tags": []
      },
      "outputs": [],
      "source": [
        "# for i, batch in enumerate(train_dataloader):\n",
        "#     print(f\"Batch {i + 1}:\")\n",
        "#     print(\"Input IDs:\", batch['input_ids'])\n",
        "#     print(\"Target IDs:\", batch['target_ids'])\n",
        "#     if i == 2:\n",
        "#         break"
      ]
    },
    {
      "cell_type": "code",
      "execution_count": null,
      "id": "85ee489c",
      "metadata": {
        "execution": {
          "iopub.execute_input": "2024-10-26T19:01:17.507053Z",
          "iopub.status.busy": "2024-10-26T19:01:17.506184Z",
          "iopub.status.idle": "2024-10-26T19:01:17.513000Z",
          "shell.execute_reply": "2024-10-26T19:01:17.512111Z"
        },
        "id": "85ee489c",
        "papermill": {
          "duration": 0.266462,
          "end_time": "2024-10-26T19:01:17.514900",
          "exception": false,
          "start_time": "2024-10-26T19:01:17.248438",
          "status": "completed"
        },
        "tags": []
      },
      "outputs": [],
      "source": [
        "'''\n",
        "Обучение и архитектура модели\n",
        "'''\n",
        "\n",
        "# Train loop\n",
        "def evaluate(model, criterion, dataloader) -> float:\n",
        "    \"\"\"\n",
        "    Вычисляет перплексию на dataloader(eval_dataloader)\n",
        "    \"\"\"\n",
        "\n",
        "    model.eval()\n",
        "    perplexity = []\n",
        "    with torch.no_grad():\n",
        "        for batch in tqdm(dataloader, desc=\"validation\"):\n",
        "            logits = model(batch['input_ids']).flatten(start_dim=0, end_dim=1)\n",
        "            loss = criterion(logits, batch['target_ids'].flatten())\n",
        "            perplexity.append(torch.exp(loss).item())\n",
        "\n",
        "    perplexity = sum(perplexity) / len(perplexity)\n",
        "\n",
        "    return perplexity"
      ]
    },
    {
      "cell_type": "code",
      "execution_count": null,
      "id": "01ac403e",
      "metadata": {
        "execution": {
          "iopub.execute_input": "2024-10-26T19:01:18.030014Z",
          "iopub.status.busy": "2024-10-26T19:01:18.029126Z",
          "iopub.status.idle": "2024-10-26T19:01:18.037588Z",
          "shell.execute_reply": "2024-10-26T19:01:18.036676Z"
        },
        "id": "01ac403e",
        "papermill": {
          "duration": 0.26871,
          "end_time": "2024-10-26T19:01:18.039510",
          "exception": false,
          "start_time": "2024-10-26T19:01:17.770800",
          "status": "completed"
        },
        "tags": []
      },
      "outputs": [],
      "source": [
        "# new_batch{'input_ids','target_ids'}\n",
        "\n",
        "def train_model(model, criterion, optimizer, scheduler, train_dataloader, eval_dataloader, epochs=5):\n",
        "    perplexities = []\n",
        "    losses = []\n",
        "    for epoch in tqdm(range(epochs), desc=\"epoch\"):\n",
        "        model.train()\n",
        "        epoch_losses = []\n",
        "        for train_batch in tqdm(train_dataloader, desc=\"train\"):\n",
        "\n",
        "            # модель генерирует логиты — необработанные предсказанные вероятности для каждого токена (слова) из словаря\n",
        "            # Используются для предсказания следующего слова на каждом шаге.\n",
        "            # изменяет форму тензора, чтобы он имел два измерения, где каждое измерение представляет один элемент из батча\n",
        "\n",
        "            output = model(train_batch[\"input_ids\"]).flatten(start_dim=0, end_dim=1)\n",
        "\n",
        "            # Вычисление потерь\n",
        "            loss = criterion(output, train_batch[\"target_ids\"].flatten())\n",
        "            loss.backward()\n",
        "            optimizer.step()\n",
        "            optimizer.zero_grad()\n",
        "\n",
        "            epoch_losses.append(loss.item())\n",
        "\n",
        "        scheduler.step()\n",
        "        losses.append(sum(epoch_losses) / len(epoch_losses))\n",
        "        perplexities.append(evaluate(model, criterion, eval_dataloader))\n",
        "\n",
        "    return perplexities, losses"
      ]
    },
    {
      "cell_type": "markdown",
      "id": "8c575cb9",
      "metadata": {
        "id": "8c575cb9",
        "papermill": {
          "duration": 0.255872,
          "end_time": "2024-10-26T19:01:18.551384",
          "exception": false,
          "start_time": "2024-10-26T19:01:18.295512",
          "status": "completed"
        },
        "tags": []
      },
      "source": [
        "## Эксперименты"
      ]
    },
    {
      "cell_type": "code",
      "execution_count": null,
      "id": "cf8bde84",
      "metadata": {
        "execution": {
          "iopub.execute_input": "2024-10-26T19:01:19.064143Z",
          "iopub.status.busy": "2024-10-26T19:01:19.063765Z",
          "iopub.status.idle": "2024-10-26T19:01:19.072194Z",
          "shell.execute_reply": "2024-10-26T19:01:19.071419Z"
        },
        "id": "cf8bde84",
        "papermill": {
          "duration": 0.266618,
          "end_time": "2024-10-26T19:01:19.074095",
          "exception": false,
          "start_time": "2024-10-26T19:01:18.807477",
          "status": "completed"
        },
        "tags": []
      },
      "outputs": [],
      "source": [
        "class LanguageModel(nn.Module):\n",
        "    def __init__(self, hidden_dim: int, vocab_size: int):\n",
        "        super().__init__()\n",
        "        # линейный слой, который по индексу сопоставляет вектор\n",
        "        self.embedding = nn.Embedding(vocab_size, hidden_dim)\n",
        "        self.lstm  = nn.LSTM(hidden_dim, hidden_dim,num_layers=1,batch_first=True)\n",
        "        # линейный слой для доп линейного преобразования\n",
        "        self.linear = nn.Linear(hidden_dim, hidden_dim)\n",
        "        # слой отображает скрытое состояние в размер словаря\n",
        "        self.projection = nn.Linear(hidden_dim, vocab_size)\n",
        "\n",
        "        self.non_lin = nn.Tanh()\n",
        "        self.dropout = nn.Dropout(p=0.2)\n",
        "\n",
        "    def forward(self, input_batch: torch.Tensor) -> torch.Tensor:\n",
        "      # получаем входной батч индексов, которые меняют размер batch_size на seq_len\n",
        "        embeddings = self.embedding(input_batch)  # [batch_size, seq_len, hidden_dim]\n",
        "\n",
        "        output, _ = self.lstm(embeddings)  # [batch_size, seq_len, hidden_dim]\n",
        "        output = self.dropout(self.linear(self.non_lin(output)))  # [batch_size, seq_len, hidden_dim]\n",
        "        projection = self.projection(self.non_lin(output))  # [batch_size, seq_len, vocab_size]\n",
        "\n",
        "        return projection"
      ]
    },
    {
      "cell_type": "markdown",
      "id": "614c80bb",
      "metadata": {
        "id": "614c80bb",
        "papermill": {
          "duration": 0.256085,
          "end_time": "2024-10-26T19:01:19.587937",
          "exception": false,
          "start_time": "2024-10-26T19:01:19.331852",
          "status": "completed"
        },
        "tags": []
      },
      "source": [
        "### Эксперимент 1. Архитектура LSTM(hidden_dim=256, epochs=21)"
      ]
    },
    {
      "cell_type": "code",
      "execution_count": null,
      "id": "cba26c90",
      "metadata": {
        "execution": {
          "iopub.execute_input": "2024-10-26T19:01:20.140299Z",
          "iopub.status.busy": "2024-10-26T19:01:20.139315Z",
          "iopub.status.idle": "2024-10-26T19:01:21.958500Z",
          "shell.execute_reply": "2024-10-26T19:01:21.957715Z"
        },
        "id": "cba26c90",
        "papermill": {
          "duration": 2.078985,
          "end_time": "2024-10-26T19:01:21.960705",
          "exception": false,
          "start_time": "2024-10-26T19:01:19.881720",
          "status": "completed"
        },
        "tags": []
      },
      "outputs": [],
      "source": [
        "model = LanguageModel(256, len(vocab)).to(device)\n",
        "criterion = nn.CrossEntropyLoss(ignore_index=word2ind['<pad>'])\n",
        "optimizer = torch.optim.Adam(model.parameters())\n",
        "scheduler = StepLR(optimizer, step_size=1, gamma=0.8)"
      ]
    },
    {
      "cell_type": "code",
      "execution_count": null,
      "id": "24dfc940",
      "metadata": {
        "execution": {
          "iopub.execute_input": "2024-10-26T19:01:22.480449Z",
          "iopub.status.busy": "2024-10-26T19:01:22.479822Z",
          "iopub.status.idle": "2024-10-26T19:37:54.563568Z",
          "shell.execute_reply": "2024-10-26T19:37:54.562642Z"
        },
        "id": "24dfc940",
        "outputId": "da30f2fd-2d40-4a8b-a5ab-b639c92e2677",
        "papermill": {
          "duration": 2192.34665,
          "end_time": "2024-10-26T19:37:54.566756",
          "exception": false,
          "start_time": "2024-10-26T19:01:22.220106",
          "status": "completed"
        },
        "tags": [],
        "colab": {
          "referenced_widgets": [
            "d219c7a442a4498894bfd63213813d5b",
            "e15bd747387641808f123c69cf3198f0",
            "54d90a888e784f198ebc52388816af9a",
            "55e9257e443b42b9acf51b0b0f5f1bf0",
            "920d5e54c8c5473c97adc3d261756405",
            "c610433561eb4a1887d0c8f55fafe19f",
            "e920d02da4ce46e6ba1c5f1afd0a7fa3",
            "4f9b9bc14ee649588d80e8480664674e",
            "326b1d3b970d4647a311b45c7c2280a9",
            "e4ee672b404645229c611f4168e3baca",
            "25640b2b428f43dd8ec2a8199b69a36e",
            "33be02b985574e53a5c07b4ceecbe6dc",
            "849fbdd4503d4bb09c418ca48fddb799",
            "53fc7d582c1c412e9383ec97648430ad",
            "dce443641dae4b7bbab05bbcd6c92493",
            "8b7547185ef04e55b18fa201252670cc",
            "10a93a5663a14bf085ba169e39110bc9",
            "79c92ed9669245e4bbd23fe550cecac5",
            "76e72df2b7f24509bdd63e5f7d0fe756",
            "edbc933a112a4e3c9b394f477b6d403b",
            "209024b5e2e0482b9544e839cec57b1f",
            "831ce8db1da44e5f89e1db78fa11d444",
            "cdc056a886f34162bab3661a443bf190",
            "1d1ac733955c4ace92f711b90385a9a3",
            "7bcdae60b8cb4101aa9ad9ea50a66c35",
            "04fb0e5f2c194960915014a14fc83e35",
            "38f962a17e444b96bf4e3351ac396b2d",
            "dace74aa05d848d4b4662d7deb39c978",
            "db5c2f5aa184464686d978140e8775cd",
            "7d3cc51a2d3e40c3ad27aa94b25c2b73",
            "f83ec90d424d4199b7b325a64cf1cb3d",
            "ca55af9f646d4070ada4d3b3470efaf7",
            "12458bacbbf34bddaef4f4c62315e011",
            "fd7890105a264fc2ba03bfb30a4507c2",
            "b931b0e7117b408f904315159fed645c",
            "1fe3e7451d6147feb4e1afadc8ded6dc",
            "5d9d824f1b9c43a183c4003533598449",
            "7dfeda6b3f4c45aab8e445dfd6dffc4c",
            "8a5e8d3957f747eab6d4ccdb7c72ae30",
            "72c923df39e341bb9005ed14bb572cc4",
            "222023f8f4054747b12649545cb54934",
            "32fa8d79b45440a8bf6c1e478f5945fc",
            "17ecb9efd6a64c2da31143865388ed39"
          ]
        }
      },
      "outputs": [
        {
          "data": {
            "application/vnd.jupyter.widget-view+json": {
              "model_id": "d219c7a442a4498894bfd63213813d5b",
              "version_major": 2,
              "version_minor": 0
            },
            "text/plain": [
              "epoch:   0%|          | 0/21 [00:00<?, ?it/s]"
            ]
          },
          "metadata": {},
          "output_type": "display_data"
        },
        {
          "data": {
            "application/vnd.jupyter.widget-view+json": {
              "model_id": "e15bd747387641808f123c69cf3198f0",
              "version_major": 2,
              "version_minor": 0
            },
            "text/plain": [
              "train:   0%|          | 0/1243 [00:00<?, ?it/s]"
            ]
          },
          "metadata": {},
          "output_type": "display_data"
        },
        {
          "data": {
            "application/vnd.jupyter.widget-view+json": {
              "model_id": "54d90a888e784f198ebc52388816af9a",
              "version_major": 2,
              "version_minor": 0
            },
            "text/plain": [
              "validation:   0%|          | 0/156 [00:00<?, ?it/s]"
            ]
          },
          "metadata": {},
          "output_type": "display_data"
        },
        {
          "data": {
            "application/vnd.jupyter.widget-view+json": {
              "model_id": "55e9257e443b42b9acf51b0b0f5f1bf0",
              "version_major": 2,
              "version_minor": 0
            },
            "text/plain": [
              "train:   0%|          | 0/1243 [00:00<?, ?it/s]"
            ]
          },
          "metadata": {},
          "output_type": "display_data"
        },
        {
          "data": {
            "application/vnd.jupyter.widget-view+json": {
              "model_id": "920d5e54c8c5473c97adc3d261756405",
              "version_major": 2,
              "version_minor": 0
            },
            "text/plain": [
              "validation:   0%|          | 0/156 [00:00<?, ?it/s]"
            ]
          },
          "metadata": {},
          "output_type": "display_data"
        },
        {
          "data": {
            "application/vnd.jupyter.widget-view+json": {
              "model_id": "c610433561eb4a1887d0c8f55fafe19f",
              "version_major": 2,
              "version_minor": 0
            },
            "text/plain": [
              "train:   0%|          | 0/1243 [00:00<?, ?it/s]"
            ]
          },
          "metadata": {},
          "output_type": "display_data"
        },
        {
          "data": {
            "application/vnd.jupyter.widget-view+json": {
              "model_id": "e920d02da4ce46e6ba1c5f1afd0a7fa3",
              "version_major": 2,
              "version_minor": 0
            },
            "text/plain": [
              "validation:   0%|          | 0/156 [00:00<?, ?it/s]"
            ]
          },
          "metadata": {},
          "output_type": "display_data"
        },
        {
          "data": {
            "application/vnd.jupyter.widget-view+json": {
              "model_id": "4f9b9bc14ee649588d80e8480664674e",
              "version_major": 2,
              "version_minor": 0
            },
            "text/plain": [
              "train:   0%|          | 0/1243 [00:00<?, ?it/s]"
            ]
          },
          "metadata": {},
          "output_type": "display_data"
        },
        {
          "data": {
            "application/vnd.jupyter.widget-view+json": {
              "model_id": "326b1d3b970d4647a311b45c7c2280a9",
              "version_major": 2,
              "version_minor": 0
            },
            "text/plain": [
              "validation:   0%|          | 0/156 [00:00<?, ?it/s]"
            ]
          },
          "metadata": {},
          "output_type": "display_data"
        },
        {
          "data": {
            "application/vnd.jupyter.widget-view+json": {
              "model_id": "e4ee672b404645229c611f4168e3baca",
              "version_major": 2,
              "version_minor": 0
            },
            "text/plain": [
              "train:   0%|          | 0/1243 [00:00<?, ?it/s]"
            ]
          },
          "metadata": {},
          "output_type": "display_data"
        },
        {
          "data": {
            "application/vnd.jupyter.widget-view+json": {
              "model_id": "25640b2b428f43dd8ec2a8199b69a36e",
              "version_major": 2,
              "version_minor": 0
            },
            "text/plain": [
              "validation:   0%|          | 0/156 [00:00<?, ?it/s]"
            ]
          },
          "metadata": {},
          "output_type": "display_data"
        },
        {
          "data": {
            "application/vnd.jupyter.widget-view+json": {
              "model_id": "33be02b985574e53a5c07b4ceecbe6dc",
              "version_major": 2,
              "version_minor": 0
            },
            "text/plain": [
              "train:   0%|          | 0/1243 [00:00<?, ?it/s]"
            ]
          },
          "metadata": {},
          "output_type": "display_data"
        },
        {
          "data": {
            "application/vnd.jupyter.widget-view+json": {
              "model_id": "849fbdd4503d4bb09c418ca48fddb799",
              "version_major": 2,
              "version_minor": 0
            },
            "text/plain": [
              "validation:   0%|          | 0/156 [00:00<?, ?it/s]"
            ]
          },
          "metadata": {},
          "output_type": "display_data"
        },
        {
          "data": {
            "application/vnd.jupyter.widget-view+json": {
              "model_id": "53fc7d582c1c412e9383ec97648430ad",
              "version_major": 2,
              "version_minor": 0
            },
            "text/plain": [
              "train:   0%|          | 0/1243 [00:00<?, ?it/s]"
            ]
          },
          "metadata": {},
          "output_type": "display_data"
        },
        {
          "data": {
            "application/vnd.jupyter.widget-view+json": {
              "model_id": "dce443641dae4b7bbab05bbcd6c92493",
              "version_major": 2,
              "version_minor": 0
            },
            "text/plain": [
              "validation:   0%|          | 0/156 [00:00<?, ?it/s]"
            ]
          },
          "metadata": {},
          "output_type": "display_data"
        },
        {
          "data": {
            "application/vnd.jupyter.widget-view+json": {
              "model_id": "8b7547185ef04e55b18fa201252670cc",
              "version_major": 2,
              "version_minor": 0
            },
            "text/plain": [
              "train:   0%|          | 0/1243 [00:00<?, ?it/s]"
            ]
          },
          "metadata": {},
          "output_type": "display_data"
        },
        {
          "data": {
            "application/vnd.jupyter.widget-view+json": {
              "model_id": "10a93a5663a14bf085ba169e39110bc9",
              "version_major": 2,
              "version_minor": 0
            },
            "text/plain": [
              "validation:   0%|          | 0/156 [00:00<?, ?it/s]"
            ]
          },
          "metadata": {},
          "output_type": "display_data"
        },
        {
          "data": {
            "application/vnd.jupyter.widget-view+json": {
              "model_id": "79c92ed9669245e4bbd23fe550cecac5",
              "version_major": 2,
              "version_minor": 0
            },
            "text/plain": [
              "train:   0%|          | 0/1243 [00:00<?, ?it/s]"
            ]
          },
          "metadata": {},
          "output_type": "display_data"
        },
        {
          "data": {
            "application/vnd.jupyter.widget-view+json": {
              "model_id": "76e72df2b7f24509bdd63e5f7d0fe756",
              "version_major": 2,
              "version_minor": 0
            },
            "text/plain": [
              "validation:   0%|          | 0/156 [00:00<?, ?it/s]"
            ]
          },
          "metadata": {},
          "output_type": "display_data"
        },
        {
          "data": {
            "application/vnd.jupyter.widget-view+json": {
              "model_id": "edbc933a112a4e3c9b394f477b6d403b",
              "version_major": 2,
              "version_minor": 0
            },
            "text/plain": [
              "train:   0%|          | 0/1243 [00:00<?, ?it/s]"
            ]
          },
          "metadata": {},
          "output_type": "display_data"
        },
        {
          "data": {
            "application/vnd.jupyter.widget-view+json": {
              "model_id": "209024b5e2e0482b9544e839cec57b1f",
              "version_major": 2,
              "version_minor": 0
            },
            "text/plain": [
              "validation:   0%|          | 0/156 [00:00<?, ?it/s]"
            ]
          },
          "metadata": {},
          "output_type": "display_data"
        },
        {
          "data": {
            "application/vnd.jupyter.widget-view+json": {
              "model_id": "831ce8db1da44e5f89e1db78fa11d444",
              "version_major": 2,
              "version_minor": 0
            },
            "text/plain": [
              "train:   0%|          | 0/1243 [00:00<?, ?it/s]"
            ]
          },
          "metadata": {},
          "output_type": "display_data"
        },
        {
          "data": {
            "application/vnd.jupyter.widget-view+json": {
              "model_id": "cdc056a886f34162bab3661a443bf190",
              "version_major": 2,
              "version_minor": 0
            },
            "text/plain": [
              "validation:   0%|          | 0/156 [00:00<?, ?it/s]"
            ]
          },
          "metadata": {},
          "output_type": "display_data"
        },
        {
          "data": {
            "application/vnd.jupyter.widget-view+json": {
              "model_id": "1d1ac733955c4ace92f711b90385a9a3",
              "version_major": 2,
              "version_minor": 0
            },
            "text/plain": [
              "train:   0%|          | 0/1243 [00:00<?, ?it/s]"
            ]
          },
          "metadata": {},
          "output_type": "display_data"
        },
        {
          "data": {
            "application/vnd.jupyter.widget-view+json": {
              "model_id": "7bcdae60b8cb4101aa9ad9ea50a66c35",
              "version_major": 2,
              "version_minor": 0
            },
            "text/plain": [
              "validation:   0%|          | 0/156 [00:00<?, ?it/s]"
            ]
          },
          "metadata": {},
          "output_type": "display_data"
        },
        {
          "data": {
            "application/vnd.jupyter.widget-view+json": {
              "model_id": "04fb0e5f2c194960915014a14fc83e35",
              "version_major": 2,
              "version_minor": 0
            },
            "text/plain": [
              "train:   0%|          | 0/1243 [00:00<?, ?it/s]"
            ]
          },
          "metadata": {},
          "output_type": "display_data"
        },
        {
          "data": {
            "application/vnd.jupyter.widget-view+json": {
              "model_id": "38f962a17e444b96bf4e3351ac396b2d",
              "version_major": 2,
              "version_minor": 0
            },
            "text/plain": [
              "validation:   0%|          | 0/156 [00:00<?, ?it/s]"
            ]
          },
          "metadata": {},
          "output_type": "display_data"
        },
        {
          "data": {
            "application/vnd.jupyter.widget-view+json": {
              "model_id": "dace74aa05d848d4b4662d7deb39c978",
              "version_major": 2,
              "version_minor": 0
            },
            "text/plain": [
              "train:   0%|          | 0/1243 [00:00<?, ?it/s]"
            ]
          },
          "metadata": {},
          "output_type": "display_data"
        },
        {
          "data": {
            "application/vnd.jupyter.widget-view+json": {
              "model_id": "db5c2f5aa184464686d978140e8775cd",
              "version_major": 2,
              "version_minor": 0
            },
            "text/plain": [
              "validation:   0%|          | 0/156 [00:00<?, ?it/s]"
            ]
          },
          "metadata": {},
          "output_type": "display_data"
        },
        {
          "data": {
            "application/vnd.jupyter.widget-view+json": {
              "model_id": "7d3cc51a2d3e40c3ad27aa94b25c2b73",
              "version_major": 2,
              "version_minor": 0
            },
            "text/plain": [
              "train:   0%|          | 0/1243 [00:00<?, ?it/s]"
            ]
          },
          "metadata": {},
          "output_type": "display_data"
        },
        {
          "data": {
            "application/vnd.jupyter.widget-view+json": {
              "model_id": "f83ec90d424d4199b7b325a64cf1cb3d",
              "version_major": 2,
              "version_minor": 0
            },
            "text/plain": [
              "validation:   0%|          | 0/156 [00:00<?, ?it/s]"
            ]
          },
          "metadata": {},
          "output_type": "display_data"
        },
        {
          "data": {
            "application/vnd.jupyter.widget-view+json": {
              "model_id": "ca55af9f646d4070ada4d3b3470efaf7",
              "version_major": 2,
              "version_minor": 0
            },
            "text/plain": [
              "train:   0%|          | 0/1243 [00:00<?, ?it/s]"
            ]
          },
          "metadata": {},
          "output_type": "display_data"
        },
        {
          "data": {
            "application/vnd.jupyter.widget-view+json": {
              "model_id": "12458bacbbf34bddaef4f4c62315e011",
              "version_major": 2,
              "version_minor": 0
            },
            "text/plain": [
              "validation:   0%|          | 0/156 [00:00<?, ?it/s]"
            ]
          },
          "metadata": {},
          "output_type": "display_data"
        },
        {
          "data": {
            "application/vnd.jupyter.widget-view+json": {
              "model_id": "fd7890105a264fc2ba03bfb30a4507c2",
              "version_major": 2,
              "version_minor": 0
            },
            "text/plain": [
              "train:   0%|          | 0/1243 [00:00<?, ?it/s]"
            ]
          },
          "metadata": {},
          "output_type": "display_data"
        },
        {
          "data": {
            "application/vnd.jupyter.widget-view+json": {
              "model_id": "b931b0e7117b408f904315159fed645c",
              "version_major": 2,
              "version_minor": 0
            },
            "text/plain": [
              "validation:   0%|          | 0/156 [00:00<?, ?it/s]"
            ]
          },
          "metadata": {},
          "output_type": "display_data"
        },
        {
          "data": {
            "application/vnd.jupyter.widget-view+json": {
              "model_id": "1fe3e7451d6147feb4e1afadc8ded6dc",
              "version_major": 2,
              "version_minor": 0
            },
            "text/plain": [
              "train:   0%|          | 0/1243 [00:00<?, ?it/s]"
            ]
          },
          "metadata": {},
          "output_type": "display_data"
        },
        {
          "data": {
            "application/vnd.jupyter.widget-view+json": {
              "model_id": "5d9d824f1b9c43a183c4003533598449",
              "version_major": 2,
              "version_minor": 0
            },
            "text/plain": [
              "validation:   0%|          | 0/156 [00:00<?, ?it/s]"
            ]
          },
          "metadata": {},
          "output_type": "display_data"
        },
        {
          "data": {
            "application/vnd.jupyter.widget-view+json": {
              "model_id": "7dfeda6b3f4c45aab8e445dfd6dffc4c",
              "version_major": 2,
              "version_minor": 0
            },
            "text/plain": [
              "train:   0%|          | 0/1243 [00:00<?, ?it/s]"
            ]
          },
          "metadata": {},
          "output_type": "display_data"
        },
        {
          "data": {
            "application/vnd.jupyter.widget-view+json": {
              "model_id": "8a5e8d3957f747eab6d4ccdb7c72ae30",
              "version_major": 2,
              "version_minor": 0
            },
            "text/plain": [
              "validation:   0%|          | 0/156 [00:00<?, ?it/s]"
            ]
          },
          "metadata": {},
          "output_type": "display_data"
        },
        {
          "data": {
            "application/vnd.jupyter.widget-view+json": {
              "model_id": "72c923df39e341bb9005ed14bb572cc4",
              "version_major": 2,
              "version_minor": 0
            },
            "text/plain": [
              "train:   0%|          | 0/1243 [00:00<?, ?it/s]"
            ]
          },
          "metadata": {},
          "output_type": "display_data"
        },
        {
          "data": {
            "application/vnd.jupyter.widget-view+json": {
              "model_id": "222023f8f4054747b12649545cb54934",
              "version_major": 2,
              "version_minor": 0
            },
            "text/plain": [
              "validation:   0%|          | 0/156 [00:00<?, ?it/s]"
            ]
          },
          "metadata": {},
          "output_type": "display_data"
        },
        {
          "data": {
            "application/vnd.jupyter.widget-view+json": {
              "model_id": "32fa8d79b45440a8bf6c1e478f5945fc",
              "version_major": 2,
              "version_minor": 0
            },
            "text/plain": [
              "train:   0%|          | 0/1243 [00:00<?, ?it/s]"
            ]
          },
          "metadata": {},
          "output_type": "display_data"
        },
        {
          "data": {
            "application/vnd.jupyter.widget-view+json": {
              "model_id": "17ecb9efd6a64c2da31143865388ed39",
              "version_major": 2,
              "version_minor": 0
            },
            "text/plain": [
              "validation:   0%|          | 0/156 [00:00<?, ?it/s]"
            ]
          },
          "metadata": {},
          "output_type": "display_data"
        }
      ],
      "source": [
        "perplexities, losses = train_model(model,criterion,optimizer,\n",
        "                                   scheduler,train_dataloader, eval_dataloader, epochs=21)"
      ]
    },
    {
      "cell_type": "code",
      "execution_count": null,
      "id": "eb3db14c",
      "metadata": {
        "execution": {
          "iopub.execute_input": "2024-10-26T19:37:55.108751Z",
          "iopub.status.busy": "2024-10-26T19:37:55.108371Z",
          "iopub.status.idle": "2024-10-26T19:37:55.510755Z",
          "shell.execute_reply": "2024-10-26T19:37:55.509860Z"
        },
        "id": "eb3db14c",
        "outputId": "82379ab9-e0ce-4431-972b-4a7391739cc7",
        "papermill": {
          "duration": 0.680303,
          "end_time": "2024-10-26T19:37:55.512810",
          "exception": false,
          "start_time": "2024-10-26T19:37:54.832507",
          "status": "completed"
        },
        "tags": []
      },
      "outputs": [
        {
          "data": {
            "image/png": "[encoded data removed]",
            "text/plain": [
              "<Figure size 640x480 with 1 Axes>"
            ]
          },
          "metadata": {},
          "output_type": "display_data"
        }
      ],
      "source": [
        "plt.plot(np.arange(len(losses)), losses)\n",
        "plt.title('Losses')\n",
        "plt.xlabel(\"epoch\")\n",
        "plt.show()"
      ]
    },
    {
      "cell_type": "code",
      "execution_count": null,
      "id": "38ea2b51",
      "metadata": {
        "execution": {
          "iopub.execute_input": "2024-10-26T19:37:56.072686Z",
          "iopub.status.busy": "2024-10-26T19:37:56.072286Z",
          "iopub.status.idle": "2024-10-26T19:37:56.432122Z",
          "shell.execute_reply": "2024-10-26T19:37:56.431105Z"
        },
        "id": "38ea2b51",
        "outputId": "cd224559-2879-454e-db6e-6640d55690ad",
        "papermill": {
          "duration": 0.631497,
          "end_time": "2024-10-26T19:37:56.434403",
          "exception": false,
          "start_time": "2024-10-26T19:37:55.802906",
          "status": "completed"
        },
        "tags": []
      },
      "outputs": [
        {
          "data": {
            "image/png": "[encoded data removed]",
            "text/plain": [
              "<Figure size 640x480 with 1 Axes>"
            ]
          },
          "metadata": {},
          "output_type": "display_data"
        }
      ],
      "source": [
        "plt.plot(np.arange(len(perplexities)), perplexities)\n",
        "plt.title('Perplexity')\n",
        "plt.xlabel(\"epoch\")\n",
        "plt.show()"
      ]
    },
    {
      "cell_type": "markdown",
      "id": "0b6d1a27",
      "metadata": {
        "id": "0b6d1a27",
        "papermill": {
          "duration": 0.266953,
          "end_time": "2024-10-26T19:37:56.971689",
          "exception": false,
          "start_time": "2024-10-26T19:37:56.704736",
          "status": "completed"
        },
        "tags": []
      },
      "source": [
        "### Эксперимент 2. LSTM(hidden_dim)"
      ]
    },
    {
      "cell_type": "markdown",
      "id": "0dfb6d84",
      "metadata": {
        "id": "0dfb6d84",
        "papermill": {
          "duration": 0.266314,
          "end_time": "2024-10-26T19:37:57.504010",
          "exception": false,
          "start_time": "2024-10-26T19:37:57.237696",
          "status": "completed"
        },
        "tags": []
      },
      "source": [
        "Увеличим размер скрытого состояния hidden_dim=1024"
      ]
    },
    {
      "cell_type": "code",
      "execution_count": null,
      "id": "3f59e246",
      "metadata": {
        "execution": {
          "iopub.execute_input": "2024-10-26T19:37:58.041269Z",
          "iopub.status.busy": "2024-10-26T19:37:58.040863Z",
          "iopub.status.idle": "2024-10-26T19:37:58.938500Z",
          "shell.execute_reply": "2024-10-26T19:37:58.937088Z"
        },
        "id": "3f59e246",
        "papermill": {
          "duration": 1.168672,
          "end_time": "2024-10-26T19:37:58.941401",
          "exception": false,
          "start_time": "2024-10-26T19:37:57.772729",
          "status": "completed"
        },
        "tags": []
      },
      "outputs": [],
      "source": [
        "model_2 = LanguageModel(1024, len(vocab)).to(device)\n",
        "criterion = nn.CrossEntropyLoss(ignore_index=word2ind['<pad>'])\n",
        "optimizer = torch.optim.Adam(model_2.parameters())\n",
        "scheduler = StepLR(optimizer, step_size=1, gamma=0.8)"
      ]
    },
    {
      "cell_type": "code",
      "execution_count": null,
      "id": "171597e5",
      "metadata": {
        "execution": {
          "iopub.execute_input": "2024-10-26T19:37:59.487706Z",
          "iopub.status.busy": "2024-10-26T19:37:59.486886Z",
          "iopub.status.idle": "2024-10-26T21:14:57.126238Z",
          "shell.execute_reply": "2024-10-26T21:14:57.125308Z"
        },
        "id": "171597e5",
        "outputId": "68ea2b69-74b0-47e4-815c-a9b77b60fdcf",
        "papermill": {
          "duration": 5817.920025,
          "end_time": "2024-10-26T21:14:57.128995",
          "exception": false,
          "start_time": "2024-10-26T19:37:59.208970",
          "status": "completed"
        },
        "tags": [],
        "colab": {
          "referenced_widgets": [
            "5963b0824a0c425a9fbd274b64db7cac",
            "f0296a2738a44de1a94d27c1eb00c9b4",
            "4501b0c0dc5440b8942df949ceb5a8dc",
            "e013137e34924876a05293176081487d",
            "551400a027ea4f5599d64abb5903ff91",
            "9af534817ac04ed0870618feaf9eac4a",
            "ac68512ded064c9fb57d803cbf7bac84",
            "232156a413c1456cba953635c89105d9",
            "a847144ad1b3437f9d03dc9701af1ab8",
            "9546a7e7a5a04467878b306b70b50231",
            "20f497ff872f40e59e8b7f6b74f48a45",
            "811bbc3f4c5d4f19b6638cd8beb56df8",
            "12021df150884630beb5f9a7481578be",
            "8978216386be4393ad71e86fc1efe8b8",
            "ded46ffc3fcb45209e196940fda0e931",
            "b41eb4d4d1014ec2b69e844bd866cdde",
            "a87cb88517544594ae27707943418f38",
            "47425f570eec4783bc3945622d74c7c1",
            "a92252728f644220885a7c82aa1ff7f3",
            "851417e8406942b4aa4d6187c5dad6c8",
            "9eabc6c8285848f591d7c59bd4d657c3",
            "764b5af1844d4b108e4726631259b188",
            "d1b6506901094ef1bc05ec6ff9badd8e",
            "55ebaf76e38447e7a9f732503351407e",
            "a9668b37c771428ab36d43c7b6cb85df",
            "6fa997e76dd542bfba14cff13a0c73f9",
            "76a591c6d1a345b6ac640fc075857f97",
            "06cd75a0e2fa46a0856e3908301057e4",
            "826b7540bb24477c9a3081afc0744f7f",
            "028dce88bfd9465fa5102ea7e7ffeef8",
            "7dba003a971c441fb163cac9cb51a1fe",
            "ab0dc659bc344ee4bb8ba615572679ec",
            "7f895d0ba00143539b4c157e18df61ae",
            "2fddaf3ec27f4e11ab1fd075cf849bd6",
            "93446e5d3a6a48a7b9942b8f17391c29",
            "1bbb7e859fd44b9da4fc9ca2ba2727a4",
            "96682b2b60be49039f2e682248b3526a",
            "679b9faa602043678c3a5b09354c5b93",
            "8b4d5e4cf8ea49dabba1e94b660a582d",
            "c4bfe7e3a80248ce8466f317ce8e7758",
            "da3093c7417b456eb31707d859d03595",
            "197e3fdf44f846a69915e2c11fbc93e7",
            "18548190e3424dd7af6d9750a637f080"
          ]
        }
      },
      "outputs": [
        {
          "data": {
            "application/vnd.jupyter.widget-view+json": {
              "model_id": "5963b0824a0c425a9fbd274b64db7cac",
              "version_major": 2,
              "version_minor": 0
            },
            "text/plain": [
              "epoch:   0%|          | 0/21 [00:00<?, ?it/s]"
            ]
          },
          "metadata": {},
          "output_type": "display_data"
        },
        {
          "data": {
            "application/vnd.jupyter.widget-view+json": {
              "model_id": "f0296a2738a44de1a94d27c1eb00c9b4",
              "version_major": 2,
              "version_minor": 0
            },
            "text/plain": [
              "train:   0%|          | 0/1243 [00:00<?, ?it/s]"
            ]
          },
          "metadata": {},
          "output_type": "display_data"
        },
        {
          "data": {
            "application/vnd.jupyter.widget-view+json": {
              "model_id": "4501b0c0dc5440b8942df949ceb5a8dc",
              "version_major": 2,
              "version_minor": 0
            },
            "text/plain": [
              "validation:   0%|          | 0/156 [00:00<?, ?it/s]"
            ]
          },
          "metadata": {},
          "output_type": "display_data"
        },
        {
          "data": {
            "application/vnd.jupyter.widget-view+json": {
              "model_id": "e013137e34924876a05293176081487d",
              "version_major": 2,
              "version_minor": 0
            },
            "text/plain": [
              "train:   0%|          | 0/1243 [00:00<?, ?it/s]"
            ]
          },
          "metadata": {},
          "output_type": "display_data"
        },
        {
          "data": {
            "application/vnd.jupyter.widget-view+json": {
              "model_id": "551400a027ea4f5599d64abb5903ff91",
              "version_major": 2,
              "version_minor": 0
            },
            "text/plain": [
              "validation:   0%|          | 0/156 [00:00<?, ?it/s]"
            ]
          },
          "metadata": {},
          "output_type": "display_data"
        },
        {
          "data": {
            "application/vnd.jupyter.widget-view+json": {
              "model_id": "9af534817ac04ed0870618feaf9eac4a",
              "version_major": 2,
              "version_minor": 0
            },
            "text/plain": [
              "train:   0%|          | 0/1243 [00:00<?, ?it/s]"
            ]
          },
          "metadata": {},
          "output_type": "display_data"
        },
        {
          "data": {
            "application/vnd.jupyter.widget-view+json": {
              "model_id": "ac68512ded064c9fb57d803cbf7bac84",
              "version_major": 2,
              "version_minor": 0
            },
            "text/plain": [
              "validation:   0%|          | 0/156 [00:00<?, ?it/s]"
            ]
          },
          "metadata": {},
          "output_type": "display_data"
        },
        {
          "data": {
            "application/vnd.jupyter.widget-view+json": {
              "model_id": "232156a413c1456cba953635c89105d9",
              "version_major": 2,
              "version_minor": 0
            },
            "text/plain": [
              "train:   0%|          | 0/1243 [00:00<?, ?it/s]"
            ]
          },
          "metadata": {},
          "output_type": "display_data"
        },
        {
          "data": {
            "application/vnd.jupyter.widget-view+json": {
              "model_id": "a847144ad1b3437f9d03dc9701af1ab8",
              "version_major": 2,
              "version_minor": 0
            },
            "text/plain": [
              "validation:   0%|          | 0/156 [00:00<?, ?it/s]"
            ]
          },
          "metadata": {},
          "output_type": "display_data"
        },
        {
          "data": {
            "application/vnd.jupyter.widget-view+json": {
              "model_id": "9546a7e7a5a04467878b306b70b50231",
              "version_major": 2,
              "version_minor": 0
            },
            "text/plain": [
              "train:   0%|          | 0/1243 [00:00<?, ?it/s]"
            ]
          },
          "metadata": {},
          "output_type": "display_data"
        },
        {
          "data": {
            "application/vnd.jupyter.widget-view+json": {
              "model_id": "20f497ff872f40e59e8b7f6b74f48a45",
              "version_major": 2,
              "version_minor": 0
            },
            "text/plain": [
              "validation:   0%|          | 0/156 [00:00<?, ?it/s]"
            ]
          },
          "metadata": {},
          "output_type": "display_data"
        },
        {
          "data": {
            "application/vnd.jupyter.widget-view+json": {
              "model_id": "811bbc3f4c5d4f19b6638cd8beb56df8",
              "version_major": 2,
              "version_minor": 0
            },
            "text/plain": [
              "train:   0%|          | 0/1243 [00:00<?, ?it/s]"
            ]
          },
          "metadata": {},
          "output_type": "display_data"
        },
        {
          "data": {
            "application/vnd.jupyter.widget-view+json": {
              "model_id": "12021df150884630beb5f9a7481578be",
              "version_major": 2,
              "version_minor": 0
            },
            "text/plain": [
              "validation:   0%|          | 0/156 [00:00<?, ?it/s]"
            ]
          },
          "metadata": {},
          "output_type": "display_data"
        },
        {
          "data": {
            "application/vnd.jupyter.widget-view+json": {
              "model_id": "8978216386be4393ad71e86fc1efe8b8",
              "version_major": 2,
              "version_minor": 0
            },
            "text/plain": [
              "train:   0%|          | 0/1243 [00:00<?, ?it/s]"
            ]
          },
          "metadata": {},
          "output_type": "display_data"
        },
        {
          "data": {
            "application/vnd.jupyter.widget-view+json": {
              "model_id": "ded46ffc3fcb45209e196940fda0e931",
              "version_major": 2,
              "version_minor": 0
            },
            "text/plain": [
              "validation:   0%|          | 0/156 [00:00<?, ?it/s]"
            ]
          },
          "metadata": {},
          "output_type": "display_data"
        },
        {
          "data": {
            "application/vnd.jupyter.widget-view+json": {
              "model_id": "b41eb4d4d1014ec2b69e844bd866cdde",
              "version_major": 2,
              "version_minor": 0
            },
            "text/plain": [
              "train:   0%|          | 0/1243 [00:00<?, ?it/s]"
            ]
          },
          "metadata": {},
          "output_type": "display_data"
        },
        {
          "data": {
            "application/vnd.jupyter.widget-view+json": {
              "model_id": "a87cb88517544594ae27707943418f38",
              "version_major": 2,
              "version_minor": 0
            },
            "text/plain": [
              "validation:   0%|          | 0/156 [00:00<?, ?it/s]"
            ]
          },
          "metadata": {},
          "output_type": "display_data"
        },
        {
          "data": {
            "application/vnd.jupyter.widget-view+json": {
              "model_id": "47425f570eec4783bc3945622d74c7c1",
              "version_major": 2,
              "version_minor": 0
            },
            "text/plain": [
              "train:   0%|          | 0/1243 [00:00<?, ?it/s]"
            ]
          },
          "metadata": {},
          "output_type": "display_data"
        },
        {
          "data": {
            "application/vnd.jupyter.widget-view+json": {
              "model_id": "a92252728f644220885a7c82aa1ff7f3",
              "version_major": 2,
              "version_minor": 0
            },
            "text/plain": [
              "validation:   0%|          | 0/156 [00:00<?, ?it/s]"
            ]
          },
          "metadata": {},
          "output_type": "display_data"
        },
        {
          "data": {
            "application/vnd.jupyter.widget-view+json": {
              "model_id": "851417e8406942b4aa4d6187c5dad6c8",
              "version_major": 2,
              "version_minor": 0
            },
            "text/plain": [
              "train:   0%|          | 0/1243 [00:00<?, ?it/s]"
            ]
          },
          "metadata": {},
          "output_type": "display_data"
        },
        {
          "data": {
            "application/vnd.jupyter.widget-view+json": {
              "model_id": "9eabc6c8285848f591d7c59bd4d657c3",
              "version_major": 2,
              "version_minor": 0
            },
            "text/plain": [
              "validation:   0%|          | 0/156 [00:00<?, ?it/s]"
            ]
          },
          "metadata": {},
          "output_type": "display_data"
        },
        {
          "data": {
            "application/vnd.jupyter.widget-view+json": {
              "model_id": "764b5af1844d4b108e4726631259b188",
              "version_major": 2,
              "version_minor": 0
            },
            "text/plain": [
              "train:   0%|          | 0/1243 [00:00<?, ?it/s]"
            ]
          },
          "metadata": {},
          "output_type": "display_data"
        },
        {
          "data": {
            "application/vnd.jupyter.widget-view+json": {
              "model_id": "d1b6506901094ef1bc05ec6ff9badd8e",
              "version_major": 2,
              "version_minor": 0
            },
            "text/plain": [
              "validation:   0%|          | 0/156 [00:00<?, ?it/s]"
            ]
          },
          "metadata": {},
          "output_type": "display_data"
        },
        {
          "data": {
            "application/vnd.jupyter.widget-view+json": {
              "model_id": "55ebaf76e38447e7a9f732503351407e",
              "version_major": 2,
              "version_minor": 0
            },
            "text/plain": [
              "train:   0%|          | 0/1243 [00:00<?, ?it/s]"
            ]
          },
          "metadata": {},
          "output_type": "display_data"
        },
        {
          "data": {
            "application/vnd.jupyter.widget-view+json": {
              "model_id": "a9668b37c771428ab36d43c7b6cb85df",
              "version_major": 2,
              "version_minor": 0
            },
            "text/plain": [
              "validation:   0%|          | 0/156 [00:00<?, ?it/s]"
            ]
          },
          "metadata": {},
          "output_type": "display_data"
        },
        {
          "data": {
            "application/vnd.jupyter.widget-view+json": {
              "model_id": "6fa997e76dd542bfba14cff13a0c73f9",
              "version_major": 2,
              "version_minor": 0
            },
            "text/plain": [
              "train:   0%|          | 0/1243 [00:00<?, ?it/s]"
            ]
          },
          "metadata": {},
          "output_type": "display_data"
        },
        {
          "data": {
            "application/vnd.jupyter.widget-view+json": {
              "model_id": "76a591c6d1a345b6ac640fc075857f97",
              "version_major": 2,
              "version_minor": 0
            },
            "text/plain": [
              "validation:   0%|          | 0/156 [00:00<?, ?it/s]"
            ]
          },
          "metadata": {},
          "output_type": "display_data"
        },
        {
          "data": {
            "application/vnd.jupyter.widget-view+json": {
              "model_id": "06cd75a0e2fa46a0856e3908301057e4",
              "version_major": 2,
              "version_minor": 0
            },
            "text/plain": [
              "train:   0%|          | 0/1243 [00:00<?, ?it/s]"
            ]
          },
          "metadata": {},
          "output_type": "display_data"
        },
        {
          "data": {
            "application/vnd.jupyter.widget-view+json": {
              "model_id": "826b7540bb24477c9a3081afc0744f7f",
              "version_major": 2,
              "version_minor": 0
            },
            "text/plain": [
              "validation:   0%|          | 0/156 [00:00<?, ?it/s]"
            ]
          },
          "metadata": {},
          "output_type": "display_data"
        },
        {
          "data": {
            "application/vnd.jupyter.widget-view+json": {
              "model_id": "028dce88bfd9465fa5102ea7e7ffeef8",
              "version_major": 2,
              "version_minor": 0
            },
            "text/plain": [
              "train:   0%|          | 0/1243 [00:00<?, ?it/s]"
            ]
          },
          "metadata": {},
          "output_type": "display_data"
        },
        {
          "data": {
            "application/vnd.jupyter.widget-view+json": {
              "model_id": "7dba003a971c441fb163cac9cb51a1fe",
              "version_major": 2,
              "version_minor": 0
            },
            "text/plain": [
              "validation:   0%|          | 0/156 [00:00<?, ?it/s]"
            ]
          },
          "metadata": {},
          "output_type": "display_data"
        },
        {
          "data": {
            "application/vnd.jupyter.widget-view+json": {
              "model_id": "ab0dc659bc344ee4bb8ba615572679ec",
              "version_major": 2,
              "version_minor": 0
            },
            "text/plain": [
              "train:   0%|          | 0/1243 [00:00<?, ?it/s]"
            ]
          },
          "metadata": {},
          "output_type": "display_data"
        },
        {
          "data": {
            "application/vnd.jupyter.widget-view+json": {
              "model_id": "7f895d0ba00143539b4c157e18df61ae",
              "version_major": 2,
              "version_minor": 0
            },
            "text/plain": [
              "validation:   0%|          | 0/156 [00:00<?, ?it/s]"
            ]
          },
          "metadata": {},
          "output_type": "display_data"
        },
        {
          "data": {
            "application/vnd.jupyter.widget-view+json": {
              "model_id": "2fddaf3ec27f4e11ab1fd075cf849bd6",
              "version_major": 2,
              "version_minor": 0
            },
            "text/plain": [
              "train:   0%|          | 0/1243 [00:00<?, ?it/s]"
            ]
          },
          "metadata": {},
          "output_type": "display_data"
        },
        {
          "data": {
            "application/vnd.jupyter.widget-view+json": {
              "model_id": "93446e5d3a6a48a7b9942b8f17391c29",
              "version_major": 2,
              "version_minor": 0
            },
            "text/plain": [
              "validation:   0%|          | 0/156 [00:00<?, ?it/s]"
            ]
          },
          "metadata": {},
          "output_type": "display_data"
        },
        {
          "data": {
            "application/vnd.jupyter.widget-view+json": {
              "model_id": "1bbb7e859fd44b9da4fc9ca2ba2727a4",
              "version_major": 2,
              "version_minor": 0
            },
            "text/plain": [
              "train:   0%|          | 0/1243 [00:00<?, ?it/s]"
            ]
          },
          "metadata": {},
          "output_type": "display_data"
        },
        {
          "data": {
            "application/vnd.jupyter.widget-view+json": {
              "model_id": "96682b2b60be49039f2e682248b3526a",
              "version_major": 2,
              "version_minor": 0
            },
            "text/plain": [
              "validation:   0%|          | 0/156 [00:00<?, ?it/s]"
            ]
          },
          "metadata": {},
          "output_type": "display_data"
        },
        {
          "data": {
            "application/vnd.jupyter.widget-view+json": {
              "model_id": "679b9faa602043678c3a5b09354c5b93",
              "version_major": 2,
              "version_minor": 0
            },
            "text/plain": [
              "train:   0%|          | 0/1243 [00:00<?, ?it/s]"
            ]
          },
          "metadata": {},
          "output_type": "display_data"
        },
        {
          "data": {
            "application/vnd.jupyter.widget-view+json": {
              "model_id": "8b4d5e4cf8ea49dabba1e94b660a582d",
              "version_major": 2,
              "version_minor": 0
            },
            "text/plain": [
              "validation:   0%|          | 0/156 [00:00<?, ?it/s]"
            ]
          },
          "metadata": {},
          "output_type": "display_data"
        },
        {
          "data": {
            "application/vnd.jupyter.widget-view+json": {
              "model_id": "c4bfe7e3a80248ce8466f317ce8e7758",
              "version_major": 2,
              "version_minor": 0
            },
            "text/plain": [
              "train:   0%|          | 0/1243 [00:00<?, ?it/s]"
            ]
          },
          "metadata": {},
          "output_type": "display_data"
        },
        {
          "data": {
            "application/vnd.jupyter.widget-view+json": {
              "model_id": "da3093c7417b456eb31707d859d03595",
              "version_major": 2,
              "version_minor": 0
            },
            "text/plain": [
              "validation:   0%|          | 0/156 [00:00<?, ?it/s]"
            ]
          },
          "metadata": {},
          "output_type": "display_data"
        },
        {
          "data": {
            "application/vnd.jupyter.widget-view+json": {
              "model_id": "197e3fdf44f846a69915e2c11fbc93e7",
              "version_major": 2,
              "version_minor": 0
            },
            "text/plain": [
              "train:   0%|          | 0/1243 [00:00<?, ?it/s]"
            ]
          },
          "metadata": {},
          "output_type": "display_data"
        },
        {
          "data": {
            "application/vnd.jupyter.widget-view+json": {
              "model_id": "18548190e3424dd7af6d9750a637f080",
              "version_major": 2,
              "version_minor": 0
            },
            "text/plain": [
              "validation:   0%|          | 0/156 [00:00<?, ?it/s]"
            ]
          },
          "metadata": {},
          "output_type": "display_data"
        }
      ],
      "source": [
        "perplexities2, losses2 = train_model(\n",
        "    model_2, criterion, optimizer, scheduler,\n",
        "    train_dataloader, eval_dataloader, epochs=21\n",
        ")"
      ]
    },
    {
      "cell_type": "code",
      "execution_count": null,
      "id": "490f6805",
      "metadata": {
        "execution": {
          "iopub.execute_input": "2024-10-26T21:14:57.683047Z",
          "iopub.status.busy": "2024-10-26T21:14:57.682671Z",
          "iopub.status.idle": "2024-10-26T21:14:58.035133Z",
          "shell.execute_reply": "2024-10-26T21:14:58.034262Z"
        },
        "id": "490f6805",
        "outputId": "8b650f7a-b62a-4314-9182-5915f4b2398d",
        "papermill": {
          "duration": 0.629319,
          "end_time": "2024-10-26T21:14:58.037043",
          "exception": false,
          "start_time": "2024-10-26T21:14:57.407724",
          "status": "completed"
        },
        "tags": []
      },
      "outputs": [
        {
          "data": {
            "image/png": "[encoded data removed]",
            "text/plain": [
              "<Figure size 640x480 with 1 Axes>"
            ]
          },
          "metadata": {},
          "output_type": "display_data"
        }
      ],
      "source": [
        "plt.plot(np.arange(len(losses2)), losses2)\n",
        "plt.title('Losses')\n",
        "plt.xlabel(\"epoch\")\n",
        "plt.show()"
      ]
    },
    {
      "cell_type": "code",
      "execution_count": null,
      "id": "0c07fdbd",
      "metadata": {
        "execution": {
          "iopub.execute_input": "2024-10-26T21:14:58.632948Z",
          "iopub.status.busy": "2024-10-26T21:14:58.632097Z",
          "iopub.status.idle": "2024-10-26T21:14:58.980564Z",
          "shell.execute_reply": "2024-10-26T21:14:58.979671Z"
        },
        "id": "0c07fdbd",
        "outputId": "2c64dc5e-13bd-4ab9-eac5-a6bd8e5f0566",
        "papermill": {
          "duration": 0.670811,
          "end_time": "2024-10-26T21:14:58.982724",
          "exception": false,
          "start_time": "2024-10-26T21:14:58.311913",
          "status": "completed"
        },
        "tags": []
      },
      "outputs": [
        {
          "data": {
            "image/png": "[encoded data removed]",
            "text/plain": [
              "<Figure size 640x480 with 1 Axes>"
            ]
          },
          "metadata": {},
          "output_type": "display_data"
        }
      ],
      "source": [
        "plt.plot(np.arange(len(perplexities2)), perplexities2)\n",
        "plt.title('Perplexity')\n",
        "plt.xlabel(\"epoch\")\n",
        "plt.show()"
      ]
    },
    {
      "cell_type": "markdown",
      "id": "fb8d6124",
      "metadata": {
        "id": "fb8d6124",
        "papermill": {
          "duration": 0.277064,
          "end_time": "2024-10-26T21:14:59.533991",
          "exception": false,
          "start_time": "2024-10-26T21:14:59.256927",
          "status": "completed"
        },
        "tags": []
      },
      "source": [
        "Уменьшим размер скрытого состояния hidden_dim=128"
      ]
    },
    {
      "cell_type": "code",
      "execution_count": null,
      "id": "8ffbd841",
      "metadata": {
        "execution": {
          "iopub.execute_input": "2024-10-26T21:15:00.091215Z",
          "iopub.status.busy": "2024-10-26T21:15:00.090528Z",
          "iopub.status.idle": "2024-10-26T21:15:00.204173Z",
          "shell.execute_reply": "2024-10-26T21:15:00.203360Z"
        },
        "id": "8ffbd841",
        "papermill": {
          "duration": 0.391305,
          "end_time": "2024-10-26T21:15:00.206680",
          "exception": false,
          "start_time": "2024-10-26T21:14:59.815375",
          "status": "completed"
        },
        "tags": []
      },
      "outputs": [],
      "source": [
        "model_3 = LanguageModel(128, len(vocab)).to(device)\n",
        "criterion = nn.CrossEntropyLoss(ignore_index=word2ind['<pad>'])\n",
        "optimizer = torch.optim.Adam(model_3.parameters())\n",
        "scheduler = StepLR(optimizer, step_size=1, gamma=0.8)"
      ]
    },
    {
      "cell_type": "code",
      "execution_count": null,
      "id": "851e9b73",
      "metadata": {
        "execution": {
          "iopub.execute_input": "2024-10-26T21:15:00.756241Z",
          "iopub.status.busy": "2024-10-26T21:15:00.755354Z",
          "iopub.status.idle": "2024-10-26T21:42:21.084072Z",
          "shell.execute_reply": "2024-10-26T21:42:21.083194Z"
        },
        "id": "851e9b73",
        "outputId": "3da7e64d-ee0b-4965-ea91-906cb057f983",
        "papermill": {
          "duration": 1640.606157,
          "end_time": "2024-10-26T21:42:21.087401",
          "exception": false,
          "start_time": "2024-10-26T21:15:00.481244",
          "status": "completed"
        },
        "tags": [],
        "colab": {
          "referenced_widgets": [
            "140c079f18f849e3a6e4cc3fbaeb8e7e",
            "c0c13dc873e34868b7f55c452db3fbde",
            "8bbde2cd29514d7594d5ad2b6163a5ab",
            "b8d0ba0731be4fa7b468f7d5a57662a1",
            "f6cf860de9a24c0b89220e3b5312200f",
            "1809f716e6ce47cea8d501c5be2af1a8",
            "ec4221c358a545faa2635cb8667acece",
            "14bea811b50846d399639084259c983b",
            "713a7a27969e44c89c441713b875736e",
            "154c8a59447b45b3bae620f537f10c7e",
            "faae5311425a4bcb924149070c9216c1",
            "e7df2ca03ba84e429478585579c3c2e1",
            "1dd8fc26cd564456953e560d53ed9e90",
            "37d96aeed8d84c998ee41ce2c69609f2",
            "96671187feb940278fa6fa9aeadaa13b",
            "112583ce3ec34682bc1e7fd5dc2e9d04",
            "5d3e0ecfdff24678aaf113965c8e7f0b",
            "1b9b7d153955434daaf4c340bb0562cb",
            "a26d7876ecd94b8da070baf973f0c742",
            "72e3879c7c5c4f098aa68670a35e5886",
            "ee510f8808de4ec8b6ac194905e4bbd1",
            "24d1fc52c85242bfb312b55a045aee8d",
            "69568144923346b99f3439f3dd7629e8",
            "054f558cad5e4ef993dce805e595153a",
            "d6a8baae0a484be9987b441f7e480a09",
            "8bb64cea46d4485f9452228ae46a7cb1",
            "ba40443b708c4e8b82f958a4e512e178",
            "a9a9ee7c6aa34ac4af1c60fb3d48143b",
            "dba020b8c5b440858e83eea413ae7ca4",
            "3dca7e021f3c4050a607594cb56e31fc",
            "00dc4cb149564b2396212b85b0eff0e5",
            "27162f065e1c4672a015f15bf57bd786",
            "d053ed61c8de4e04bdf29c19a95f14be",
            "83a669927e27404f82f7576529f1e1dc",
            "556961046a0c451b8a44f112656ac519",
            "5782c4b9d57d42e9a18e37fff2b26bac",
            "9adc1e6c078a4effbc0ff4b467bcf483",
            "09702197fb3a47b9bf5985da8145af5c",
            "e22199a5a799453cbce82a6de5e86cdd",
            "c2d3885745da459abb9a87e7b5c83414",
            "9f11f09ced294388adfd14ffedcf5659",
            "2217f1e6c502435c8dda8ee8b13a65c5",
            "f8d9f1bdd8ab468dac8057ec2c9c73af"
          ]
        }
      },
      "outputs": [
        {
          "data": {
            "application/vnd.jupyter.widget-view+json": {
              "model_id": "140c079f18f849e3a6e4cc3fbaeb8e7e",
              "version_major": 2,
              "version_minor": 0
            },
            "text/plain": [
              "epoch:   0%|          | 0/21 [00:00<?, ?it/s]"
            ]
          },
          "metadata": {},
          "output_type": "display_data"
        },
        {
          "data": {
            "application/vnd.jupyter.widget-view+json": {
              "model_id": "c0c13dc873e34868b7f55c452db3fbde",
              "version_major": 2,
              "version_minor": 0
            },
            "text/plain": [
              "train:   0%|          | 0/1243 [00:00<?, ?it/s]"
            ]
          },
          "metadata": {},
          "output_type": "display_data"
        },
        {
          "data": {
            "application/vnd.jupyter.widget-view+json": {
              "model_id": "8bbde2cd29514d7594d5ad2b6163a5ab",
              "version_major": 2,
              "version_minor": 0
            },
            "text/plain": [
              "validation:   0%|          | 0/156 [00:00<?, ?it/s]"
            ]
          },
          "metadata": {},
          "output_type": "display_data"
        },
        {
          "data": {
            "application/vnd.jupyter.widget-view+json": {
              "model_id": "b8d0ba0731be4fa7b468f7d5a57662a1",
              "version_major": 2,
              "version_minor": 0
            },
            "text/plain": [
              "train:   0%|          | 0/1243 [00:00<?, ?it/s]"
            ]
          },
          "metadata": {},
          "output_type": "display_data"
        },
        {
          "data": {
            "application/vnd.jupyter.widget-view+json": {
              "model_id": "f6cf860de9a24c0b89220e3b5312200f",
              "version_major": 2,
              "version_minor": 0
            },
            "text/plain": [
              "validation:   0%|          | 0/156 [00:00<?, ?it/s]"
            ]
          },
          "metadata": {},
          "output_type": "display_data"
        },
        {
          "data": {
            "application/vnd.jupyter.widget-view+json": {
              "model_id": "1809f716e6ce47cea8d501c5be2af1a8",
              "version_major": 2,
              "version_minor": 0
            },
            "text/plain": [
              "train:   0%|          | 0/1243 [00:00<?, ?it/s]"
            ]
          },
          "metadata": {},
          "output_type": "display_data"
        },
        {
          "data": {
            "application/vnd.jupyter.widget-view+json": {
              "model_id": "ec4221c358a545faa2635cb8667acece",
              "version_major": 2,
              "version_minor": 0
            },
            "text/plain": [
              "validation:   0%|          | 0/156 [00:00<?, ?it/s]"
            ]
          },
          "metadata": {},
          "output_type": "display_data"
        },
        {
          "data": {
            "application/vnd.jupyter.widget-view+json": {
              "model_id": "14bea811b50846d399639084259c983b",
              "version_major": 2,
              "version_minor": 0
            },
            "text/plain": [
              "train:   0%|          | 0/1243 [00:00<?, ?it/s]"
            ]
          },
          "metadata": {},
          "output_type": "display_data"
        },
        {
          "data": {
            "application/vnd.jupyter.widget-view+json": {
              "model_id": "713a7a27969e44c89c441713b875736e",
              "version_major": 2,
              "version_minor": 0
            },
            "text/plain": [
              "validation:   0%|          | 0/156 [00:00<?, ?it/s]"
            ]
          },
          "metadata": {},
          "output_type": "display_data"
        },
        {
          "data": {
            "application/vnd.jupyter.widget-view+json": {
              "model_id": "154c8a59447b45b3bae620f537f10c7e",
              "version_major": 2,
              "version_minor": 0
            },
            "text/plain": [
              "train:   0%|          | 0/1243 [00:00<?, ?it/s]"
            ]
          },
          "metadata": {},
          "output_type": "display_data"
        },
        {
          "data": {
            "application/vnd.jupyter.widget-view+json": {
              "model_id": "faae5311425a4bcb924149070c9216c1",
              "version_major": 2,
              "version_minor": 0
            },
            "text/plain": [
              "validation:   0%|          | 0/156 [00:00<?, ?it/s]"
            ]
          },
          "metadata": {},
          "output_type": "display_data"
        },
        {
          "data": {
            "application/vnd.jupyter.widget-view+json": {
              "model_id": "e7df2ca03ba84e429478585579c3c2e1",
              "version_major": 2,
              "version_minor": 0
            },
            "text/plain": [
              "train:   0%|          | 0/1243 [00:00<?, ?it/s]"
            ]
          },
          "metadata": {},
          "output_type": "display_data"
        },
        {
          "data": {
            "application/vnd.jupyter.widget-view+json": {
              "model_id": "1dd8fc26cd564456953e560d53ed9e90",
              "version_major": 2,
              "version_minor": 0
            },
            "text/plain": [
              "validation:   0%|          | 0/156 [00:00<?, ?it/s]"
            ]
          },
          "metadata": {},
          "output_type": "display_data"
        },
        {
          "data": {
            "application/vnd.jupyter.widget-view+json": {
              "model_id": "37d96aeed8d84c998ee41ce2c69609f2",
              "version_major": 2,
              "version_minor": 0
            },
            "text/plain": [
              "train:   0%|          | 0/1243 [00:00<?, ?it/s]"
            ]
          },
          "metadata": {},
          "output_type": "display_data"
        },
        {
          "data": {
            "application/vnd.jupyter.widget-view+json": {
              "model_id": "96671187feb940278fa6fa9aeadaa13b",
              "version_major": 2,
              "version_minor": 0
            },
            "text/plain": [
              "validation:   0%|          | 0/156 [00:00<?, ?it/s]"
            ]
          },
          "metadata": {},
          "output_type": "display_data"
        },
        {
          "data": {
            "application/vnd.jupyter.widget-view+json": {
              "model_id": "112583ce3ec34682bc1e7fd5dc2e9d04",
              "version_major": 2,
              "version_minor": 0
            },
            "text/plain": [
              "train:   0%|          | 0/1243 [00:00<?, ?it/s]"
            ]
          },
          "metadata": {},
          "output_type": "display_data"
        },
        {
          "data": {
            "application/vnd.jupyter.widget-view+json": {
              "model_id": "5d3e0ecfdff24678aaf113965c8e7f0b",
              "version_major": 2,
              "version_minor": 0
            },
            "text/plain": [
              "validation:   0%|          | 0/156 [00:00<?, ?it/s]"
            ]
          },
          "metadata": {},
          "output_type": "display_data"
        },
        {
          "data": {
            "application/vnd.jupyter.widget-view+json": {
              "model_id": "1b9b7d153955434daaf4c340bb0562cb",
              "version_major": 2,
              "version_minor": 0
            },
            "text/plain": [
              "train:   0%|          | 0/1243 [00:00<?, ?it/s]"
            ]
          },
          "metadata": {},
          "output_type": "display_data"
        },
        {
          "data": {
            "application/vnd.jupyter.widget-view+json": {
              "model_id": "a26d7876ecd94b8da070baf973f0c742",
              "version_major": 2,
              "version_minor": 0
            },
            "text/plain": [
              "validation:   0%|          | 0/156 [00:00<?, ?it/s]"
            ]
          },
          "metadata": {},
          "output_type": "display_data"
        },
        {
          "data": {
            "application/vnd.jupyter.widget-view+json": {
              "model_id": "72e3879c7c5c4f098aa68670a35e5886",
              "version_major": 2,
              "version_minor": 0
            },
            "text/plain": [
              "train:   0%|          | 0/1243 [00:00<?, ?it/s]"
            ]
          },
          "metadata": {},
          "output_type": "display_data"
        },
        {
          "data": {
            "application/vnd.jupyter.widget-view+json": {
              "model_id": "ee510f8808de4ec8b6ac194905e4bbd1",
              "version_major": 2,
              "version_minor": 0
            },
            "text/plain": [
              "validation:   0%|          | 0/156 [00:00<?, ?it/s]"
            ]
          },
          "metadata": {},
          "output_type": "display_data"
        },
        {
          "data": {
            "application/vnd.jupyter.widget-view+json": {
              "model_id": "24d1fc52c85242bfb312b55a045aee8d",
              "version_major": 2,
              "version_minor": 0
            },
            "text/plain": [
              "train:   0%|          | 0/1243 [00:00<?, ?it/s]"
            ]
          },
          "metadata": {},
          "output_type": "display_data"
        },
        {
          "data": {
            "application/vnd.jupyter.widget-view+json": {
              "model_id": "69568144923346b99f3439f3dd7629e8",
              "version_major": 2,
              "version_minor": 0
            },
            "text/plain": [
              "validation:   0%|          | 0/156 [00:00<?, ?it/s]"
            ]
          },
          "metadata": {},
          "output_type": "display_data"
        },
        {
          "data": {
            "application/vnd.jupyter.widget-view+json": {
              "model_id": "054f558cad5e4ef993dce805e595153a",
              "version_major": 2,
              "version_minor": 0
            },
            "text/plain": [
              "train:   0%|          | 0/1243 [00:00<?, ?it/s]"
            ]
          },
          "metadata": {},
          "output_type": "display_data"
        },
        {
          "data": {
            "application/vnd.jupyter.widget-view+json": {
              "model_id": "d6a8baae0a484be9987b441f7e480a09",
              "version_major": 2,
              "version_minor": 0
            },
            "text/plain": [
              "validation:   0%|          | 0/156 [00:00<?, ?it/s]"
            ]
          },
          "metadata": {},
          "output_type": "display_data"
        },
        {
          "data": {
            "application/vnd.jupyter.widget-view+json": {
              "model_id": "8bb64cea46d4485f9452228ae46a7cb1",
              "version_major": 2,
              "version_minor": 0
            },
            "text/plain": [
              "train:   0%|          | 0/1243 [00:00<?, ?it/s]"
            ]
          },
          "metadata": {},
          "output_type": "display_data"
        },
        {
          "data": {
            "application/vnd.jupyter.widget-view+json": {
              "model_id": "ba40443b708c4e8b82f958a4e512e178",
              "version_major": 2,
              "version_minor": 0
            },
            "text/plain": [
              "validation:   0%|          | 0/156 [00:00<?, ?it/s]"
            ]
          },
          "metadata": {},
          "output_type": "display_data"
        },
        {
          "data": {
            "application/vnd.jupyter.widget-view+json": {
              "model_id": "a9a9ee7c6aa34ac4af1c60fb3d48143b",
              "version_major": 2,
              "version_minor": 0
            },
            "text/plain": [
              "train:   0%|          | 0/1243 [00:00<?, ?it/s]"
            ]
          },
          "metadata": {},
          "output_type": "display_data"
        },
        {
          "data": {
            "application/vnd.jupyter.widget-view+json": {
              "model_id": "dba020b8c5b440858e83eea413ae7ca4",
              "version_major": 2,
              "version_minor": 0
            },
            "text/plain": [
              "validation:   0%|          | 0/156 [00:00<?, ?it/s]"
            ]
          },
          "metadata": {},
          "output_type": "display_data"
        },
        {
          "data": {
            "application/vnd.jupyter.widget-view+json": {
              "model_id": "3dca7e021f3c4050a607594cb56e31fc",
              "version_major": 2,
              "version_minor": 0
            },
            "text/plain": [
              "train:   0%|          | 0/1243 [00:00<?, ?it/s]"
            ]
          },
          "metadata": {},
          "output_type": "display_data"
        },
        {
          "data": {
            "application/vnd.jupyter.widget-view+json": {
              "model_id": "00dc4cb149564b2396212b85b0eff0e5",
              "version_major": 2,
              "version_minor": 0
            },
            "text/plain": [
              "validation:   0%|          | 0/156 [00:00<?, ?it/s]"
            ]
          },
          "metadata": {},
          "output_type": "display_data"
        },
        {
          "data": {
            "application/vnd.jupyter.widget-view+json": {
              "model_id": "27162f065e1c4672a015f15bf57bd786",
              "version_major": 2,
              "version_minor": 0
            },
            "text/plain": [
              "train:   0%|          | 0/1243 [00:00<?, ?it/s]"
            ]
          },
          "metadata": {},
          "output_type": "display_data"
        },
        {
          "data": {
            "application/vnd.jupyter.widget-view+json": {
              "model_id": "d053ed61c8de4e04bdf29c19a95f14be",
              "version_major": 2,
              "version_minor": 0
            },
            "text/plain": [
              "validation:   0%|          | 0/156 [00:00<?, ?it/s]"
            ]
          },
          "metadata": {},
          "output_type": "display_data"
        },
        {
          "data": {
            "application/vnd.jupyter.widget-view+json": {
              "model_id": "83a669927e27404f82f7576529f1e1dc",
              "version_major": 2,
              "version_minor": 0
            },
            "text/plain": [
              "train:   0%|          | 0/1243 [00:00<?, ?it/s]"
            ]
          },
          "metadata": {},
          "output_type": "display_data"
        },
        {
          "data": {
            "application/vnd.jupyter.widget-view+json": {
              "model_id": "556961046a0c451b8a44f112656ac519",
              "version_major": 2,
              "version_minor": 0
            },
            "text/plain": [
              "validation:   0%|          | 0/156 [00:00<?, ?it/s]"
            ]
          },
          "metadata": {},
          "output_type": "display_data"
        },
        {
          "data": {
            "application/vnd.jupyter.widget-view+json": {
              "model_id": "5782c4b9d57d42e9a18e37fff2b26bac",
              "version_major": 2,
              "version_minor": 0
            },
            "text/plain": [
              "train:   0%|          | 0/1243 [00:00<?, ?it/s]"
            ]
          },
          "metadata": {},
          "output_type": "display_data"
        },
        {
          "data": {
            "application/vnd.jupyter.widget-view+json": {
              "model_id": "9adc1e6c078a4effbc0ff4b467bcf483",
              "version_major": 2,
              "version_minor": 0
            },
            "text/plain": [
              "validation:   0%|          | 0/156 [00:00<?, ?it/s]"
            ]
          },
          "metadata": {},
          "output_type": "display_data"
        },
        {
          "data": {
            "application/vnd.jupyter.widget-view+json": {
              "model_id": "09702197fb3a47b9bf5985da8145af5c",
              "version_major": 2,
              "version_minor": 0
            },
            "text/plain": [
              "train:   0%|          | 0/1243 [00:00<?, ?it/s]"
            ]
          },
          "metadata": {},
          "output_type": "display_data"
        },
        {
          "data": {
            "application/vnd.jupyter.widget-view+json": {
              "model_id": "e22199a5a799453cbce82a6de5e86cdd",
              "version_major": 2,
              "version_minor": 0
            },
            "text/plain": [
              "validation:   0%|          | 0/156 [00:00<?, ?it/s]"
            ]
          },
          "metadata": {},
          "output_type": "display_data"
        },
        {
          "data": {
            "application/vnd.jupyter.widget-view+json": {
              "model_id": "c2d3885745da459abb9a87e7b5c83414",
              "version_major": 2,
              "version_minor": 0
            },
            "text/plain": [
              "train:   0%|          | 0/1243 [00:00<?, ?it/s]"
            ]
          },
          "metadata": {},
          "output_type": "display_data"
        },
        {
          "data": {
            "application/vnd.jupyter.widget-view+json": {
              "model_id": "9f11f09ced294388adfd14ffedcf5659",
              "version_major": 2,
              "version_minor": 0
            },
            "text/plain": [
              "validation:   0%|          | 0/156 [00:00<?, ?it/s]"
            ]
          },
          "metadata": {},
          "output_type": "display_data"
        },
        {
          "data": {
            "application/vnd.jupyter.widget-view+json": {
              "model_id": "2217f1e6c502435c8dda8ee8b13a65c5",
              "version_major": 2,
              "version_minor": 0
            },
            "text/plain": [
              "train:   0%|          | 0/1243 [00:00<?, ?it/s]"
            ]
          },
          "metadata": {},
          "output_type": "display_data"
        },
        {
          "data": {
            "application/vnd.jupyter.widget-view+json": {
              "model_id": "f8d9f1bdd8ab468dac8057ec2c9c73af",
              "version_major": 2,
              "version_minor": 0
            },
            "text/plain": [
              "validation:   0%|          | 0/156 [00:00<?, ?it/s]"
            ]
          },
          "metadata": {},
          "output_type": "display_data"
        }
      ],
      "source": [
        "perplexities3, losses3 = train_model(\n",
        "    model_3, criterion, optimizer, scheduler,\n",
        "    train_dataloader, eval_dataloader, epochs=21\n",
        ")"
      ]
    },
    {
      "cell_type": "code",
      "execution_count": null,
      "id": "39d0bc73",
      "metadata": {
        "execution": {
          "iopub.execute_input": "2024-10-26T21:42:21.655827Z",
          "iopub.status.busy": "2024-10-26T21:42:21.654993Z",
          "iopub.status.idle": "2024-10-26T21:42:22.008260Z",
          "shell.execute_reply": "2024-10-26T21:42:22.007363Z"
        },
        "id": "39d0bc73",
        "papermill": {
          "duration": 0.637923,
          "end_time": "2024-10-26T21:42:22.010220",
          "exception": false,
          "start_time": "2024-10-26T21:42:21.372297",
          "status": "completed"
        },
        "tags": [],
        "outputId": "caf805ca-bff4-4c75-e557-b8db43f73f17"
      },
      "outputs": [
        {
          "data": {
            "image/png": "[encoded data removed]",
            "text/plain": [
              "<Figure size 640x480 with 1 Axes>"
            ]
          },
          "metadata": {},
          "output_type": "display_data"
        }
      ],
      "source": [
        "plt.plot(np.arange(len(losses3)), losses3)\n",
        "plt.title('Losses')\n",
        "plt.xlabel(\"epoch\")\n",
        "plt.show()"
      ]
    },
    {
      "cell_type": "code",
      "execution_count": null,
      "id": "28147a6c",
      "metadata": {
        "execution": {
          "iopub.execute_input": "2024-10-26T21:42:22.573629Z",
          "iopub.status.busy": "2024-10-26T21:42:22.573250Z",
          "iopub.status.idle": "2024-10-26T21:42:22.929981Z",
          "shell.execute_reply": "2024-10-26T21:42:22.929050Z"
        },
        "id": "28147a6c",
        "papermill": {
          "duration": 0.640548,
          "end_time": "2024-10-26T21:42:22.932037",
          "exception": false,
          "start_time": "2024-10-26T21:42:22.291489",
          "status": "completed"
        },
        "tags": [],
        "outputId": "c988aae7-6dcb-42d0-ed28-d6f2a60e95ef"
      },
      "outputs": [
        {
          "data": {
            "image/png": "[encoded data removed]",
            "text/plain": [
              "<Figure size 640x480 with 1 Axes>"
            ]
          },
          "metadata": {},
          "output_type": "display_data"
        }
      ],
      "source": [
        "plt.plot(np.arange(len(perplexities3)), perplexities3)\n",
        "plt.title('Perplexity')\n",
        "plt.xlabel(\"epoch\")\n",
        "plt.show()"
      ]
    },
    {
      "cell_type": "markdown",
      "id": "51c56756",
      "metadata": {
        "id": "51c56756",
        "papermill": {
          "duration": 0.338956,
          "end_time": "2024-10-26T21:42:23.557931",
          "exception": false,
          "start_time": "2024-10-26T21:42:23.218975",
          "status": "completed"
        },
        "tags": []
      },
      "source": [
        "### Эксперимент 3. LSTM (Linear Layer number change)"
      ]
    },
    {
      "cell_type": "markdown",
      "id": "b6e69c94",
      "metadata": {
        "id": "b6e69c94",
        "papermill": {
          "duration": 0.28306,
          "end_time": "2024-10-26T21:42:24.123541",
          "exception": false,
          "start_time": "2024-10-26T21:42:23.840481",
          "status": "completed"
        },
        "tags": []
      },
      "source": [
        "Увеличим количество линейных слоев после LSTM"
      ]
    },
    {
      "cell_type": "code",
      "execution_count": null,
      "id": "9a15532d",
      "metadata": {
        "execution": {
          "iopub.execute_input": "2024-10-26T21:42:24.691568Z",
          "iopub.status.busy": "2024-10-26T21:42:24.691195Z",
          "iopub.status.idle": "2024-10-26T21:42:24.699439Z",
          "shell.execute_reply": "2024-10-26T21:42:24.698575Z"
        },
        "id": "9a15532d",
        "papermill": {
          "duration": 0.29382,
          "end_time": "2024-10-26T21:42:24.701262",
          "exception": false,
          "start_time": "2024-10-26T21:42:24.407442",
          "status": "completed"
        },
        "tags": []
      },
      "outputs": [],
      "source": [
        "class LanguageModel_4(nn.Module):\n",
        "    def __init__(self, hidden_dim, vocab_size):\n",
        "        super().__init__()\n",
        "        self.embedding = nn.Embedding(vocab_size, hidden_dim)\n",
        "        self.lstm = nn.LSTM(hidden_dim, hidden_dim, batch_first=True)\n",
        "        self.linear_up = nn.Linear(hidden_dim, 2 * hidden_dim)\n",
        "        self.linear_down = nn.Linear(2 * hidden_dim, hidden_dim)\n",
        "        self.projection = nn.Linear(hidden_dim, vocab_size)\n",
        "\n",
        "        self.non_linear = nn.Tanh()\n",
        "        self.dropout = nn.Dropout(0.2)\n",
        "\n",
        "    def forward(self, input_batch: torch.Tensor) -> torch.Tensor:\n",
        "        embeddings = self.embedding(input_batch)\n",
        "        output, _ = self.lstm(embeddings)\n",
        "        output = self.dropout(self.non_linear(self.linear_up(output)))\n",
        "        output = self.dropout(self.non_linear(self.linear_down(output)))\n",
        "        prediction = self.projection(output)\n",
        "\n",
        "        return prediction"
      ]
    },
    {
      "cell_type": "code",
      "execution_count": null,
      "id": "1a64137f",
      "metadata": {
        "execution": {
          "iopub.execute_input": "2024-10-26T21:42:25.268120Z",
          "iopub.status.busy": "2024-10-26T21:42:25.267778Z",
          "iopub.status.idle": "2024-10-26T21:42:25.485963Z",
          "shell.execute_reply": "2024-10-26T21:42:25.485176Z"
        },
        "id": "1a64137f",
        "papermill": {
          "duration": 0.505022,
          "end_time": "2024-10-26T21:42:25.488112",
          "exception": false,
          "start_time": "2024-10-26T21:42:24.983090",
          "status": "completed"
        },
        "tags": []
      },
      "outputs": [],
      "source": [
        "model_4 = LanguageModel_4(256, len(vocab)).to(device)\n",
        "criterion = nn.CrossEntropyLoss(ignore_index=word2ind['<pad>'])\n",
        "optimizer = torch.optim.Adam(model_4.parameters())\n",
        "scheduler = StepLR(optimizer, step_size=1, gamma=0.8)"
      ]
    },
    {
      "cell_type": "code",
      "execution_count": null,
      "id": "96c6c86c",
      "metadata": {
        "execution": {
          "iopub.execute_input": "2024-10-26T21:42:26.088338Z",
          "iopub.status.busy": "2024-10-26T21:42:26.087932Z",
          "iopub.status.idle": "2024-10-26T22:19:19.224005Z",
          "shell.execute_reply": "2024-10-26T22:19:19.223129Z"
        },
        "id": "96c6c86c",
        "papermill": {
          "duration": 2213.422407,
          "end_time": "2024-10-26T22:19:19.227578",
          "exception": false,
          "start_time": "2024-10-26T21:42:25.805171",
          "status": "completed"
        },
        "tags": [],
        "colab": {
          "referenced_widgets": [
            "919966cd218349c6bd10663934df5f82",
            "94a848f0db734a67aa97b6a230872b03",
            "aa65a44036554314bfda252006e23316",
            "d308cb9ab253480c8dd36e297121929d",
            "8818c638094e4af5b2c236487a735d6d",
            "9fe5819a53f34f2c8adceaff7eabcb34",
            "0decffe127b743ca99bb05ec9fa4acae",
            "db7d0841dce54bb08941f89fe2651945",
            "7daa388249584001854ed83e719ffd8a",
            "250b135777e14b718e473dea54e723c2",
            "63ab6194a4a444618dd4c08d5156b1d1",
            "d36189415b8f4ea38fb61da65dda9398",
            "a4ff648a74a64a85904179322811d035",
            "648ddf8178f945eb9e307fd78e01b9ff",
            "cea40c6620414764a98b4f4962212d40",
            "e971b4550a0c4da9b644558594625caf",
            "22f63519609f487db6ef3905a388ec7f",
            "6adc737729c341d4b4221821608d9404",
            "c8ae1ad40d074f72bd5c91db1af07632",
            "f0e6aa7f48ad460abb34f9c82237f32b",
            "3b246d49da494bd180282146ca942b90",
            "79d12379bfdb49d696dfd26be53a0927",
            "f3ca027699714b5a8eb14aecf438e8cb",
            "bf477a40f4da4546903214d96935fafa",
            "e419bea6c5a246d7ad083535523a0c19",
            "aaca66274d7c47d197b310d20d446c3f",
            "e62e1dd558174a73977bbe31b4777a83",
            "d4cd4b6f1c09496e855322008c583139",
            "3cf17a3d8c1c4cff97cc7c7b65362bd1",
            "c4849cdeb042481c93ada069540272ff",
            "c7ec8372a3be4647b1fefd5c19300328",
            "ca281c98247448dc8f18d91436a8875e",
            "e1ff1c965f0b42a9bb259542097790b7",
            "8d46b21bf75047ceaf0b67d99485af77",
            "ea6d6f2e0a5a456cbbc2e48f3800317c",
            "4758b73c54be47d680105e6f9bc2662b",
            "5dde80ba168649589bc34dcae4832c3b",
            "f62280504b924ad8a26f15c665b7986b",
            "903ca671af0c4dd3a4bea501a915ce0c",
            "939326d3d5b040f5bc1c71b3f2af1318",
            "634cc9d79e3e497c8be9114c5c5455c1",
            "802940d254bf4bb3bb3d79ba0dc849e4",
            "5cb6def72e7e443da9b78b6453d18a99"
          ]
        },
        "outputId": "ec151ee2-793c-4a65-e543-18be990fe0cc"
      },
      "outputs": [
        {
          "data": {
            "application/vnd.jupyter.widget-view+json": {
              "model_id": "919966cd218349c6bd10663934df5f82",
              "version_major": 2,
              "version_minor": 0
            },
            "text/plain": [
              "epoch:   0%|          | 0/21 [00:00<?, ?it/s]"
            ]
          },
          "metadata": {},
          "output_type": "display_data"
        },
        {
          "data": {
            "application/vnd.jupyter.widget-view+json": {
              "model_id": "94a848f0db734a67aa97b6a230872b03",
              "version_major": 2,
              "version_minor": 0
            },
            "text/plain": [
              "train:   0%|          | 0/1243 [00:00<?, ?it/s]"
            ]
          },
          "metadata": {},
          "output_type": "display_data"
        },
        {
          "data": {
            "application/vnd.jupyter.widget-view+json": {
              "model_id": "aa65a44036554314bfda252006e23316",
              "version_major": 2,
              "version_minor": 0
            },
            "text/plain": [
              "validation:   0%|          | 0/156 [00:00<?, ?it/s]"
            ]
          },
          "metadata": {},
          "output_type": "display_data"
        },
        {
          "data": {
            "application/vnd.jupyter.widget-view+json": {
              "model_id": "d308cb9ab253480c8dd36e297121929d",
              "version_major": 2,
              "version_minor": 0
            },
            "text/plain": [
              "train:   0%|          | 0/1243 [00:00<?, ?it/s]"
            ]
          },
          "metadata": {},
          "output_type": "display_data"
        },
        {
          "data": {
            "application/vnd.jupyter.widget-view+json": {
              "model_id": "8818c638094e4af5b2c236487a735d6d",
              "version_major": 2,
              "version_minor": 0
            },
            "text/plain": [
              "validation:   0%|          | 0/156 [00:00<?, ?it/s]"
            ]
          },
          "metadata": {},
          "output_type": "display_data"
        },
        {
          "data": {
            "application/vnd.jupyter.widget-view+json": {
              "model_id": "9fe5819a53f34f2c8adceaff7eabcb34",
              "version_major": 2,
              "version_minor": 0
            },
            "text/plain": [
              "train:   0%|          | 0/1243 [00:00<?, ?it/s]"
            ]
          },
          "metadata": {},
          "output_type": "display_data"
        },
        {
          "data": {
            "application/vnd.jupyter.widget-view+json": {
              "model_id": "0decffe127b743ca99bb05ec9fa4acae",
              "version_major": 2,
              "version_minor": 0
            },
            "text/plain": [
              "validation:   0%|          | 0/156 [00:00<?, ?it/s]"
            ]
          },
          "metadata": {},
          "output_type": "display_data"
        },
        {
          "data": {
            "application/vnd.jupyter.widget-view+json": {
              "model_id": "db7d0841dce54bb08941f89fe2651945",
              "version_major": 2,
              "version_minor": 0
            },
            "text/plain": [
              "train:   0%|          | 0/1243 [00:00<?, ?it/s]"
            ]
          },
          "metadata": {},
          "output_type": "display_data"
        },
        {
          "data": {
            "application/vnd.jupyter.widget-view+json": {
              "model_id": "7daa388249584001854ed83e719ffd8a",
              "version_major": 2,
              "version_minor": 0
            },
            "text/plain": [
              "validation:   0%|          | 0/156 [00:00<?, ?it/s]"
            ]
          },
          "metadata": {},
          "output_type": "display_data"
        },
        {
          "data": {
            "application/vnd.jupyter.widget-view+json": {
              "model_id": "250b135777e14b718e473dea54e723c2",
              "version_major": 2,
              "version_minor": 0
            },
            "text/plain": [
              "train:   0%|          | 0/1243 [00:00<?, ?it/s]"
            ]
          },
          "metadata": {},
          "output_type": "display_data"
        },
        {
          "data": {
            "application/vnd.jupyter.widget-view+json": {
              "model_id": "63ab6194a4a444618dd4c08d5156b1d1",
              "version_major": 2,
              "version_minor": 0
            },
            "text/plain": [
              "validation:   0%|          | 0/156 [00:00<?, ?it/s]"
            ]
          },
          "metadata": {},
          "output_type": "display_data"
        },
        {
          "data": {
            "application/vnd.jupyter.widget-view+json": {
              "model_id": "d36189415b8f4ea38fb61da65dda9398",
              "version_major": 2,
              "version_minor": 0
            },
            "text/plain": [
              "train:   0%|          | 0/1243 [00:00<?, ?it/s]"
            ]
          },
          "metadata": {},
          "output_type": "display_data"
        },
        {
          "data": {
            "application/vnd.jupyter.widget-view+json": {
              "model_id": "a4ff648a74a64a85904179322811d035",
              "version_major": 2,
              "version_minor": 0
            },
            "text/plain": [
              "validation:   0%|          | 0/156 [00:00<?, ?it/s]"
            ]
          },
          "metadata": {},
          "output_type": "display_data"
        },
        {
          "data": {
            "application/vnd.jupyter.widget-view+json": {
              "model_id": "648ddf8178f945eb9e307fd78e01b9ff",
              "version_major": 2,
              "version_minor": 0
            },
            "text/plain": [
              "train:   0%|          | 0/1243 [00:00<?, ?it/s]"
            ]
          },
          "metadata": {},
          "output_type": "display_data"
        },
        {
          "data": {
            "application/vnd.jupyter.widget-view+json": {
              "model_id": "cea40c6620414764a98b4f4962212d40",
              "version_major": 2,
              "version_minor": 0
            },
            "text/plain": [
              "validation:   0%|          | 0/156 [00:00<?, ?it/s]"
            ]
          },
          "metadata": {},
          "output_type": "display_data"
        },
        {
          "data": {
            "application/vnd.jupyter.widget-view+json": {
              "model_id": "e971b4550a0c4da9b644558594625caf",
              "version_major": 2,
              "version_minor": 0
            },
            "text/plain": [
              "train:   0%|          | 0/1243 [00:00<?, ?it/s]"
            ]
          },
          "metadata": {},
          "output_type": "display_data"
        },
        {
          "data": {
            "application/vnd.jupyter.widget-view+json": {
              "model_id": "22f63519609f487db6ef3905a388ec7f",
              "version_major": 2,
              "version_minor": 0
            },
            "text/plain": [
              "validation:   0%|          | 0/156 [00:00<?, ?it/s]"
            ]
          },
          "metadata": {},
          "output_type": "display_data"
        },
        {
          "data": {
            "application/vnd.jupyter.widget-view+json": {
              "model_id": "6adc737729c341d4b4221821608d9404",
              "version_major": 2,
              "version_minor": 0
            },
            "text/plain": [
              "train:   0%|          | 0/1243 [00:00<?, ?it/s]"
            ]
          },
          "metadata": {},
          "output_type": "display_data"
        },
        {
          "data": {
            "application/vnd.jupyter.widget-view+json": {
              "model_id": "c8ae1ad40d074f72bd5c91db1af07632",
              "version_major": 2,
              "version_minor": 0
            },
            "text/plain": [
              "validation:   0%|          | 0/156 [00:00<?, ?it/s]"
            ]
          },
          "metadata": {},
          "output_type": "display_data"
        },
        {
          "data": {
            "application/vnd.jupyter.widget-view+json": {
              "model_id": "f0e6aa7f48ad460abb34f9c82237f32b",
              "version_major": 2,
              "version_minor": 0
            },
            "text/plain": [
              "train:   0%|          | 0/1243 [00:00<?, ?it/s]"
            ]
          },
          "metadata": {},
          "output_type": "display_data"
        },
        {
          "data": {
            "application/vnd.jupyter.widget-view+json": {
              "model_id": "3b246d49da494bd180282146ca942b90",
              "version_major": 2,
              "version_minor": 0
            },
            "text/plain": [
              "validation:   0%|          | 0/156 [00:00<?, ?it/s]"
            ]
          },
          "metadata": {},
          "output_type": "display_data"
        },
        {
          "data": {
            "application/vnd.jupyter.widget-view+json": {
              "model_id": "79d12379bfdb49d696dfd26be53a0927",
              "version_major": 2,
              "version_minor": 0
            },
            "text/plain": [
              "train:   0%|          | 0/1243 [00:00<?, ?it/s]"
            ]
          },
          "metadata": {},
          "output_type": "display_data"
        },
        {
          "data": {
            "application/vnd.jupyter.widget-view+json": {
              "model_id": "f3ca027699714b5a8eb14aecf438e8cb",
              "version_major": 2,
              "version_minor": 0
            },
            "text/plain": [
              "validation:   0%|          | 0/156 [00:00<?, ?it/s]"
            ]
          },
          "metadata": {},
          "output_type": "display_data"
        },
        {
          "data": {
            "application/vnd.jupyter.widget-view+json": {
              "model_id": "bf477a40f4da4546903214d96935fafa",
              "version_major": 2,
              "version_minor": 0
            },
            "text/plain": [
              "train:   0%|          | 0/1243 [00:00<?, ?it/s]"
            ]
          },
          "metadata": {},
          "output_type": "display_data"
        },
        {
          "data": {
            "application/vnd.jupyter.widget-view+json": {
              "model_id": "e419bea6c5a246d7ad083535523a0c19",
              "version_major": 2,
              "version_minor": 0
            },
            "text/plain": [
              "validation:   0%|          | 0/156 [00:00<?, ?it/s]"
            ]
          },
          "metadata": {},
          "output_type": "display_data"
        },
        {
          "data": {
            "application/vnd.jupyter.widget-view+json": {
              "model_id": "aaca66274d7c47d197b310d20d446c3f",
              "version_major": 2,
              "version_minor": 0
            },
            "text/plain": [
              "train:   0%|          | 0/1243 [00:00<?, ?it/s]"
            ]
          },
          "metadata": {},
          "output_type": "display_data"
        },
        {
          "data": {
            "application/vnd.jupyter.widget-view+json": {
              "model_id": "e62e1dd558174a73977bbe31b4777a83",
              "version_major": 2,
              "version_minor": 0
            },
            "text/plain": [
              "validation:   0%|          | 0/156 [00:00<?, ?it/s]"
            ]
          },
          "metadata": {},
          "output_type": "display_data"
        },
        {
          "data": {
            "application/vnd.jupyter.widget-view+json": {
              "model_id": "d4cd4b6f1c09496e855322008c583139",
              "version_major": 2,
              "version_minor": 0
            },
            "text/plain": [
              "train:   0%|          | 0/1243 [00:00<?, ?it/s]"
            ]
          },
          "metadata": {},
          "output_type": "display_data"
        },
        {
          "data": {
            "application/vnd.jupyter.widget-view+json": {
              "model_id": "3cf17a3d8c1c4cff97cc7c7b65362bd1",
              "version_major": 2,
              "version_minor": 0
            },
            "text/plain": [
              "validation:   0%|          | 0/156 [00:00<?, ?it/s]"
            ]
          },
          "metadata": {},
          "output_type": "display_data"
        },
        {
          "data": {
            "application/vnd.jupyter.widget-view+json": {
              "model_id": "c4849cdeb042481c93ada069540272ff",
              "version_major": 2,
              "version_minor": 0
            },
            "text/plain": [
              "train:   0%|          | 0/1243 [00:00<?, ?it/s]"
            ]
          },
          "metadata": {},
          "output_type": "display_data"
        },
        {
          "data": {
            "application/vnd.jupyter.widget-view+json": {
              "model_id": "c7ec8372a3be4647b1fefd5c19300328",
              "version_major": 2,
              "version_minor": 0
            },
            "text/plain": [
              "validation:   0%|          | 0/156 [00:00<?, ?it/s]"
            ]
          },
          "metadata": {},
          "output_type": "display_data"
        },
        {
          "data": {
            "application/vnd.jupyter.widget-view+json": {
              "model_id": "ca281c98247448dc8f18d91436a8875e",
              "version_major": 2,
              "version_minor": 0
            },
            "text/plain": [
              "train:   0%|          | 0/1243 [00:00<?, ?it/s]"
            ]
          },
          "metadata": {},
          "output_type": "display_data"
        },
        {
          "data": {
            "application/vnd.jupyter.widget-view+json": {
              "model_id": "e1ff1c965f0b42a9bb259542097790b7",
              "version_major": 2,
              "version_minor": 0
            },
            "text/plain": [
              "validation:   0%|          | 0/156 [00:00<?, ?it/s]"
            ]
          },
          "metadata": {},
          "output_type": "display_data"
        },
        {
          "data": {
            "application/vnd.jupyter.widget-view+json": {
              "model_id": "8d46b21bf75047ceaf0b67d99485af77",
              "version_major": 2,
              "version_minor": 0
            },
            "text/plain": [
              "train:   0%|          | 0/1243 [00:00<?, ?it/s]"
            ]
          },
          "metadata": {},
          "output_type": "display_data"
        },
        {
          "data": {
            "application/vnd.jupyter.widget-view+json": {
              "model_id": "ea6d6f2e0a5a456cbbc2e48f3800317c",
              "version_major": 2,
              "version_minor": 0
            },
            "text/plain": [
              "validation:   0%|          | 0/156 [00:00<?, ?it/s]"
            ]
          },
          "metadata": {},
          "output_type": "display_data"
        },
        {
          "data": {
            "application/vnd.jupyter.widget-view+json": {
              "model_id": "4758b73c54be47d680105e6f9bc2662b",
              "version_major": 2,
              "version_minor": 0
            },
            "text/plain": [
              "train:   0%|          | 0/1243 [00:00<?, ?it/s]"
            ]
          },
          "metadata": {},
          "output_type": "display_data"
        },
        {
          "data": {
            "application/vnd.jupyter.widget-view+json": {
              "model_id": "5dde80ba168649589bc34dcae4832c3b",
              "version_major": 2,
              "version_minor": 0
            },
            "text/plain": [
              "validation:   0%|          | 0/156 [00:00<?, ?it/s]"
            ]
          },
          "metadata": {},
          "output_type": "display_data"
        },
        {
          "data": {
            "application/vnd.jupyter.widget-view+json": {
              "model_id": "f62280504b924ad8a26f15c665b7986b",
              "version_major": 2,
              "version_minor": 0
            },
            "text/plain": [
              "train:   0%|          | 0/1243 [00:00<?, ?it/s]"
            ]
          },
          "metadata": {},
          "output_type": "display_data"
        },
        {
          "data": {
            "application/vnd.jupyter.widget-view+json": {
              "model_id": "903ca671af0c4dd3a4bea501a915ce0c",
              "version_major": 2,
              "version_minor": 0
            },
            "text/plain": [
              "validation:   0%|          | 0/156 [00:00<?, ?it/s]"
            ]
          },
          "metadata": {},
          "output_type": "display_data"
        },
        {
          "data": {
            "application/vnd.jupyter.widget-view+json": {
              "model_id": "939326d3d5b040f5bc1c71b3f2af1318",
              "version_major": 2,
              "version_minor": 0
            },
            "text/plain": [
              "train:   0%|          | 0/1243 [00:00<?, ?it/s]"
            ]
          },
          "metadata": {},
          "output_type": "display_data"
        },
        {
          "data": {
            "application/vnd.jupyter.widget-view+json": {
              "model_id": "634cc9d79e3e497c8be9114c5c5455c1",
              "version_major": 2,
              "version_minor": 0
            },
            "text/plain": [
              "validation:   0%|          | 0/156 [00:00<?, ?it/s]"
            ]
          },
          "metadata": {},
          "output_type": "display_data"
        },
        {
          "data": {
            "application/vnd.jupyter.widget-view+json": {
              "model_id": "802940d254bf4bb3bb3d79ba0dc849e4",
              "version_major": 2,
              "version_minor": 0
            },
            "text/plain": [
              "train:   0%|          | 0/1243 [00:00<?, ?it/s]"
            ]
          },
          "metadata": {},
          "output_type": "display_data"
        },
        {
          "data": {
            "application/vnd.jupyter.widget-view+json": {
              "model_id": "5cb6def72e7e443da9b78b6453d18a99",
              "version_major": 2,
              "version_minor": 0
            },
            "text/plain": [
              "validation:   0%|          | 0/156 [00:00<?, ?it/s]"
            ]
          },
          "metadata": {},
          "output_type": "display_data"
        }
      ],
      "source": [
        "perplexities4, losses4 = train_model(\n",
        "    model_4, criterion, optimizer,\n",
        "    scheduler, train_dataloader, eval_dataloader, epochs=21\n",
        ")"
      ]
    },
    {
      "cell_type": "code",
      "execution_count": null,
      "id": "2d2659df",
      "metadata": {
        "execution": {
          "iopub.execute_input": "2024-10-26T22:19:19.809208Z",
          "iopub.status.busy": "2024-10-26T22:19:19.808462Z",
          "iopub.status.idle": "2024-10-26T22:19:20.159267Z",
          "shell.execute_reply": "2024-10-26T22:19:20.158227Z"
        },
        "id": "2d2659df",
        "papermill": {
          "duration": 0.643803,
          "end_time": "2024-10-26T22:19:20.162073",
          "exception": false,
          "start_time": "2024-10-26T22:19:19.518270",
          "status": "completed"
        },
        "tags": [],
        "outputId": "eb5e023e-9827-4cfb-9563-d1f049b80a42"
      },
      "outputs": [
        {
          "data": {
            "image/png": "[encoded data removed]",
            "text/plain": [
              "<Figure size 640x480 with 1 Axes>"
            ]
          },
          "metadata": {},
          "output_type": "display_data"
        }
      ],
      "source": [
        "plt.plot(np.arange(len(losses4)), losses4)\n",
        "plt.title('Losses')\n",
        "plt.xlabel(\"epoch\")\n",
        "plt.show()"
      ]
    },
    {
      "cell_type": "code",
      "execution_count": null,
      "id": "108434f7",
      "metadata": {
        "execution": {
          "iopub.execute_input": "2024-10-26T22:19:20.754440Z",
          "iopub.status.busy": "2024-10-26T22:19:20.753709Z",
          "iopub.status.idle": "2024-10-26T22:19:21.021310Z",
          "shell.execute_reply": "2024-10-26T22:19:21.020399Z"
        },
        "id": "108434f7",
        "papermill": {
          "duration": 0.560577,
          "end_time": "2024-10-26T22:19:21.023404",
          "exception": false,
          "start_time": "2024-10-26T22:19:20.462827",
          "status": "completed"
        },
        "tags": [],
        "outputId": "e013de15-cef4-4d2c-9298-f3c9fc3ad506"
      },
      "outputs": [
        {
          "data": {
            "image/png": "[encoded data removed]",
            "text/plain": [
              "<Figure size 640x480 with 1 Axes>"
            ]
          },
          "metadata": {},
          "output_type": "display_data"
        }
      ],
      "source": [
        "plt.plot(np.arange(len(perplexities4)), perplexities4)\n",
        "plt.title('Perplexity')\n",
        "plt.xlabel(\"epoch\")\n",
        "plt.show()"
      ]
    },
    {
      "cell_type": "code",
      "execution_count": null,
      "id": "552faf9e",
      "metadata": {
        "execution": {
          "iopub.execute_input": "2024-10-26T22:19:21.658555Z",
          "iopub.status.busy": "2024-10-26T22:19:21.657835Z",
          "iopub.status.idle": "2024-10-26T22:19:21.665628Z",
          "shell.execute_reply": "2024-10-26T22:19:21.664776Z"
        },
        "id": "552faf9e",
        "papermill": {
          "duration": 0.35035,
          "end_time": "2024-10-26T22:19:21.667447",
          "exception": false,
          "start_time": "2024-10-26T22:19:21.317097",
          "status": "completed"
        },
        "tags": []
      },
      "outputs": [],
      "source": [
        "result_df = pd.DataFrame({\"model\": range(4), \"min perplexity\": [min(perp) for perp in [perplexities, perplexities2,\n",
        "                                                                                       perplexities3, perplexities4]]}\n",
        "                        )"
      ]
    },
    {
      "cell_type": "code",
      "execution_count": null,
      "id": "18c0cae4",
      "metadata": {
        "execution": {
          "iopub.execute_input": "2024-10-26T22:19:22.256568Z",
          "iopub.status.busy": "2024-10-26T22:19:22.256181Z",
          "iopub.status.idle": "2024-10-26T22:19:22.271530Z",
          "shell.execute_reply": "2024-10-26T22:19:22.270631Z"
        },
        "id": "18c0cae4",
        "papermill": {
          "duration": 0.311749,
          "end_time": "2024-10-26T22:19:22.273492",
          "exception": false,
          "start_time": "2024-10-26T22:19:21.961743",
          "status": "completed"
        },
        "tags": [],
        "outputId": "152ce426-9770-43ae-b2a5-5656121739b6"
      },
      "outputs": [
        {
          "data": {
            "text/html": [
              "<div>\n",
              "<style scoped>\n",
              "    .dataframe tbody tr th:only-of-type {\n",
              "        vertical-align: middle;\n",
              "    }\n",
              "\n",
              "    .dataframe tbody tr th {\n",
              "        vertical-align: top;\n",
              "    }\n",
              "\n",
              "    .dataframe thead th {\n",
              "        text-align: right;\n",
              "    }\n",
              "</style>\n",
              "<table border=\"1\" class=\"dataframe\">\n",
              "  <thead>\n",
              "    <tr style=\"text-align: right;\">\n",
              "      <th></th>\n",
              "      <th>model</th>\n",
              "      <th>min perplexity</th>\n",
              "    </tr>\n",
              "  </thead>\n",
              "  <tbody>\n",
              "    <tr>\n",
              "      <th>0</th>\n",
              "      <td>0</td>\n",
              "      <td>177.169595</td>\n",
              "    </tr>\n",
              "    <tr>\n",
              "      <th>1</th>\n",
              "      <td>1</td>\n",
              "      <td>175.658959</td>\n",
              "    </tr>\n",
              "    <tr>\n",
              "      <th>2</th>\n",
              "      <td>2</td>\n",
              "      <td>205.248571</td>\n",
              "    </tr>\n",
              "    <tr>\n",
              "      <th>3</th>\n",
              "      <td>3</td>\n",
              "      <td>164.441497</td>\n",
              "    </tr>\n",
              "  </tbody>\n",
              "</table>\n",
              "</div>"
            ],
            "text/plain": [
              "   model  min perplexity\n",
              "0      0      177.169595\n",
              "1      1      175.658959\n",
              "2      2      205.248571\n",
              "3      3      164.441497"
            ]
          },
          "execution_count": 38,
          "metadata": {},
          "output_type": "execute_result"
        }
      ],
      "source": [
        "result_df"
      ]
    },
    {
      "cell_type": "code",
      "execution_count": null,
      "id": "8eb7a369",
      "metadata": {
        "execution": {
          "iopub.execute_input": "2024-10-26T22:19:22.856491Z",
          "iopub.status.busy": "2024-10-26T22:19:22.856113Z",
          "iopub.status.idle": "2024-10-26T22:19:22.864812Z",
          "shell.execute_reply": "2024-10-26T22:19:22.863903Z"
        },
        "id": "8eb7a369",
        "papermill": {
          "duration": 0.303424,
          "end_time": "2024-10-26T22:19:22.866568",
          "exception": false,
          "start_time": "2024-10-26T22:19:22.563144",
          "status": "completed"
        },
        "tags": []
      },
      "outputs": [],
      "source": [
        "def generate_sequence(model, starting_seq: str, max_seq_len: int = 128) -> str:\n",
        "    \"\"\"\n",
        "    Реализует метод жадного выбора следующего токена\n",
        "    \"\"\"\n",
        "\n",
        "    # обработка строки starting_seq - приведение к нижнему регистру, удаление знаков препинания\n",
        "    processed_starting_seq = starting_seq.lower().translate(str.maketrans('', '', string.punctuation))\n",
        "    device = \"cpu\"\n",
        "    model.eval()\n",
        "    model = model.to(device)\n",
        "    input_ids = [word2ind[\"<bos>\"]] + [word2ind.get(word, word2ind[\"<unk>\"]) for word in word_tokenize(processed_starting_seq)]\n",
        "    input_ids = torch.LongTensor(input_ids).to(device)\n",
        "\n",
        "    with torch.no_grad():\n",
        "        for i in range(max_seq_len):\n",
        "        # Получает распределение вероятностей для следующего слова от модели:\n",
        "            next_word_dist = model(input_ids)[-1]\n",
        "            next_word = next_word_dist.argmax()\n",
        "            input_ids = torch.cat([input_ids, next_word.unsqueeze(0)])\n",
        "\n",
        "            if next_word.item() == word2ind[\"<eos>\"]:\n",
        "                break\n",
        "\n",
        "    return ' '.join([ind2word.get(idx) for idx in input_ids.numpy()])"
      ]
    },
    {
      "cell_type": "code",
      "execution_count": null,
      "id": "44eeaf9a",
      "metadata": {
        "execution": {
          "iopub.execute_input": "2024-10-26T22:19:23.450182Z",
          "iopub.status.busy": "2024-10-26T22:19:23.449769Z",
          "iopub.status.idle": "2024-10-26T22:19:23.455281Z",
          "shell.execute_reply": "2024-10-26T22:19:23.454376Z"
        },
        "id": "44eeaf9a",
        "papermill": {
          "duration": 0.3005,
          "end_time": "2024-10-26T22:19:23.457134",
          "exception": false,
          "start_time": "2024-10-26T22:19:23.156634",
          "status": "completed"
        },
        "tags": []
      },
      "outputs": [],
      "source": [
        "def generate_sequence_for_each_model(starting_seq):\n",
        "    print(f\"Первые слова: {starting_seq}\")\n",
        "    for i, language_model in enumerate([model, model_2, model_3, model_4], 1):\n",
        "        print(f\"Результат генерации моделью {i}: {generate_sequence(language_model, starting_seq)}\")"
      ]
    },
    {
      "cell_type": "code",
      "execution_count": null,
      "id": "b61118ab",
      "metadata": {
        "execution": {
          "iopub.execute_input": "2024-10-26T22:19:24.042455Z",
          "iopub.status.busy": "2024-10-26T22:19:24.042066Z",
          "iopub.status.idle": "2024-10-26T22:19:25.002702Z",
          "shell.execute_reply": "2024-10-26T22:19:25.001692Z"
        },
        "id": "b61118ab",
        "papermill": {
          "duration": 1.257412,
          "end_time": "2024-10-26T22:19:25.004944",
          "exception": false,
          "start_time": "2024-10-26T22:19:23.747532",
          "status": "completed"
        },
        "tags": [],
        "outputId": "15586718-fe0f-4d83-f697-11f0e4674daf"
      },
      "outputs": [
        {
          "name": "stdout",
          "output_type": "stream",
          "text": [
            "Первые слова: The movie was \n",
            "Результат генерации моделью 1: <bos> the movie was a bit too much <eos>\n",
            "Результат генерации моделью 2: <bos> the movie was a complete waste of time and money <eos>\n",
            "Результат генерации моделью 3: <bos> the movie was a good movie <eos>\n",
            "Результат генерации моделью 4: <bos> the movie was a bit too long and i was very disappointed <eos>\n"
          ]
        }
      ],
      "source": [
        "generate_sequence_for_each_model(\"The movie was \")"
      ]
    },
    {
      "cell_type": "markdown",
      "id": "c2c1612b",
      "metadata": {
        "id": "c2c1612b",
        "papermill": {
          "duration": 0.309527,
          "end_time": "2024-10-26T22:19:25.606662",
          "exception": false,
          "start_time": "2024-10-26T22:19:25.297135",
          "status": "completed"
        },
        "tags": []
      },
      "source": [
        "Результат генерации адекватен для всех моделей,кроме 3"
      ]
    },
    {
      "cell_type": "code",
      "execution_count": null,
      "id": "40d845e7",
      "metadata": {
        "execution": {
          "iopub.execute_input": "2024-10-26T22:19:26.253115Z",
          "iopub.status.busy": "2024-10-26T22:19:26.252744Z",
          "iopub.status.idle": "2024-10-26T22:19:27.034025Z",
          "shell.execute_reply": "2024-10-26T22:19:27.032789Z"
        },
        "id": "40d845e7",
        "papermill": {
          "duration": 1.12167,
          "end_time": "2024-10-26T22:19:27.036103",
          "exception": false,
          "start_time": "2024-10-26T22:19:25.914433",
          "status": "completed"
        },
        "tags": [],
        "outputId": "648a67ff-2160-4914-86d2-34cbfbd84350"
      },
      "outputs": [
        {
          "name": "stdout",
          "output_type": "stream",
          "text": [
            "Первые слова: We want\n",
            "Результат генерации моделью 1: <bos> we want to see the <unk> of the <unk> and the <unk> <eos>\n",
            "Результат генерации моделью 2: <bos> we want to see a movie about a group of friends who are searching for the money <eos>\n",
            "Результат генерации моделью 3: <bos> we want to see a lot of people who have to say that the movie is a good movie <eos>\n",
            "Результат генерации моделью 4: <bos> we want to see a good job in the movie <eos>\n"
          ]
        }
      ],
      "source": [
        "generate_sequence_for_each_model(\"We want\")"
      ]
    },
    {
      "cell_type": "markdown",
      "id": "41660d92",
      "metadata": {
        "id": "41660d92",
        "papermill": {
          "duration": 0.290946,
          "end_time": "2024-10-26T22:19:27.621087",
          "exception": false,
          "start_time": "2024-10-26T22:19:27.330141",
          "status": "completed"
        },
        "tags": []
      },
      "source": [
        "Результат генерации адекватен для всех моделей,кроме 3. Отметим, что результат генерации модели 2 наиболее длинный и сложный"
      ]
    },
    {
      "cell_type": "code",
      "execution_count": null,
      "id": "1e41c9cb",
      "metadata": {
        "execution": {
          "iopub.execute_input": "2024-10-26T22:19:28.207778Z",
          "iopub.status.busy": "2024-10-26T22:19:28.207394Z",
          "iopub.status.idle": "2024-10-26T22:19:28.910363Z",
          "shell.execute_reply": "2024-10-26T22:19:28.909361Z"
        },
        "id": "1e41c9cb",
        "papermill": {
          "duration": 0.999726,
          "end_time": "2024-10-26T22:19:28.912487",
          "exception": false,
          "start_time": "2024-10-26T22:19:27.912761",
          "status": "completed"
        },
        "tags": [],
        "outputId": "08e35e82-f168-45b8-c36f-07749520f970"
      },
      "outputs": [
        {
          "name": "stdout",
          "output_type": "stream",
          "text": [
            "Первые слова: The best actress\n",
            "Результат генерации моделью 1: <bos> the best actress ever <eos>\n",
            "Результат генерации моделью 2: <bos> the best actress in the movie were so distracting that i was surprised at how bad it was <eos>\n",
            "Результат генерации моделью 3: <bos> the best actress is that the film is a good movie <eos>\n",
            "Результат генерации моделью 4: <bos> the best actress in the movie is the best of the film <eos>\n"
          ]
        }
      ],
      "source": [
        "generate_sequence_for_each_model(\"The best actress\")"
      ]
    },
    {
      "cell_type": "markdown",
      "id": "95f09f71",
      "metadata": {
        "id": "95f09f71",
        "papermill": {
          "duration": 0.296227,
          "end_time": "2024-10-26T22:19:29.505308",
          "exception": false,
          "start_time": "2024-10-26T22:19:29.209081",
          "status": "completed"
        },
        "tags": []
      },
      "source": [
        "Только модель 2 дает адекватный результат"
      ]
    },
    {
      "cell_type": "code",
      "execution_count": null,
      "id": "6842c959",
      "metadata": {
        "execution": {
          "iopub.execute_input": "2024-10-26T22:19:30.092883Z",
          "iopub.status.busy": "2024-10-26T22:19:30.092491Z",
          "iopub.status.idle": "2024-10-26T22:19:30.789479Z",
          "shell.execute_reply": "2024-10-26T22:19:30.788288Z"
        },
        "id": "6842c959",
        "papermill": {
          "duration": 0.994156,
          "end_time": "2024-10-26T22:19:30.791624",
          "exception": false,
          "start_time": "2024-10-26T22:19:29.797468",
          "status": "completed"
        },
        "tags": [],
        "outputId": "2e52c66a-3436-4b7d-bd74-64be549b47aa"
      },
      "outputs": [
        {
          "name": "stdout",
          "output_type": "stream",
          "text": [
            "Первые слова: I have watched\n",
            "Результат генерации моделью 1: <bos> i have watched this movie and i have seen it a few times <eos>\n",
            "Результат генерации моделью 2: <bos> i have watched this movie a couple of times and i still find it fresh to a <unk> <eos>\n",
            "Результат генерации моделью 3: <bos> i have watched this movie <eos>\n",
            "Результат генерации моделью 4: <bos> i have watched this movie on dvd <eos>\n"
          ]
        }
      ],
      "source": [
        "generate_sequence_for_each_model(\"I have watched\")"
      ]
    },
    {
      "cell_type": "markdown",
      "id": "13dd89be",
      "metadata": {
        "id": "13dd89be",
        "papermill": {
          "duration": 0.292832,
          "end_time": "2024-10-26T22:19:31.428680",
          "exception": false,
          "start_time": "2024-10-26T22:19:31.135848",
          "status": "completed"
        },
        "tags": []
      },
      "source": [
        "Все модели дают адекватный результат. Отметим, что результат генерации модели 2 наиболее длинный и сложный"
      ]
    },
    {
      "cell_type": "code",
      "execution_count": null,
      "id": "0e3ceb46",
      "metadata": {
        "execution": {
          "iopub.execute_input": "2024-10-26T22:19:32.017119Z",
          "iopub.status.busy": "2024-10-26T22:19:32.016645Z",
          "iopub.status.idle": "2024-10-26T22:19:32.318849Z",
          "shell.execute_reply": "2024-10-26T22:19:32.317741Z"
        },
        "id": "0e3ceb46",
        "papermill": {
          "duration": 0.599169,
          "end_time": "2024-10-26T22:19:32.321020",
          "exception": false,
          "start_time": "2024-10-26T22:19:31.721851",
          "status": "completed"
        },
        "tags": [],
        "outputId": "f21e2db4-2900-46b6-9d94-7086b7e85333"
      },
      "outputs": [
        {
          "name": "stdout",
          "output_type": "stream",
          "text": [
            "Первые слова: I like\n",
            "Результат генерации моделью 1: <bos> i like the movie and i have to say that i was very disappointed <eos>\n",
            "Результат генерации моделью 2: <bos> i like the idea of the movie <eos>\n",
            "Результат генерации моделью 3: <bos> i like the movie <eos>\n",
            "Результат генерации моделью 4: <bos> i like the movie and i think it was a great movie <eos>\n"
          ]
        }
      ],
      "source": [
        "generate_sequence_for_each_model(\"I like\")"
      ]
    },
    {
      "cell_type": "markdown",
      "id": "3c4e0638",
      "metadata": {
        "id": "3c4e0638",
        "papermill": {
          "duration": 0.291001,
          "end_time": "2024-10-26T22:19:32.904087",
          "exception": false,
          "start_time": "2024-10-26T22:19:32.613086",
          "status": "completed"
        },
        "tags": []
      },
      "source": [
        "Логики мало по всем моделям"
      ]
    },
    {
      "cell_type": "code",
      "execution_count": null,
      "id": "09cf51fe",
      "metadata": {
        "execution": {
          "iopub.execute_input": "2024-10-26T22:19:33.493113Z",
          "iopub.status.busy": "2024-10-26T22:19:33.492250Z",
          "iopub.status.idle": "2024-10-26T22:19:33.596852Z",
          "shell.execute_reply": "2024-10-26T22:19:33.595893Z"
        },
        "id": "09cf51fe",
        "papermill": {
          "duration": 0.400119,
          "end_time": "2024-10-26T22:19:33.598972",
          "exception": false,
          "start_time": "2024-10-26T22:19:33.198853",
          "status": "completed"
        },
        "tags": [],
        "outputId": "8be88ef6-ac90-4d0e-b088-664ef6e1f787"
      },
      "outputs": [
        {
          "name": "stdout",
          "output_type": "stream",
          "text": [
            "Первые слова: hero of that film\n",
            "Результат генерации моделью 1: <bos> hero of that film is a very good movie <eos>\n",
            "Результат генерации моделью 2: <bos> hero of that film <eos>\n",
            "Результат генерации моделью 3: <bos> hero of that film is a good movie <eos>\n",
            "Результат генерации моделью 4: <bos> hero of that film <eos>\n"
          ]
        }
      ],
      "source": [
        "generate_sequence_for_each_model(\"hero of that film\")"
      ]
    },
    {
      "cell_type": "markdown",
      "id": "05fc370c",
      "metadata": {
        "id": "05fc370c",
        "papermill": {
          "duration": 0.296033,
          "end_time": "2024-10-26T22:19:34.198525",
          "exception": false,
          "start_time": "2024-10-26T22:19:33.902492",
          "status": "completed"
        },
        "tags": []
      },
      "source": [
        "Логики мало по всем моделям, кроме 2"
      ]
    },
    {
      "cell_type": "markdown",
      "id": "9326f509",
      "metadata": {
        "id": "9326f509",
        "papermill": {
          "duration": 0.339148,
          "end_time": "2024-10-26T22:19:34.831188",
          "exception": false,
          "start_time": "2024-10-26T22:19:34.492040",
          "status": "completed"
        },
        "tags": []
      },
      "source": [
        "Вывод- все модели дают не очень хороший результат генерации, однако модель LSTM с повышенным размером скрытого слоя наиболее сложная и адекватная. Есть смысл улучшить параметры вокруг этой модели, что и будет проведено ниже."
      ]
    },
    {
      "cell_type": "markdown",
      "id": "417b2f0c",
      "metadata": {
        "id": "417b2f0c",
        "papermill": {
          "duration": 0.29086,
          "end_time": "2024-10-26T22:19:35.416530",
          "exception": false,
          "start_time": "2024-10-26T22:19:35.125670",
          "status": "completed"
        },
        "tags": []
      },
      "source": [
        "### Эксперимент 2.1"
      ]
    },
    {
      "cell_type": "markdown",
      "id": "25d3fb9a",
      "metadata": {
        "id": "25d3fb9a",
        "papermill": {
          "duration": 0.302471,
          "end_time": "2024-10-26T22:19:36.022581",
          "exception": false,
          "start_time": "2024-10-26T22:19:35.720110",
          "status": "completed"
        },
        "tags": []
      },
      "source": [
        "Увеличим размер скрытого состояния hidden_dim=1536"
      ]
    },
    {
      "cell_type": "code",
      "execution_count": null,
      "id": "570558fc",
      "metadata": {
        "execution": {
          "iopub.execute_input": "2024-10-26T22:19:36.612692Z",
          "iopub.status.busy": "2024-10-26T22:19:36.611732Z",
          "iopub.status.idle": "2024-10-26T22:19:38.032582Z",
          "shell.execute_reply": "2024-10-26T22:19:38.031789Z"
        },
        "id": "570558fc",
        "papermill": {
          "duration": 1.7177,
          "end_time": "2024-10-26T22:19:38.034874",
          "exception": false,
          "start_time": "2024-10-26T22:19:36.317174",
          "status": "completed"
        },
        "tags": []
      },
      "outputs": [],
      "source": [
        "model_2 = LanguageModel(1536, len(vocab)).to(device)\n",
        "criterion = nn.CrossEntropyLoss(ignore_index=word2ind['<pad>'])\n",
        "optimizer = torch.optim.Adam(model_2.parameters())\n",
        "scheduler = StepLR(optimizer, step_size=1, gamma=0.8)"
      ]
    },
    {
      "cell_type": "code",
      "execution_count": null,
      "id": "ee093108",
      "metadata": {
        "execution": {
          "iopub.execute_input": "2024-10-26T22:19:38.628026Z",
          "iopub.status.busy": "2024-10-26T22:19:38.627656Z",
          "iopub.status.idle": "2024-10-27T00:46:19.413721Z",
          "shell.execute_reply": "2024-10-27T00:46:19.412785Z"
        },
        "id": "ee093108",
        "papermill": {
          "duration": 8801.083889,
          "end_time": "2024-10-27T00:46:19.415830",
          "exception": false,
          "start_time": "2024-10-26T22:19:38.331941",
          "status": "completed"
        },
        "tags": [],
        "colab": {
          "referenced_widgets": [
            "b0991a3457434e93a3eaf55192ac8083",
            "2c1c14a047684b28aab2a9bc48df356a",
            "e487abb0402741d498299ee6c324a70d",
            "ca890167841f4e8985ad73d59e6a3311",
            "62c751c5dc6c4cba95d5eb6a3f10c730",
            "2ca38240929044e3bc03e7db1d51329d",
            "809f1f6087d449fbbaf3c5d6b26acbc5",
            "50a803b808c44112b46a97f16d4b40e1",
            "5eff4835b76c4e049a229e252e434537",
            "897d560d4848405e860aba9375d8c138",
            "c64e4aac099a4a0aa1c2d6826de2f70c",
            "065172d306b6439eb410fee1b743fe44",
            "3aeb00ef6c874184ab4116be85246206",
            "7595a93f9e0d442c9c27373e73d55b71",
            "2985e822b4484065bb10a83af20ef61a",
            "c84e6e417412474982d0412fb1a0c62d",
            "68cf58f412af46ad8bcc1e49c4bbefce",
            "5bbfbc839e6a4f9a9b5d98e18eee05e4",
            "6934092ab6a148f0b343143b3c568979",
            "48927f21234a4ab3bccf6603ab22dc4e",
            "d9f5075977fe455aa6093f3eb352c21a",
            "1e7f81f4882b4dfe958f276eaafa839c",
            "af488ccc5e81496eab4c09e9a19c33fd",
            "0ea186f8e39b42ea91dc5c322dde3e30",
            "db5d6c9afbf449e8b55c6ca673e70eed",
            "7bf66cd6f077499bafdedbb82bb7db47",
            "aad25697af5a4ae1afb76f8e3803c652",
            "a98200f0f6bc4f56865dfc676434adde",
            "867b5d189fc946339097b5d487fd8e22",
            "ef0cca15671544cf80e2e4b475c492c0",
            "6bb4620ed3114749923521a05bbdad81",
            "53cebdaea9f74d988b3bde8b72e8ad66",
            "750cb1b09dfc4e12821748f64e30ec59",
            "a6cf55e5134e476c8515c98dc0c72741",
            "52eefcf045164cf1b599d596bfe21904",
            "0543f8ac46fd4d3eb723dfd6c942bc3a",
            "1590d7f28b384d7293191486d3db0965",
            "2be10e860da54aada173014a00600b75",
            "490a5d564cf84cfbb2a30838b394497b",
            "fddba9218117472f850860a9a99aecac",
            "e7dab65775a94fc38b67c2b1d12b2f96",
            "92e0d4ce67ac423ea033458177499572",
            "ac4d67c51ac34508984d91e5a215f6cb"
          ]
        },
        "outputId": "ba7b3648-15f9-4526-b006-399b2ca15746"
      },
      "outputs": [
        {
          "data": {
            "application/vnd.jupyter.widget-view+json": {
              "model_id": "b0991a3457434e93a3eaf55192ac8083",
              "version_major": 2,
              "version_minor": 0
            },
            "text/plain": [
              "epoch:   0%|          | 0/21 [00:00<?, ?it/s]"
            ]
          },
          "metadata": {},
          "output_type": "display_data"
        },
        {
          "data": {
            "application/vnd.jupyter.widget-view+json": {
              "model_id": "2c1c14a047684b28aab2a9bc48df356a",
              "version_major": 2,
              "version_minor": 0
            },
            "text/plain": [
              "train:   0%|          | 0/1243 [00:00<?, ?it/s]"
            ]
          },
          "metadata": {},
          "output_type": "display_data"
        },
        {
          "data": {
            "application/vnd.jupyter.widget-view+json": {
              "model_id": "e487abb0402741d498299ee6c324a70d",
              "version_major": 2,
              "version_minor": 0
            },
            "text/plain": [
              "validation:   0%|          | 0/156 [00:00<?, ?it/s]"
            ]
          },
          "metadata": {},
          "output_type": "display_data"
        },
        {
          "data": {
            "application/vnd.jupyter.widget-view+json": {
              "model_id": "ca890167841f4e8985ad73d59e6a3311",
              "version_major": 2,
              "version_minor": 0
            },
            "text/plain": [
              "train:   0%|          | 0/1243 [00:00<?, ?it/s]"
            ]
          },
          "metadata": {},
          "output_type": "display_data"
        },
        {
          "data": {
            "application/vnd.jupyter.widget-view+json": {
              "model_id": "62c751c5dc6c4cba95d5eb6a3f10c730",
              "version_major": 2,
              "version_minor": 0
            },
            "text/plain": [
              "validation:   0%|          | 0/156 [00:00<?, ?it/s]"
            ]
          },
          "metadata": {},
          "output_type": "display_data"
        },
        {
          "data": {
            "application/vnd.jupyter.widget-view+json": {
              "model_id": "2ca38240929044e3bc03e7db1d51329d",
              "version_major": 2,
              "version_minor": 0
            },
            "text/plain": [
              "train:   0%|          | 0/1243 [00:00<?, ?it/s]"
            ]
          },
          "metadata": {},
          "output_type": "display_data"
        },
        {
          "data": {
            "application/vnd.jupyter.widget-view+json": {
              "model_id": "809f1f6087d449fbbaf3c5d6b26acbc5",
              "version_major": 2,
              "version_minor": 0
            },
            "text/plain": [
              "validation:   0%|          | 0/156 [00:00<?, ?it/s]"
            ]
          },
          "metadata": {},
          "output_type": "display_data"
        },
        {
          "data": {
            "application/vnd.jupyter.widget-view+json": {
              "model_id": "50a803b808c44112b46a97f16d4b40e1",
              "version_major": 2,
              "version_minor": 0
            },
            "text/plain": [
              "train:   0%|          | 0/1243 [00:00<?, ?it/s]"
            ]
          },
          "metadata": {},
          "output_type": "display_data"
        },
        {
          "data": {
            "application/vnd.jupyter.widget-view+json": {
              "model_id": "5eff4835b76c4e049a229e252e434537",
              "version_major": 2,
              "version_minor": 0
            },
            "text/plain": [
              "validation:   0%|          | 0/156 [00:00<?, ?it/s]"
            ]
          },
          "metadata": {},
          "output_type": "display_data"
        },
        {
          "data": {
            "application/vnd.jupyter.widget-view+json": {
              "model_id": "897d560d4848405e860aba9375d8c138",
              "version_major": 2,
              "version_minor": 0
            },
            "text/plain": [
              "train:   0%|          | 0/1243 [00:00<?, ?it/s]"
            ]
          },
          "metadata": {},
          "output_type": "display_data"
        },
        {
          "data": {
            "application/vnd.jupyter.widget-view+json": {
              "model_id": "c64e4aac099a4a0aa1c2d6826de2f70c",
              "version_major": 2,
              "version_minor": 0
            },
            "text/plain": [
              "validation:   0%|          | 0/156 [00:00<?, ?it/s]"
            ]
          },
          "metadata": {},
          "output_type": "display_data"
        },
        {
          "data": {
            "application/vnd.jupyter.widget-view+json": {
              "model_id": "065172d306b6439eb410fee1b743fe44",
              "version_major": 2,
              "version_minor": 0
            },
            "text/plain": [
              "train:   0%|          | 0/1243 [00:00<?, ?it/s]"
            ]
          },
          "metadata": {},
          "output_type": "display_data"
        },
        {
          "data": {
            "application/vnd.jupyter.widget-view+json": {
              "model_id": "3aeb00ef6c874184ab4116be85246206",
              "version_major": 2,
              "version_minor": 0
            },
            "text/plain": [
              "validation:   0%|          | 0/156 [00:00<?, ?it/s]"
            ]
          },
          "metadata": {},
          "output_type": "display_data"
        },
        {
          "data": {
            "application/vnd.jupyter.widget-view+json": {
              "model_id": "7595a93f9e0d442c9c27373e73d55b71",
              "version_major": 2,
              "version_minor": 0
            },
            "text/plain": [
              "train:   0%|          | 0/1243 [00:00<?, ?it/s]"
            ]
          },
          "metadata": {},
          "output_type": "display_data"
        },
        {
          "data": {
            "application/vnd.jupyter.widget-view+json": {
              "model_id": "2985e822b4484065bb10a83af20ef61a",
              "version_major": 2,
              "version_minor": 0
            },
            "text/plain": [
              "validation:   0%|          | 0/156 [00:00<?, ?it/s]"
            ]
          },
          "metadata": {},
          "output_type": "display_data"
        },
        {
          "data": {
            "application/vnd.jupyter.widget-view+json": {
              "model_id": "c84e6e417412474982d0412fb1a0c62d",
              "version_major": 2,
              "version_minor": 0
            },
            "text/plain": [
              "train:   0%|          | 0/1243 [00:00<?, ?it/s]"
            ]
          },
          "metadata": {},
          "output_type": "display_data"
        },
        {
          "data": {
            "application/vnd.jupyter.widget-view+json": {
              "model_id": "68cf58f412af46ad8bcc1e49c4bbefce",
              "version_major": 2,
              "version_minor": 0
            },
            "text/plain": [
              "validation:   0%|          | 0/156 [00:00<?, ?it/s]"
            ]
          },
          "metadata": {},
          "output_type": "display_data"
        },
        {
          "data": {
            "application/vnd.jupyter.widget-view+json": {
              "model_id": "5bbfbc839e6a4f9a9b5d98e18eee05e4",
              "version_major": 2,
              "version_minor": 0
            },
            "text/plain": [
              "train:   0%|          | 0/1243 [00:00<?, ?it/s]"
            ]
          },
          "metadata": {},
          "output_type": "display_data"
        },
        {
          "data": {
            "application/vnd.jupyter.widget-view+json": {
              "model_id": "6934092ab6a148f0b343143b3c568979",
              "version_major": 2,
              "version_minor": 0
            },
            "text/plain": [
              "validation:   0%|          | 0/156 [00:00<?, ?it/s]"
            ]
          },
          "metadata": {},
          "output_type": "display_data"
        },
        {
          "data": {
            "application/vnd.jupyter.widget-view+json": {
              "model_id": "48927f21234a4ab3bccf6603ab22dc4e",
              "version_major": 2,
              "version_minor": 0
            },
            "text/plain": [
              "train:   0%|          | 0/1243 [00:00<?, ?it/s]"
            ]
          },
          "metadata": {},
          "output_type": "display_data"
        },
        {
          "data": {
            "application/vnd.jupyter.widget-view+json": {
              "model_id": "d9f5075977fe455aa6093f3eb352c21a",
              "version_major": 2,
              "version_minor": 0
            },
            "text/plain": [
              "validation:   0%|          | 0/156 [00:00<?, ?it/s]"
            ]
          },
          "metadata": {},
          "output_type": "display_data"
        },
        {
          "data": {
            "application/vnd.jupyter.widget-view+json": {
              "model_id": "1e7f81f4882b4dfe958f276eaafa839c",
              "version_major": 2,
              "version_minor": 0
            },
            "text/plain": [
              "train:   0%|          | 0/1243 [00:00<?, ?it/s]"
            ]
          },
          "metadata": {},
          "output_type": "display_data"
        },
        {
          "data": {
            "application/vnd.jupyter.widget-view+json": {
              "model_id": "af488ccc5e81496eab4c09e9a19c33fd",
              "version_major": 2,
              "version_minor": 0
            },
            "text/plain": [
              "validation:   0%|          | 0/156 [00:00<?, ?it/s]"
            ]
          },
          "metadata": {},
          "output_type": "display_data"
        },
        {
          "data": {
            "application/vnd.jupyter.widget-view+json": {
              "model_id": "0ea186f8e39b42ea91dc5c322dde3e30",
              "version_major": 2,
              "version_minor": 0
            },
            "text/plain": [
              "train:   0%|          | 0/1243 [00:00<?, ?it/s]"
            ]
          },
          "metadata": {},
          "output_type": "display_data"
        },
        {
          "data": {
            "application/vnd.jupyter.widget-view+json": {
              "model_id": "db5d6c9afbf449e8b55c6ca673e70eed",
              "version_major": 2,
              "version_minor": 0
            },
            "text/plain": [
              "validation:   0%|          | 0/156 [00:00<?, ?it/s]"
            ]
          },
          "metadata": {},
          "output_type": "display_data"
        },
        {
          "data": {
            "application/vnd.jupyter.widget-view+json": {
              "model_id": "7bf66cd6f077499bafdedbb82bb7db47",
              "version_major": 2,
              "version_minor": 0
            },
            "text/plain": [
              "train:   0%|          | 0/1243 [00:00<?, ?it/s]"
            ]
          },
          "metadata": {},
          "output_type": "display_data"
        },
        {
          "data": {
            "application/vnd.jupyter.widget-view+json": {
              "model_id": "aad25697af5a4ae1afb76f8e3803c652",
              "version_major": 2,
              "version_minor": 0
            },
            "text/plain": [
              "validation:   0%|          | 0/156 [00:00<?, ?it/s]"
            ]
          },
          "metadata": {},
          "output_type": "display_data"
        },
        {
          "data": {
            "application/vnd.jupyter.widget-view+json": {
              "model_id": "a98200f0f6bc4f56865dfc676434adde",
              "version_major": 2,
              "version_minor": 0
            },
            "text/plain": [
              "train:   0%|          | 0/1243 [00:00<?, ?it/s]"
            ]
          },
          "metadata": {},
          "output_type": "display_data"
        },
        {
          "data": {
            "application/vnd.jupyter.widget-view+json": {
              "model_id": "867b5d189fc946339097b5d487fd8e22",
              "version_major": 2,
              "version_minor": 0
            },
            "text/plain": [
              "validation:   0%|          | 0/156 [00:00<?, ?it/s]"
            ]
          },
          "metadata": {},
          "output_type": "display_data"
        },
        {
          "data": {
            "application/vnd.jupyter.widget-view+json": {
              "model_id": "ef0cca15671544cf80e2e4b475c492c0",
              "version_major": 2,
              "version_minor": 0
            },
            "text/plain": [
              "train:   0%|          | 0/1243 [00:00<?, ?it/s]"
            ]
          },
          "metadata": {},
          "output_type": "display_data"
        },
        {
          "data": {
            "application/vnd.jupyter.widget-view+json": {
              "model_id": "6bb4620ed3114749923521a05bbdad81",
              "version_major": 2,
              "version_minor": 0
            },
            "text/plain": [
              "validation:   0%|          | 0/156 [00:00<?, ?it/s]"
            ]
          },
          "metadata": {},
          "output_type": "display_data"
        },
        {
          "data": {
            "application/vnd.jupyter.widget-view+json": {
              "model_id": "53cebdaea9f74d988b3bde8b72e8ad66",
              "version_major": 2,
              "version_minor": 0
            },
            "text/plain": [
              "train:   0%|          | 0/1243 [00:00<?, ?it/s]"
            ]
          },
          "metadata": {},
          "output_type": "display_data"
        },
        {
          "data": {
            "application/vnd.jupyter.widget-view+json": {
              "model_id": "750cb1b09dfc4e12821748f64e30ec59",
              "version_major": 2,
              "version_minor": 0
            },
            "text/plain": [
              "validation:   0%|          | 0/156 [00:00<?, ?it/s]"
            ]
          },
          "metadata": {},
          "output_type": "display_data"
        },
        {
          "data": {
            "application/vnd.jupyter.widget-view+json": {
              "model_id": "a6cf55e5134e476c8515c98dc0c72741",
              "version_major": 2,
              "version_minor": 0
            },
            "text/plain": [
              "train:   0%|          | 0/1243 [00:00<?, ?it/s]"
            ]
          },
          "metadata": {},
          "output_type": "display_data"
        },
        {
          "data": {
            "application/vnd.jupyter.widget-view+json": {
              "model_id": "52eefcf045164cf1b599d596bfe21904",
              "version_major": 2,
              "version_minor": 0
            },
            "text/plain": [
              "validation:   0%|          | 0/156 [00:00<?, ?it/s]"
            ]
          },
          "metadata": {},
          "output_type": "display_data"
        },
        {
          "data": {
            "application/vnd.jupyter.widget-view+json": {
              "model_id": "0543f8ac46fd4d3eb723dfd6c942bc3a",
              "version_major": 2,
              "version_minor": 0
            },
            "text/plain": [
              "train:   0%|          | 0/1243 [00:00<?, ?it/s]"
            ]
          },
          "metadata": {},
          "output_type": "display_data"
        },
        {
          "data": {
            "application/vnd.jupyter.widget-view+json": {
              "model_id": "1590d7f28b384d7293191486d3db0965",
              "version_major": 2,
              "version_minor": 0
            },
            "text/plain": [
              "validation:   0%|          | 0/156 [00:00<?, ?it/s]"
            ]
          },
          "metadata": {},
          "output_type": "display_data"
        },
        {
          "data": {
            "application/vnd.jupyter.widget-view+json": {
              "model_id": "2be10e860da54aada173014a00600b75",
              "version_major": 2,
              "version_minor": 0
            },
            "text/plain": [
              "train:   0%|          | 0/1243 [00:00<?, ?it/s]"
            ]
          },
          "metadata": {},
          "output_type": "display_data"
        },
        {
          "data": {
            "application/vnd.jupyter.widget-view+json": {
              "model_id": "490a5d564cf84cfbb2a30838b394497b",
              "version_major": 2,
              "version_minor": 0
            },
            "text/plain": [
              "validation:   0%|          | 0/156 [00:00<?, ?it/s]"
            ]
          },
          "metadata": {},
          "output_type": "display_data"
        },
        {
          "data": {
            "application/vnd.jupyter.widget-view+json": {
              "model_id": "fddba9218117472f850860a9a99aecac",
              "version_major": 2,
              "version_minor": 0
            },
            "text/plain": [
              "train:   0%|          | 0/1243 [00:00<?, ?it/s]"
            ]
          },
          "metadata": {},
          "output_type": "display_data"
        },
        {
          "data": {
            "application/vnd.jupyter.widget-view+json": {
              "model_id": "e7dab65775a94fc38b67c2b1d12b2f96",
              "version_major": 2,
              "version_minor": 0
            },
            "text/plain": [
              "validation:   0%|          | 0/156 [00:00<?, ?it/s]"
            ]
          },
          "metadata": {},
          "output_type": "display_data"
        },
        {
          "data": {
            "application/vnd.jupyter.widget-view+json": {
              "model_id": "92e0d4ce67ac423ea033458177499572",
              "version_major": 2,
              "version_minor": 0
            },
            "text/plain": [
              "train:   0%|          | 0/1243 [00:00<?, ?it/s]"
            ]
          },
          "metadata": {},
          "output_type": "display_data"
        },
        {
          "data": {
            "application/vnd.jupyter.widget-view+json": {
              "model_id": "ac4d67c51ac34508984d91e5a215f6cb",
              "version_major": 2,
              "version_minor": 0
            },
            "text/plain": [
              "validation:   0%|          | 0/156 [00:00<?, ?it/s]"
            ]
          },
          "metadata": {},
          "output_type": "display_data"
        }
      ],
      "source": [
        "perplexities2, losses2 = train_model(\n",
        "    model_2, criterion, optimizer, scheduler,\n",
        "    train_dataloader, eval_dataloader, epochs=21\n",
        ")"
      ]
    },
    {
      "cell_type": "code",
      "execution_count": null,
      "id": "2c41e053",
      "metadata": {
        "execution": {
          "iopub.execute_input": "2024-10-27T00:46:20.096274Z",
          "iopub.status.busy": "2024-10-27T00:46:20.095878Z",
          "iopub.status.idle": "2024-10-27T00:46:20.384270Z",
          "shell.execute_reply": "2024-10-27T00:46:20.383344Z"
        },
        "id": "2c41e053",
        "papermill": {
          "duration": 0.595995,
          "end_time": "2024-10-27T00:46:20.386173",
          "exception": false,
          "start_time": "2024-10-27T00:46:19.790178",
          "status": "completed"
        },
        "tags": [],
        "outputId": "0319e780-3f4c-4311-915c-1ec52e076b78"
      },
      "outputs": [
        {
          "data": {
            "image/png": "[encoded data removed]",
            "text/plain": [
              "<Figure size 640x480 with 1 Axes>"
            ]
          },
          "metadata": {},
          "output_type": "display_data"
        }
      ],
      "source": [
        "plt.plot(np.arange(len(perplexities2)), perplexities2)\n",
        "plt.title('Perplexity')\n",
        "plt.xlabel(\"epoch\")\n",
        "plt.show()"
      ]
    },
    {
      "cell_type": "markdown",
      "id": "798d6f46",
      "metadata": {
        "id": "798d6f46",
        "papermill": {
          "duration": 0.303648,
          "end_time": "2024-10-27T00:46:20.991712",
          "exception": false,
          "start_time": "2024-10-27T00:46:20.688064",
          "status": "completed"
        },
        "tags": []
      },
      "source": [
        "### Эксперимент 2.2"
      ]
    },
    {
      "cell_type": "markdown",
      "id": "c841fccd",
      "metadata": {
        "id": "c841fccd",
        "papermill": {
          "duration": 0.301454,
          "end_time": "2024-10-27T00:46:21.598798",
          "exception": false,
          "start_time": "2024-10-27T00:46:21.297344",
          "status": "completed"
        },
        "tags": []
      },
      "source": [
        "Размер скрытого состояния hidden_dim=1536+увеличим кол-во линейных слоев после LSTM"
      ]
    },
    {
      "cell_type": "code",
      "execution_count": null,
      "id": "6c626b03",
      "metadata": {
        "execution": {
          "iopub.execute_input": "2024-10-27T00:46:22.204617Z",
          "iopub.status.busy": "2024-10-27T00:46:22.204231Z",
          "iopub.status.idle": "2024-10-27T00:46:22.212548Z",
          "shell.execute_reply": "2024-10-27T00:46:22.211710Z"
        },
        "id": "6c626b03",
        "papermill": {
          "duration": 0.314271,
          "end_time": "2024-10-27T00:46:22.214444",
          "exception": false,
          "start_time": "2024-10-27T00:46:21.900173",
          "status": "completed"
        },
        "tags": []
      },
      "outputs": [],
      "source": [
        "class LanguageModel_3(nn.Module):\n",
        "    def __init__(self, hidden_dim, vocab_size):\n",
        "        super().__init__()\n",
        "        self.embedding = nn.Embedding(vocab_size, hidden_dim)\n",
        "        self.lstm = nn.LSTM(hidden_dim, hidden_dim, batch_first=True)\n",
        "        self.linear_up = nn.Linear(hidden_dim, 2 * hidden_dim)\n",
        "        self.linear_down = nn.Linear(2 * hidden_dim, hidden_dim)\n",
        "        self.projection = nn.Linear(hidden_dim, vocab_size)\n",
        "\n",
        "        self.non_linear = nn.Tanh()\n",
        "        self.dropout = nn.Dropout(0.2)\n",
        "\n",
        "    def forward(self, input_batch: torch.Tensor) -> torch.Tensor:\n",
        "        embeddings = self.embedding(input_batch)\n",
        "        output, _ = self.lstm(embeddings)\n",
        "        output = self.dropout(self.non_linear(self.linear_up(output)))\n",
        "        output = self.dropout(self.non_linear(self.linear_down(output)))\n",
        "        prediction = self.projection(output)\n",
        "\n",
        "        return prediction"
      ]
    },
    {
      "cell_type": "code",
      "execution_count": null,
      "id": "16bb38de",
      "metadata": {
        "execution": {
          "iopub.execute_input": "2024-10-27T00:46:22.819430Z",
          "iopub.status.busy": "2024-10-27T00:46:22.819044Z",
          "iopub.status.idle": "2024-10-27T00:46:24.265374Z",
          "shell.execute_reply": "2024-10-27T00:46:24.264597Z"
        },
        "id": "16bb38de",
        "papermill": {
          "duration": 1.75153,
          "end_time": "2024-10-27T00:46:24.267676",
          "exception": false,
          "start_time": "2024-10-27T00:46:22.516146",
          "status": "completed"
        },
        "tags": []
      },
      "outputs": [],
      "source": [
        "model_3 = LanguageModel_3(1536, len(vocab)).to(device)\n",
        "criterion = nn.CrossEntropyLoss(ignore_index=word2ind['<pad>'])\n",
        "optimizer = torch.optim.Adam(model_3.parameters())\n",
        "scheduler = StepLR(optimizer, step_size=1, gamma=0.8)"
      ]
    },
    {
      "cell_type": "code",
      "execution_count": null,
      "id": "354c21fb",
      "metadata": {
        "execution": {
          "iopub.execute_input": "2024-10-27T00:46:24.931268Z",
          "iopub.status.busy": "2024-10-27T00:46:24.930879Z",
          "iopub.status.idle": "2024-10-27T03:21:59.368176Z",
          "shell.execute_reply": "2024-10-27T03:21:59.367116Z"
        },
        "id": "354c21fb",
        "papermill": {
          "duration": 9334.797869,
          "end_time": "2024-10-27T03:21:59.370508",
          "exception": false,
          "start_time": "2024-10-27T00:46:24.572639",
          "status": "completed"
        },
        "tags": [],
        "colab": {
          "referenced_widgets": [
            "8e53ae795bef4d6a9f34313d842acab1",
            "b63047aae0e34658bf9226a42c44dbe4",
            "62366d5e0c7f434db149f35b2d556f58",
            "6d8da7c59aaa4ecfb09f2ddbd1d90ab6",
            "45a3ede99bb64b148432cb0c8e421d4e",
            "8ff3495db8c74293a501853d87477b5a",
            "e9d1bc1048f74310b70784b2bfa03485",
            "7c39f24049114bad832d5b68c9183dec",
            "64b96e618fe64eff9ae77b9c2e3c2305",
            "6612a80f1a984a27806a04850f46a639",
            "191174214b224a3682c2b66d47b96c73",
            "e715e125f0204c52a82509ca73076e62",
            "e3f7054217f54cacbef425f3c060617e",
            "67799b0dda314627b61d866ea9c592a1",
            "d13180fac25b4d5b9514fc814712ab48",
            "970738d20e7f4deb82e08df05cf7a269",
            "3ec48c1f19544dd9a156adb7d6208867",
            "e6707d8859214d4ebf79fbb5aed1b7bd",
            "813368cd2d9f47399c3f5f6b2e7c5e31",
            "dc50e9fcaf574881b790caf256302d3a",
            "58545275f9174b8ea4b5a59e1dcee018",
            "b6abbdb845664626959ae6ef7383a1d8",
            "e12009a7d8e64895954c66bb09d1cb68",
            "ec6133aca3c1406faeb4efcd04d5a0d4",
            "2de7508107fa42d3b85532e4663aae32",
            "2c1760210a4c4bba820b73f2741d5809",
            "d4060bc795cf4fa0b4139736c8066b9f",
            "50c8e154a3464f4d82b9dde83570af42",
            "a8f92a5ff9094b8aa7305e3d226353ee",
            "74127f043b524d41bcaa70a0898a056c",
            "c10e7faf26914258bb179143f6f4ba4f",
            "fef0a8e2af48483fac5bf14fbc77bed2",
            "e414309378ff4580a06c5ccc455d135b",
            "572a646d01f94da59337b3ac778cfeb4",
            "0b1bfd664b9b4ce489f89bdd00fc9ee0",
            "0922e81b84254c8e84b51957b5cf4b89",
            "307feb19d0b4472dae3ba5f888ca65dc",
            "66e7d92c36804ed985067039536f406f",
            "ee0500dd56f44aa1b1f46d85b451b7a1",
            "98dc17e865eb4d98bdc6e247f71a01b8",
            "eca523d888924afb8654adf798274cbd",
            "105b1049c1ca4c7290fbec3238329490",
            "6d1cce9631b144a8857e7467e416fa31"
          ]
        },
        "outputId": "ceec8e6f-5ae4-436c-c356-b45f784ca75d"
      },
      "outputs": [
        {
          "data": {
            "application/vnd.jupyter.widget-view+json": {
              "model_id": "8e53ae795bef4d6a9f34313d842acab1",
              "version_major": 2,
              "version_minor": 0
            },
            "text/plain": [
              "epoch:   0%|          | 0/21 [00:00<?, ?it/s]"
            ]
          },
          "metadata": {},
          "output_type": "display_data"
        },
        {
          "data": {
            "application/vnd.jupyter.widget-view+json": {
              "model_id": "b63047aae0e34658bf9226a42c44dbe4",
              "version_major": 2,
              "version_minor": 0
            },
            "text/plain": [
              "train:   0%|          | 0/1243 [00:00<?, ?it/s]"
            ]
          },
          "metadata": {},
          "output_type": "display_data"
        },
        {
          "data": {
            "application/vnd.jupyter.widget-view+json": {
              "model_id": "62366d5e0c7f434db149f35b2d556f58",
              "version_major": 2,
              "version_minor": 0
            },
            "text/plain": [
              "validation:   0%|          | 0/156 [00:00<?, ?it/s]"
            ]
          },
          "metadata": {},
          "output_type": "display_data"
        },
        {
          "data": {
            "application/vnd.jupyter.widget-view+json": {
              "model_id": "6d8da7c59aaa4ecfb09f2ddbd1d90ab6",
              "version_major": 2,
              "version_minor": 0
            },
            "text/plain": [
              "train:   0%|          | 0/1243 [00:00<?, ?it/s]"
            ]
          },
          "metadata": {},
          "output_type": "display_data"
        },
        {
          "data": {
            "application/vnd.jupyter.widget-view+json": {
              "model_id": "45a3ede99bb64b148432cb0c8e421d4e",
              "version_major": 2,
              "version_minor": 0
            },
            "text/plain": [
              "validation:   0%|          | 0/156 [00:00<?, ?it/s]"
            ]
          },
          "metadata": {},
          "output_type": "display_data"
        },
        {
          "data": {
            "application/vnd.jupyter.widget-view+json": {
              "model_id": "8ff3495db8c74293a501853d87477b5a",
              "version_major": 2,
              "version_minor": 0
            },
            "text/plain": [
              "train:   0%|          | 0/1243 [00:00<?, ?it/s]"
            ]
          },
          "metadata": {},
          "output_type": "display_data"
        },
        {
          "data": {
            "application/vnd.jupyter.widget-view+json": {
              "model_id": "e9d1bc1048f74310b70784b2bfa03485",
              "version_major": 2,
              "version_minor": 0
            },
            "text/plain": [
              "validation:   0%|          | 0/156 [00:00<?, ?it/s]"
            ]
          },
          "metadata": {},
          "output_type": "display_data"
        },
        {
          "data": {
            "application/vnd.jupyter.widget-view+json": {
              "model_id": "7c39f24049114bad832d5b68c9183dec",
              "version_major": 2,
              "version_minor": 0
            },
            "text/plain": [
              "train:   0%|          | 0/1243 [00:00<?, ?it/s]"
            ]
          },
          "metadata": {},
          "output_type": "display_data"
        },
        {
          "data": {
            "application/vnd.jupyter.widget-view+json": {
              "model_id": "64b96e618fe64eff9ae77b9c2e3c2305",
              "version_major": 2,
              "version_minor": 0
            },
            "text/plain": [
              "validation:   0%|          | 0/156 [00:00<?, ?it/s]"
            ]
          },
          "metadata": {},
          "output_type": "display_data"
        },
        {
          "data": {
            "application/vnd.jupyter.widget-view+json": {
              "model_id": "6612a80f1a984a27806a04850f46a639",
              "version_major": 2,
              "version_minor": 0
            },
            "text/plain": [
              "train:   0%|          | 0/1243 [00:00<?, ?it/s]"
            ]
          },
          "metadata": {},
          "output_type": "display_data"
        },
        {
          "data": {
            "application/vnd.jupyter.widget-view+json": {
              "model_id": "191174214b224a3682c2b66d47b96c73",
              "version_major": 2,
              "version_minor": 0
            },
            "text/plain": [
              "validation:   0%|          | 0/156 [00:00<?, ?it/s]"
            ]
          },
          "metadata": {},
          "output_type": "display_data"
        },
        {
          "data": {
            "application/vnd.jupyter.widget-view+json": {
              "model_id": "e715e125f0204c52a82509ca73076e62",
              "version_major": 2,
              "version_minor": 0
            },
            "text/plain": [
              "train:   0%|          | 0/1243 [00:00<?, ?it/s]"
            ]
          },
          "metadata": {},
          "output_type": "display_data"
        },
        {
          "data": {
            "application/vnd.jupyter.widget-view+json": {
              "model_id": "e3f7054217f54cacbef425f3c060617e",
              "version_major": 2,
              "version_minor": 0
            },
            "text/plain": [
              "validation:   0%|          | 0/156 [00:00<?, ?it/s]"
            ]
          },
          "metadata": {},
          "output_type": "display_data"
        },
        {
          "data": {
            "application/vnd.jupyter.widget-view+json": {
              "model_id": "67799b0dda314627b61d866ea9c592a1",
              "version_major": 2,
              "version_minor": 0
            },
            "text/plain": [
              "train:   0%|          | 0/1243 [00:00<?, ?it/s]"
            ]
          },
          "metadata": {},
          "output_type": "display_data"
        },
        {
          "data": {
            "application/vnd.jupyter.widget-view+json": {
              "model_id": "d13180fac25b4d5b9514fc814712ab48",
              "version_major": 2,
              "version_minor": 0
            },
            "text/plain": [
              "validation:   0%|          | 0/156 [00:00<?, ?it/s]"
            ]
          },
          "metadata": {},
          "output_type": "display_data"
        },
        {
          "data": {
            "application/vnd.jupyter.widget-view+json": {
              "model_id": "970738d20e7f4deb82e08df05cf7a269",
              "version_major": 2,
              "version_minor": 0
            },
            "text/plain": [
              "train:   0%|          | 0/1243 [00:00<?, ?it/s]"
            ]
          },
          "metadata": {},
          "output_type": "display_data"
        },
        {
          "data": {
            "application/vnd.jupyter.widget-view+json": {
              "model_id": "3ec48c1f19544dd9a156adb7d6208867",
              "version_major": 2,
              "version_minor": 0
            },
            "text/plain": [
              "validation:   0%|          | 0/156 [00:00<?, ?it/s]"
            ]
          },
          "metadata": {},
          "output_type": "display_data"
        },
        {
          "data": {
            "application/vnd.jupyter.widget-view+json": {
              "model_id": "e6707d8859214d4ebf79fbb5aed1b7bd",
              "version_major": 2,
              "version_minor": 0
            },
            "text/plain": [
              "train:   0%|          | 0/1243 [00:00<?, ?it/s]"
            ]
          },
          "metadata": {},
          "output_type": "display_data"
        },
        {
          "data": {
            "application/vnd.jupyter.widget-view+json": {
              "model_id": "813368cd2d9f47399c3f5f6b2e7c5e31",
              "version_major": 2,
              "version_minor": 0
            },
            "text/plain": [
              "validation:   0%|          | 0/156 [00:00<?, ?it/s]"
            ]
          },
          "metadata": {},
          "output_type": "display_data"
        },
        {
          "data": {
            "application/vnd.jupyter.widget-view+json": {
              "model_id": "dc50e9fcaf574881b790caf256302d3a",
              "version_major": 2,
              "version_minor": 0
            },
            "text/plain": [
              "train:   0%|          | 0/1243 [00:00<?, ?it/s]"
            ]
          },
          "metadata": {},
          "output_type": "display_data"
        },
        {
          "data": {
            "application/vnd.jupyter.widget-view+json": {
              "model_id": "58545275f9174b8ea4b5a59e1dcee018",
              "version_major": 2,
              "version_minor": 0
            },
            "text/plain": [
              "validation:   0%|          | 0/156 [00:00<?, ?it/s]"
            ]
          },
          "metadata": {},
          "output_type": "display_data"
        },
        {
          "data": {
            "application/vnd.jupyter.widget-view+json": {
              "model_id": "b6abbdb845664626959ae6ef7383a1d8",
              "version_major": 2,
              "version_minor": 0
            },
            "text/plain": [
              "train:   0%|          | 0/1243 [00:00<?, ?it/s]"
            ]
          },
          "metadata": {},
          "output_type": "display_data"
        },
        {
          "data": {
            "application/vnd.jupyter.widget-view+json": {
              "model_id": "e12009a7d8e64895954c66bb09d1cb68",
              "version_major": 2,
              "version_minor": 0
            },
            "text/plain": [
              "validation:   0%|          | 0/156 [00:00<?, ?it/s]"
            ]
          },
          "metadata": {},
          "output_type": "display_data"
        },
        {
          "data": {
            "application/vnd.jupyter.widget-view+json": {
              "model_id": "ec6133aca3c1406faeb4efcd04d5a0d4",
              "version_major": 2,
              "version_minor": 0
            },
            "text/plain": [
              "train:   0%|          | 0/1243 [00:00<?, ?it/s]"
            ]
          },
          "metadata": {},
          "output_type": "display_data"
        },
        {
          "data": {
            "application/vnd.jupyter.widget-view+json": {
              "model_id": "2de7508107fa42d3b85532e4663aae32",
              "version_major": 2,
              "version_minor": 0
            },
            "text/plain": [
              "validation:   0%|          | 0/156 [00:00<?, ?it/s]"
            ]
          },
          "metadata": {},
          "output_type": "display_data"
        },
        {
          "data": {
            "application/vnd.jupyter.widget-view+json": {
              "model_id": "2c1760210a4c4bba820b73f2741d5809",
              "version_major": 2,
              "version_minor": 0
            },
            "text/plain": [
              "train:   0%|          | 0/1243 [00:00<?, ?it/s]"
            ]
          },
          "metadata": {},
          "output_type": "display_data"
        },
        {
          "data": {
            "application/vnd.jupyter.widget-view+json": {
              "model_id": "d4060bc795cf4fa0b4139736c8066b9f",
              "version_major": 2,
              "version_minor": 0
            },
            "text/plain": [
              "validation:   0%|          | 0/156 [00:00<?, ?it/s]"
            ]
          },
          "metadata": {},
          "output_type": "display_data"
        },
        {
          "data": {
            "application/vnd.jupyter.widget-view+json": {
              "model_id": "50c8e154a3464f4d82b9dde83570af42",
              "version_major": 2,
              "version_minor": 0
            },
            "text/plain": [
              "train:   0%|          | 0/1243 [00:00<?, ?it/s]"
            ]
          },
          "metadata": {},
          "output_type": "display_data"
        },
        {
          "data": {
            "application/vnd.jupyter.widget-view+json": {
              "model_id": "a8f92a5ff9094b8aa7305e3d226353ee",
              "version_major": 2,
              "version_minor": 0
            },
            "text/plain": [
              "validation:   0%|          | 0/156 [00:00<?, ?it/s]"
            ]
          },
          "metadata": {},
          "output_type": "display_data"
        },
        {
          "data": {
            "application/vnd.jupyter.widget-view+json": {
              "model_id": "74127f043b524d41bcaa70a0898a056c",
              "version_major": 2,
              "version_minor": 0
            },
            "text/plain": [
              "train:   0%|          | 0/1243 [00:00<?, ?it/s]"
            ]
          },
          "metadata": {},
          "output_type": "display_data"
        },
        {
          "data": {
            "application/vnd.jupyter.widget-view+json": {
              "model_id": "c10e7faf26914258bb179143f6f4ba4f",
              "version_major": 2,
              "version_minor": 0
            },
            "text/plain": [
              "validation:   0%|          | 0/156 [00:00<?, ?it/s]"
            ]
          },
          "metadata": {},
          "output_type": "display_data"
        },
        {
          "data": {
            "application/vnd.jupyter.widget-view+json": {
              "model_id": "fef0a8e2af48483fac5bf14fbc77bed2",
              "version_major": 2,
              "version_minor": 0
            },
            "text/plain": [
              "train:   0%|          | 0/1243 [00:00<?, ?it/s]"
            ]
          },
          "metadata": {},
          "output_type": "display_data"
        },
        {
          "data": {
            "application/vnd.jupyter.widget-view+json": {
              "model_id": "e414309378ff4580a06c5ccc455d135b",
              "version_major": 2,
              "version_minor": 0
            },
            "text/plain": [
              "validation:   0%|          | 0/156 [00:00<?, ?it/s]"
            ]
          },
          "metadata": {},
          "output_type": "display_data"
        },
        {
          "data": {
            "application/vnd.jupyter.widget-view+json": {
              "model_id": "572a646d01f94da59337b3ac778cfeb4",
              "version_major": 2,
              "version_minor": 0
            },
            "text/plain": [
              "train:   0%|          | 0/1243 [00:00<?, ?it/s]"
            ]
          },
          "metadata": {},
          "output_type": "display_data"
        },
        {
          "data": {
            "application/vnd.jupyter.widget-view+json": {
              "model_id": "0b1bfd664b9b4ce489f89bdd00fc9ee0",
              "version_major": 2,
              "version_minor": 0
            },
            "text/plain": [
              "validation:   0%|          | 0/156 [00:00<?, ?it/s]"
            ]
          },
          "metadata": {},
          "output_type": "display_data"
        },
        {
          "data": {
            "application/vnd.jupyter.widget-view+json": {
              "model_id": "0922e81b84254c8e84b51957b5cf4b89",
              "version_major": 2,
              "version_minor": 0
            },
            "text/plain": [
              "train:   0%|          | 0/1243 [00:00<?, ?it/s]"
            ]
          },
          "metadata": {},
          "output_type": "display_data"
        },
        {
          "data": {
            "application/vnd.jupyter.widget-view+json": {
              "model_id": "307feb19d0b4472dae3ba5f888ca65dc",
              "version_major": 2,
              "version_minor": 0
            },
            "text/plain": [
              "validation:   0%|          | 0/156 [00:00<?, ?it/s]"
            ]
          },
          "metadata": {},
          "output_type": "display_data"
        },
        {
          "data": {
            "application/vnd.jupyter.widget-view+json": {
              "model_id": "66e7d92c36804ed985067039536f406f",
              "version_major": 2,
              "version_minor": 0
            },
            "text/plain": [
              "train:   0%|          | 0/1243 [00:00<?, ?it/s]"
            ]
          },
          "metadata": {},
          "output_type": "display_data"
        },
        {
          "data": {
            "application/vnd.jupyter.widget-view+json": {
              "model_id": "ee0500dd56f44aa1b1f46d85b451b7a1",
              "version_major": 2,
              "version_minor": 0
            },
            "text/plain": [
              "validation:   0%|          | 0/156 [00:00<?, ?it/s]"
            ]
          },
          "metadata": {},
          "output_type": "display_data"
        },
        {
          "data": {
            "application/vnd.jupyter.widget-view+json": {
              "model_id": "98dc17e865eb4d98bdc6e247f71a01b8",
              "version_major": 2,
              "version_minor": 0
            },
            "text/plain": [
              "train:   0%|          | 0/1243 [00:00<?, ?it/s]"
            ]
          },
          "metadata": {},
          "output_type": "display_data"
        },
        {
          "data": {
            "application/vnd.jupyter.widget-view+json": {
              "model_id": "eca523d888924afb8654adf798274cbd",
              "version_major": 2,
              "version_minor": 0
            },
            "text/plain": [
              "validation:   0%|          | 0/156 [00:00<?, ?it/s]"
            ]
          },
          "metadata": {},
          "output_type": "display_data"
        },
        {
          "data": {
            "application/vnd.jupyter.widget-view+json": {
              "model_id": "105b1049c1ca4c7290fbec3238329490",
              "version_major": 2,
              "version_minor": 0
            },
            "text/plain": [
              "train:   0%|          | 0/1243 [00:00<?, ?it/s]"
            ]
          },
          "metadata": {},
          "output_type": "display_data"
        },
        {
          "data": {
            "application/vnd.jupyter.widget-view+json": {
              "model_id": "6d1cce9631b144a8857e7467e416fa31",
              "version_major": 2,
              "version_minor": 0
            },
            "text/plain": [
              "validation:   0%|          | 0/156 [00:00<?, ?it/s]"
            ]
          },
          "metadata": {},
          "output_type": "display_data"
        }
      ],
      "source": [
        "perplexities3, losses3 = train_model(\n",
        "    model_3, criterion, optimizer, scheduler,\n",
        "    train_dataloader, eval_dataloader, epochs=21\n",
        ")"
      ]
    },
    {
      "cell_type": "code",
      "execution_count": null,
      "id": "4ba65b15",
      "metadata": {
        "execution": {
          "iopub.execute_input": "2024-10-27T03:21:59.998053Z",
          "iopub.status.busy": "2024-10-27T03:21:59.997668Z",
          "iopub.status.idle": "2024-10-27T03:22:00.366928Z",
          "shell.execute_reply": "2024-10-27T03:22:00.366053Z"
        },
        "id": "4ba65b15",
        "papermill": {
          "duration": 0.683914,
          "end_time": "2024-10-27T03:22:00.369088",
          "exception": false,
          "start_time": "2024-10-27T03:21:59.685174",
          "status": "completed"
        },
        "tags": [],
        "outputId": "a48b671d-9392-4da0-91a1-b5ee49673499"
      },
      "outputs": [
        {
          "data": {
            "image/png": "[encoded data removed]",
            "text/plain": [
              "<Figure size 640x480 with 1 Axes>"
            ]
          },
          "metadata": {},
          "output_type": "display_data"
        }
      ],
      "source": [
        "plt.plot(np.arange(len(losses3)), losses3)\n",
        "plt.title('Losses')\n",
        "plt.xlabel(\"epoch\")\n",
        "plt.show()"
      ]
    },
    {
      "cell_type": "code",
      "execution_count": null,
      "id": "86968ebd",
      "metadata": {
        "execution": {
          "iopub.execute_input": "2024-10-27T03:22:01.044226Z",
          "iopub.status.busy": "2024-10-27T03:22:01.043476Z",
          "iopub.status.idle": "2024-10-27T03:22:01.314790Z",
          "shell.execute_reply": "2024-10-27T03:22:01.313874Z"
        },
        "id": "86968ebd",
        "papermill": {
          "duration": 0.636898,
          "end_time": "2024-10-27T03:22:01.316727",
          "exception": false,
          "start_time": "2024-10-27T03:22:00.679829",
          "status": "completed"
        },
        "tags": [],
        "outputId": "2b0caa5d-4023-423e-9ba8-fcb53600f91d"
      },
      "outputs": [
        {
          "data": {
            "image/png": "[encoded data removed]",
            "text/plain": [
              "<Figure size 640x480 with 1 Axes>"
            ]
          },
          "metadata": {},
          "output_type": "display_data"
        }
      ],
      "source": [
        "plt.plot(np.arange(len(perplexities3)), perplexities3)\n",
        "plt.title('Perplexity')\n",
        "plt.xlabel(\"epoch\")\n",
        "plt.show()"
      ]
    },
    {
      "cell_type": "markdown",
      "id": "563112e7",
      "metadata": {
        "id": "563112e7",
        "papermill": {
          "duration": 0.310354,
          "end_time": "2024-10-27T03:22:01.935863",
          "exception": false,
          "start_time": "2024-10-27T03:22:01.625509",
          "status": "completed"
        },
        "tags": []
      },
      "source": [
        "### Эксперимент 2.3"
      ]
    },
    {
      "cell_type": "markdown",
      "id": "e0aa94cf",
      "metadata": {
        "id": "e0aa94cf",
        "papermill": {
          "duration": 0.329188,
          "end_time": "2024-10-27T03:22:02.599626",
          "exception": false,
          "start_time": "2024-10-27T03:22:02.270438",
          "status": "completed"
        },
        "tags": []
      },
      "source": [
        "Уменьшим скорость обучения"
      ]
    },
    {
      "cell_type": "code",
      "execution_count": null,
      "id": "7314c432",
      "metadata": {
        "execution": {
          "iopub.execute_input": "2024-10-27T03:22:03.238875Z",
          "iopub.status.busy": "2024-10-27T03:22:03.238493Z",
          "iopub.status.idle": "2024-10-27T03:22:04.644557Z",
          "shell.execute_reply": "2024-10-27T03:22:04.643540Z"
        },
        "id": "7314c432",
        "papermill": {
          "duration": 1.723037,
          "end_time": "2024-10-27T03:22:04.646980",
          "exception": false,
          "start_time": "2024-10-27T03:22:02.923943",
          "status": "completed"
        },
        "tags": []
      },
      "outputs": [],
      "source": [
        "model_4 = LanguageModel(1536, len(vocab)).to(device)\n",
        "criterion = nn.CrossEntropyLoss(ignore_index=word2ind['<pad>'])\n",
        "optimizer = torch.optim.Adam(model_4.parameters(), lr=0.0001)\n",
        "scheduler = StepLR(optimizer, step_size=1, gamma=0.8)"
      ]
    },
    {
      "cell_type": "code",
      "execution_count": null,
      "id": "a71c6903",
      "metadata": {
        "execution": {
          "iopub.execute_input": "2024-10-27T03:22:05.272739Z",
          "iopub.status.busy": "2024-10-27T03:22:05.272345Z",
          "iopub.status.idle": "2024-10-27T05:48:46.847108Z",
          "shell.execute_reply": "2024-10-27T05:48:46.846098Z"
        },
        "id": "a71c6903",
        "papermill": {
          "duration": 8801.890967,
          "end_time": "2024-10-27T05:48:46.849139",
          "exception": false,
          "start_time": "2024-10-27T03:22:04.958172",
          "status": "completed"
        },
        "tags": [],
        "colab": {
          "referenced_widgets": [
            "e0ec8f30958440acb24a759bb67483e8",
            "cb0793637dd746cd83a4a2d274ebd18c",
            "9f6ad3eb43ad4dae8ee71203e049099b",
            "e8d242f92a664659853d4dd0eda22e8a",
            "85ffe6e7d4c24482932acccc8e4fd370",
            "763a386c9644424797851e5cfac50747",
            "6e837c2e058b4192a743d1f793313d5c",
            "11446c9c10ad4dc3a191f7eb5d50c650",
            "f1ea51369cfb470594da4fee6369a729",
            "e235a14d586c4d878eb47ff000d511c5",
            "f8ed2435a3fe495cb4a20b44ff066f7b",
            "d418fa963f294163bfc522e6b5b30b81",
            "a6f528cbb4de45479b4d452fd989168b",
            "028aa9f3e156427aa359b7e2eb10751e",
            "e723665c299d4dae9534c4d717db41cd",
            "0186b04f544349e5a9de4f9f6e3de50a",
            "521fe15f8df14f1db30a09f6b0fc4d69",
            "e5474aabfb6249cabbd1364c09f107ab",
            "24186ae4741742ce91394fa220d84cd5",
            "4fc7eb7f821d4ab9992a8f32110e7d09",
            "a7582957f0d245d8aabe3513409ec221",
            "d365902374a349709ecc022e9e53e1e7",
            "8c159281ecef4fca89529e4818e81b3f",
            "ae8d2432cc664f8e9d480234a3873224",
            "ce8abfd368ae438fb90a23d5315933a1",
            "69c5914e7c434a34a711136dfa7214a5",
            "bb2205c626df454f845fa2a544870281",
            "117b3626ae954c46ba989efb8c7a0b1c",
            "14c648a66ba74c2a8193f3a0544596d2",
            "ef6689a522cd404b8b7aceb5a410525b",
            "92416bb2ae9f4e99bd8f1d0b22af8945",
            "058c95230fa44f838875f2bc87fd46f4",
            "1941d20063394e0193da85014b2e33f7",
            "ddbe8954378343a096b6c80976817d46",
            "bfc5c32a00164bb8af3a2d78e467c928",
            "2c5f3a41945f43708284b9e42c8e4a2e",
            "572461a1f9594ab1801b7317f5dc3b1a",
            "21dc12ebcbce4be3b859a8089bc46a9c",
            "408db22806a647ebbed428cb03e4b6e3",
            "a21ea200f8644e299532cac33d7cc74e",
            "73500720846748318cdb90eef7e0447b",
            "5bb2c25ad8cc4356a4a902f36753bb1a",
            "7380e258f76b45a791ac71b9bb200ef9"
          ]
        },
        "outputId": "462d9e6d-46b2-4764-da4c-16d5b0dbf51b"
      },
      "outputs": [
        {
          "data": {
            "application/vnd.jupyter.widget-view+json": {
              "model_id": "e0ec8f30958440acb24a759bb67483e8",
              "version_major": 2,
              "version_minor": 0
            },
            "text/plain": [
              "epoch:   0%|          | 0/21 [00:00<?, ?it/s]"
            ]
          },
          "metadata": {},
          "output_type": "display_data"
        },
        {
          "data": {
            "application/vnd.jupyter.widget-view+json": {
              "model_id": "cb0793637dd746cd83a4a2d274ebd18c",
              "version_major": 2,
              "version_minor": 0
            },
            "text/plain": [
              "train:   0%|          | 0/1243 [00:00<?, ?it/s]"
            ]
          },
          "metadata": {},
          "output_type": "display_data"
        },
        {
          "data": {
            "application/vnd.jupyter.widget-view+json": {
              "model_id": "9f6ad3eb43ad4dae8ee71203e049099b",
              "version_major": 2,
              "version_minor": 0
            },
            "text/plain": [
              "validation:   0%|          | 0/156 [00:00<?, ?it/s]"
            ]
          },
          "metadata": {},
          "output_type": "display_data"
        },
        {
          "data": {
            "application/vnd.jupyter.widget-view+json": {
              "model_id": "e8d242f92a664659853d4dd0eda22e8a",
              "version_major": 2,
              "version_minor": 0
            },
            "text/plain": [
              "train:   0%|          | 0/1243 [00:00<?, ?it/s]"
            ]
          },
          "metadata": {},
          "output_type": "display_data"
        },
        {
          "data": {
            "application/vnd.jupyter.widget-view+json": {
              "model_id": "85ffe6e7d4c24482932acccc8e4fd370",
              "version_major": 2,
              "version_minor": 0
            },
            "text/plain": [
              "validation:   0%|          | 0/156 [00:00<?, ?it/s]"
            ]
          },
          "metadata": {},
          "output_type": "display_data"
        },
        {
          "data": {
            "application/vnd.jupyter.widget-view+json": {
              "model_id": "763a386c9644424797851e5cfac50747",
              "version_major": 2,
              "version_minor": 0
            },
            "text/plain": [
              "train:   0%|          | 0/1243 [00:00<?, ?it/s]"
            ]
          },
          "metadata": {},
          "output_type": "display_data"
        },
        {
          "data": {
            "application/vnd.jupyter.widget-view+json": {
              "model_id": "6e837c2e058b4192a743d1f793313d5c",
              "version_major": 2,
              "version_minor": 0
            },
            "text/plain": [
              "validation:   0%|          | 0/156 [00:00<?, ?it/s]"
            ]
          },
          "metadata": {},
          "output_type": "display_data"
        },
        {
          "data": {
            "application/vnd.jupyter.widget-view+json": {
              "model_id": "11446c9c10ad4dc3a191f7eb5d50c650",
              "version_major": 2,
              "version_minor": 0
            },
            "text/plain": [
              "train:   0%|          | 0/1243 [00:00<?, ?it/s]"
            ]
          },
          "metadata": {},
          "output_type": "display_data"
        },
        {
          "data": {
            "application/vnd.jupyter.widget-view+json": {
              "model_id": "f1ea51369cfb470594da4fee6369a729",
              "version_major": 2,
              "version_minor": 0
            },
            "text/plain": [
              "validation:   0%|          | 0/156 [00:00<?, ?it/s]"
            ]
          },
          "metadata": {},
          "output_type": "display_data"
        },
        {
          "data": {
            "application/vnd.jupyter.widget-view+json": {
              "model_id": "e235a14d586c4d878eb47ff000d511c5",
              "version_major": 2,
              "version_minor": 0
            },
            "text/plain": [
              "train:   0%|          | 0/1243 [00:00<?, ?it/s]"
            ]
          },
          "metadata": {},
          "output_type": "display_data"
        },
        {
          "data": {
            "application/vnd.jupyter.widget-view+json": {
              "model_id": "f8ed2435a3fe495cb4a20b44ff066f7b",
              "version_major": 2,
              "version_minor": 0
            },
            "text/plain": [
              "validation:   0%|          | 0/156 [00:00<?, ?it/s]"
            ]
          },
          "metadata": {},
          "output_type": "display_data"
        },
        {
          "data": {
            "application/vnd.jupyter.widget-view+json": {
              "model_id": "d418fa963f294163bfc522e6b5b30b81",
              "version_major": 2,
              "version_minor": 0
            },
            "text/plain": [
              "train:   0%|          | 0/1243 [00:00<?, ?it/s]"
            ]
          },
          "metadata": {},
          "output_type": "display_data"
        },
        {
          "data": {
            "application/vnd.jupyter.widget-view+json": {
              "model_id": "a6f528cbb4de45479b4d452fd989168b",
              "version_major": 2,
              "version_minor": 0
            },
            "text/plain": [
              "validation:   0%|          | 0/156 [00:00<?, ?it/s]"
            ]
          },
          "metadata": {},
          "output_type": "display_data"
        },
        {
          "data": {
            "application/vnd.jupyter.widget-view+json": {
              "model_id": "028aa9f3e156427aa359b7e2eb10751e",
              "version_major": 2,
              "version_minor": 0
            },
            "text/plain": [
              "train:   0%|          | 0/1243 [00:00<?, ?it/s]"
            ]
          },
          "metadata": {},
          "output_type": "display_data"
        },
        {
          "data": {
            "application/vnd.jupyter.widget-view+json": {
              "model_id": "e723665c299d4dae9534c4d717db41cd",
              "version_major": 2,
              "version_minor": 0
            },
            "text/plain": [
              "validation:   0%|          | 0/156 [00:00<?, ?it/s]"
            ]
          },
          "metadata": {},
          "output_type": "display_data"
        },
        {
          "data": {
            "application/vnd.jupyter.widget-view+json": {
              "model_id": "0186b04f544349e5a9de4f9f6e3de50a",
              "version_major": 2,
              "version_minor": 0
            },
            "text/plain": [
              "train:   0%|          | 0/1243 [00:00<?, ?it/s]"
            ]
          },
          "metadata": {},
          "output_type": "display_data"
        },
        {
          "data": {
            "application/vnd.jupyter.widget-view+json": {
              "model_id": "521fe15f8df14f1db30a09f6b0fc4d69",
              "version_major": 2,
              "version_minor": 0
            },
            "text/plain": [
              "validation:   0%|          | 0/156 [00:00<?, ?it/s]"
            ]
          },
          "metadata": {},
          "output_type": "display_data"
        },
        {
          "data": {
            "application/vnd.jupyter.widget-view+json": {
              "model_id": "e5474aabfb6249cabbd1364c09f107ab",
              "version_major": 2,
              "version_minor": 0
            },
            "text/plain": [
              "train:   0%|          | 0/1243 [00:00<?, ?it/s]"
            ]
          },
          "metadata": {},
          "output_type": "display_data"
        },
        {
          "data": {
            "application/vnd.jupyter.widget-view+json": {
              "model_id": "24186ae4741742ce91394fa220d84cd5",
              "version_major": 2,
              "version_minor": 0
            },
            "text/plain": [
              "validation:   0%|          | 0/156 [00:00<?, ?it/s]"
            ]
          },
          "metadata": {},
          "output_type": "display_data"
        },
        {
          "data": {
            "application/vnd.jupyter.widget-view+json": {
              "model_id": "4fc7eb7f821d4ab9992a8f32110e7d09",
              "version_major": 2,
              "version_minor": 0
            },
            "text/plain": [
              "train:   0%|          | 0/1243 [00:00<?, ?it/s]"
            ]
          },
          "metadata": {},
          "output_type": "display_data"
        },
        {
          "data": {
            "application/vnd.jupyter.widget-view+json": {
              "model_id": "a7582957f0d245d8aabe3513409ec221",
              "version_major": 2,
              "version_minor": 0
            },
            "text/plain": [
              "validation:   0%|          | 0/156 [00:00<?, ?it/s]"
            ]
          },
          "metadata": {},
          "output_type": "display_data"
        },
        {
          "data": {
            "application/vnd.jupyter.widget-view+json": {
              "model_id": "d365902374a349709ecc022e9e53e1e7",
              "version_major": 2,
              "version_minor": 0
            },
            "text/plain": [
              "train:   0%|          | 0/1243 [00:00<?, ?it/s]"
            ]
          },
          "metadata": {},
          "output_type": "display_data"
        },
        {
          "data": {
            "application/vnd.jupyter.widget-view+json": {
              "model_id": "8c159281ecef4fca89529e4818e81b3f",
              "version_major": 2,
              "version_minor": 0
            },
            "text/plain": [
              "validation:   0%|          | 0/156 [00:00<?, ?it/s]"
            ]
          },
          "metadata": {},
          "output_type": "display_data"
        },
        {
          "data": {
            "application/vnd.jupyter.widget-view+json": {
              "model_id": "ae8d2432cc664f8e9d480234a3873224",
              "version_major": 2,
              "version_minor": 0
            },
            "text/plain": [
              "train:   0%|          | 0/1243 [00:00<?, ?it/s]"
            ]
          },
          "metadata": {},
          "output_type": "display_data"
        },
        {
          "data": {
            "application/vnd.jupyter.widget-view+json": {
              "model_id": "ce8abfd368ae438fb90a23d5315933a1",
              "version_major": 2,
              "version_minor": 0
            },
            "text/plain": [
              "validation:   0%|          | 0/156 [00:00<?, ?it/s]"
            ]
          },
          "metadata": {},
          "output_type": "display_data"
        },
        {
          "data": {
            "application/vnd.jupyter.widget-view+json": {
              "model_id": "69c5914e7c434a34a711136dfa7214a5",
              "version_major": 2,
              "version_minor": 0
            },
            "text/plain": [
              "train:   0%|          | 0/1243 [00:00<?, ?it/s]"
            ]
          },
          "metadata": {},
          "output_type": "display_data"
        },
        {
          "data": {
            "application/vnd.jupyter.widget-view+json": {
              "model_id": "bb2205c626df454f845fa2a544870281",
              "version_major": 2,
              "version_minor": 0
            },
            "text/plain": [
              "validation:   0%|          | 0/156 [00:00<?, ?it/s]"
            ]
          },
          "metadata": {},
          "output_type": "display_data"
        },
        {
          "data": {
            "application/vnd.jupyter.widget-view+json": {
              "model_id": "117b3626ae954c46ba989efb8c7a0b1c",
              "version_major": 2,
              "version_minor": 0
            },
            "text/plain": [
              "train:   0%|          | 0/1243 [00:00<?, ?it/s]"
            ]
          },
          "metadata": {},
          "output_type": "display_data"
        },
        {
          "data": {
            "application/vnd.jupyter.widget-view+json": {
              "model_id": "14c648a66ba74c2a8193f3a0544596d2",
              "version_major": 2,
              "version_minor": 0
            },
            "text/plain": [
              "validation:   0%|          | 0/156 [00:00<?, ?it/s]"
            ]
          },
          "metadata": {},
          "output_type": "display_data"
        },
        {
          "data": {
            "application/vnd.jupyter.widget-view+json": {
              "model_id": "ef6689a522cd404b8b7aceb5a410525b",
              "version_major": 2,
              "version_minor": 0
            },
            "text/plain": [
              "train:   0%|          | 0/1243 [00:00<?, ?it/s]"
            ]
          },
          "metadata": {},
          "output_type": "display_data"
        },
        {
          "data": {
            "application/vnd.jupyter.widget-view+json": {
              "model_id": "92416bb2ae9f4e99bd8f1d0b22af8945",
              "version_major": 2,
              "version_minor": 0
            },
            "text/plain": [
              "validation:   0%|          | 0/156 [00:00<?, ?it/s]"
            ]
          },
          "metadata": {},
          "output_type": "display_data"
        },
        {
          "data": {
            "application/vnd.jupyter.widget-view+json": {
              "model_id": "058c95230fa44f838875f2bc87fd46f4",
              "version_major": 2,
              "version_minor": 0
            },
            "text/plain": [
              "train:   0%|          | 0/1243 [00:00<?, ?it/s]"
            ]
          },
          "metadata": {},
          "output_type": "display_data"
        },
        {
          "data": {
            "application/vnd.jupyter.widget-view+json": {
              "model_id": "1941d20063394e0193da85014b2e33f7",
              "version_major": 2,
              "version_minor": 0
            },
            "text/plain": [
              "validation:   0%|          | 0/156 [00:00<?, ?it/s]"
            ]
          },
          "metadata": {},
          "output_type": "display_data"
        },
        {
          "data": {
            "application/vnd.jupyter.widget-view+json": {
              "model_id": "ddbe8954378343a096b6c80976817d46",
              "version_major": 2,
              "version_minor": 0
            },
            "text/plain": [
              "train:   0%|          | 0/1243 [00:00<?, ?it/s]"
            ]
          },
          "metadata": {},
          "output_type": "display_data"
        },
        {
          "data": {
            "application/vnd.jupyter.widget-view+json": {
              "model_id": "bfc5c32a00164bb8af3a2d78e467c928",
              "version_major": 2,
              "version_minor": 0
            },
            "text/plain": [
              "validation:   0%|          | 0/156 [00:00<?, ?it/s]"
            ]
          },
          "metadata": {},
          "output_type": "display_data"
        },
        {
          "data": {
            "application/vnd.jupyter.widget-view+json": {
              "model_id": "2c5f3a41945f43708284b9e42c8e4a2e",
              "version_major": 2,
              "version_minor": 0
            },
            "text/plain": [
              "train:   0%|          | 0/1243 [00:00<?, ?it/s]"
            ]
          },
          "metadata": {},
          "output_type": "display_data"
        },
        {
          "data": {
            "application/vnd.jupyter.widget-view+json": {
              "model_id": "572461a1f9594ab1801b7317f5dc3b1a",
              "version_major": 2,
              "version_minor": 0
            },
            "text/plain": [
              "validation:   0%|          | 0/156 [00:00<?, ?it/s]"
            ]
          },
          "metadata": {},
          "output_type": "display_data"
        },
        {
          "data": {
            "application/vnd.jupyter.widget-view+json": {
              "model_id": "21dc12ebcbce4be3b859a8089bc46a9c",
              "version_major": 2,
              "version_minor": 0
            },
            "text/plain": [
              "train:   0%|          | 0/1243 [00:00<?, ?it/s]"
            ]
          },
          "metadata": {},
          "output_type": "display_data"
        },
        {
          "data": {
            "application/vnd.jupyter.widget-view+json": {
              "model_id": "408db22806a647ebbed428cb03e4b6e3",
              "version_major": 2,
              "version_minor": 0
            },
            "text/plain": [
              "validation:   0%|          | 0/156 [00:00<?, ?it/s]"
            ]
          },
          "metadata": {},
          "output_type": "display_data"
        },
        {
          "data": {
            "application/vnd.jupyter.widget-view+json": {
              "model_id": "a21ea200f8644e299532cac33d7cc74e",
              "version_major": 2,
              "version_minor": 0
            },
            "text/plain": [
              "train:   0%|          | 0/1243 [00:00<?, ?it/s]"
            ]
          },
          "metadata": {},
          "output_type": "display_data"
        },
        {
          "data": {
            "application/vnd.jupyter.widget-view+json": {
              "model_id": "73500720846748318cdb90eef7e0447b",
              "version_major": 2,
              "version_minor": 0
            },
            "text/plain": [
              "validation:   0%|          | 0/156 [00:00<?, ?it/s]"
            ]
          },
          "metadata": {},
          "output_type": "display_data"
        },
        {
          "data": {
            "application/vnd.jupyter.widget-view+json": {
              "model_id": "5bb2c25ad8cc4356a4a902f36753bb1a",
              "version_major": 2,
              "version_minor": 0
            },
            "text/plain": [
              "train:   0%|          | 0/1243 [00:00<?, ?it/s]"
            ]
          },
          "metadata": {},
          "output_type": "display_data"
        },
        {
          "data": {
            "application/vnd.jupyter.widget-view+json": {
              "model_id": "7380e258f76b45a791ac71b9bb200ef9",
              "version_major": 2,
              "version_minor": 0
            },
            "text/plain": [
              "validation:   0%|          | 0/156 [00:00<?, ?it/s]"
            ]
          },
          "metadata": {},
          "output_type": "display_data"
        }
      ],
      "source": [
        "perplexities4, losses4 = train_model(\n",
        "    model_4, criterion, optimizer,\n",
        "    scheduler, train_dataloader, eval_dataloader, epochs=21\n",
        ")"
      ]
    },
    {
      "cell_type": "code",
      "execution_count": null,
      "id": "d2be8c4a",
      "metadata": {
        "execution": {
          "iopub.execute_input": "2024-10-27T05:48:47.483126Z",
          "iopub.status.busy": "2024-10-27T05:48:47.482467Z",
          "iopub.status.idle": "2024-10-27T05:48:47.781722Z",
          "shell.execute_reply": "2024-10-27T05:48:47.780810Z"
        },
        "id": "d2be8c4a",
        "papermill": {
          "duration": 0.618437,
          "end_time": "2024-10-27T05:48:47.783859",
          "exception": false,
          "start_time": "2024-10-27T05:48:47.165422",
          "status": "completed"
        },
        "tags": [],
        "outputId": "523338f2-12d9-4a0e-966b-b7bcffb500ed"
      },
      "outputs": [
        {
          "data": {
            "image/png": "[encoded data removed]",
            "text/plain": [
              "<Figure size 640x480 with 1 Axes>"
            ]
          },
          "metadata": {},
          "output_type": "display_data"
        }
      ],
      "source": [
        "plt.plot(np.arange(len(losses4)), losses4)\n",
        "plt.title('Losses')\n",
        "plt.xlabel(\"epoch\")\n",
        "plt.show()"
      ]
    },
    {
      "cell_type": "code",
      "execution_count": null,
      "id": "662e0b7e",
      "metadata": {
        "execution": {
          "iopub.execute_input": "2024-10-27T05:48:48.419987Z",
          "iopub.status.busy": "2024-10-27T05:48:48.419388Z",
          "iopub.status.idle": "2024-10-27T05:48:48.753902Z",
          "shell.execute_reply": "2024-10-27T05:48:48.752972Z"
        },
        "id": "662e0b7e",
        "papermill": {
          "duration": 0.653766,
          "end_time": "2024-10-27T05:48:48.755894",
          "exception": false,
          "start_time": "2024-10-27T05:48:48.102128",
          "status": "completed"
        },
        "tags": [],
        "outputId": "f418913d-9743-4856-b0c2-d190babe59c7"
      },
      "outputs": [
        {
          "data": {
            "image/png": "[encoded data removed]",
            "text/plain": [
              "<Figure size 640x480 with 1 Axes>"
            ]
          },
          "metadata": {},
          "output_type": "display_data"
        }
      ],
      "source": [
        "plt.plot(np.arange(len(perplexities4)), perplexities4)\n",
        "plt.title('Perplexity')\n",
        "plt.xlabel(\"epoch\")\n",
        "plt.show()"
      ]
    },
    {
      "cell_type": "code",
      "execution_count": null,
      "id": "4e98a2a3",
      "metadata": {
        "execution": {
          "iopub.execute_input": "2024-10-27T05:48:49.441183Z",
          "iopub.status.busy": "2024-10-27T05:48:49.440815Z",
          "iopub.status.idle": "2024-10-27T05:48:49.446393Z",
          "shell.execute_reply": "2024-10-27T05:48:49.445480Z"
        },
        "id": "4e98a2a3",
        "papermill": {
          "duration": 0.327527,
          "end_time": "2024-10-27T05:48:49.448301",
          "exception": false,
          "start_time": "2024-10-27T05:48:49.120774",
          "status": "completed"
        },
        "tags": []
      },
      "outputs": [],
      "source": [
        "result_df = pd.DataFrame({\"model\": range(3),\n",
        "                          \"min perplexity\": [min(perp) for perp in [   #perplexities, ]]}\n",
        "                                                                    perplexities2,\n",
        "                                                                    perplexities3, perplexities4]]}\n",
        "                        )"
      ]
    },
    {
      "cell_type": "code",
      "execution_count": null,
      "id": "fb5fe08d",
      "metadata": {
        "id": "fb5fe08d",
        "papermill": {
          "duration": 0.317852,
          "end_time": "2024-10-27T05:48:50.086956",
          "exception": false,
          "start_time": "2024-10-27T05:48:49.769104",
          "status": "completed"
        },
        "tags": []
      },
      "outputs": [],
      "source": []
    },
    {
      "cell_type": "code",
      "execution_count": null,
      "id": "b96fa1ec",
      "metadata": {
        "execution": {
          "iopub.execute_input": "2024-10-27T05:48:50.723559Z",
          "iopub.status.busy": "2024-10-27T05:48:50.723204Z",
          "iopub.status.idle": "2024-10-27T05:48:50.731398Z",
          "shell.execute_reply": "2024-10-27T05:48:50.730522Z"
        },
        "id": "b96fa1ec",
        "papermill": {
          "duration": 0.328652,
          "end_time": "2024-10-27T05:48:50.733397",
          "exception": false,
          "start_time": "2024-10-27T05:48:50.404745",
          "status": "completed"
        },
        "tags": []
      },
      "outputs": [],
      "source": [
        "def generate_sequence(model, starting_seq: str, max_seq_len: int = 128) -> str:\n",
        "    processed_starting_seq = starting_seq.lower().translate(str.maketrans('', '', string.punctuation))\n",
        "    device = \"cpu\"\n",
        "    model.eval()\n",
        "    model = model.to(device)\n",
        "    input_ids = [word2ind[\"<bos>\"]] + [word2ind.get(word, word2ind[\"<unk>\"]) for word in word_tokenize(processed_starting_seq)]\n",
        "    input_ids = torch.LongTensor(input_ids).to(device)\n",
        "\n",
        "    with torch.no_grad():\n",
        "        for i in range(max_seq_len):\n",
        "            next_word_dist = model(input_ids)[-1]\n",
        "            next_word = next_word_dist.argmax()\n",
        "            input_ids = torch.cat([input_ids, next_word.unsqueeze(0)])\n",
        "\n",
        "            if next_word.item() == word2ind[\"<eos>\"]:\n",
        "                break\n",
        "\n",
        "    return ' '.join([ind2word.get(idx) for idx in input_ids.numpy()])"
      ]
    },
    {
      "cell_type": "code",
      "execution_count": null,
      "id": "bf4fd245",
      "metadata": {
        "execution": {
          "iopub.execute_input": "2024-10-27T05:48:51.370587Z",
          "iopub.status.busy": "2024-10-27T05:48:51.370209Z",
          "iopub.status.idle": "2024-10-27T05:48:51.375347Z",
          "shell.execute_reply": "2024-10-27T05:48:51.374436Z"
        },
        "id": "bf4fd245",
        "papermill": {
          "duration": 0.325089,
          "end_time": "2024-10-27T05:48:51.377119",
          "exception": false,
          "start_time": "2024-10-27T05:48:51.052030",
          "status": "completed"
        },
        "tags": []
      },
      "outputs": [],
      "source": [
        "def generate_sequence_for_each_model(starting_seq):\n",
        "    print(f\"Первые слова: {starting_seq}\")\n",
        "    for i, language_model in enumerate([model_2]):\n",
        "        print(f\"Результат генерации моделью {i}: {generate_sequence(language_model, starting_seq)}\")"
      ]
    },
    {
      "cell_type": "markdown",
      "id": "f1e73efa",
      "metadata": {
        "id": "f1e73efa",
        "papermill": {
          "duration": 0.364609,
          "end_time": "2024-10-27T05:48:52.056536",
          "exception": false,
          "start_time": "2024-10-27T05:48:51.691927",
          "status": "completed"
        },
        "tags": []
      },
      "source": [
        "## Выводы"
      ]
    },
    {
      "cell_type": "code",
      "execution_count": null,
      "id": "1b7d8021",
      "metadata": {
        "execution": {
          "iopub.execute_input": "2024-10-27T05:48:52.698195Z",
          "iopub.status.busy": "2024-10-27T05:48:52.697815Z",
          "iopub.status.idle": "2024-10-27T05:48:52.707419Z",
          "shell.execute_reply": "2024-10-27T05:48:52.706577Z"
        },
        "id": "1b7d8021",
        "papermill": {
          "duration": 0.33468,
          "end_time": "2024-10-27T05:48:52.709197",
          "exception": false,
          "start_time": "2024-10-27T05:48:52.374517",
          "status": "completed"
        },
        "tags": [],
        "outputId": "8c17a4d6-39ba-40ac-dd0f-068f9a83fa30"
      },
      "outputs": [
        {
          "data": {
            "text/html": [
              "<div>\n",
              "<style scoped>\n",
              "    .dataframe tbody tr th:only-of-type {\n",
              "        vertical-align: middle;\n",
              "    }\n",
              "\n",
              "    .dataframe tbody tr th {\n",
              "        vertical-align: top;\n",
              "    }\n",
              "\n",
              "    .dataframe thead th {\n",
              "        text-align: right;\n",
              "    }\n",
              "</style>\n",
              "<table border=\"1\" class=\"dataframe\">\n",
              "  <thead>\n",
              "    <tr style=\"text-align: right;\">\n",
              "      <th></th>\n",
              "      <th>model</th>\n",
              "      <th>min perplexity</th>\n",
              "    </tr>\n",
              "  </thead>\n",
              "  <tbody>\n",
              "    <tr>\n",
              "      <th>0</th>\n",
              "      <td>0</td>\n",
              "      <td>182.742919</td>\n",
              "    </tr>\n",
              "    <tr>\n",
              "      <th>1</th>\n",
              "      <td>1</td>\n",
              "      <td>214.606733</td>\n",
              "    </tr>\n",
              "    <tr>\n",
              "      <th>2</th>\n",
              "      <td>2</td>\n",
              "      <td>162.815619</td>\n",
              "    </tr>\n",
              "  </tbody>\n",
              "</table>\n",
              "</div>"
            ],
            "text/plain": [
              "   model  min perplexity\n",
              "0      0      182.742919\n",
              "1      1      214.606733\n",
              "2      2      162.815619"
            ]
          },
          "execution_count": 62,
          "metadata": {},
          "output_type": "execute_result"
        }
      ],
      "source": [
        "result_df"
      ]
    },
    {
      "cell_type": "markdown",
      "id": "ce9c8152",
      "metadata": {
        "id": "ce9c8152",
        "papermill": {
          "duration": 0.317927,
          "end_time": "2024-10-27T05:48:53.344378",
          "exception": false,
          "start_time": "2024-10-27T05:48:53.026451",
          "status": "completed"
        },
        "tags": []
      },
      "source": [
        "В первой группе обучения модель с увеличенным до 1024 размером скрытого состояния LSTM показала значительно более низкое значение перплексии (=29 на 21 эпохе) и качество генерации по сравнению с моделями с пониженным до 128 размером скрытого состояния и увеличенным кол-м линейных слоев после LSTM. Поэтому в группе 2 проведены эксперименты с увеличенным размером скрытого состояния\n",
        "\n",
        "В группе 2 Модель 2.1 с увеличенным hidden_dim=1536 показала самую низкую перплексию из всех экспериментов, равную 13. Повышение количества линейных слоев и уменьшение скорости обучения в такой модели приводит к ухудшению перплексии.\n",
        "\n",
        "В целом для улучшения можно попробовать использовать двунаправленную LSTM, поменять другие параметры, расширить тренироочный словарь слов, увеличить количество эпох обучения."
      ]
    }
  ],
  "metadata": {
    "accelerator": "GPU",
    "colab": {
      "provenance": []
    },
    "gpuClass": "standard",
    "kaggle": {
      "accelerator": "gpu",
      "dataSources": [],
      "dockerImageVersionId": 30787,
      "isGpuEnabled": true,
      "isInternetEnabled": true,
      "language": "python",
      "sourceType": "notebook"
    },
    "kernelspec": {
      "display_name": "Python 3",
      "language": "python",
      "name": "python3"
    },
    "language_info": {
      "codemirror_mode": {
        "name": "ipython",
        "version": 3
      },
      "file_extension": ".py",
      "mimetype": "text/x-python",
      "name": "python",
      "nbconvert_exporter": "python",
      "pygments_lexer": "ipython3",
      "version": "3.10.14"
    },
    "papermill": {
      "default_parameters": {},
      "duration": 39028.1896,
      "end_time": "2024-10-27T05:48:56.558759",
      "environment_variables": {},
      "exception": null,
      "input_path": "__notebook__.ipynb",
      "output_path": "__notebook__.ipynb",
      "parameters": {},
      "start_time": "2024-10-26T18:58:28.369159",
      "version": "2.5.0"
    },
    "widgets": {
      "application/vnd.jupyter.widget-state+json": {}
    }
  },
  "nbformat": 4,
  "nbformat_minor": 5
}